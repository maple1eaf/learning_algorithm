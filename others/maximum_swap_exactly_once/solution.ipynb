{
 "metadata": {
  "language_info": {
   "codemirror_mode": {
    "name": "ipython",
    "version": 3
   },
   "file_extension": ".py",
   "mimetype": "text/x-python",
   "name": "python",
   "nbconvert_exporter": "python",
   "pygments_lexer": "ipython3",
   "version": "3.7.3-final"
  },
  "orig_nbformat": 2,
  "kernelspec": {
   "name": "python3",
   "display_name": "Python 3",
   "language": "python"
  }
 },
 "nbformat": 4,
 "nbformat_minor": 2,
 "cells": [
  {
   "source": [
    "Given a non-negative integer which is greater than 9, you swap two digits **exactly** once to get the maximum valued number. Return the maximum valued number you could get.\n",
    "\n",
    "similar as [LeetCode 670. Maximum Swap](https://leetcode.com/problems/maximum-swap/).\n",
    "\n",
    "the difference is that here we have to swap exactly once.\n",
    "\n",
    "for example: given `2357`, return `7352`. given `3310`, return `3310`. given `10`, return `1`."
   ],
   "cell_type": "markdown",
   "metadata": {}
  },
  {
   "cell_type": "code",
   "execution_count": 1,
   "metadata": {},
   "outputs": [],
   "source": [
    "# O(n) time | O(n) space\n",
    "def maximumOneSwap(num):\n",
    "    \"\"\"\n",
    "    :type num: int\n",
    "    :rtype: int\n",
    "    \"\"\"\n",
    "    array = list(map(int, str(num)))\n",
    "    lastIdx = {array[i]: i for i in range(len(array))}\n",
    "    for i in range(len(array)):\n",
    "        for j in range(9, array[i], -1):\n",
    "            if lastIdx.get(j, float('-inf')) > i:\n",
    "                switch(array, i, lastIdx[j])\n",
    "                return int(''.join(map(str, array)))\n",
    "    for i in range(len(array) - 1):\n",
    "        if array[i] == array[i + 1]:\n",
    "            return num\n",
    "    switch(array, -2, -1)\n",
    "    return int(''.join(map(str, array)))\n",
    "    \n",
    "\n",
    "def switch(array, i, j):\n",
    "    array[i], array[j] = array[j], array[i]"
   ]
  },
  {
   "cell_type": "code",
   "execution_count": 2,
   "metadata": {},
   "outputs": [
    {
     "output_type": "display_data",
     "data": {
      "text/plain": "7352"
     },
     "metadata": {}
    },
    {
     "output_type": "display_data",
     "data": {
      "text/plain": "1"
     },
     "metadata": {}
    },
    {
     "output_type": "display_data",
     "data": {
      "text/plain": "3310"
     },
     "metadata": {}
    },
    {
     "output_type": "display_data",
     "data": {
      "text/plain": "3310"
     },
     "metadata": {}
    },
    {
     "output_type": "display_data",
     "data": {
      "text/plain": "3201"
     },
     "metadata": {}
    },
    {
     "output_type": "display_data",
     "data": {
      "text/plain": "3332"
     },
     "metadata": {}
    },
    {
     "output_type": "display_data",
     "data": {
      "text/plain": "3332"
     },
     "metadata": {}
    },
    {
     "output_type": "display_data",
     "data": {
      "text/plain": "3221"
     },
     "metadata": {}
    },
    {
     "output_type": "display_data",
     "data": {
      "text/plain": "3211"
     },
     "metadata": {}
    }
   ],
   "source": [
    "display(maximumOneSwap(2357))\n",
    "display(maximumOneSwap(10))\n",
    "display(maximumOneSwap(3301))\n",
    "display(maximumOneSwap(3310))\n",
    "display(maximumOneSwap(3210))\n",
    "display(maximumOneSwap(3233))\n",
    "display(maximumOneSwap(2333))\n",
    "display(maximumOneSwap(3221))\n",
    "display(maximumOneSwap(3211))"
   ]
  },
  {
   "cell_type": "code",
   "execution_count": null,
   "metadata": {},
   "outputs": [],
   "source": []
  },
  {
   "cell_type": "code",
   "execution_count": null,
   "metadata": {},
   "outputs": [],
   "source": []
  },
  {
   "cell_type": "code",
   "execution_count": null,
   "metadata": {},
   "outputs": [],
   "source": []
  },
  {
   "cell_type": "code",
   "execution_count": null,
   "metadata": {},
   "outputs": [],
   "source": []
  }
 ]
}