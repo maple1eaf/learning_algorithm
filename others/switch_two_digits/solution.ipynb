{
 "metadata": {
  "language_info": {
   "codemirror_mode": {
    "name": "ipython",
    "version": 3
   },
   "file_extension": ".py",
   "mimetype": "text/x-python",
   "name": "python",
   "nbconvert_exporter": "python",
   "pygments_lexer": "ipython3",
   "version": "3.6.10-final"
  },
  "orig_nbformat": 2,
  "kernelspec": {
   "name": "python3",
   "display_name": "Python 3",
   "language": "python"
  }
 },
 "nbformat": 4,
 "nbformat_minor": 2,
 "cells": [
  {
   "source": [
    "given an at least two-digits number, switch two numbers at two digits and return the largest possible number."
   ],
   "cell_type": "markdown",
   "metadata": {}
  },
  {
   "cell_type": "code",
   "execution_count": 9,
   "metadata": {},
   "outputs": [
    {
     "output_type": "display_data",
     "data": {
      "text/plain": "[0, 1]"
     },
     "metadata": {}
    },
    {
     "output_type": "display_data",
     "data": {
      "text/plain": "[3, 3, 1, 0]"
     },
     "metadata": {}
    },
    {
     "output_type": "display_data",
     "data": {
      "text/plain": "[3, 3, 1, 0]"
     },
     "metadata": {}
    },
    {
     "output_type": "display_data",
     "data": {
      "text/plain": "[2, 3, 1, 0]"
     },
     "metadata": {}
    },
    {
     "output_type": "display_data",
     "data": {
      "text/plain": "[3, 3, 3, 2]"
     },
     "metadata": {}
    },
    {
     "output_type": "display_data",
     "data": {
      "text/plain": "[3, 3, 3, 2]"
     },
     "metadata": {}
    }
   ],
   "source": [
    "def switchTwoDigits(array):\n",
    "    if len(array) == 2:\n",
    "        return switch(array, 0, 1)\n",
    "    for startIdx in range(len(array)):\n",
    "        maxIdx = startIdx\n",
    "        for i in range(startIdx, len(array)):\n",
    "            if array[i] >= array[maxIdx]:\n",
    "                maxIdx = i\n",
    "        if array[startIdx] == array[maxIdx]:\n",
    "            continue\n",
    "        else:\n",
    "            return switch(array, startIdx, maxIdx)\n",
    "    return switch(array, 0, 1)\n",
    "\n",
    "def switch(array, i, j):\n",
    "    array[i], array[j] = array[j], array[i]\n",
    "    return array\n",
    "\n",
    "display(switchTwoDigits([1, 0]))\n",
    "display(switchTwoDigits([3, 3, 0, 1]))\n",
    "display(switchTwoDigits([3, 3, 1, 0]))\n",
    "display(switchTwoDigits([3, 2, 1, 0]))\n",
    "display(switchTwoDigits([3, 2, 3, 3]))\n",
    "display(switchTwoDigits([2, 3, 3, 3]))\n"
   ]
  },
  {
   "cell_type": "code",
   "execution_count": null,
   "metadata": {},
   "outputs": [],
   "source": []
  },
  {
   "cell_type": "code",
   "execution_count": null,
   "metadata": {},
   "outputs": [],
   "source": []
  },
  {
   "cell_type": "code",
   "execution_count": null,
   "metadata": {},
   "outputs": [],
   "source": []
  },
  {
   "cell_type": "code",
   "execution_count": null,
   "metadata": {},
   "outputs": [],
   "source": []
  },
  {
   "cell_type": "code",
   "execution_count": null,
   "metadata": {},
   "outputs": [],
   "source": []
  }
 ]
}