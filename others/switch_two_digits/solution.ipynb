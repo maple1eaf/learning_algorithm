{
 "metadata": {
  "language_info": {
   "codemirror_mode": {
    "name": "ipython",
    "version": 3
   },
   "file_extension": ".py",
   "mimetype": "text/x-python",
   "name": "python",
   "nbconvert_exporter": "python",
   "pygments_lexer": "ipython3",
   "version": "3.6.10-final"
  },
  "orig_nbformat": 2,
  "kernelspec": {
   "name": "python3",
   "display_name": "Python 3",
   "language": "python"
  }
 },
 "nbformat": 4,
 "nbformat_minor": 2,
 "cells": [
  {
   "source": [
    "given a number with at least two digits, switch two numbers at two digits and return the largest possible number.\n",
    "\n",
    "for example: given `[2, 3, 5, 7]`, return `[7, 3, 5, 2]`"
   ],
   "cell_type": "markdown",
   "metadata": {}
  },
  {
   "cell_type": "code",
   "execution_count": 15,
   "metadata": {},
   "outputs": [],
   "source": [
    "def switchTwoDigits(array):\n",
    "    # O(n^2) time | O(1) space\n",
    "    for startIdx in range(len(array)):\n",
    "        maxIdx = startIdx\n",
    "        for i in range(startIdx, len(array)):\n",
    "            if array[i] >= array[maxIdx]:\n",
    "                maxIdx = i\n",
    "        if array[startIdx] == array[maxIdx]:\n",
    "            continue\n",
    "        else:\n",
    "            return switch(array, startIdx, maxIdx)\n",
    "    if array[0] == array[1]:\n",
    "        return array\n",
    "    else:\n",
    "        return switch(array, -2, -1)\n",
    "\n",
    "def switch(array, i, j):\n",
    "    array[i], array[j] = array[j], array[i]\n",
    "    return array"
   ]
  },
  {
   "cell_type": "code",
   "execution_count": 18,
   "metadata": {},
   "outputs": [
    {
     "output_type": "display_data",
     "data": {
      "text/plain": "[7, 3, 5, 2]"
     },
     "metadata": {}
    },
    {
     "output_type": "display_data",
     "data": {
      "text/plain": "[0, 1]"
     },
     "metadata": {}
    },
    {
     "output_type": "display_data",
     "data": {
      "text/plain": "[3, 3, 1, 0]"
     },
     "metadata": {}
    },
    {
     "output_type": "display_data",
     "data": {
      "text/plain": "[3, 3, 1, 0]"
     },
     "metadata": {}
    },
    {
     "output_type": "display_data",
     "data": {
      "text/plain": "[3, 2, 0, 1]"
     },
     "metadata": {}
    },
    {
     "output_type": "display_data",
     "data": {
      "text/plain": "[3, 3, 3, 2]"
     },
     "metadata": {}
    },
    {
     "output_type": "display_data",
     "data": {
      "text/plain": "[3, 3, 3, 2]"
     },
     "metadata": {}
    }
   ],
   "source": [
    "display(switchTwoDigits([2, 3, 5, 7]))\n",
    "display(switchTwoDigits([1, 0]))\n",
    "display(switchTwoDigits([3, 3, 0, 1]))\n",
    "display(switchTwoDigits([3, 3, 1, 0]))\n",
    "display(switchTwoDigits([3, 2, 1, 0]))\n",
    "display(switchTwoDigits([3, 2, 3, 3]))\n",
    "display(switchTwoDigits([2, 3, 3, 3]))"
   ]
  },
  {
   "cell_type": "code",
   "execution_count": null,
   "metadata": {},
   "outputs": [],
   "source": []
  },
  {
   "cell_type": "code",
   "execution_count": null,
   "metadata": {},
   "outputs": [],
   "source": []
  },
  {
   "cell_type": "code",
   "execution_count": null,
   "metadata": {},
   "outputs": [],
   "source": []
  },
  {
   "cell_type": "code",
   "execution_count": null,
   "metadata": {},
   "outputs": [],
   "source": []
  }
 ]
}