{
 "metadata": {
  "language_info": {
   "codemirror_mode": {
    "name": "ipython",
    "version": 3
   },
   "file_extension": ".py",
   "mimetype": "text/x-python",
   "name": "python",
   "nbconvert_exporter": "python",
   "pygments_lexer": "ipython3",
   "version": 3
  },
  "orig_nbformat": 2
 },
 "nbformat": 4,
 "nbformat_minor": 2,
 "cells": [
  {
   "source": [
    "# Linked List Palindrome\n",
    "[link](https://www.algoexpert.io/questions/Linked%20List%20Palindrome)"
   ],
   "cell_type": "markdown",
   "metadata": {}
  },
  {
   "cell_type": "code",
   "execution_count": null,
   "metadata": {},
   "outputs": [],
   "source": [
    "# This is an input class. Do not edit.\n",
    "class LinkedList:\n",
    "    def __init__(self, value):\n",
    "        self.value = value\n",
    "        self.next = None\n",
    "\n",
    "\n",
    "def linkedListPalindrome(head):\n",
    "    # Write your code here.\n",
    "    return False"
   ]
  },
  {
   "source": [
    "## My Solution"
   ],
   "cell_type": "markdown",
   "metadata": {}
  },
  {
   "cell_type": "code",
   "execution_count": null,
   "metadata": {},
   "outputs": [],
   "source": [
    "# This is an input class. Do not edit.\n",
    "class LinkedList:\n",
    "    def __init__(self, value):\n",
    "        self.value = value\n",
    "        self.next = None\n",
    "        \n",
    "    def getLength(self):\n",
    "        cur = self\n",
    "        count = 0\n",
    "        while cur is not None:\n",
    "            count += 1\n",
    "            cur = cur.next\n",
    "        return count\n",
    "\n",
    "# O(n) time | O(1) space\n",
    "def linkedListPalindrome(head):\n",
    "    # Write your code here.\n",
    "    linksLength = head.getLength()\n",
    "    \n",
    "    cur = head\n",
    "    for _ in range(linksLength // 2 - 1):\n",
    "        cur = cur.next\n",
    "        \n",
    "    nodeBeforeReverse = cur\n",
    "    reversedLinks = reverseLinkedList(nodeBeforeReverse.next)\n",
    "    nodeBeforeReverse.next = None\n",
    "    \n",
    "    pointerOne = head\n",
    "    pointerTwo = reversedLinks\n",
    "    \n",
    "    result = True\n",
    "    for _ in range(linksLength // 2):\n",
    "        if pointerOne.value != pointerTwo.value:\n",
    "            result =  False\n",
    "            break\n",
    "        pointerOne = pointerOne.next\n",
    "        pointerTwo = pointerTwo.next\n",
    "        \n",
    "    rollBackLinks(reversedLinks, nodeBeforeReverse)\n",
    "    return result\n",
    "\n",
    "\n",
    "def reverseLinkedList(links):\n",
    "    prev = None\n",
    "    cur = links\n",
    "    while cur is not None:\n",
    "        nxt = cur.next\n",
    "        cur.next = prev\n",
    "        prev = cur\n",
    "        cur = nxt\n",
    "    return prev\n",
    "\n",
    "def rollBackLinks(links, nodePrev):\n",
    "    rollBackedLinks = reverseLinkedList(links)\n",
    "    nodePrev.next = rollBackedLinks"
   ]
  },
  {
   "cell_type": "code",
   "execution_count": null,
   "metadata": {},
   "outputs": [],
   "source": [
    "# This is an input class. Do not edit.\n",
    "class LinkedList:\n",
    "    def __init__(self, value):\n",
    "        self.value = value\n",
    "        self.next = None\n",
    "\n",
    "# O(n) time | O(1) space\n",
    "def linkedListPalindrome(head):\n",
    "    # Write your code here.\n",
    "    if head.next is None:\n",
    "        return True\n",
    "    \n",
    "    slowPointer = head\n",
    "    fastPointer = head\n",
    "    while fastPointer is not None and fastPointer.next is not None:\n",
    "        nodeBeforeSlowPointer = slowPointer\n",
    "        slowPointer = slowPointer.next\n",
    "        fastPointer = fastPointer.next.next\n",
    "        \n",
    "    nodeBeforeReverse = nodeBeforeSlowPointer\n",
    "    reversedLinks = reverseLinkedList(nodeBeforeReverse.next)\n",
    "    nodeBeforeReverse.next = None\n",
    "    \n",
    "    pointerOne = head\n",
    "    pointerTwo = reversedLinks\n",
    "    \n",
    "    result = True\n",
    "    while pointerOne is not None:\n",
    "        if pointerOne.value != pointerTwo.value:\n",
    "            result = False\n",
    "            break\n",
    "        pointerOne = pointerOne.next\n",
    "        pointerTwo = pointerTwo.next\n",
    "    rollBackLinks(reversedLinks, nodeBeforeReverse)\n",
    "    return result\n",
    "\n",
    "\n",
    "def reverseLinkedList(links):\n",
    "    prev = None\n",
    "    cur = links\n",
    "    while cur is not None:\n",
    "        nxt = cur.next\n",
    "        cur.next = prev\n",
    "        prev = cur\n",
    "        cur = nxt\n",
    "    return prev\n",
    "\n",
    "def rollBackLinks(links, nodePrev):\n",
    "    rollBackedLinks = reverseLinkedList(links)\n",
    "    nodePrev.next = rollBackedLinks"
   ]
  },
  {
   "source": [
    "## Expert Solution"
   ],
   "cell_type": "markdown",
   "metadata": {}
  },
  {
   "cell_type": "code",
   "execution_count": null,
   "metadata": {},
   "outputs": [],
   "source": [
    "# This is an input class. Do not edit.\n",
    "class LinkedList:\n",
    "    def __init__(self, value):\n",
    "        self.value = value\n",
    "        self.next = None\n",
    "\n",
    "# O(n) time | O(n) space - where n is the number of nodes in the Linked List\n",
    "def linkedListPalindrome(head):\n",
    "    # Write your code here.\n",
    "    isPalindromeResults = isPalindrome(head, head)\n",
    "    return isPalindromeResults.outerNodesAreEqual\n",
    "\n",
    "def isPalindrome(leftNode, rightNode):\n",
    "    if rightNode is None:\n",
    "        return LinkedListInfo(True, leftNode)\n",
    "\n",
    "    recursiveCallResults = isPalindrome(leftNode, rightNode.next)\n",
    "    leftNodeToCompare = recursiveCallResults.leftNodeToCompare\n",
    "    outerNodesAreEqual = recursiveCallResults.outerNodesAreEqual\n",
    "\n",
    "    recursiveIsEqual = outerNodesAreEqual and leftNodeToCompare.value == rightNode.value\n",
    "    nextLeftNodeToCompare = leftNodeToCompare.next\n",
    "\n",
    "    return LinkedListInfo(recursiveIsEqual, nextLeftNodeToCompare)\n",
    "\n",
    "\n",
    "\n",
    "class LinkedListInfo:\n",
    "    def __init__(self, outerNodesAreEqual, leftNodeToCompare):\n",
    "        self.outerNodesAreEqual = outerNodesAreEqual\n",
    "        self.leftNodeToCompare = leftNodeToCompare"
   ]
  },
  {
   "cell_type": "code",
   "execution_count": null,
   "metadata": {},
   "outputs": [],
   "source": [
    "# This is an input class. Do not edit.\n",
    "class LinkedList:\n",
    "    def __init__(self, value):\n",
    "        self.value = value\n",
    "        self.next = None\n",
    "\n",
    "# O(n) time | O(1) space - where n is the number of nodes in the Linked List\n",
    "def linkedListPalindrome(head):\n",
    "    # Write your code here.\n",
    "    slowNode = head\n",
    "    fastNode = head\n",
    "    while fastNode is not None and fastNode.next is not None:\n",
    "        slowNode = slowNode.next\n",
    "        fastNode = fastNode.next.next\n",
    "\n",
    "    reversedSecondHalfNode = reverseLinkedList(slowNode)\n",
    "    firstHalfNode = head\n",
    "\n",
    "    while reversedSecondHalfNode is not None:\n",
    "        if reversedSecondHalfNode.value != firstHalfNode.value:\n",
    "            return False\n",
    "        reversedSecondHalfNode = reversedSecondHalfNode.next\n",
    "        firstHalfNode = firstHalfNode.next\n",
    "\n",
    "    return True\n",
    "\n",
    "def reverseLinkedList(head):\n",
    "    previousNode, currentNode = None, head\n",
    "    while currentNode is not None:\n",
    "        nextNode = currentNode.next\n",
    "        currentNode.next = previousNode\n",
    "        previousNode = currentNode\n",
    "        currentNode = nextNode\n",
    "    return previousNode"
   ]
  },
  {
   "source": [
    "## Thoughts\n",
    "### good ideas\n",
    "- in expert solution 1: use recursive call manipulating the right pointer first go all the way down to the last node, and then compare with the left node, then both left node and right node will move towards the center node.\n",
    "- in expert solution 2: the way to use slower pointer and right pointer. mind the stop condition of the while loop."
   ],
   "cell_type": "markdown",
   "metadata": {}
  },
  {
   "cell_type": "code",
   "execution_count": null,
   "metadata": {},
   "outputs": [],
   "source": []
  },
  {
   "cell_type": "code",
   "execution_count": null,
   "metadata": {},
   "outputs": [],
   "source": []
  },
  {
   "cell_type": "code",
   "execution_count": null,
   "metadata": {},
   "outputs": [],
   "source": []
  },
  {
   "cell_type": "code",
   "execution_count": null,
   "metadata": {},
   "outputs": [],
   "source": []
  },
  {
   "cell_type": "code",
   "execution_count": null,
   "metadata": {},
   "outputs": [],
   "source": []
  },
  {
   "cell_type": "code",
   "execution_count": null,
   "metadata": {},
   "outputs": [],
   "source": []
  },
  {
   "cell_type": "code",
   "execution_count": null,
   "metadata": {},
   "outputs": [],
   "source": []
  },
  {
   "cell_type": "code",
   "execution_count": null,
   "metadata": {},
   "outputs": [],
   "source": []
  },
  {
   "cell_type": "code",
   "execution_count": null,
   "metadata": {},
   "outputs": [],
   "source": []
  },
  {
   "cell_type": "code",
   "execution_count": null,
   "metadata": {},
   "outputs": [],
   "source": []
  },
  {
   "cell_type": "code",
   "execution_count": null,
   "metadata": {},
   "outputs": [],
   "source": []
  },
  {
   "cell_type": "code",
   "execution_count": null,
   "metadata": {},
   "outputs": [],
   "source": []
  }
 ]
}