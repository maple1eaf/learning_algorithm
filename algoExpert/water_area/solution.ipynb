{
 "metadata": {
  "language_info": {
   "codemirror_mode": {
    "name": "ipython",
    "version": 3
   },
   "file_extension": ".py",
   "mimetype": "text/x-python",
   "name": "python",
   "nbconvert_exporter": "python",
   "pygments_lexer": "ipython3",
   "version": 3
  },
  "orig_nbformat": 2
 },
 "nbformat": 4,
 "nbformat_minor": 2,
 "cells": [
  {
   "source": [
    "# Water Area\n",
    "[link](https://www.algoexpert.io/questions/Water%20Area)"
   ],
   "cell_type": "markdown",
   "metadata": {}
  },
  {
   "source": [
    "## My Solution"
   ],
   "cell_type": "markdown",
   "metadata": {}
  },
  {
   "cell_type": "code",
   "execution_count": null,
   "metadata": {},
   "outputs": [],
   "source": [
    "def waterArea(heights):\n",
    "    # Write your code here.\n",
    "    # O(n) time | O(n) space\n",
    "    leftHeights = [0 for _ in heights]\n",
    "    maxHeight = 0\n",
    "    for i in range(1, len(heights)):\n",
    "        if heights[i - 1] > maxHeight:\n",
    "            maxHeight = heights[i - 1]\n",
    "        leftHeights[i] = maxHeight\n",
    "    \n",
    "    rightHeights = [0 for _ in heights]\n",
    "    maxHeight = 0\n",
    "    for i in reversed(range(len(heights) - 1)):\n",
    "        if heights[i + 1] > maxHeight:\n",
    "            maxHeight = heights[i + 1]\n",
    "        rightHeights[i] = maxHeight\n",
    "    \n",
    "    res = [0 for _ in heights]\n",
    "    for i in range(len(heights)):\n",
    "        smaller = min(leftHeights[i], rightHeights[i])\n",
    "        res[i] = smaller - heights[i] if smaller > heights[i] else 0\n",
    "    return sum(res)"
   ]
  },
  {
   "cell_type": "code",
   "execution_count": null,
   "metadata": {},
   "outputs": [],
   "source": [
    "def waterArea(heights):\n",
    "    # Write your code here.\n",
    "    # O(n) time | O(1) space\n",
    "    if heights == []:\n",
    "        return 0\n",
    "    tallestIdx = 0\n",
    "    tallest = heights[0]\n",
    "    for i in range(len(heights)):\n",
    "        if heights[i] > tallest:\n",
    "            tallestIdx = i\n",
    "            tallest = heights[i]\n",
    "    res = 0\n",
    "    leftTallest = 0\n",
    "    for i in range(1, tallestIdx):\n",
    "        if heights[i - 1] > leftTallest:\n",
    "            leftTallest = heights[i - 1]\n",
    "        res += leftTallest - heights[i] if leftTallest > heights[i] else 0\n",
    "    rightTallest = 0\n",
    "    for i in reversed(range(tallestIdx + 1, len(heights) - 1)):\n",
    "        if heights[i + 1] > rightTallest:\n",
    "            rightTallest = heights[i + 1]\n",
    "        res += rightTallest - heights[i] if rightTallest > heights[i] else 0\n",
    "    \n",
    "    return res"
   ]
  },
  {
   "source": [
    "## Expert Solution"
   ],
   "cell_type": "markdown",
   "metadata": {}
  },
  {
   "cell_type": "code",
   "execution_count": null,
   "metadata": {},
   "outputs": [],
   "source": [
    "# O(n) time | O(n) space\n",
    "def waterArea(heights):\n",
    "    maxes = [0 for x in heights]\n",
    "    leftMax = 0\n",
    "    for i in range(len(heights)):\n",
    "        height = heights[i]\n",
    "        maxes[i] = leftMax\n",
    "        leftMax = max(leftMax, height)\n",
    "    rightMax = 0\n",
    "    for i in reversed(range(len(heights))):\n",
    "        height = heights[i]\n",
    "        minHeight = min(rightMax, maxes[i])\n",
    "        if height < minHeight:\n",
    "            maxes[i] = minHeight - height\n",
    "        else:\n",
    "            maxes[i] = 0\n",
    "        rightMax = max(rightMax, height)\n",
    "    return sum(maxes)"
   ]
  },
  {
   "cell_type": "code",
   "execution_count": null,
   "metadata": {},
   "outputs": [],
   "source": [
    "# O(n) time | O(1) space\n",
    "def waterArea(heights):\n",
    "    if len(heights) == 0:\n",
    "        return 0\n",
    "\n",
    "    leftIdx = 0\n",
    "    rightIdx = len(heights) - 1\n",
    "    leftMax = heights[leftIdx]\n",
    "    rightMax = heights[rightIdx]\n",
    "    surfaceArea = 0\n",
    "\n",
    "    while leftIdx < rightIdx:\n",
    "        if heights[leftIdx] < heights[rightIdx]:\n",
    "            leftIdx += 1\n",
    "            leftMax = max(leftMax, heights[leftIdx])\n",
    "            surfaceArea += leftMax - heights[leftIdx]\n",
    "        else:\n",
    "            rightIdx -= 1\n",
    "            rightMax = max(rightMax - heights[rightIdx])\n",
    "            surfaceArea += rightMax - heights[rightIdx]\n",
    "\n",
    "    return surfaceArea"
   ]
  },
  {
   "source": [
    "## Thoughts\n",
    "ways to solve:\n",
    "- store heighest each side: O(n) time | O(n) space\n",
    "- record heighest one first: O(n) time | O(1) space\n",
    "- two pointers: O(n) time: iterate through 1 time | O(1) space\n",
    "- stack"
   ],
   "cell_type": "markdown",
   "metadata": {}
  },
  {
   "cell_type": "code",
   "execution_count": null,
   "metadata": {},
   "outputs": [],
   "source": []
  },
  {
   "cell_type": "code",
   "execution_count": null,
   "metadata": {},
   "outputs": [],
   "source": []
  },
  {
   "cell_type": "code",
   "execution_count": null,
   "metadata": {},
   "outputs": [],
   "source": []
  },
  {
   "cell_type": "code",
   "execution_count": null,
   "metadata": {},
   "outputs": [],
   "source": []
  },
  {
   "cell_type": "code",
   "execution_count": null,
   "metadata": {},
   "outputs": [],
   "source": []
  },
  {
   "cell_type": "code",
   "execution_count": null,
   "metadata": {},
   "outputs": [],
   "source": []
  },
  {
   "cell_type": "code",
   "execution_count": null,
   "metadata": {},
   "outputs": [],
   "source": []
  },
  {
   "cell_type": "code",
   "execution_count": null,
   "metadata": {},
   "outputs": [],
   "source": []
  },
  {
   "cell_type": "code",
   "execution_count": null,
   "metadata": {},
   "outputs": [],
   "source": []
  },
  {
   "cell_type": "code",
   "execution_count": null,
   "metadata": {},
   "outputs": [],
   "source": []
  },
  {
   "cell_type": "code",
   "execution_count": null,
   "metadata": {},
   "outputs": [],
   "source": []
  },
  {
   "cell_type": "code",
   "execution_count": null,
   "metadata": {},
   "outputs": [],
   "source": []
  }
 ]
}