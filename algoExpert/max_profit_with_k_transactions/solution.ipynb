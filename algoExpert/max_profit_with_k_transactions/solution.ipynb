{
 "metadata": {
  "language_info": {
   "codemirror_mode": {
    "name": "ipython",
    "version": 3
   },
   "file_extension": ".py",
   "mimetype": "text/x-python",
   "name": "python",
   "nbconvert_exporter": "python",
   "pygments_lexer": "ipython3",
   "version": 3
  },
  "orig_nbformat": 2
 },
 "nbformat": 4,
 "nbformat_minor": 2,
 "cells": [
  {
   "source": [
    "# Max Profit With K Transactions\n",
    "[link](https://www.algoexpert.io/questions/Max%20Profit%20With%20K%20Transactions)"
   ],
   "cell_type": "markdown",
   "metadata": {}
  },
  {
   "source": [
    "## My Solution"
   ],
   "cell_type": "markdown",
   "metadata": {}
  },
  {
   "cell_type": "code",
   "execution_count": null,
   "metadata": {},
   "outputs": [],
   "source": [
    "# time O(n^2*k) | space O(kn)\n",
    "def maxProfitWithKTransactions(prices, k):\n",
    "    # Write your code here.\n",
    "    if len(prices) == 0:\n",
    "        return 0\n",
    "    opt = [[0 for j in range(len(prices))] for i in range(k + 1)]\n",
    "    for trans in range(1, k + 1):\n",
    "        for days in range(1, len(prices)):\n",
    "            maxProfit = 0\n",
    "            for x in range(days):\n",
    "                runningProfit = opt[trans - 1][x] + (prices[days] - prices[x])\n",
    "                maxProfit = max(maxProfit, runningProfit)\n",
    "            opt[trans][days] = max(maxProfit, opt[trans][days - 1])\n",
    "    for days in range(len(opt)):\n",
    "        print(opt[days])\n",
    "    return opt[-1][-1]"
   ]
  },
  {
   "cell_type": "code",
   "execution_count": null,
   "metadata": {},
   "outputs": [],
   "source": [
    "# time O(n^2*k) | space O(n)\n",
    "def maxProfitWithKTransactions(prices, k):\n",
    "    # Write your code here.\n",
    "    if len(prices) == 0:\n",
    "        return 0\n",
    "    opt = [0 for j in range(len(prices))]\n",
    "    newOpt = [0 for j in range(len(prices))]\n",
    "    for trans in range(1, k + 1):\n",
    "        for days in range(1, len(prices)):\n",
    "            maxProfit = 0\n",
    "            for x in range(days):\n",
    "                runningProfit = opt[x] + (prices[days] - prices[x])\n",
    "                maxProfit = max(maxProfit, runningProfit)\n",
    "            newOpt[days] = max(maxProfit, newOpt[days - 1])\n",
    "        opt = [x for x in newOpt]\n",
    "        print(opt)\n",
    "    return opt[-1]"
   ]
  },
  {
   "cell_type": "code",
   "execution_count": null,
   "metadata": {},
   "outputs": [],
   "source": [
    "# time O(nk) | space O(n)\n",
    "def maxProfitWithKTransactions(prices, k):\n",
    "    # Write your code here.\n",
    "    opt = [0 for j in range(len(prices) + 1)]\n",
    "    newOpt = [0 for j in range(len(prices) + 1)]\n",
    "    for trans in range(1, k + 1):\n",
    "        runningTemp = float(\"-inf\")\n",
    "        for i in range(2, len(opt)):\n",
    "            days = i - 1\n",
    "            temp = -prices[days - 1] + opt[i - 1]\n",
    "            runningTemp = max(runningTemp, temp)\n",
    "            maxProfit = prices[days] + runningTemp\n",
    "            newOpt[i] = max(maxProfit, newOpt[i - 1])\n",
    "        opt = [x for x in newOpt]\n",
    "    return opt[-1]"
   ]
  },
  {
   "source": [
    "## Expert Solution"
   ],
   "cell_type": "markdown",
   "metadata": {}
  },
  {
   "cell_type": "code",
   "execution_count": null,
   "metadata": {},
   "outputs": [],
   "source": [
    "# O(nk) time , O(nk) space\n",
    "def maxProfitWithKTransactions(prices, k):\n",
    "    if not len(prices):\n",
    "\t\treturn 0\n",
    "    profits = [[0 for d in prices] for t in range(k + 1)]\n",
    "    for t in range(1, k + 1):\n",
    "        maxThusFar = float(\"-inf\")\n",
    "        for d in range(1, len(prices)):\n",
    "            maxThusFar = max(maxThusFar, profits[t - 1][d - 1] - prices[d - 1])\n",
    "            profits[t][d] = max(profits[t][d - 1], maxThusFar + prices[d])\n",
    "    return profits[-1][-1]"
   ]
  },
  {
   "cell_type": "code",
   "execution_count": null,
   "metadata": {},
   "outputs": [],
   "source": [
    "# O(nk) time , O(n) space\n",
    "def maxProfitWithKTransactions(prices, k):\n",
    "    if not len(prices):\n",
    "\t\treturn 0\n",
    "\tevenProfits = [0 for d in prices]\n",
    "\toddProfits = [0 for d in prices]\n",
    "\tfor t in range(1, k + 1):\n",
    "\t\tmaxThusFar = float(\"-inf\")\n",
    "\t\tif t % 2 == 1:\n",
    "\t\t\tcurrentProfits = oddProfits\n",
    "\t\t\tpreviousProfits = evenProfits\n",
    "\t\telse:\n",
    "\t\t\tcurrentProfits = evenProfits\n",
    "\t\t\tpreviousProfits = oddProfits\n",
    "\t\tfor d in range(1, len(prices)):\n",
    "\t\t\tmaxThusFar = max(maxThusFar, previousProfits[d - 1] - prices[d - 1])\n",
    "\t\t\tcurrentProfits[d] = max(currentProfits[d - 1], maxThusFar + prices[d])\n",
    "\treturn evenProfits[-1] if k % 2 == 0 else oddProfits[-1]"
   ]
  },
  {
   "source": [
    "## Thoughts"
   ],
   "cell_type": "markdown",
   "metadata": {}
  },
  {
   "cell_type": "code",
   "execution_count": null,
   "metadata": {},
   "outputs": [],
   "source": []
  },
  {
   "cell_type": "code",
   "execution_count": null,
   "metadata": {},
   "outputs": [],
   "source": []
  },
  {
   "cell_type": "code",
   "execution_count": null,
   "metadata": {},
   "outputs": [],
   "source": []
  },
  {
   "cell_type": "code",
   "execution_count": null,
   "metadata": {},
   "outputs": [],
   "source": []
  },
  {
   "cell_type": "code",
   "execution_count": null,
   "metadata": {},
   "outputs": [],
   "source": []
  },
  {
   "cell_type": "code",
   "execution_count": null,
   "metadata": {},
   "outputs": [],
   "source": []
  },
  {
   "cell_type": "code",
   "execution_count": null,
   "metadata": {},
   "outputs": [],
   "source": []
  },
  {
   "cell_type": "code",
   "execution_count": null,
   "metadata": {},
   "outputs": [],
   "source": []
  },
  {
   "cell_type": "code",
   "execution_count": null,
   "metadata": {},
   "outputs": [],
   "source": []
  },
  {
   "cell_type": "code",
   "execution_count": null,
   "metadata": {},
   "outputs": [],
   "source": []
  },
  {
   "cell_type": "code",
   "execution_count": null,
   "metadata": {},
   "outputs": [],
   "source": []
  },
  {
   "cell_type": "code",
   "execution_count": null,
   "metadata": {},
   "outputs": [],
   "source": []
  }
 ]
}