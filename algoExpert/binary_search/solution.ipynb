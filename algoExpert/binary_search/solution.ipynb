{
 "metadata": {
  "language_info": {
   "codemirror_mode": {
    "name": "ipython",
    "version": 3
   },
   "file_extension": ".py",
   "mimetype": "text/x-python",
   "name": "python",
   "nbconvert_exporter": "python",
   "pygments_lexer": "ipython3",
   "version": 3
  },
  "orig_nbformat": 2
 },
 "nbformat": 4,
 "nbformat_minor": 2,
 "cells": [
  {
   "source": [
    "# Binary Search\n",
    "[link](https://www.algoexpert.io/questions/Binary%20Search)"
   ],
   "cell_type": "markdown",
   "metadata": {}
  },
  {
   "source": [
    "## My Solution"
   ],
   "cell_type": "markdown",
   "metadata": {}
  },
  {
   "cell_type": "code",
   "execution_count": null,
   "metadata": {},
   "outputs": [],
   "source": [
    "def binarySearch(array, target):\n",
    "    # Write your code here.\n",
    "    return binarySearchHelper(array, target, 0)\n",
    "\n",
    "def binarySearchHelper(array, target, culIndex):\n",
    "    if len(array) == 1:\n",
    "        if array[0] == target:\n",
    "            return culIndex\n",
    "        else:\n",
    "            return -1\n",
    "    midIndex = len(array) // 2\n",
    "    if array[midIndex] < target:\n",
    "        return binarySearchHelper(array[midIndex:], target, culIndex+midIndex)\n",
    "    elif array[midIndex] > target:\n",
    "        return binarySearchHelper(array[:midIndex], target, culIndex)\n",
    "    else:\n",
    "        return culIndex + midIndex"
   ]
  },
  {
   "cell_type": "code",
   "execution_count": null,
   "metadata": {},
   "outputs": [],
   "source": [
    "def binarySearch(array, target):\n",
    "    # Write your code here.\n",
    "    return binarySearchHelper(array, target, 0, len(array))\n",
    "\n",
    "def binarySearchHelper(array, target, left, right):\n",
    "\tmid = (right - left) // 2 + left\n",
    "\tif right - left == 1 and array[mid] != target:\n",
    "\t\treturn -1\n",
    "\tif array[mid] < target:\n",
    "\t\treturn binarySearchHelper(array, target, mid, right)\n",
    "\telif array[mid] > target:\n",
    "\t\treturn binarySearchHelper(array, target, left, mid)\n",
    "\telse:\n",
    "\t\treturn mid"
   ]
  },
  {
   "cell_type": "code",
   "execution_count": null,
   "metadata": {},
   "outputs": [],
   "source": [
    "def binarySearch(array, target):\n",
    "    # Write your code here.\n",
    "    left = 0\n",
    "    right = len(array)\n",
    "    while right - left > 1:\n",
    "        mid = (right - left) // 2 + left\n",
    "        if array[mid] < target:\n",
    "            left = mid\n",
    "        elif array[mid] > target:\n",
    "            right = mid\n",
    "        else:\n",
    "            return mid\n",
    "        \n",
    "    mid = (right - left) // 2 + left\n",
    "    if array[mid] == target:\n",
    "        return mid\n",
    "    else:\n",
    "        return -1"
   ]
  },
  {
   "source": [
    "## Expert Solution"
   ],
   "cell_type": "markdown",
   "metadata": {}
  },
  {
   "cell_type": "code",
   "execution_count": null,
   "metadata": {},
   "outputs": [],
   "source": [
    "def binarySearch(array, target):\n",
    "    # O(log(n)) time | O(log(n)) space\n",
    "    return binarySearchHelper(array, target, 0, len(array) - 1)\n",
    "\n",
    "def binarySearchHelper(array, target, left, right):\n",
    "    if left > right:\n",
    "        return -1\n",
    "    middle = (left + right) // 2\n",
    "    potentialMatch = array[middle]\n",
    "    if target == potentialMatch:\n",
    "        return middle\n",
    "    elif target < potentialMatch:\n",
    "        return binarySearchHelper(array, target, left, middle - 1)\n",
    "    else:\n",
    "        return binarySearchHelper(array, target, middle + 1, right)"
   ]
  },
  {
   "cell_type": "code",
   "execution_count": null,
   "metadata": {},
   "outputs": [],
   "source": [
    "def binarySearch(array, target):\n",
    "    # O(log(n)) time | O(1) space\n",
    "    return binarySearchHelper(array, target, 0, len(array) - 1)\n",
    "\n",
    "def binarySearchHelper(array, target, left, right):\n",
    "    while left <= right:\n",
    "        middle = (left + right) // 2\n",
    "        potentialMatch = array[middle]\n",
    "        if target == potentialMatch:\n",
    "            return middle\n",
    "        elif target < potentialMatch:\n",
    "            right = middle - 1\n",
    "        else:\n",
    "            left = middle + 1\n",
    "    return -1"
   ]
  },
  {
   "source": [
    "## Thoughts\n",
    "- left, right\n",
    "    - in my solutions: right is the last element's index + 1 (or the length of the array). This is good for array slice.\n",
    "    - in expert solution: right is the last element's index. This is good for imagining the process"
   ],
   "cell_type": "markdown",
   "metadata": {}
  },
  {
   "cell_type": "code",
   "execution_count": null,
   "metadata": {},
   "outputs": [],
   "source": []
  },
  {
   "cell_type": "code",
   "execution_count": null,
   "metadata": {},
   "outputs": [],
   "source": []
  },
  {
   "cell_type": "code",
   "execution_count": null,
   "metadata": {},
   "outputs": [],
   "source": []
  },
  {
   "cell_type": "code",
   "execution_count": null,
   "metadata": {},
   "outputs": [],
   "source": []
  },
  {
   "cell_type": "code",
   "execution_count": null,
   "metadata": {},
   "outputs": [],
   "source": []
  },
  {
   "cell_type": "code",
   "execution_count": null,
   "metadata": {},
   "outputs": [],
   "source": []
  },
  {
   "cell_type": "code",
   "execution_count": null,
   "metadata": {},
   "outputs": [],
   "source": []
  },
  {
   "cell_type": "code",
   "execution_count": null,
   "metadata": {},
   "outputs": [],
   "source": []
  },
  {
   "cell_type": "code",
   "execution_count": null,
   "metadata": {},
   "outputs": [],
   "source": []
  },
  {
   "cell_type": "code",
   "execution_count": null,
   "metadata": {},
   "outputs": [],
   "source": []
  },
  {
   "cell_type": "code",
   "execution_count": null,
   "metadata": {},
   "outputs": [],
   "source": []
  },
  {
   "cell_type": "code",
   "execution_count": null,
   "metadata": {},
   "outputs": [],
   "source": []
  }
 ]
}