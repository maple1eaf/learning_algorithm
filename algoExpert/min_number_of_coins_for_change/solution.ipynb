{
 "metadata": {
  "language_info": {
   "codemirror_mode": {
    "name": "ipython",
    "version": 3
   },
   "file_extension": ".py",
   "mimetype": "text/x-python",
   "name": "python",
   "nbconvert_exporter": "python",
   "pygments_lexer": "ipython3",
   "version": 3
  },
  "orig_nbformat": 2
 },
 "nbformat": 4,
 "nbformat_minor": 2,
 "cells": [
  {
   "source": [
    "# Min Number Of Coins For Change\n",
    "[link](https://www.algoexpert.io/questions/Min%20Number%20Of%20Coins%20For%20Change)"
   ],
   "cell_type": "markdown",
   "metadata": {}
  },
  {
   "source": [
    "## My Solution"
   ],
   "cell_type": "markdown",
   "metadata": {}
  },
  {
   "cell_type": "code",
   "execution_count": null,
   "metadata": {},
   "outputs": [],
   "source": [
    "def minNumberOfCoinsForChange(n, denoms):\n",
    "    # Write your code here.\n",
    "    denoms.append(0)\n",
    "    denoms.sort()\n",
    "    opt = [[0 for j in range(len(denoms))] for i in range(n + 1)]\n",
    "    \n",
    "    # initial\n",
    "    for i in range(1, n + 1):\n",
    "        opt[i][0] = float(\"inf\")\n",
    "    \n",
    "    for j in range(1, len(denoms)):\n",
    "        for i in range(1, n + 1):\n",
    "            if i - denoms[j] >= 0:\n",
    "                opt[i][j] = min(opt[i][j - 1], opt[i - denoms[j]][j] + 1)\n",
    "            else:\n",
    "                opt[i][j] = opt[i][j - 1]\n",
    "    res = opt[n][len(denoms) - 1]\n",
    "    return res if res != float('inf') else -1\n"
   ]
  },
  {
   "cell_type": "code",
   "execution_count": null,
   "metadata": {},
   "outputs": [],
   "source": [
    "def minNumberOfCoinsForChange(n, denoms):\n",
    "    # Write your code here.\n",
    "    denoms = [0] + denoms\n",
    "    denoms.sort()\n",
    "    opt = [float(\"inf\") for i in range(n + 1)]\n",
    "    opt[0] = 0\n",
    "    \n",
    "    for d in denoms:\n",
    "        for i in range(1, n + 1):\n",
    "            if i - d >= 0:\n",
    "                opt[i] = min(opt[i], opt[i - d] + 1)\n",
    "                \n",
    "    res = opt[n]\n",
    "    return res if res != float('inf') else -1"
   ]
  },
  {
   "source": [
    "## Expert Solution"
   ],
   "cell_type": "markdown",
   "metadata": {}
  },
  {
   "cell_type": "code",
   "execution_count": null,
   "metadata": {},
   "outputs": [],
   "source": [
    "# O(nd) time | O(n) space\n",
    "# n is the money amount\n",
    "# d is the number of denominations\n",
    "def minNumberOfCoinsForChange(n, denoms):\n",
    "    numOfCoins = [float(\"inf\") for amount in range(n + 1)]\n",
    "    numOfCoins[0] = 0\n",
    "    for denom in denoms:\n",
    "        for amount in range(len(numOfCoins)):\n",
    "            if denom <= amount:\n",
    "                numOfCoins[amount] = min(numOfCoins[amount], numOfCoins[amount - denom] + 1)\n",
    "    return numOfCoins[n] if numOfCoins[n] != float(\"inf\") else -1"
   ]
  },
  {
   "cell_type": "code",
   "execution_count": null,
   "metadata": {},
   "outputs": [],
   "source": []
  },
  {
   "source": [
    "## Thoughts\n",
    "### recurrence formula\n",
    "- `O` - optimal solution\n",
    "- `OPT(i, j)` - optimal value (min number of coins) for amount `i` with the denomination `d_j` whose index is `j`. \n",
    "\n",
    "PS: denominations are sorted ascending\n",
    "\n",
    "for `OPT(i, j)`, \n",
    "- if not use `d_j`: `OPT(i, j) = OPT(i, j - 1)`\n",
    "- if use at least once `d_j`: `OPT(i, j) = OPT(i - d_j, j) + 1`\n",
    "\n",
    "so, `OPT(i, j) = min(OPT(i, j - 1), OPT(i - d_j, j) + 1)`\n",
    "\n",
    "![](./min_number_change.JPG)\n"
   ],
   "cell_type": "markdown",
   "metadata": {}
  },
  {
   "cell_type": "code",
   "execution_count": null,
   "metadata": {},
   "outputs": [],
   "source": []
  },
  {
   "cell_type": "code",
   "execution_count": null,
   "metadata": {},
   "outputs": [],
   "source": []
  },
  {
   "cell_type": "code",
   "execution_count": null,
   "metadata": {},
   "outputs": [],
   "source": []
  },
  {
   "cell_type": "code",
   "execution_count": null,
   "metadata": {},
   "outputs": [],
   "source": []
  },
  {
   "cell_type": "code",
   "execution_count": null,
   "metadata": {},
   "outputs": [],
   "source": []
  },
  {
   "cell_type": "code",
   "execution_count": null,
   "metadata": {},
   "outputs": [],
   "source": []
  },
  {
   "cell_type": "code",
   "execution_count": null,
   "metadata": {},
   "outputs": [],
   "source": []
  },
  {
   "cell_type": "code",
   "execution_count": null,
   "metadata": {},
   "outputs": [],
   "source": []
  },
  {
   "cell_type": "code",
   "execution_count": null,
   "metadata": {},
   "outputs": [],
   "source": []
  },
  {
   "cell_type": "code",
   "execution_count": null,
   "metadata": {},
   "outputs": [],
   "source": []
  },
  {
   "cell_type": "code",
   "execution_count": null,
   "metadata": {},
   "outputs": [],
   "source": []
  },
  {
   "cell_type": "code",
   "execution_count": null,
   "metadata": {},
   "outputs": [],
   "source": []
  }
 ]
}