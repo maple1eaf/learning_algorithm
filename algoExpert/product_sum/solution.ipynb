{
 "metadata": {
  "language_info": {
   "codemirror_mode": {
    "name": "ipython",
    "version": 3
   },
   "file_extension": ".py",
   "mimetype": "text/x-python",
   "name": "python",
   "nbconvert_exporter": "python",
   "pygments_lexer": "ipython3",
   "version": 3
  },
  "orig_nbformat": 2
 },
 "nbformat": 4,
 "nbformat_minor": 2,
 "cells": [
  {
   "source": [
    "# Product Sum\n",
    "[link](https://www.algoexpert.io/questions/Product%20Sum)"
   ],
   "cell_type": "markdown",
   "metadata": {}
  },
  {
   "source": [
    "## My Solution"
   ],
   "cell_type": "markdown",
   "metadata": {}
  },
  {
   "cell_type": "code",
   "execution_count": null,
   "metadata": {},
   "outputs": [],
   "source": [
    "def productSum(array):\n",
    "    # Write your code here.\n",
    "    return productSumHelper(array, 1)\n",
    "\n",
    "def productSumHelper(element, depth):\n",
    "\tif type(element) is list:\n",
    "\t\tlistSum = 0\n",
    "\t\tfor x in element:\n",
    "\t\t\tlistSum += productSumHelper(x, depth + 1)\n",
    "\t\treturn depth * listSum\n",
    "\telse:\n",
    "\t\t# element is an integer\n",
    "\t\treturn element"
   ]
  },
  {
   "cell_type": "code",
   "execution_count": null,
   "metadata": {},
   "outputs": [],
   "source": [
    "def productSum(array):\n",
    "    # Write your code here.\n",
    "    return productSumHelper(array, 1)\n",
    "\n",
    "def productSumHelper(array, depth):\n",
    "    currentSum = 0\n",
    "    for x in array:\n",
    "        if type(x) is list:\n",
    "            currentSum += productSumHelper(x, depth + 1)\n",
    "        else:\n",
    "            currentSum += x\n",
    "    return depth * currentSum"
   ]
  },
  {
   "source": [
    "## Expert Solution"
   ],
   "cell_type": "markdown",
   "metadata": {}
  },
  {
   "cell_type": "code",
   "execution_count": null,
   "metadata": {},
   "outputs": [],
   "source": [
    "def productSum(array, multiplier=1):\n",
    "    \"\"\"\n",
    "    O(n) time | O(d) space where \n",
    "    n is the total number of elements in the array including sub-elements, and \n",
    "    d is the greatest depth of \"special\" arrays in the array\n",
    "    \"\"\"\n",
    "    sum = 0\n",
    "    for element in array:\n",
    "        if type(element) is list:\n",
    "            sum += productSum(element, multiplier+1)\n",
    "        else:\n",
    "            sum += element\n",
    "    return sum * multiplier"
   ]
  },
  {
   "source": [
    "## Thoughts\n"
   ],
   "cell_type": "markdown",
   "metadata": {}
  },
  {
   "cell_type": "code",
   "execution_count": null,
   "metadata": {},
   "outputs": [],
   "source": []
  },
  {
   "cell_type": "code",
   "execution_count": null,
   "metadata": {},
   "outputs": [],
   "source": []
  },
  {
   "cell_type": "code",
   "execution_count": null,
   "metadata": {},
   "outputs": [],
   "source": []
  },
  {
   "cell_type": "code",
   "execution_count": null,
   "metadata": {},
   "outputs": [],
   "source": []
  },
  {
   "cell_type": "code",
   "execution_count": null,
   "metadata": {},
   "outputs": [],
   "source": []
  },
  {
   "cell_type": "code",
   "execution_count": null,
   "metadata": {},
   "outputs": [],
   "source": []
  },
  {
   "cell_type": "code",
   "execution_count": null,
   "metadata": {},
   "outputs": [],
   "source": []
  },
  {
   "cell_type": "code",
   "execution_count": null,
   "metadata": {},
   "outputs": [],
   "source": []
  },
  {
   "cell_type": "code",
   "execution_count": null,
   "metadata": {},
   "outputs": [],
   "source": []
  },
  {
   "cell_type": "code",
   "execution_count": null,
   "metadata": {},
   "outputs": [],
   "source": []
  },
  {
   "cell_type": "code",
   "execution_count": null,
   "metadata": {},
   "outputs": [],
   "source": []
  },
  {
   "cell_type": "code",
   "execution_count": null,
   "metadata": {},
   "outputs": [],
   "source": []
  }
 ]
}