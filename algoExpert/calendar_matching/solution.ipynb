{
 "metadata": {
  "language_info": {
   "codemirror_mode": {
    "name": "ipython",
    "version": 3
   },
   "file_extension": ".py",
   "mimetype": "text/x-python",
   "name": "python",
   "nbconvert_exporter": "python",
   "pygments_lexer": "ipython3",
   "version": 3
  },
  "orig_nbformat": 2
 },
 "nbformat": 4,
 "nbformat_minor": 2,
 "cells": [
  {
   "source": [
    "# Calendar Matching\n",
    "[link](https://www.algoexpert.io/questions/Calendar%20Matching)"
   ],
   "cell_type": "markdown",
   "metadata": {}
  },
  {
   "source": [
    "## My Solution"
   ],
   "cell_type": "markdown",
   "metadata": {}
  },
  {
   "cell_type": "code",
   "execution_count": null,
   "metadata": {},
   "outputs": [],
   "source": [
    "def calendarMatching(calendar1, dailyBounds1, calendar2, dailyBounds2, meetingDuration):\n",
    "    # Write your code here.\n",
    "    cal1 = newCalWithBounds(calendar1, dailyBounds1)\n",
    "    cal2 = newCalWithBounds(calendar2, dailyBounds2)\n",
    "    combinedCal = combineCalendars(cal1, cal2)\n",
    "    # print([[m[0].t_str, m[1].t_str] for m in combinedCal])\n",
    "    mergedCal = mergeCalendars(combinedCal)\n",
    "    # print([[m[0].t_str, m[1].t_str] for m in mergedCal])\n",
    "    return computeSpareInterval(mergedCal, meetingDuration)\n",
    "\n",
    "def newCalWithBounds(calendar, dailyBounds):\n",
    "    res = [0] * (len(calendar) + 2)\n",
    "    res[0] = [T('0:00'), T(dailyBounds[0])]\n",
    "    for i, c in enumerate(calendar):\n",
    "        res[i + 1] = [T(c[0]), T(c[1])]\n",
    "    res[len(calendar) + 1] = [T(dailyBounds[1]), T('24:00')]\n",
    "    return res\n",
    "    \n",
    "def combineCalendars(cal1, cal2):\n",
    "    res = []\n",
    "    i, j = 0, 0\n",
    "    while i < len(cal1) and j < len(cal2):\n",
    "        if cal1[i][0] < cal2[j][0]:\n",
    "            res.append(cal1[i])\n",
    "            i += 1\n",
    "        else:\n",
    "            res.append(cal2[j])\n",
    "            j += 1\n",
    "    if i == len(cal1):\n",
    "        left = cal2\n",
    "        leftStartIdx = j\n",
    "    else:\n",
    "        left = cal1\n",
    "        leftStartIdx = i\n",
    "    for idx in range(leftStartIdx, len(left)):\n",
    "        res.append(left[idx])\n",
    "    return res\n",
    "\n",
    "def mergeCalendars(calendars):\n",
    "    res = []\n",
    "    for idx, cal in enumerate(calendars):\n",
    "        if idx == 0:\n",
    "            res.append(cal)\n",
    "        if cal[0] <= res[-1][1]:\n",
    "            res[-1][1] = max(res[-1][1], cal[1])\n",
    "        else:\n",
    "            res.append(cal)\n",
    "    return res\n",
    "\n",
    "def computeSpareInterval(calendars, meetingDuration):\n",
    "    res = []\n",
    "    for i in range(1, len(calendars)):\n",
    "        prev = calendars[i - 1]\n",
    "        cur = calendars[i]\n",
    "        if cur[0].t_min - prev[1].t_min >= meetingDuration:\n",
    "            res.append([prev[1].t_str, cur[0].t_str])\n",
    "    return res\n",
    "            \n",
    "class T:\n",
    "    def __init__(self, t_str=None):\n",
    "        self.t_str = t_str\n",
    "        self.t_min = None\n",
    "        self.convertStrToMin()\n",
    "        \n",
    "    def convertStrToMin(self):\n",
    "        if self.t_str == None:\n",
    "            return\n",
    "        tList = list(map(int, (self.t_str.split(':'))))\n",
    "        t_min = tList[0] * 60 + tList[1]\n",
    "        self.t_min = t_min\n",
    "        \n",
    "    def __lt__(self, other):\n",
    "        return self.t_min < other.t_min\n",
    "    \n",
    "    def __le__(self, other):\n",
    "        return self.t_min <= other.t_min"
   ]
  },
  {
   "source": [
    "## Expert Solution"
   ],
   "cell_type": "markdown",
   "metadata": {}
  },
  {
   "cell_type": "code",
   "execution_count": null,
   "metadata": {},
   "outputs": [],
   "source": [
    "# O(c1 + c2) time | O(c1 + c2) space - where c1 and c2 are the respective numbers of meetings in calendar1 and calendar2\n",
    "def calendarMatching(calendar1, dailyBounds1, calendar2, dailyBounds2, meetingDuration):\n",
    "    updatedCalendar1 = updateCalendar(calendar1, dailyBounds1)\n",
    "    updatedCalendar2 = updateCalendar(calendar2, dailyBounds2)\n",
    "    mergedCalendar = mergeCalendars(updatedCalendar1, updatedCalendar2)\n",
    "    flattenedCalendar = flattenCalendar(mergedCalendar)\n",
    "    return getMatchingAvailabilties(flattenedCalendar, meetingDuration)\n",
    "\n",
    "def updateCalendar(calendar, dailyBounds):\n",
    "    updatedCalendar = calendar[:]\n",
    "    updatedCalendar.insert(0, [\"0:00\", dailyBounds[0]])\n",
    "    updatedCalendar.append([dailyBounds[1], \"23:59\"])\n",
    "    return list(map(lambda m: [timeToMinutes(m[0]), timeToMinutes(m[1])], updatedCalendar))\n",
    "\n",
    "def mergeCalendars(calendar1, calendar2):\n",
    "    merged = []\n",
    "    i, j = 0, 0\n",
    "    while i < len(calendar1) and j < len(calendar2):\n",
    "        meeting1, meeting2 = calendar1[i], calendar2[j]\n",
    "        if meeting1[0] < meeting2[0]:\n",
    "            merged.append(meeting1)\n",
    "            i += 1\n",
    "        else:\n",
    "            merged.append(meeting2)\n",
    "            j += 1\n",
    "    while i < len(calendar1):\n",
    "        merged.append(calendar1[i])\n",
    "        i += 1\n",
    "    while j < len(calendar2):\n",
    "        merged.append(calendar2[j])\n",
    "        j += 1\n",
    "    return merged\n",
    "\n",
    "def flattenCalendar(calendar):\n",
    "    flattened = [calendar[0][:]]\n",
    "    for i in range(1, len(calendar)):\n",
    "        currentMeeting = calendar[i]\n",
    "        previousMeeting = flattened[-1]\n",
    "        currentStart, currentEnd = currentMeeting\n",
    "        previousStart, previousEnd = previousMeeting\n",
    "        if previousEnd >= currentStart:\n",
    "            newPreviousMeeting = [previousStart, max(previousEnd, currentEnd)]\n",
    "            flattened[-1] = newPreviousMeeting\n",
    "        else:\n",
    "            flattened.append(currentMeeting[:])\n",
    "    return flattened\n",
    "\n",
    "def getMatchingAvailabilties(calendar, meetingDuration):\n",
    "    matchingAvailabilties = []\n",
    "    for i in range(1, len(calendar)):\n",
    "        start = calendar[i - 1][1]\n",
    "        end = calendar[i][0]\n",
    "        availabilityDuration = end - start\n",
    "        if availabilityDuration >= meetingDuration:\n",
    "            matchingAvailabilties.append([start, end])\n",
    "    return list(map(lambda m: [minutesToTime(m[0]), minutesToTime(m[1])], matchingAvailabilties))\n",
    "\n",
    "\n",
    "def timeToMinutes(time):\n",
    "    hours, minutes = list(map(int, time.split(\":\")))\n",
    "    return hours * 60 + minutes\n",
    "\n",
    "def minutesToTime(minutes):\n",
    "    hours = minutes // 60\n",
    "    mins = minutes % 60\n",
    "    hoursString = str(hours)\n",
    "    minutesString = \"0\" + str(mins) if mins < 10 else str(mins)\n",
    "    return hoursString + \":\" + minutesString"
   ]
  },
  {
   "source": [
    "## Thoughts"
   ],
   "cell_type": "markdown",
   "metadata": {}
  },
  {
   "cell_type": "code",
   "execution_count": null,
   "metadata": {},
   "outputs": [],
   "source": []
  },
  {
   "cell_type": "code",
   "execution_count": null,
   "metadata": {},
   "outputs": [],
   "source": []
  },
  {
   "cell_type": "code",
   "execution_count": null,
   "metadata": {},
   "outputs": [],
   "source": []
  },
  {
   "cell_type": "code",
   "execution_count": null,
   "metadata": {},
   "outputs": [],
   "source": []
  },
  {
   "cell_type": "code",
   "execution_count": null,
   "metadata": {},
   "outputs": [],
   "source": []
  },
  {
   "cell_type": "code",
   "execution_count": null,
   "metadata": {},
   "outputs": [],
   "source": []
  },
  {
   "cell_type": "code",
   "execution_count": null,
   "metadata": {},
   "outputs": [],
   "source": []
  },
  {
   "cell_type": "code",
   "execution_count": null,
   "metadata": {},
   "outputs": [],
   "source": []
  },
  {
   "cell_type": "code",
   "execution_count": null,
   "metadata": {},
   "outputs": [],
   "source": []
  },
  {
   "cell_type": "code",
   "execution_count": null,
   "metadata": {},
   "outputs": [],
   "source": []
  },
  {
   "cell_type": "code",
   "execution_count": null,
   "metadata": {},
   "outputs": [],
   "source": []
  },
  {
   "cell_type": "code",
   "execution_count": null,
   "metadata": {},
   "outputs": [],
   "source": []
  }
 ]
}