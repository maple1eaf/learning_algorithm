{
 "metadata": {
  "language_info": {
   "codemirror_mode": {
    "name": "ipython",
    "version": 3
   },
   "file_extension": ".py",
   "mimetype": "text/x-python",
   "name": "python",
   "nbconvert_exporter": "python",
   "pygments_lexer": "ipython3",
   "version": "3.7.3-final"
  },
  "orig_nbformat": 2,
  "kernelspec": {
   "name": "python3",
   "display_name": "Python 3"
  }
 },
 "nbformat": 4,
 "nbformat_minor": 2,
 "cells": [
  {
   "source": [
    "# Two Number Sum\n",
    "[link](https://www.algoexpert.io/questions/Two%20Number%20Sum)\n",
    "\n",
    "Write a function that takes in a non-empty array of distinct integers and an integer representing a target sum. If any two numbers in the input array sum up to the target sum, the function should return them in an array, in any order. If no two numbers sum up to the target sum, the function should return an empty array.\n",
    "\n",
    "Note that the target sum has to be obtained by summing two different integers in the array; you can't add a single integer to itself in order to obtain the target sum.\n",
    "\n",
    "You can assume that there will be at most one pair of numbers summing up to the target sum."
   ],
   "cell_type": "markdown",
   "metadata": {}
  },
  {
   "source": [
    "## Hint 1\n",
    "Try using two for loops to sum all possible pairs of numbers in the input array. What are the time and space implications of this approach?"
   ],
   "cell_type": "markdown",
   "metadata": {}
  },
  {
   "cell_type": "code",
   "execution_count": 12,
   "metadata": {},
   "outputs": [],
   "source": [
    "def twoNumberSum(array, targetSum):\n",
    "    # O(n^2) time | O(1) space\n",
    "    for i in range(len(array)):\n",
    "        for j in range(i+1, len(array)):\n",
    "            if array[i] + array[j] == targetSum:\n",
    "                return [array[i], array[j]]\n",
    "    return []"
   ]
  },
  {
   "source": [
    "## Hint 2\n",
    "Realize that for every number X in the input array, you are essentially trying to find a corresponding number Y such that X + Y = targetSum. With two variables in this equation known to you, it shouldn't be hard to solve for Y."
   ],
   "cell_type": "markdown",
   "metadata": {}
  },
  {
   "cell_type": "code",
   "execution_count": 15,
   "metadata": {},
   "outputs": [],
   "source": [
    "def twoNumberSum(array, targetSum):\n",
    "    for i in range(len(array)):\n",
    "        x = array[i]\n",
    "        target_y = targetSum - x\n",
    "        if target_y in array[i+1:]:\n",
    "            return [x, target_y]\n",
    "    return []"
   ]
  },
  {
   "source": [
    "## Hint 3\n",
    "Try storing every number in a hash table, solving the equation mentioned in Hint #2 for every number, and checking if the Y that you find is stored in the hash table. What are the time and space implications of this approach?"
   ],
   "cell_type": "markdown",
   "metadata": {}
  },
  {
   "cell_type": "code",
   "execution_count": 20,
   "metadata": {},
   "outputs": [],
   "source": [
    "def twoNumberSum(array, targetSum):\n",
    "    # O(n) time | O(n) space\n",
    "    h = {}\n",
    "    for x in array:\n",
    "        target_y = targetSum - x\n",
    "        if h.get(target_y) != None:\n",
    "            return [target_y, x]\n",
    "        else:\n",
    "            h[x] = True\n",
    "    return []\n"
   ]
  },
  {
   "source": [
    "## Hint 4\n",
    "Sort first"
   ],
   "cell_type": "markdown",
   "metadata": {}
  },
  {
   "cell_type": "code",
   "execution_count": 17,
   "metadata": {},
   "outputs": [],
   "source": [
    "def twoNumberSum(array, targetSum):\n",
    "    # O(nlog(n)) time | O(1) space\n",
    "    array.sort() # warn: this will change the order of the original array\n",
    "    left_idx = 0\n",
    "    right_idx = len(array) - 1\n",
    "    while left_idx < right_idx:\n",
    "        currentSum = array[left_idx] + array[right_idx]\n",
    "        if currentSum == targetSum:\n",
    "            return [array[left_idx], array[right_idx]]\n",
    "        elif currentSum < targetSum:\n",
    "            left_idx += 1\n",
    "        else:\n",
    "            right_idx -= 1\n",
    "    return []"
   ]
  },
  {
   "source": [
    "## Test"
   ],
   "cell_type": "markdown",
   "metadata": {}
  },
  {
   "cell_type": "code",
   "execution_count": 24,
   "metadata": {},
   "outputs": [
    {
     "output_type": "display_data",
     "data": {
      "text/plain": "[11, -1]"
     },
     "metadata": {}
    },
    {
     "output_type": "display_data",
     "data": {
      "text/plain": "[5, 1]"
     },
     "metadata": {}
    },
    {
     "output_type": "display_data",
     "data": {
      "text/plain": "[3, -1]"
     },
     "metadata": {}
    },
    {
     "output_type": "display_data",
     "data": {
      "text/plain": "[]"
     },
     "metadata": {}
    }
   ],
   "source": [
    "array = [3, 5, -4, 8, 11, 1, -1, 6]\n",
    "display(twoNumberSum(array, 10))\n",
    "display(twoNumberSum(array, 6))\n",
    "display(twoNumberSum(array, 2))\n",
    "display(twoNumberSum(array, 120))"
   ]
  },
  {
   "cell_type": "code",
   "execution_count": null,
   "metadata": {},
   "outputs": [],
   "source": []
  }
 ]
}