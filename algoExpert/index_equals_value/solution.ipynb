{
 "metadata": {
  "language_info": {
   "codemirror_mode": {
    "name": "ipython",
    "version": 3
   },
   "file_extension": ".py",
   "mimetype": "text/x-python",
   "name": "python",
   "nbconvert_exporter": "python",
   "pygments_lexer": "ipython3",
   "version": 3
  },
  "orig_nbformat": 2
 },
 "nbformat": 4,
 "nbformat_minor": 2,
 "cells": [
  {
   "source": [
    "# Index Equals Value\n",
    "[link](https://www.algoexpert.io/questions/Index%20Equals%20Value)"
   ],
   "cell_type": "markdown",
   "metadata": {}
  },
  {
   "source": [
    "## My Solution"
   ],
   "cell_type": "markdown",
   "metadata": {}
  },
  {
   "cell_type": "code",
   "execution_count": null,
   "metadata": {},
   "outputs": [],
   "source": [
    "def indexEqualsValue(array):\n",
    "    # Write your code here.\n",
    "    # O(log(n)) time | O(1) space\n",
    "    left = 0\n",
    "    right = len(array) - 1\n",
    "    leftMost = -1\n",
    "    while left <= right:\n",
    "        mid = (left + right) // 2\n",
    "        if mid < array[mid]:\n",
    "            right = mid - 1\n",
    "        elif mid > array[mid]:\n",
    "            left = mid + 1\n",
    "        else:\n",
    "            leftMost = mid\n",
    "            right = mid - 1\n",
    "    return leftMost"
   ]
  },
  {
   "cell_type": "code",
   "execution_count": null,
   "metadata": {},
   "outputs": [],
   "source": []
  },
  {
   "source": [
    "## Expert Solution"
   ],
   "cell_type": "markdown",
   "metadata": {}
  },
  {
   "cell_type": "code",
   "execution_count": null,
   "metadata": {},
   "outputs": [],
   "source": [
    "# O(n) time | O(1) space - where n is the length of the input array\n",
    "def indexEqualsValue(array):\n",
    "    for index in range(len(array)):\n",
    "        value = array[index]\n",
    "        if index == value:\n",
    "            return index\n",
    "    \n",
    "    return -1"
   ]
  },
  {
   "cell_type": "code",
   "execution_count": null,
   "metadata": {},
   "outputs": [],
   "source": [
    "# O(log(n)) time | O(log(n)) space - where n is the length of the input array\n",
    "def indexEqualsValue(array):\n",
    "    return indexEqualsValueHelper(array, 0, len(array) - 1)\n",
    "\n",
    "\n",
    "def indexEqualsValueHelper(array, leftIndex, rightIndex):\n",
    "    if leftIndex > rightIndex:\n",
    "        return -1\n",
    "\n",
    "    middleIndex = leftIndex + (rightIndex - leftIndex) // 2\n",
    "    middleValue = array[middleIndex]\n",
    "\n",
    "    if middleValue < middleIndex:\n",
    "        return indexEqualsValueHelper(array, middleIndex + 1, rightIndex)\n",
    "    elif middleValue == middleIndex and middleIndex == 0:\n",
    "        return middleIndex\n",
    "    elif middleValue == middleIndex and array[middleIndex - 1] < middleIndex - 1:\n",
    "        return middleIndex\n",
    "    else:\n",
    "        return indexEqualsValueHelper(array, leftIndex, middleIndex - 1)"
   ]
  },
  {
   "cell_type": "code",
   "execution_count": null,
   "metadata": {},
   "outputs": [],
   "source": [
    "# O(log(n)) time | O(1) space - where n is the length of the input array\n",
    "def indexEqualsValue(array):\n",
    "    leftIndex = 0\n",
    "    rightIndex = len(array) - 1\n",
    "\n",
    "    while leftIndex <= rightIndex:\n",
    "        middleIndex = leftIndex + (rightIndex - leftIndex) // 2\n",
    "        middleValue = array[middleIndex]\n",
    "\n",
    "        if middleValue < middleIndex:\n",
    "            leftIndex = middleIndex + 1\n",
    "        elif middleValue == middleIndex and middleIndex == 0:\n",
    "            return middleIndex\n",
    "        elif middleValue == middleIndex and array[middleIndex - 1] < middleIndex - 1:\n",
    "            return middleIndex\n",
    "        else:\n",
    "            rightIndex = middleIndex - 1\n",
    "    \n",
    "    return -1"
   ]
  },
  {
   "source": [
    "## Thoughts\n",
    "binary search"
   ],
   "cell_type": "markdown",
   "metadata": {}
  },
  {
   "cell_type": "code",
   "execution_count": null,
   "metadata": {},
   "outputs": [],
   "source": []
  },
  {
   "cell_type": "code",
   "execution_count": null,
   "metadata": {},
   "outputs": [],
   "source": []
  },
  {
   "cell_type": "code",
   "execution_count": null,
   "metadata": {},
   "outputs": [],
   "source": []
  },
  {
   "cell_type": "code",
   "execution_count": null,
   "metadata": {},
   "outputs": [],
   "source": []
  },
  {
   "cell_type": "code",
   "execution_count": null,
   "metadata": {},
   "outputs": [],
   "source": []
  },
  {
   "cell_type": "code",
   "execution_count": null,
   "metadata": {},
   "outputs": [],
   "source": []
  },
  {
   "cell_type": "code",
   "execution_count": null,
   "metadata": {},
   "outputs": [],
   "source": []
  },
  {
   "cell_type": "code",
   "execution_count": null,
   "metadata": {},
   "outputs": [],
   "source": []
  },
  {
   "cell_type": "code",
   "execution_count": null,
   "metadata": {},
   "outputs": [],
   "source": []
  },
  {
   "cell_type": "code",
   "execution_count": null,
   "metadata": {},
   "outputs": [],
   "source": []
  },
  {
   "cell_type": "code",
   "execution_count": null,
   "metadata": {},
   "outputs": [],
   "source": []
  },
  {
   "cell_type": "code",
   "execution_count": null,
   "metadata": {},
   "outputs": [],
   "source": []
  }
 ]
}