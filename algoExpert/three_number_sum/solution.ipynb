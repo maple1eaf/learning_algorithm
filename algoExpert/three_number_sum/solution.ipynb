{
 "metadata": {
  "language_info": {
   "codemirror_mode": {
    "name": "ipython",
    "version": 3
   },
   "file_extension": ".py",
   "mimetype": "text/x-python",
   "name": "python",
   "nbconvert_exporter": "python",
   "pygments_lexer": "ipython3",
   "version": "3.6.10-final"
  },
  "orig_nbformat": 2,
  "kernelspec": {
   "name": "python3",
   "display_name": "Python 3",
   "language": "python"
  }
 },
 "nbformat": 4,
 "nbformat_minor": 2,
 "cells": [
  {
   "source": [
    "# Three Number Sum\n",
    "[link](https://www.algoexpert.io/questions/Three%20Number%20Sum)"
   ],
   "cell_type": "markdown",
   "metadata": {}
  },
  {
   "source": [
    "## My Solution"
   ],
   "cell_type": "markdown",
   "metadata": {}
  },
  {
   "cell_type": "code",
   "execution_count": 35,
   "metadata": {},
   "outputs": [],
   "source": [
    "def threeNumberSum(array, targetSum):\n",
    "    # Write your code here.\n",
    "    resThree = []\n",
    "    array.sort()\n",
    "    for i in range(len(array)):\n",
    "        left = array[i]\n",
    "        midRights = twoNumberSum(array[i+1:], targetSum - left)\n",
    "        for midRight in midRights:\n",
    "            resThree.append([left] + midRight)\n",
    "    return resThree\n",
    "\n",
    "def twoNumberSum(sortedArray, targetSum):\n",
    "    res = []\n",
    "    leftIdx = 0\n",
    "    rightIdx = len(sortedArray) - 1\n",
    "    while leftIdx < rightIdx:\n",
    "        sum_ = sortedArray[leftIdx] + sortedArray[rightIdx]\n",
    "        if sum_ == targetSum:\n",
    "            res.append([sortedArray[leftIdx], sortedArray[rightIdx]])\n",
    "            rightIdx -= 1\n",
    "        elif sum_ < targetSum:\n",
    "            leftIdx += 1\n",
    "        else:\n",
    "            rightIdx -= 1\n",
    "    return res"
   ]
  },
  {
   "cell_type": "code",
   "execution_count": 38,
   "metadata": {},
   "outputs": [
    {
     "output_type": "execute_result",
     "data": {
      "text/plain": [
       "[[-8, 2, 6], [-8, 3, 5], [-6, 1, 5], [-5, 2, 3]]"
      ]
     },
     "metadata": {},
     "execution_count": 38
    }
   ],
   "source": [
    "array = [12, 3, -5, 1, 2, -6, 5, -8, 6]\n",
    "threeNumberSum(array, 0)"
   ]
  },
  {
   "source": [
    "## Expert Solution"
   ],
   "cell_type": "markdown",
   "metadata": {}
  },
  {
   "cell_type": "code",
   "execution_count": 37,
   "metadata": {},
   "outputs": [],
   "source": [
    "# O(n^2) time | O(n) space\n",
    "def threeNumberSum(array, targetSum):\n",
    "    array.sort() # sort the array in acsending order\n",
    "    triplets = []\n",
    "    for i in range(len(array) - 2):\n",
    "        left = i + 1\n",
    "        right = len(array) - 1\n",
    "        while left < right:\n",
    "            currentSum = array[i] + array[left] + array[right]\n",
    "            if currentSum == targetSum:\n",
    "                triplets.append([array[i], array[left], array[right]])\n",
    "                left += 1\n",
    "                right -= 1\n",
    "            elif currentSum < targetSum:\n",
    "                left +=1\n",
    "            elif currentSum > targetSum:\n",
    "                right -= 1\n",
    "    return triplets"
   ]
  },
  {
   "cell_type": "code",
   "execution_count": null,
   "metadata": {},
   "outputs": [],
   "source": []
  },
  {
   "source": [
    "## Thoughts\n",
    "\n",
    "### expert solution time compexity\n",
    "- sort() -> O(nlog(n))\n",
    "- for-loop -> O(n) * O(n) -> O(n^2)\n",
    "- totally, O(n^2) space\n",
    "\n",
    "### expert solution space compexity\n",
    "- inside the loop, only need O(1) space\n",
    "- store the result need O(n) space\n",
    "- totally, O(n) space\n",
    "\n",
    "### improve my solution:\n",
    "code the twoNumberSum() as an itterator to save the space."
   ],
   "cell_type": "markdown",
   "metadata": {}
  },
  {
   "cell_type": "code",
   "execution_count": null,
   "metadata": {},
   "outputs": [],
   "source": []
  },
  {
   "cell_type": "code",
   "execution_count": null,
   "metadata": {},
   "outputs": [],
   "source": []
  },
  {
   "cell_type": "code",
   "execution_count": null,
   "metadata": {},
   "outputs": [],
   "source": []
  },
  {
   "cell_type": "code",
   "execution_count": null,
   "metadata": {},
   "outputs": [],
   "source": []
  },
  {
   "cell_type": "code",
   "execution_count": null,
   "metadata": {},
   "outputs": [],
   "source": []
  },
  {
   "cell_type": "code",
   "execution_count": null,
   "metadata": {},
   "outputs": [],
   "source": []
  },
  {
   "cell_type": "code",
   "execution_count": null,
   "metadata": {},
   "outputs": [],
   "source": []
  },
  {
   "cell_type": "code",
   "execution_count": null,
   "metadata": {},
   "outputs": [],
   "source": []
  },
  {
   "cell_type": "code",
   "execution_count": null,
   "metadata": {},
   "outputs": [],
   "source": []
  },
  {
   "cell_type": "code",
   "execution_count": null,
   "metadata": {},
   "outputs": [],
   "source": []
  },
  {
   "cell_type": "code",
   "execution_count": null,
   "metadata": {},
   "outputs": [],
   "source": []
  },
  {
   "cell_type": "code",
   "execution_count": null,
   "metadata": {},
   "outputs": [],
   "source": []
  }
 ]
}