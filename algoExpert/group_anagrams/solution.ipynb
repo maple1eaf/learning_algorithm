{
 "metadata": {
  "language_info": {
   "codemirror_mode": {
    "name": "ipython",
    "version": 3
   },
   "file_extension": ".py",
   "mimetype": "text/x-python",
   "name": "python",
   "nbconvert_exporter": "python",
   "pygments_lexer": "ipython3",
   "version": 3
  },
  "orig_nbformat": 2
 },
 "nbformat": 4,
 "nbformat_minor": 2,
 "cells": [
  {
   "source": [
    "# Group Anagrams\n",
    "[link](https://www.algoexpert.io/questions/Group%20Anagrams)"
   ],
   "cell_type": "markdown",
   "metadata": {}
  },
  {
   "source": [
    "## My Solution"
   ],
   "cell_type": "markdown",
   "metadata": {}
  },
  {
   "cell_type": "code",
   "execution_count": null,
   "metadata": {},
   "outputs": [],
   "source": [
    "def groupAnagrams(words):\n",
    "    # Write your code here.\n",
    "    resDict = {}\n",
    "\tfor word in words:\n",
    "\t\ttag = tuple(sorted(word))\n",
    "\t\tif resDict.get(tag) is None:\n",
    "\t\t\tresDict[tag] = [word]\n",
    "\t\telse:\n",
    "\t\t\tresDict[tag].append(word)\n",
    "\treturn list(resDict.values())"
   ]
  },
  {
   "cell_type": "code",
   "execution_count": null,
   "metadata": {},
   "outputs": [],
   "source": []
  },
  {
   "source": [
    "## Expert Solution"
   ],
   "cell_type": "markdown",
   "metadata": {}
  },
  {
   "cell_type": "code",
   "execution_count": null,
   "metadata": {},
   "outputs": [],
   "source": [
    "# O(w * n * log(n) + n * w * log(w)) time | O(wn) space - where w is the number of words and\n",
    "# n is the length of the longest word\n",
    "def groupAnagrams(words):\n",
    "    if len(words) == 0:\n",
    "        return []\n",
    "    \n",
    "    sortedWords = [\"\".join(sorted(w)) for w in words]\n",
    "    indices = [i for i in range(len(words))]\n",
    "    indices.sort(key=lambda x: sortedWords[x])\n",
    "\n",
    "    result = []\n",
    "    currentAnagramGroup = []\n",
    "    currentAnagram = sortedWords[indices[0]]\n",
    "    for index in indices:\n",
    "        word = words[index]\n",
    "        sortedWord = sortedWords[index]\n",
    "\n",
    "        if sortedWord == currentAnagram:\n",
    "            currentAnagramGroup.append(word)\n",
    "            continue\n",
    "        \n",
    "        result.append(currentAnagramGroup)\n",
    "        currentAnagramGroup = [word]\n",
    "        currentAnagram = sortedWord\n",
    "\n",
    "    result.append(currentAnagramGroup)\n",
    "\n",
    "    return result"
   ]
  },
  {
   "cell_type": "code",
   "execution_count": null,
   "metadata": {},
   "outputs": [],
   "source": [
    "# O(w * n * log(n)) time | O(wn) space - where w is the number of words and\n",
    "# n is the length of the longest word\n",
    "def groupAnagrams(words):\n",
    "    anagrams = {}\n",
    "    for word in words:\n",
    "        sortedWord = \"\".join(sorted(word))\n",
    "        if sortedWord in anagrams:\n",
    "            anagrams[sortedWord].append(word)\n",
    "        else:\n",
    "            anagrams[sortedWord] = [word]\n",
    "    return list(anagrams.values())"
   ]
  },
  {
   "source": [
    "## Thoughts\n",
    "### algorithm analysis\n",
    "- w is the number of words\n",
    "- n is the length of the longest word\n",
    "\n",
    "### time complexity\n",
    "expert solution 1:\n",
    "- sort a string need O(nlog(n)) time, w words need O(w * n * log(n)) time\n",
    "- compare two words need O(n) time, sort w words need O(n * w * log(w)) time\n",
    "- the rest needs O(n) time due to the for-loop\n",
    "\n",
    "expert solution 2:\n",
    "- in the for-loop, sort a string need O(nlog(n)) time\n",
    "- in the for-loop, the rest need O(1) time\n",
    "- so, the whole w words need O(w * n * log(n)) time\n",
    "\n",
    "### space complexity\n",
    "- a list or dict that store w words need O(wn) space"
   ],
   "cell_type": "markdown",
   "metadata": {}
  },
  {
   "cell_type": "code",
   "execution_count": null,
   "metadata": {},
   "outputs": [],
   "source": []
  },
  {
   "cell_type": "code",
   "execution_count": null,
   "metadata": {},
   "outputs": [],
   "source": []
  },
  {
   "cell_type": "code",
   "execution_count": null,
   "metadata": {},
   "outputs": [],
   "source": []
  },
  {
   "cell_type": "code",
   "execution_count": null,
   "metadata": {},
   "outputs": [],
   "source": []
  },
  {
   "cell_type": "code",
   "execution_count": null,
   "metadata": {},
   "outputs": [],
   "source": []
  },
  {
   "cell_type": "code",
   "execution_count": null,
   "metadata": {},
   "outputs": [],
   "source": []
  },
  {
   "cell_type": "code",
   "execution_count": null,
   "metadata": {},
   "outputs": [],
   "source": []
  },
  {
   "cell_type": "code",
   "execution_count": null,
   "metadata": {},
   "outputs": [],
   "source": []
  },
  {
   "cell_type": "code",
   "execution_count": null,
   "metadata": {},
   "outputs": [],
   "source": []
  },
  {
   "cell_type": "code",
   "execution_count": null,
   "metadata": {},
   "outputs": [],
   "source": []
  },
  {
   "cell_type": "code",
   "execution_count": null,
   "metadata": {},
   "outputs": [],
   "source": []
  },
  {
   "cell_type": "code",
   "execution_count": null,
   "metadata": {},
   "outputs": [],
   "source": []
  }
 ]
}