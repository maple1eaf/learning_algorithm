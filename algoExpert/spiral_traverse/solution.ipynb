{
 "metadata": {
  "language_info": {
   "codemirror_mode": {
    "name": "ipython",
    "version": 3
   },
   "file_extension": ".py",
   "mimetype": "text/x-python",
   "name": "python",
   "nbconvert_exporter": "python",
   "pygments_lexer": "ipython3",
   "version": 3
  },
  "orig_nbformat": 2
 },
 "nbformat": 4,
 "nbformat_minor": 2,
 "cells": [
  {
   "source": [
    "# Spiral Traverse\n",
    "[link](https://www.algoexpert.io/questions/Spiral%20Traverse)"
   ],
   "cell_type": "markdown",
   "metadata": {}
  },
  {
   "source": [
    "## My Solution"
   ],
   "cell_type": "markdown",
   "metadata": {}
  },
  {
   "cell_type": "code",
   "execution_count": null,
   "metadata": {},
   "outputs": [],
   "source": [
    "def spiralTraverse(array):\n",
    "    # Write your code here.\n",
    "    i0, j0 = 0, 0\n",
    "    i1, j1 = len(array) - 1, len(array[0]) - 1\n",
    "    status = 0\n",
    "    res = []\n",
    "    while i0 <= i1 and j0 <= j1:\n",
    "        if status == 0:\n",
    "            for k in range(j0, j1 + 1):\n",
    "                res.append(array[i0][k])\n",
    "            i0 += 1\n",
    "        elif status == 1:\n",
    "            for k in range(i0, i1 + 1):\n",
    "                res.append(array[k][j1])\n",
    "            j1 -= 1\n",
    "        elif status == 2:\n",
    "            for k in range(j1, j0 - 1, -1):\n",
    "                res.append(array[i1][k])\n",
    "            i1 -= 1\n",
    "        else:\n",
    "            for k in range(i1, i0 - 1, -1):\n",
    "                res.append(array[k][j0])\n",
    "            j0 += 1\n",
    "        status = (status + 1) % 4\n",
    "    return res"
   ]
  },
  {
   "cell_type": "code",
   "execution_count": null,
   "metadata": {},
   "outputs": [],
   "source": []
  },
  {
   "source": [
    "## Expert Solution"
   ],
   "cell_type": "markdown",
   "metadata": {}
  },
  {
   "cell_type": "code",
   "execution_count": null,
   "metadata": {},
   "outputs": [],
   "source": [
    "# O(n) time | O(n) space\n",
    "# where n is the total number of elements in the array\n",
    "def spiralTraverse(array):\n",
    "    result = []\n",
    "    startRow, endRow = 0, len(array) - 1\n",
    "    startCol, endCol = 0, len(array[0]) - 1\n",
    "\n",
    "    while startRow <= endRow and startCol <= endCol:\n",
    "        for col in range(startCol, endCol + 1):\n",
    "            result.append(array[startRow][col])\n",
    "\n",
    "        for row in range(startRow + 1, endRow + 1):\n",
    "            result.append(array[row][endCol])\n",
    "\n",
    "        for col in reversed(range(startCol, endCol)):\n",
    "            result.append(array[endRow][col])\n",
    "\n",
    "        for row in reversed(range(startRow + 1, endRow)):\n",
    "            result.append(array[row][startCol])\n",
    "\n",
    "        startRow += 1\n",
    "        endRow -= 1\n",
    "        startCol += 1\n",
    "        endCol -= 1\n",
    "    return result"
   ]
  },
  {
   "cell_type": "code",
   "execution_count": null,
   "metadata": {},
   "outputs": [],
   "source": [
    "# O(n) time | O(n) space\n",
    "# where n is the total number of elements in the array\n",
    "def spiralTraverse(array):\n",
    "    result = []\n",
    "    spiralFill(array, 0, len(array), 0, len(array[0]) - 1, results)\n",
    "    return result\n",
    "\n",
    "def spiralFill(array, startRow, endRow, startCol, endCol, results):\n",
    "    if startRow > endRow or startCol > endCol:\n",
    "        return\n",
    "    \n",
    "    for col in range(startCol, endCol + 1):\n",
    "        result.append(array[startRow][col])\n",
    "\n",
    "    for row in range(startRow + 1, endRow + 1):\n",
    "        result.append(array[row][endCol])\n",
    "\n",
    "    for col in reversed(range(startCol, endCol)):\n",
    "        result.append(array[endRow][col])\n",
    "\n",
    "    for row in reversed(range(startRow + 1, endRow)):\n",
    "        result.append(array[row][startCol])\n",
    "    \n",
    "    spiralFill(array, startRow + 1, endRow - 1, startCol + 1, endCol - 1, result)"
   ]
  },
  {
   "source": [
    "## Thoughts"
   ],
   "cell_type": "markdown",
   "metadata": {}
  },
  {
   "cell_type": "code",
   "execution_count": null,
   "metadata": {},
   "outputs": [],
   "source": []
  },
  {
   "cell_type": "code",
   "execution_count": null,
   "metadata": {},
   "outputs": [],
   "source": []
  }
 ]
}