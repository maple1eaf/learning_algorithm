{
 "metadata": {
  "language_info": {
   "codemirror_mode": {
    "name": "ipython",
    "version": 3
   },
   "file_extension": ".py",
   "mimetype": "text/x-python",
   "name": "python",
   "nbconvert_exporter": "python",
   "pygments_lexer": "ipython3",
   "version": 3
  },
  "orig_nbformat": 2
 },
 "nbformat": 4,
 "nbformat_minor": 2,
 "cells": [
  {
   "source": [
    "# Longest String Chain\n",
    "[link](https://www.algoexpert.io/questions/Longest%20String%20Chain)"
   ],
   "cell_type": "markdown",
   "metadata": {}
  },
  {
   "source": [
    "## My Solution"
   ],
   "cell_type": "markdown",
   "metadata": {}
  },
  {
   "cell_type": "code",
   "execution_count": null,
   "metadata": {},
   "outputs": [],
   "source": [
    "def longestStringChain(strings):\n",
    "    # Write your code here.\n",
    "    strHash = {s: StringChain(s) for s in strings}\n",
    "    strings.sort(reverse=True, key=len)\n",
    "    for s in strings:\n",
    "        for i in range(len(s)):\n",
    "            newS = s[:i] + s[i+1:]\n",
    "            if newS in strHash and strHash[newS].level < strHash[s].level + 1:\n",
    "                strHash[newS].level = strHash[s].level + 1\n",
    "                strHash[newS].prev = strHash[s]\n",
    "\n",
    "    maxLevel = 1\n",
    "    maxLevelStringChain = None\n",
    "    for s in strings:\n",
    "        if strHash[s].level > maxLevel:\n",
    "                maxLevel = strHash[s].level\n",
    "                maxLevelStringChain = strHash[s]\n",
    "                \n",
    "    cur = maxLevelStringChain\n",
    "    res = []\n",
    "    while cur is not None:\n",
    "        res.append(cur.string)\n",
    "        cur = cur.prev\n",
    "    return list(reversed(res))\n",
    "    \n",
    "\n",
    "class StringChain:\n",
    "    def __init__(self, string):\n",
    "        self.string = string\n",
    "        self.level = 1\n",
    "        self.prev = None"
   ]
  },
  {
   "source": [
    "## Expert Solution"
   ],
   "cell_type": "markdown",
   "metadata": {}
  },
  {
   "cell_type": "code",
   "execution_count": null,
   "metadata": {},
   "outputs": [],
   "source": [
    "# O(n * m^2 + nlog(n)) time | O(nm) space - n is the number of string and\n",
    "# m is the length of the longest string\n",
    "def longestStringChain(strings):\n",
    "\t# For every string, imagine the longest string chain that starts with it.\n",
    "\t# Set up every string to point to the next string in its respective longest\n",
    "\t# string chain. Also keep track of the lengths of these longest string chains.\n",
    "\tstringChains = {}\n",
    "\tfor string in strings:\n",
    "\t\tstringChains[string] = {\"nextString\": \"\", \"maxChainLength\": 1}\n",
    "\t\t\n",
    "\t\n",
    "\t# Sort the strings based on their length so that whenever we visit a \n",
    "\t# string (as we iterate through them from left to right), we can\n",
    "\t# already have computed the longest string chains of any smaller strings.\n",
    "\tsortedStrings = sorted(strings, key=len)\n",
    "\tfor string in sortedStrings:\n",
    "\t\tfindLongestStringChain(string, stringChains)\n",
    "\t\t\n",
    "\treturn buildLongestStringChain(strings, stringChains)\n",
    "\n",
    "\n",
    "def findLongestStringChain(string, stringChains):\n",
    "\t# Try removing every letter of the current string to see if the\n",
    "\t# remaining strings form a string chain.\n",
    "\tfor i in range(len(string)):\n",
    "\t\tsmallerString = getSmallerString(string, i)\n",
    "\t\tif smallerString not in stringChains:\n",
    "\t\t\tcontinue\n",
    "\t\ttryUpdateLongestStringChain(string, smallerString, stringChains)\n",
    "\t\t\n",
    "def getSmallerString(string, index):\n",
    "\treturn string[0:index] + string[index + 1 :]\n",
    "\n",
    "\n",
    "def tryUpdateLongestStringChain(currentString, smallerString, stringChains):\n",
    "\tsmallerStringChainLength = stringChains[smallerString][\"maxChainLength\"]\n",
    "\tcurrentStringChainLength = stringChains[currentString][\"maxChainLength\"]\n",
    "\t# Update the string chain of the current string only if the smaller string leads\n",
    "\t# to a longer string chain\n",
    "\tif smallerStringChainLength + 1 > currentStringChainLength:\n",
    "\t\tstringChains[currentString][\"maxChainLength\"] = smallerStringChainLength + 1\n",
    "\t\tstringChains[currentString][\"nextString\"] = smallerString\n",
    "\t\t\n",
    "def buildLongestStringChain(strings, stringChains):\n",
    "\t# Find the string that starts the longest string chain\n",
    "\tmaxChainLength = 0\n",
    "\tchainStartingString = \"\"\n",
    "\tfor string in strings:\n",
    "\t\tif stringChains[string][\"maxChainLength\"] > maxChainLength:\n",
    "\t\t\tmaxChainLength = stringChains[string][\"maxChainLength\"]\n",
    "\t\t\tchainStartingString = string\n",
    "\t\n",
    "\t# Starting at the string found above, build the longest string chain.\n",
    "\tourLongestStringChain = []\n",
    "\tcurrentString = chainStartingString\n",
    "\twhile currentString != \"\":\n",
    "\t\tourLongestStringChain.append(currentString)\n",
    "\t\tcurrentString = stringChains[currentString][\"nextString\"]\n",
    "\t\t\n",
    "\treturn [] if len(ourLongestStringChain) == 1 else ourLongestStringChain"
   ]
  },
  {
   "source": [
    "## Thoughts"
   ],
   "cell_type": "markdown",
   "metadata": {}
  },
  {
   "cell_type": "code",
   "execution_count": null,
   "metadata": {},
   "outputs": [],
   "source": []
  },
  {
   "cell_type": "code",
   "execution_count": null,
   "metadata": {},
   "outputs": [],
   "source": []
  },
  {
   "cell_type": "code",
   "execution_count": null,
   "metadata": {},
   "outputs": [],
   "source": []
  },
  {
   "cell_type": "code",
   "execution_count": null,
   "metadata": {},
   "outputs": [],
   "source": []
  },
  {
   "cell_type": "code",
   "execution_count": null,
   "metadata": {},
   "outputs": [],
   "source": []
  },
  {
   "cell_type": "code",
   "execution_count": null,
   "metadata": {},
   "outputs": [],
   "source": []
  },
  {
   "cell_type": "code",
   "execution_count": null,
   "metadata": {},
   "outputs": [],
   "source": []
  },
  {
   "cell_type": "code",
   "execution_count": null,
   "metadata": {},
   "outputs": [],
   "source": []
  },
  {
   "cell_type": "code",
   "execution_count": null,
   "metadata": {},
   "outputs": [],
   "source": []
  },
  {
   "cell_type": "code",
   "execution_count": null,
   "metadata": {},
   "outputs": [],
   "source": []
  },
  {
   "cell_type": "code",
   "execution_count": null,
   "metadata": {},
   "outputs": [],
   "source": []
  },
  {
   "cell_type": "code",
   "execution_count": null,
   "metadata": {},
   "outputs": [],
   "source": []
  }
 ]
}