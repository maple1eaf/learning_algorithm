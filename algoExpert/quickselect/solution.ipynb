{
 "metadata": {
  "language_info": {
   "codemirror_mode": {
    "name": "ipython",
    "version": 3
   },
   "file_extension": ".py",
   "mimetype": "text/x-python",
   "name": "python",
   "nbconvert_exporter": "python",
   "pygments_lexer": "ipython3",
   "version": 3
  },
  "orig_nbformat": 2
 },
 "nbformat": 4,
 "nbformat_minor": 2,
 "cells": [
  {
   "source": [
    "# Quickselect\n",
    "[link](https://www.algoexpert.io/questions/Quickselect)"
   ],
   "cell_type": "markdown",
   "metadata": {}
  },
  {
   "source": [
    "## My Solution"
   ],
   "cell_type": "markdown",
   "metadata": {}
  },
  {
   "cell_type": "code",
   "execution_count": null,
   "metadata": {},
   "outputs": [],
   "source": [
    "def quickselect(array, k):\n",
    "    # Write your code here.\n",
    "\t# O(nlogk) time | O(k) space\n",
    "    maxHeap = Heap(maxHeapCompare, array[:k])\n",
    "\tfor i in range(k, len(array)):\n",
    "\t\tmaxHeap.add(array[i])\n",
    "\t\tmaxHeap.pop()\n",
    "\treturn maxHeap.peek()\n",
    "\n",
    "class Heap:\n",
    "\tdef __init__(self, comparisonFunc, array):\n",
    "\t\tself.comparisonFunc = comparisonFunc\n",
    "\t\tself.heap = self.construct(array)\n",
    "\t\tself.count = len(self.heap)\n",
    "\t\t\n",
    "\tdef heapifyUp(self, idx, heap):\n",
    "\t\twhile idx > 0:\n",
    "\t\t\tparrentIdx = (idx - 1) // 2\n",
    "\t\t\tif self.comparisonFunc(heap[parrentIdx], heap[idx]):\n",
    "\t\t\t\tself.swap(parrentIdx, idx, heap)\n",
    "\t\t\t\tidx = parrentIdx\n",
    "\t\t\telse:\n",
    "\t\t\t\tbreak\n",
    "\t\t\t\t\n",
    "\tdef heapifyDown(self, idx, heap):\n",
    "\t\tmaxIdx = len(heap) - 1\n",
    "\t\twhile idx < maxIdx:\n",
    "\t\t\tchildLIdx = 2 * idx + 1\n",
    "\t\t\tchildRIdx = 2 * idx + 2\n",
    "\t\t\tif maxIdx < childLIdx:\n",
    "\t\t\t\tbreak\n",
    "\t\t\telif childLIdx == maxIdx:\n",
    "\t\t\t\tif self.comparisonFunc(heap[idx], heap[childLIdx]):\n",
    "\t\t\t\t\tself.swap(idx, childLIdx, heap)\n",
    "\t\t\t\telse:\n",
    "\t\t\t\t\tbreak\n",
    "\t\t\telif childRIdx <= maxIdx:\n",
    "\t\t\t\ttheChildIdx = childRIdx if self.comparisonFunc(heap[childLIdx], heap[childRIdx]) else childLIdx\n",
    "\t\t\t\tif self.comparisonFunc(heap[idx], heap[theChildIdx]):\n",
    "\t\t\t\t\tself.swap(idx, theChildIdx, heap)\n",
    "\t\t\t\t\tidx = theChildIdx\n",
    "\t\t\t\telse:\n",
    "\t\t\t\t\tbreak\n",
    "\t\t\t\t\n",
    "\tdef add(self, value):\n",
    "\t\tself.heap.append(value)\n",
    "\t\tself.count += 1\n",
    "\t\tself.heapifyUp(self.count - 1, self.heap)\n",
    "\t\n",
    "\tdef construct(self, array):\n",
    "\t\theap = array[:]\n",
    "\t\tprint(heap)\n",
    "\t\tfinalIdx = len(heap)\n",
    "\t\tfinalParentIdx = (finalIdx - 1) // 2\n",
    "\t\tfor idx in reversed(range(finalParentIdx + 1)):\n",
    "\t\t\tself.heapifyDown(idx, heap)\n",
    "\t\treturn heap\n",
    "\t\t\n",
    "\tdef pop(self):\n",
    "\t\tif self.count == 0:\n",
    "\t\t\treturn False\n",
    "\t\tlastIdx = self.count - 1\n",
    "\t\tself.swap(0, lastIdx, self.heap)\n",
    "\t\tpopValue = self.heap.pop(lastIdx)\n",
    "\t\tself.count -= 1\n",
    "\t\tself.heapifyDown(0, self.heap)\n",
    "\t\treturn popValue\n",
    "\t\t\n",
    "\tdef peek(self):\n",
    "\t\tif self.count == 0:\n",
    "\t\t\treturn False\n",
    "\t\treturn self.heap[0]\n",
    "\t\n",
    "\tdef swap(self, i, j, array):\n",
    "\t\tarray[i], array[j] = array[j], array[i]\n",
    "\n",
    "def maxHeapCompare(a, b):\n",
    "\treturn a < b"
   ]
  },
  {
   "cell_type": "code",
   "execution_count": null,
   "metadata": {},
   "outputs": [],
   "source": [
    "def quickselect(array, k):\n",
    "    # Write your code here.\n",
    "    # Average O(n) time | O(log(n)) space\n",
    "    kthSmall = helper(array, k - 1, 0, len(array) - 1)\n",
    "    if kthSmall is not None:\n",
    "        return kthSmall\n",
    "\n",
    "def helper(array, targetIdx, left, right):\n",
    "    if left > right:\n",
    "        return\n",
    "    pivot = right\n",
    "    i = left\n",
    "    for j in range(left, right):\n",
    "        if array[j] < array[pivot]:\n",
    "            array[i], array[j] = array[j], array[i]\n",
    "            i += 1\n",
    "    array[i], array[pivot] = array[pivot], array[i]\n",
    "    if i == targetIdx:\n",
    "        return array[i]\n",
    "    elif targetIdx < i:\n",
    "        return helper(array, targetIdx, left, i - 1)\n",
    "    elif targetIdx > i:\n",
    "        return helper(array, targetIdx, i + 1, right)"
   ]
  },
  {
   "cell_type": "code",
   "execution_count": null,
   "metadata": {},
   "outputs": [],
   "source": [
    "def quickselect(array, k):\n",
    "    # Write your code here.\n",
    "    # Best: O(n) time | O(1) space\n",
    "    # Average: O(n) time | O(1) space\n",
    "    # Worst: O(n^2) time | O(1) space\n",
    "    left = 0\n",
    "    right = len(array) - 1\n",
    "    targetIdx = k - 1\n",
    "    while left <= right:\n",
    "        pivot = right\n",
    "        i = left\n",
    "        for j in range(left, right):\n",
    "            if array[j] < array[pivot]:\n",
    "                array[i], array[j] = array[j], array[i]\n",
    "                i += 1\n",
    "        array[i], array[pivot] = array[pivot], array[i]\n",
    "\n",
    "        if targetIdx == i:\n",
    "            return array[i]\n",
    "        elif targetIdx < i:\n",
    "            right = i - 1\n",
    "        elif targetIdx > i:\n",
    "            left = i + 1"
   ]
  },
  {
   "source": [
    "## Expert Solution"
   ],
   "cell_type": "markdown",
   "metadata": {}
  },
  {
   "cell_type": "code",
   "execution_count": null,
   "metadata": {},
   "outputs": [],
   "source": [
    "# Best: O(n) time, O(1) space\n",
    "# Average: O(n) time, O(1) space\n",
    "# Worst: O(n^2) time, O(1) space\n",
    "def quickselect(array, k):\n",
    "    position = k - 1\n",
    "\treturn quickselectHelper(array, 0, len(array) - 1, position)\n",
    "\n",
    "def quickselectHelper(array, startIdx, endIdx, position):\n",
    "\twhile True:\n",
    "\t\tif startIdx > endIdx:\n",
    "\t\t\traise Exception(\"Your algorithm should not be returning this!\")\n",
    "\t\tpivotIdx = startIdx\n",
    "\t\tleftIdx = startIdx + 1\n",
    "\t\trightIdx = endIdx\n",
    "\t\twhile leftIdx <= rightIdx:\n",
    "\t\t\tif array[leftIdx] > array[pivotIdx] and array[rightIdx] < array[pivotIdx]:\n",
    "\t\t\t\tswap(leftIdx, rightIdx, array)\n",
    "\t\t\tif array[leftIdx] <= array[pivotIdx]:\n",
    "\t\t\t\tleftIdx += 1\n",
    "\t\t\tif array[rightIdx] >= array[pivotIdx]:\n",
    "\t\t\t\trightIdx -= 1\n",
    "\t\tswap(pivotIdx, rightIdx, array)\n",
    "\t\tif rightIdx == position:\n",
    "\t\t\treturn array[rightIdx]\n",
    "\t\telif rightIdx < position:\n",
    "\t\t\tstartIdx = rightIdx + 1\n",
    "\t\telse:\n",
    "\t\t\tendIdx = rightIdx - 1\n",
    "\t\t\n",
    "def swap(one, two, array):\n",
    "\tarray[one], array[two] = array[two], array[one]"
   ]
  },
  {
   "cell_type": "code",
   "execution_count": null,
   "metadata": {},
   "outputs": [],
   "source": []
  },
  {
   "source": [
    "## Thoughts"
   ],
   "cell_type": "markdown",
   "metadata": {}
  },
  {
   "cell_type": "code",
   "execution_count": null,
   "metadata": {},
   "outputs": [],
   "source": []
  },
  {
   "cell_type": "code",
   "execution_count": null,
   "metadata": {},
   "outputs": [],
   "source": []
  },
  {
   "cell_type": "code",
   "execution_count": null,
   "metadata": {},
   "outputs": [],
   "source": []
  },
  {
   "cell_type": "code",
   "execution_count": null,
   "metadata": {},
   "outputs": [],
   "source": []
  },
  {
   "cell_type": "code",
   "execution_count": null,
   "metadata": {},
   "outputs": [],
   "source": []
  },
  {
   "cell_type": "code",
   "execution_count": null,
   "metadata": {},
   "outputs": [],
   "source": []
  },
  {
   "cell_type": "code",
   "execution_count": null,
   "metadata": {},
   "outputs": [],
   "source": []
  },
  {
   "cell_type": "code",
   "execution_count": null,
   "metadata": {},
   "outputs": [],
   "source": []
  },
  {
   "cell_type": "code",
   "execution_count": null,
   "metadata": {},
   "outputs": [],
   "source": []
  },
  {
   "cell_type": "code",
   "execution_count": null,
   "metadata": {},
   "outputs": [],
   "source": []
  },
  {
   "cell_type": "code",
   "execution_count": null,
   "metadata": {},
   "outputs": [],
   "source": []
  },
  {
   "cell_type": "code",
   "execution_count": null,
   "metadata": {},
   "outputs": [],
   "source": []
  }
 ]
}