{
 "metadata": {
  "language_info": {
   "codemirror_mode": {
    "name": "ipython",
    "version": 3
   },
   "file_extension": ".py",
   "mimetype": "text/x-python",
   "name": "python",
   "nbconvert_exporter": "python",
   "pygments_lexer": "ipython3",
   "version": 3
  },
  "orig_nbformat": 2
 },
 "nbformat": 4,
 "nbformat_minor": 2,
 "cells": [
  {
   "source": [
    "# Sunset Views\n",
    "[link](https://www.algoexpert.io/questions/Sunset%20Views)"
   ],
   "cell_type": "markdown",
   "metadata": {}
  },
  {
   "source": [
    "## My Solution"
   ],
   "cell_type": "markdown",
   "metadata": {}
  },
  {
   "cell_type": "code",
   "execution_count": null,
   "metadata": {},
   "outputs": [],
   "source": [
    "def sunsetViews(buildings, direction):\n",
    "    # Write your code here.\n",
    "    if buildings == []:\n",
    "        return []\n",
    "    res = []\n",
    "    if direction == \"EAST\":\n",
    "        maxHeight = buildings[-1] - 1\n",
    "        for i in reversed(range(len(buildings))):\n",
    "            if buildings[i] > maxHeight:\n",
    "                res.append(i)\n",
    "                maxHeight = buildings[i]\n",
    "        return res[::-1]\n",
    "    else:\n",
    "        maxHeight = buildings[0] - 1\n",
    "        for i in range(len(buildings)):\n",
    "            if buildings[i] > maxHeight:\n",
    "                res.append(i)\n",
    "                maxHeight = buildings[i]\n",
    "        return res"
   ]
  },
  {
   "cell_type": "code",
   "execution_count": null,
   "metadata": {},
   "outputs": [],
   "source": []
  },
  {
   "source": [
    "## Expert Solution"
   ],
   "cell_type": "markdown",
   "metadata": {}
  },
  {
   "cell_type": "code",
   "execution_count": null,
   "metadata": {},
   "outputs": [],
   "source": [
    "# O(n) time | O(n) space - where n is the length of the input array\n",
    "def sunsetViews(buildings, direction):\n",
    "    buildingsWithSunsetViews = []\n",
    "\n",
    "    startIdx = 0 if direction == \"WEST\" else len(buildings) - 1\n",
    "    step = 1 if direction = \"West\" else -1\n",
    "\n",
    "    idx = startIdx\n",
    "    runningMaxHeight = 0\n",
    "    while idx >= 0 and idx < len(buildings):\n",
    "        buildingHeight = buildings[idx]\n",
    "\n",
    "        if buildingHeight > runningMaxHeight:\n",
    "            buildingsWithSunsetViews.append(idx)\n",
    "        \n",
    "        runningMaxHeight = max(runningMaxHeight, buildingHeight)\n",
    "\n",
    "        idx += step\n",
    "    \n",
    "    if direction == \"EAST\":\n",
    "        return buildingsWithSunsetViews[::-1]\n",
    "\n",
    "    return buildingsWithSunsetViews"
   ]
  },
  {
   "cell_type": "code",
   "execution_count": null,
   "metadata": {},
   "outputs": [],
   "source": [
    "# O(n) time | O(n) space - where n is the length of the input array\n",
    "def sunsetViews(buildings, direction):\n",
    "    candidateBuildings = []\n",
    "\n",
    "    startIdx = 0 if direction == \"EAST\" else len(buildings) - 1\n",
    "    step = 1 if direction == \"EAST\" else -1\n",
    "\n",
    "    idx = startIdx\n",
    "    while idx >= 0 and idx < len(buildings):\n",
    "        buildingHeight = buildings[idx]\n",
    "\n",
    "        while len(candidateBuildings) > 0 and buildings[candidateBuildings[-1]] <= buildingHeight:\n",
    "            candidateBuildings.pop()\n",
    "        \n",
    "        candidateBuildings.append(idx)\n",
    "\n",
    "        idx += step\n",
    "    \n",
    "    if direction == \"WEST\":\n",
    "        return candidateBuildings[::-1]\n",
    "\n",
    "    return candidateBuildings"
   ]
  },
  {
   "source": [
    "## Thoughts\n",
    "### expert solution 2\n",
    "exploit stack.\n",
    "\n",
    "the reason why this approach also need O(n) time: we at most need to remove n elements in the stack through the whole process"
   ],
   "cell_type": "markdown",
   "metadata": {}
  },
  {
   "cell_type": "code",
   "execution_count": null,
   "metadata": {},
   "outputs": [],
   "source": []
  },
  {
   "cell_type": "code",
   "execution_count": null,
   "metadata": {},
   "outputs": [],
   "source": []
  },
  {
   "cell_type": "code",
   "execution_count": null,
   "metadata": {},
   "outputs": [],
   "source": []
  },
  {
   "cell_type": "code",
   "execution_count": null,
   "metadata": {},
   "outputs": [],
   "source": []
  },
  {
   "cell_type": "code",
   "execution_count": null,
   "metadata": {},
   "outputs": [],
   "source": []
  },
  {
   "cell_type": "code",
   "execution_count": null,
   "metadata": {},
   "outputs": [],
   "source": []
  },
  {
   "cell_type": "code",
   "execution_count": null,
   "metadata": {},
   "outputs": [],
   "source": []
  },
  {
   "cell_type": "code",
   "execution_count": null,
   "metadata": {},
   "outputs": [],
   "source": []
  },
  {
   "cell_type": "code",
   "execution_count": null,
   "metadata": {},
   "outputs": [],
   "source": []
  },
  {
   "cell_type": "code",
   "execution_count": null,
   "metadata": {},
   "outputs": [],
   "source": []
  },
  {
   "cell_type": "code",
   "execution_count": null,
   "metadata": {},
   "outputs": [],
   "source": []
  },
  {
   "cell_type": "code",
   "execution_count": null,
   "metadata": {},
   "outputs": [],
   "source": []
  }
 ]
}