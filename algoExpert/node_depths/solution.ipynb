{
 "metadata": {
  "language_info": {
   "codemirror_mode": {
    "name": "ipython",
    "version": 3
   },
   "file_extension": ".py",
   "mimetype": "text/x-python",
   "name": "python",
   "nbconvert_exporter": "python",
   "pygments_lexer": "ipython3",
   "version": 3
  },
  "orig_nbformat": 2
 },
 "nbformat": 4,
 "nbformat_minor": 2,
 "cells": [
  {
   "source": [
    "# Node Depths\n",
    "[link](https://www.algoexpert.io/questions/Node%20Depths)"
   ],
   "cell_type": "markdown",
   "metadata": {}
  },
  {
   "source": [
    "## My Solution"
   ],
   "cell_type": "markdown",
   "metadata": {}
  },
  {
   "cell_type": "code",
   "execution_count": null,
   "metadata": {},
   "outputs": [],
   "source": [
    "def nodeDepths(root):\n",
    "    # Write your code here.\n",
    "    # nodesDepth needs O(n) space\n",
    "    # recursive function calls needs O(n) stack space\n",
    "    nodesDepth = nodeDepthTagger(root, 0, [])\n",
    "    return sum(nodesDepth)\n",
    "    \n",
    "def nodeDepthTagger(node, depth, nodesDepth=[]):\n",
    "    if node is not None:\n",
    "        nodesDepth.append(depth)\n",
    "        \n",
    "        nodeDepthTagger(node.left, depth + 1, nodesDepth)\n",
    "        nodeDepthTagger(node.right, depth + 1, nodesDepth)\n",
    "    return nodesDepth\n",
    "\n",
    "# This is the class of the input binary tree.\n",
    "class BinaryTree:\n",
    "    def __init__(self, value):\n",
    "        self.value = value\n",
    "        self.left = None\n",
    "        self.right = None\n"
   ]
  },
  {
   "cell_type": "code",
   "execution_count": null,
   "metadata": {},
   "outputs": [],
   "source": [
    "def nodeDepths(root):\n",
    "    # Write your code here.\n",
    "    # depthSum needs O(1) space\n",
    "    # recursive function calls needs O(n) stack space\n",
    "    return nodeDepthTagger(root, 0, [0])\n",
    "\t\n",
    "def nodeDepthTagger(node, depth, depthSum):\n",
    "    # depthSum needs to be a referance, here I use a list\n",
    "\tif node is not None:\n",
    "\t\tdepthSum[0] += depth\n",
    "\t\t\n",
    "\t\tnodeDepthTagger(node.left, depth + 1, depthSum)\n",
    "\t\tnodeDepthTagger(node.right, depth + 1, depthSum)\n",
    "\treturn depthSum[0]\n",
    "\n",
    "\n",
    "# This is the class of the input binary tree.\n",
    "class BinaryTree:\n",
    "    def __init__(self, value):\n",
    "        self.value = value\n",
    "        self.left = None\n",
    "        self.right = None\n"
   ]
  },
  {
   "source": [
    "## Expert Solution"
   ],
   "cell_type": "markdown",
   "metadata": {}
  },
  {
   "cell_type": "code",
   "execution_count": null,
   "metadata": {},
   "outputs": [],
   "source": [
    "def nodeDepths(root, depth=0):\n",
    "    \"\"\"\n",
    "    Average case: when the tree is balanced\n",
    "    O(n) time | O(h) space\n",
    "    where n is the number of nodes in the Binary Tree\n",
    "    and h is the height of the Binary Tree\n",
    "    \"\"\"\n",
    "    sumOfDepths = 0\n",
    "    stack = [{'node': root, 'depth': 0}]\n",
    "    while len(stack) > 0:\n",
    "        nodeInfo = stack.pop()\n",
    "        node, depth = nodeInfo['node'], nodeInfo['depth']\n",
    "        if node is None:\n",
    "            continue\n",
    "        sumOfDepths += depth\n",
    "        stack.append({'node': node.left, 'depth': depth + 1})\n",
    "        stack.append({'node': node.right, 'depth': depth + 1})\n",
    "    return sumOfDepths\n",
    "# This is the class of the input binary tree.\n",
    "\n",
    "class BinaryTree:\n",
    "    def __init__(self, value):\n",
    "        self.value = value\n",
    "        self.left = None\n",
    "        self.right = None"
   ]
  },
  {
   "cell_type": "code",
   "execution_count": null,
   "metadata": {},
   "outputs": [],
   "source": [
    "def nodeDepths(root, depth=0):\n",
    "    \"\"\"\n",
    "    Average case: when the tree is balanced\n",
    "    O(n) time | O(h) space\n",
    "    where n is the number of nodes in the Binary Tree\n",
    "    and h is the height of the Binary Tree\n",
    "    \"\"\"\n",
    "    if root is None:\n",
    "        return 0\n",
    "    return depth + nodeDepths(root.left, depth+1) + nodeDepths(root.right, depth+1)\n",
    "# This is the class of the input binary tree.\n",
    "\n",
    "class BinaryTree:\n",
    "    def __init__(self, value):\n",
    "        self.value = value\n",
    "        self.left = None\n",
    "        self.right = None"
   ]
  },
  {
   "source": [
    "## Thoughts"
   ],
   "cell_type": "markdown",
   "metadata": {}
  },
  {
   "cell_type": "code",
   "execution_count": null,
   "metadata": {},
   "outputs": [],
   "source": []
  },
  {
   "cell_type": "code",
   "execution_count": null,
   "metadata": {},
   "outputs": [],
   "source": []
  }
 ]
}