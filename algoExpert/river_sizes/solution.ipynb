{
 "metadata": {
  "language_info": {
   "codemirror_mode": {
    "name": "ipython",
    "version": 3
   },
   "file_extension": ".py",
   "mimetype": "text/x-python",
   "name": "python",
   "nbconvert_exporter": "python",
   "pygments_lexer": "ipython3",
   "version": "3.7.3-final"
  },
  "orig_nbformat": 2,
  "kernelspec": {
   "name": "python3",
   "display_name": "Python 3",
   "language": "python"
  }
 },
 "nbformat": 4,
 "nbformat_minor": 2,
 "cells": [
  {
   "source": [
    "# River Sizes\n",
    "[link](https://www.algoexpert.io/questions/River%20Sizes)"
   ],
   "cell_type": "markdown",
   "metadata": {}
  },
  {
   "source": [
    "## My Solution"
   ],
   "cell_type": "markdown",
   "metadata": {}
  },
  {
   "cell_type": "code",
   "execution_count": null,
   "metadata": {},
   "outputs": [],
   "source": [
    "def riverSizes(matrix):\n",
    "    # Write your code here.\n",
    "    res = []\n",
    "    for i in range(len(matrix)):\n",
    "        for j in range(len(matrix[0])):\n",
    "            riverSize = processRiver(matrix, i, j, [0])\n",
    "            if riverSize is not None:\n",
    "                res.append(riverSize)\n",
    "    return res\n",
    "\n",
    "def processRiver(matrix, i, j, size):\n",
    "    if i < 0 or i > len(matrix) - 1:\n",
    "        return None\n",
    "    if j < 0 or j > len(matrix[0]) - 1:\n",
    "        return None\n",
    "    if matrix[i][j] == 0:\n",
    "        return None\n",
    "    \n",
    "    size[0] += 1\n",
    "    matrix[i][j] = 0\n",
    "    processRiver(matrix, i - 1, j, size)\n",
    "    processRiver(matrix, i + 1, j, size)\n",
    "    processRiver(matrix, i, j - 1, size)\n",
    "    processRiver(matrix, i, j + 1, size)\n",
    "    return size[0]"
   ]
  },
  {
   "cell_type": "code",
   "execution_count": null,
   "metadata": {},
   "outputs": [],
   "source": [
    "def riverSizes(matrix):\n",
    "    # Write your code here.\n",
    "    res = []\n",
    "    for i in range(len(matrix)):\n",
    "        for j in range(len(matrix[0])):\n",
    "            riverSize = processRiver(matrix, i, j)\n",
    "            if riverSize != 0:\n",
    "                res.append(riverSize)\n",
    "    return res\n",
    "\n",
    "def processRiver(matrix, idxI, idxJ):\n",
    "    size = 0\n",
    "    stack = [(idxI, idxJ)]\n",
    "    while stack != []:\n",
    "        i, j = stack.pop()\n",
    "\n",
    "        if i < 0 or i > len(matrix) - 1:\n",
    "            continue\n",
    "        if j < 0 or j > len(matrix[0]) - 1:\n",
    "            continue\n",
    "        if matrix[i][j] == 0:\n",
    "            continue\n",
    "\n",
    "        size += 1\n",
    "        matrix[i][j] = 0\n",
    "\n",
    "        stack.append((i - 1, j))\n",
    "        stack.append((i + 1, j))\n",
    "        stack.append((i, j - 1))\n",
    "        stack.append((i, j + 1))\n",
    "\n",
    "    return size"
   ]
  },
  {
   "source": [
    "## Expert Solution"
   ],
   "cell_type": "markdown",
   "metadata": {}
  },
  {
   "cell_type": "code",
   "execution_count": null,
   "metadata": {},
   "outputs": [],
   "source": [
    "def riverSizes(matrix):\n",
    "    sizes = []\n",
    "    visited = [[False for value in row] for row in matrix]\n",
    "    for i in range(len(matrix)):\n",
    "        for j in range(len(matrix[i])):\n",
    "            if visited[i][j]:\n",
    "                continue\n",
    "            traverseNode(i, j, matrix, visited, sizes)\n",
    "    return sizes\n",
    "\n",
    "def traverseNode(i, j, matrix, visited, sizes):\n",
    "    currentRiverSize = 0\n",
    "    nodesToExplore = [[i, j]]\n",
    "    while len(nodesToExplore):\n",
    "        currentNode = nodesToExplore.pop()\n",
    "        i = currentNode[0]\n",
    "        j = currentNode[1]\n",
    "        if visited[i][j]:\n",
    "            continue\n",
    "        visited[i][j] = True\n",
    "        if matrix[i][j] == 0:\n",
    "            continue\n",
    "        currentRiverSize += 1\n",
    "        unvisitedNeighbors = getUnvisitedNeighbors(i, j, matrix, visited)\n",
    "        for neighbor in unvisitedNeighbors:\n",
    "            nodesToExplore.append(neighbor)\n",
    "    if currentRiverSize > 0:\n",
    "        sizes.append(currentRiverSize)\n",
    "\n",
    "\n",
    "def getUnvisitedNeighbors(i, j, matrix, visited):\n",
    "    unvisitedNeighbors = []\n",
    "    if i > 0 and not visited[i - 1][j]:\n",
    "        unvisitedNeighbors.append([i - 1, j])\n",
    "    if i < len(matrix) - 1 and not visited[i + 1][j]:\n",
    "        unvisitedNeighbors.append([i + 1, j])\n",
    "    if j > 0 and not visited[i][j - 1]:\n",
    "        unvisitedNeighbors.append([i, j -1])\n",
    "    if j < len(matrix[0]) - 1 and not visited[i][j + 1]:\n",
    "        unvisitedNeighbors.append([i, j + 1])\n",
    "    return unvisitedNeighbors"
   ]
  },
  {
   "cell_type": "code",
   "execution_count": null,
   "metadata": {},
   "outputs": [],
   "source": []
  },
  {
   "source": [
    "## Thoughts"
   ],
   "cell_type": "markdown",
   "metadata": {}
  },
  {
   "cell_type": "code",
   "execution_count": null,
   "metadata": {},
   "outputs": [],
   "source": []
  },
  {
   "cell_type": "code",
   "execution_count": null,
   "metadata": {},
   "outputs": [],
   "source": []
  },
  {
   "cell_type": "code",
   "execution_count": null,
   "metadata": {},
   "outputs": [],
   "source": []
  },
  {
   "cell_type": "code",
   "execution_count": null,
   "metadata": {},
   "outputs": [],
   "source": []
  },
  {
   "cell_type": "code",
   "execution_count": null,
   "metadata": {},
   "outputs": [],
   "source": []
  },
  {
   "cell_type": "code",
   "execution_count": null,
   "metadata": {},
   "outputs": [],
   "source": []
  },
  {
   "cell_type": "code",
   "execution_count": null,
   "metadata": {},
   "outputs": [],
   "source": []
  },
  {
   "cell_type": "code",
   "execution_count": null,
   "metadata": {},
   "outputs": [],
   "source": []
  },
  {
   "cell_type": "code",
   "execution_count": null,
   "metadata": {},
   "outputs": [],
   "source": []
  }
 ]
}