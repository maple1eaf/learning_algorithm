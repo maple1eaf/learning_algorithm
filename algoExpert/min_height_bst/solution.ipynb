{
 "metadata": {
  "language_info": {
   "codemirror_mode": {
    "name": "ipython",
    "version": 3
   },
   "file_extension": ".py",
   "mimetype": "text/x-python",
   "name": "python",
   "nbconvert_exporter": "python",
   "pygments_lexer": "ipython3",
   "version": "3.6.10-final"
  },
  "orig_nbformat": 2,
  "kernelspec": {
   "name": "python3",
   "display_name": "Python 3",
   "language": "python"
  }
 },
 "nbformat": 4,
 "nbformat_minor": 2,
 "cells": [
  {
   "source": [
    "# Min Height Bst\n",
    "[link](https://www.algoexpert.io/questions/Min%20Height%20BST)"
   ],
   "cell_type": "markdown",
   "metadata": {}
  },
  {
   "source": [
    "## My Solution"
   ],
   "cell_type": "markdown",
   "metadata": {}
  },
  {
   "cell_type": "code",
   "execution_count": null,
   "metadata": {},
   "outputs": [],
   "source": [
    "def minHeightBst(array):\n",
    "    return minHeightBstHelper(array, 0, len(array) - 1, None)\n",
    "\n",
    "def minHeightBstHelper(array, minIdx, maxIdx, tree):\n",
    "    if minIdx <= maxIdx:\n",
    "        idx = (minIdx + maxIdx) // 2\n",
    "        if tree is None:\n",
    "            # for the root node\n",
    "            tree = BST(array[idx])\n",
    "        else:\n",
    "            tree.insert(array[idx])\n",
    "        minHeightBstHelper(array, minIdx, idx - 1, tree)\n",
    "        minHeightBstHelper(array, idx + 1, maxIdx, tree)\n",
    "    else:\n",
    "        return\n",
    "    return tree\n",
    "    \n",
    "class BST:\n",
    "    def __init__(self, value):\n",
    "        self.value = value\n",
    "        self.left = None\n",
    "        self.right = None\n",
    "\n",
    "    def insert(self, value):\n",
    "        if value < self.value:\n",
    "            if self.left is None:\n",
    "                self.left = BST(value)\n",
    "            else:\n",
    "                self.left.insert(value)\n",
    "        else:\n",
    "            if self.right is None:\n",
    "                self.right = BST(value)\n",
    "            else:\n",
    "                self.right.insert(value)\n"
   ]
  },
  {
   "cell_type": "code",
   "execution_count": null,
   "metadata": {},
   "outputs": [],
   "source": [
    "def minHeightBst(array):\n",
    "    return minHeightBstHelper(array, 0, len(array) - 1)\n",
    "\n",
    "def minHeightBstHelper(array, minIdx, maxIdx):\n",
    "\tif minIdx > maxIdx:\n",
    "\t\treturn\n",
    "\tmidIdx = (minIdx + maxIdx) // 2\n",
    "\tnode = BST(array[midIdx])\n",
    "\tnode.left = minHeightBstHelper(array, minIdx, midIdx - 1)\n",
    "\tnode.right = minHeightBstHelper(array, midIdx + 1, maxIdx)\n",
    "\treturn node\n",
    "\n",
    "class BST:\n",
    "    def __init__(self, value):\n",
    "        self.value = value\n",
    "        self.left = None\n",
    "        self.right = None"
   ]
  },
  {
   "source": [
    "## Expert Solution"
   ],
   "cell_type": "markdown",
   "metadata": {}
  },
  {
   "cell_type": "code",
   "execution_count": 2,
   "metadata": {},
   "outputs": [],
   "source": [
    "# O(nlog(n)) time | O(n) space - where n is the length of the array\n",
    "def minHeightBst(array):\n",
    "    return constructMinHeightBst(array, None, 0, len(array) - 1)\n",
    "\n",
    "def constructMinHeightBst(array, bst, startIdx, endIdx):\n",
    "    if startIdx < endIdx:\n",
    "        return\n",
    "    midIdx = (startIdx + endIdx) // 2\n",
    "    valueToAdd = array[minIdx]\n",
    "    if bst is None:\n",
    "        bst = BST(valueToAdd)\n",
    "    else:\n",
    "        bst.insert(valueToAdd)\n",
    "    constructMinHeightBst(array, bst, startIdx, midIdx - 1)\n",
    "    constructMinHeightBst(array, bst, minIdx + 1, endIdx)\n",
    "    return bst\n",
    "    \n",
    "class BST:\n",
    "    def __init__(self, value):\n",
    "        self.value = value\n",
    "        self.left = None\n",
    "        self.right = None\n",
    "\n",
    "    def insert(self, value):\n",
    "        if value < self.value:\n",
    "            if self.left is None:\n",
    "                self.left = BST(value)\n",
    "            else:\n",
    "                self.left.insert(value)\n",
    "        else:\n",
    "            if self.right is None:\n",
    "                self.right = BST(value)\n",
    "            else:\n",
    "                self.right.insert(value)\n"
   ]
  },
  {
   "cell_type": "code",
   "execution_count": null,
   "metadata": {},
   "outputs": [],
   "source": [
    "# O(n) time | O(n) space - where n is the length of the array\n",
    "def minHeightBst(array):\n",
    "    return constructMinHeightBst(array, None, 0, len(array) - 1)\n",
    "\n",
    "def constructMinHeightBst(array, bst, startIdx, endIdx):\n",
    "    if startIdx < endIdx:\n",
    "        return\n",
    "    midIdx = (startIdx + endIdx) // 2\n",
    "    newBstNode = BST(array[midIdx])\n",
    "    if bst is None:\n",
    "        bst = newBstNode\n",
    "    else:\n",
    "        if array[midIdx] < bst.value:\n",
    "            bst.left = newBstNode\n",
    "            bst = bst.left\n",
    "        else:\n",
    "            bst.right = newBstNode\n",
    "            bst = bst.right\n",
    "    constructMinHeightBst(array, bst, startIdx, midIdx - 1)\n",
    "    constructMinHeightBst(array, bst, minIdx + 1, endIdx)\n",
    "    return bst\n",
    "    \n",
    "class BST:\n",
    "    def __init__(self, value):\n",
    "        self.value = value\n",
    "        self.left = None\n",
    "        self.right = None\n"
   ]
  },
  {
   "cell_type": "code",
   "execution_count": null,
   "metadata": {},
   "outputs": [],
   "source": [
    "# O(n) time | O(n) space - where n is the length of the array\n",
    "def minHeightBst(array):\n",
    "    return constructMinHeightBst(array, 0, len(array) - 1)\n",
    "\n",
    "def constructMinHeightBst(array, startIdx, endIdx):\n",
    "    if startIdx < endIdx:\n",
    "        return None\n",
    "    midIdx = (startIdx + endIdx) // 2\n",
    "    bst = BST(array[midIdx])\n",
    "    bst.left = constructMinHeightBst(array, startIdx, midIdx - 1)\n",
    "    bst.right = constructMinHeightBst(array, minIdx + 1, endIdx)\n",
    "    return bst\n",
    "    \n",
    "class BST:\n",
    "    def __init__(self, value):\n",
    "        self.value = value\n",
    "        self.left = None\n",
    "        self.right = None"
   ]
  },
  {
   "source": [
    "## Thoughts\n",
    "### expert solution 1 O(nlog(n)) time\n",
    "the `constructMinHeightBst()` function calls n times. \n",
    "\n",
    "at each call, we call `BST.insert()` once, which averagely needs O(log(n)) time complexity, but because we're creating a min height BST, the time complexity should be O(log(n)).\n",
    "\n",
    "So, total O(nlog(n)) time.\n",
    "\n",
    "### expert solution 2 & 3 O(n) time\n",
    "instead of using `BST.insert()` to insert a new node, we create new BST node and manually attach it to the existing BST's children position."
   ],
   "cell_type": "markdown",
   "metadata": {}
  },
  {
   "cell_type": "code",
   "execution_count": null,
   "metadata": {},
   "outputs": [],
   "source": []
  },
  {
   "cell_type": "code",
   "execution_count": null,
   "metadata": {},
   "outputs": [],
   "source": []
  },
  {
   "cell_type": "code",
   "execution_count": null,
   "metadata": {},
   "outputs": [],
   "source": []
  },
  {
   "cell_type": "code",
   "execution_count": null,
   "metadata": {},
   "outputs": [],
   "source": []
  },
  {
   "cell_type": "code",
   "execution_count": null,
   "metadata": {},
   "outputs": [],
   "source": []
  },
  {
   "cell_type": "code",
   "execution_count": null,
   "metadata": {},
   "outputs": [],
   "source": []
  },
  {
   "cell_type": "code",
   "execution_count": null,
   "metadata": {},
   "outputs": [],
   "source": []
  },
  {
   "cell_type": "code",
   "execution_count": null,
   "metadata": {},
   "outputs": [],
   "source": []
  },
  {
   "cell_type": "code",
   "execution_count": null,
   "metadata": {},
   "outputs": [],
   "source": []
  },
  {
   "cell_type": "code",
   "execution_count": null,
   "metadata": {},
   "outputs": [],
   "source": []
  },
  {
   "cell_type": "code",
   "execution_count": null,
   "metadata": {},
   "outputs": [],
   "source": []
  },
  {
   "cell_type": "code",
   "execution_count": null,
   "metadata": {},
   "outputs": [],
   "source": []
  }
 ]
}