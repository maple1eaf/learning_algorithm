{
 "metadata": {
  "language_info": {
   "codemirror_mode": {
    "name": "ipython",
    "version": 3
   },
   "file_extension": ".py",
   "mimetype": "text/x-python",
   "name": "python",
   "nbconvert_exporter": "python",
   "pygments_lexer": "ipython3",
   "version": 3
  },
  "orig_nbformat": 2
 },
 "nbformat": 4,
 "nbformat_minor": 2,
 "cells": [
  {
   "source": [
    "# Apartment Hunting\n",
    "[link](https://www.algoexpert.io/questions/Apartment%20Hunting)"
   ],
   "cell_type": "markdown",
   "metadata": {}
  },
  {
   "source": [
    "## My Solution"
   ],
   "cell_type": "markdown",
   "metadata": {}
  },
  {
   "cell_type": "code",
   "execution_count": null,
   "metadata": {},
   "outputs": [],
   "source": [
    "def apartmentHunting(blocks, reqs):\n",
    "    # Write your code here.\n",
    "    # O(br) time | O(br) space\n",
    "    distancesReqs = {req: nearestDistance(blocks, req) for req in reqs}\n",
    "    farestDists = []\n",
    "    for i in range(len(blocks)):\n",
    "        farestDists.append(max([distancesReqs[r][i] for r in reqs]))\n",
    "    return farestDists.index(min(farestDists))\n",
    "\n",
    "def nearestDistance(blocks, key):\n",
    "    distances = [float('inf') for b in blocks]\n",
    "    # left side\n",
    "    nearestLeftDist = float('inf')\n",
    "    for i, b in enumerate(blocks):\n",
    "        if b[key] == True:\n",
    "            nearestLeftDist = 0\n",
    "        else:\n",
    "            nearestLeftDist += 1\n",
    "        distances[i] = nearestLeftDist\n",
    "    # right side\n",
    "    nearestRightDist = float('inf')\n",
    "    for i in reversed(range(len(blocks))):\n",
    "        b = blocks[i]\n",
    "        if b[key] == True:\n",
    "            nearestRightDist = 0\n",
    "        else:\n",
    "            nearestRightDist += 1\n",
    "        distances[i] = min(distances[i], nearestRightDist)\n",
    "    return distances"
   ]
  },
  {
   "cell_type": "code",
   "execution_count": null,
   "metadata": {},
   "outputs": [],
   "source": [
    "def apartmentHunting(blocks, reqs):\n",
    "    # Write your code here.\n",
    "    # O(br) time | O(b) space\n",
    "    farestDists = [float('-inf') for b in blocks]\n",
    "    for r in reqs:\n",
    "        distances = nearestDistance(blocks, r)\n",
    "        for i in range(len(blocks)):\n",
    "            farestDists[i] = max(farestDists[i], distances[i])\n",
    "    return farestDists.index(min(farestDists))\n",
    "\n",
    "def nearestDistance(blocks, key):\n",
    "    distances = [float('inf') for b in blocks]\n",
    "    # left side\n",
    "    nearestLeftDist = float('inf')\n",
    "    for i, b in enumerate(blocks):\n",
    "        if b[key] == True:\n",
    "            nearestLeftDist = 0\n",
    "        else:\n",
    "            nearestLeftDist += 1\n",
    "        distances[i] = nearestLeftDist\n",
    "    # right side\n",
    "    nearestRightDist = float('inf')\n",
    "    for i in reversed(range(len(blocks))):\n",
    "        b = blocks[i]\n",
    "        if b[key] == True:\n",
    "            nearestRightDist = 0\n",
    "        else:\n",
    "            nearestRightDist += 1\n",
    "        distances[i] = min(distances[i], nearestRightDist)\n",
    "    return distances"
   ]
  },
  {
   "source": [
    "## Expert Solution"
   ],
   "cell_type": "markdown",
   "metadata": {}
  },
  {
   "cell_type": "code",
   "execution_count": null,
   "metadata": {},
   "outputs": [],
   "source": [
    "# O(b^2r) time | O(b) space - where b is the number of blocks and r is the number of requirements\n",
    "def apartmentHunting(blocks, reqs):\n",
    "    maxDistancesAtBlocks = [float(\"-inf\" for block in blocks)]\n",
    "    for i in range(len(blocks)):\n",
    "        for req in reqs:\n",
    "            closestReqDistance = float(\"inf\")\n",
    "            for j in range(len(blocks)):\n",
    "                if blocks[j][req]:\n",
    "                    closestReqDistance = min(closestReqDistance, distanceBetween(i, j))\n",
    "            maxDistancesAtBlocks[i] = max(maxDistancesAtBlocks[i], closestReqDistance)\n",
    "    return getIdxAtMinValue(maxDistancesAtBlocks)\n",
    "\n",
    "def getIdxAtMinValue(array):\n",
    "    idxAtMinValue = 0\n",
    "    minValue = float(\"inf\")\n",
    "    for i in range(len(array)):\n",
    "        if currentValue < minValue:\n",
    "            minValue = currentValue\n",
    "            idxAtMinValue = i\n",
    "    return idxAtMinValue\n",
    "\n",
    "def distanceBetween(a, b):\n",
    "    return abs(a - b)"
   ]
  },
  {
   "cell_type": "code",
   "execution_count": null,
   "metadata": {},
   "outputs": [],
   "source": [
    "# O(br) time | O(br) space - where b is the number of blocks and r is the number of requirements\n",
    "def apartmentHunting(blocks, reqs):\n",
    "    minDistFromBlocks = list(map(lambda req: getMinDist(blocks, req), reqs))\n",
    "    maxDistAtBlocks = getMaxDistAtBlocks(blocks, minDistFromBlocks)\n",
    "    return getIdxAtMinValue(maxDistAtBlocks)\n",
    "\n",
    "def getMinDist(blocks, req):\n",
    "    minDist = [0 for block in blocks]\n",
    "    closestReqIdx = float(\"inf\")\n",
    "    for i in range(len(blocks)):\n",
    "        if blocks[i][req]:\n",
    "            closestReqIdx = i\n",
    "        minDist[i] = distanceBetween(i, closestReqIdx)\n",
    "    for i in reversed(range(len(blocks))):\n",
    "        if blocks[i][req]:\n",
    "            closestReqIdx = i\n",
    "        minDist[i] = min(minDist[i], distanceBetween(i, closestReqIdx))\n",
    "    return minDist\n",
    "\n",
    "def getMaxDistAtBlocks(blocks, minDistFromBlocks):\n",
    "    maxDistAtBlocks = [0 for block in blocks]\n",
    "    for i in range(len(blocks)):\n",
    "        minDistAtBlocks = list(map(lambda distances:distances[i], minDistFromBlocks))\n",
    "        maxDistAtBlocks[i] = max(minDistAtBlocks)\n",
    "    return maxDistAtBlocks\n",
    "\n",
    "def getIdxAtMinValue(array):\n",
    "    idxAtMinValue = 0\n",
    "    minValue = float(\"inf\")\n",
    "    for i in range(len(array)):\n",
    "        currentValue = array[i]\n",
    "        if currentValue < minValue:\n",
    "            minValue = currentValue\n",
    "            idxAtMinValue = i\n",
    "    return idxAtMinValue\n",
    "\n",
    "def distanceBetween(a,b):\n",
    "    return abs(a - b)"
   ]
  },
  {
   "source": [
    "## Thoughts"
   ],
   "cell_type": "markdown",
   "metadata": {}
  },
  {
   "cell_type": "code",
   "execution_count": null,
   "metadata": {},
   "outputs": [],
   "source": []
  },
  {
   "cell_type": "code",
   "execution_count": null,
   "metadata": {},
   "outputs": [],
   "source": []
  },
  {
   "cell_type": "code",
   "execution_count": null,
   "metadata": {},
   "outputs": [],
   "source": []
  },
  {
   "cell_type": "code",
   "execution_count": null,
   "metadata": {},
   "outputs": [],
   "source": []
  },
  {
   "cell_type": "code",
   "execution_count": null,
   "metadata": {},
   "outputs": [],
   "source": []
  },
  {
   "cell_type": "code",
   "execution_count": null,
   "metadata": {},
   "outputs": [],
   "source": []
  },
  {
   "cell_type": "code",
   "execution_count": null,
   "metadata": {},
   "outputs": [],
   "source": []
  },
  {
   "cell_type": "code",
   "execution_count": null,
   "metadata": {},
   "outputs": [],
   "source": []
  },
  {
   "cell_type": "code",
   "execution_count": null,
   "metadata": {},
   "outputs": [],
   "source": []
  },
  {
   "cell_type": "code",
   "execution_count": null,
   "metadata": {},
   "outputs": [],
   "source": []
  },
  {
   "cell_type": "code",
   "execution_count": null,
   "metadata": {},
   "outputs": [],
   "source": []
  },
  {
   "cell_type": "code",
   "execution_count": null,
   "metadata": {},
   "outputs": [],
   "source": []
  }
 ]
}