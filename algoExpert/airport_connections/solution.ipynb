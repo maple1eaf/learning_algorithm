{
 "metadata": {
  "language_info": {
   "codemirror_mode": {
    "name": "ipython",
    "version": 3
   },
   "file_extension": ".py",
   "mimetype": "text/x-python",
   "name": "python",
   "nbconvert_exporter": "python",
   "pygments_lexer": "ipython3",
   "version": 3
  },
  "orig_nbformat": 2
 },
 "nbformat": 4,
 "nbformat_minor": 2,
 "cells": [
  {
   "source": [
    "# Airport Connections\n",
    "[link](https://www.algoexpert.io/questions/Airport%20Connections)"
   ],
   "cell_type": "markdown",
   "metadata": {}
  },
  {
   "source": [
    "## My Solution"
   ],
   "cell_type": "markdown",
   "metadata": {}
  },
  {
   "cell_type": "code",
   "execution_count": null,
   "metadata": {},
   "outputs": [],
   "source": [
    "# O(a * (a + r)) time | O(a + r) space\n",
    "def airportConnections(airports, routes, startingAirport):\n",
    "    # Write your code here.\n",
    "    airportsGraph = createGraph(airports, routes)\n",
    "    for airportName in airports:\n",
    "        traverseNodes(airportsGraph, airportName)\n",
    "        \n",
    "    l = [airportsGraph[airportName] for airportName in airportsGraph if airportName != startingAirport]\n",
    "    l.sort(key=lambda x: x.score, reverse=True)\n",
    "    l = [airportsGraph[startingAirport]] + l\n",
    "    \n",
    "    count = -1\n",
    "    \n",
    "    for airportNode in l:\n",
    "        if airportNode.reached == True:\n",
    "            continue\n",
    "        count += 1\n",
    "        reaches = traverseNodes(airportsGraph, airportNode.name)\n",
    "        for airportName in reaches:\n",
    "            airportsGraph[airportName].reached = True\n",
    "\n",
    "    return count\n",
    "\n",
    "def createGraph(nodes, edges):\n",
    "    graph = {a: Node(a) for a in nodes}\n",
    "    for r in edges:\n",
    "        graph[r[0]].tos.append(r[1])\n",
    "    return graph\n",
    "\n",
    "def traverseNodes(graph, startNodeName):\n",
    "    visited = {startNodeName: True}\n",
    "    stack = [startNodeName]\n",
    "    while len(stack) != 0:\n",
    "        curName = stack.pop()\n",
    "        visited[curName] = True\n",
    "        curNode = graph[curName]\n",
    "        for nextName in curNode.tos:\n",
    "            if nextName not in visited:\n",
    "                stack.append(nextName)\n",
    "    graph[startNodeName].score = len(visited)\n",
    "    return visited\n",
    "\n",
    "class Node:\n",
    "    def __init__(self, name):\n",
    "        self.name = name\n",
    "        self.score = 0\n",
    "        self.tos = []\n",
    "        self.reached = False"
   ]
  },
  {
   "source": [
    "## Expert Solution"
   ],
   "cell_type": "markdown",
   "metadata": {}
  },
  {
   "cell_type": "code",
   "execution_count": null,
   "metadata": {},
   "outputs": [],
   "source": [
    "# O(a * (a + r) + a + r + alog(a)) time | O(a + r) space - where a is the number of airports and r is the number of routes \n",
    "def airportConnections(airports, routes, startingAirport):\n",
    "    airportGraph = createAirportGraph(airports, routes)\n",
    "    unreachableAirportNodes =  getUnreachableAirportNodes(airportGraph, airports, startingAirport)\n",
    "    markUnreachableConnections(airportGraph, unreachableAirportNodes)\n",
    "    return getMinNumberOfNewConnections(airportGraph, unreachableAirportNodes)\n",
    "\n",
    "# O(a + r) time | O(a + r) space\n",
    "def createAirportGraph(airports, routes):\n",
    "    airportGraph = {}\n",
    "    for airport in airports:\n",
    "        airportGraph[airport] = AirportNode(airport)\n",
    "    for route in routes:\n",
    "        airport, connection = route\n",
    "        airportGraph[airport].connections.append(connection)\n",
    "    return airportGraph\n",
    "\n",
    "# O(a + r) time | O(a) space\n",
    "def getUnreachableAirportNodes(airportGraph, airports, startingAirport):\n",
    "    visitedAirports = {}\n",
    "    depthFirstTraverseAirports(airportGraph, startingAirport, visitedAirports)\n",
    "    \n",
    "    unreachableAirportNodes = []\n",
    "    for airport in airports:\n",
    "        if airport in visitedAirports:\n",
    "            continue\n",
    "        airportNode = airportGraph[airport]\n",
    "        airportNode.isReachable = False\n",
    "        unreachableAirportNodes.append(airportNode)\n",
    "    return unreachableAirportNodes\n",
    "    \n",
    "    \n",
    "def depthFirstTraverseAirports(airportGraph, airport, visitedAirports):\n",
    "    if airport in visitedAirports:\n",
    "        return\n",
    "    visitedAirports[airport] = True\n",
    "    connections = airportGraph[airport].connections\n",
    "    for connection in connections:\n",
    "        depthFirstTraverseAirports(airportGraph,  connection, visitedAirports)\n",
    "\n",
    "\n",
    "# O(a * (a + r)) time | O(a) space\n",
    "def markUnreachableConnections(airportGraph, unreachableAirportNodes):\n",
    "    for airportNode in unreachableAirportNodes:\n",
    "        airport = airportNode.airport\n",
    "        unreachableConnections = []\n",
    "        depthFirstAddUnreachableConnections(airportGraph, airport, unreachableConnections, {})\n",
    "        airportNode.unreachableConnections = unreachableConnections\n",
    "\n",
    "def depthFirstAddUnreachableConnections(airportGraph, airport, unreachableConnections, visitedAirports):\n",
    "    if airportGraph[airport].isReachable:\n",
    "        return\n",
    "    if airport in visitedAirports:\n",
    "        return\n",
    "    visitedAirports[airport] = True\n",
    "    unreachableConnections.append(airport)\n",
    "    connections = airportGraph[airport].connections\n",
    "    for connection in connections:\n",
    "        depthFirstAddUnreachableConnections(airportGraph, connection, unreachableConnections, visitedAirports)\n",
    "        \n",
    "# O(alog(a) + a + r) time | O(1) space\n",
    "def getMinNumberOfNewConnections(airportGraph, unreachableAirportNodes):\n",
    "    unreachableAirportNodes.sort(key=lambda airport: len(airport.unreachableConnections), reverse=True)\n",
    "    \n",
    "    numberOfNewConnections = 0\n",
    "    for airportNode in unreachableAirportNodes:\n",
    "        if airportNode.isReachable:\n",
    "            continue\n",
    "        numberOfNewConnections += 1\n",
    "        for connection in airportNode.unreachableConnections:\n",
    "            airportGraph[connection].isReachable = True\n",
    "    return numberOfNewConnections\n",
    "\n",
    "class AirportNode:\n",
    "    def __init__(self, airport):\n",
    "        self.airport = airport\n",
    "        self.connections = []\n",
    "        self.isReachable = True\n",
    "        self.unreachableConnections = []"
   ]
  },
  {
   "source": [
    "## Thoughts\n",
    "### Argue\n",
    "in expert solution, `markUnreachableConnections` function should need O(a^2) space."
   ],
   "cell_type": "markdown",
   "metadata": {}
  },
  {
   "cell_type": "code",
   "execution_count": null,
   "metadata": {},
   "outputs": [],
   "source": []
  },
  {
   "cell_type": "code",
   "execution_count": null,
   "metadata": {},
   "outputs": [],
   "source": []
  },
  {
   "cell_type": "code",
   "execution_count": null,
   "metadata": {},
   "outputs": [],
   "source": []
  },
  {
   "cell_type": "code",
   "execution_count": null,
   "metadata": {},
   "outputs": [],
   "source": []
  },
  {
   "cell_type": "code",
   "execution_count": null,
   "metadata": {},
   "outputs": [],
   "source": []
  },
  {
   "cell_type": "code",
   "execution_count": null,
   "metadata": {},
   "outputs": [],
   "source": []
  },
  {
   "cell_type": "code",
   "execution_count": null,
   "metadata": {},
   "outputs": [],
   "source": []
  },
  {
   "cell_type": "code",
   "execution_count": null,
   "metadata": {},
   "outputs": [],
   "source": []
  },
  {
   "cell_type": "code",
   "execution_count": null,
   "metadata": {},
   "outputs": [],
   "source": []
  },
  {
   "cell_type": "code",
   "execution_count": null,
   "metadata": {},
   "outputs": [],
   "source": []
  },
  {
   "cell_type": "code",
   "execution_count": null,
   "metadata": {},
   "outputs": [],
   "source": []
  },
  {
   "cell_type": "code",
   "execution_count": null,
   "metadata": {},
   "outputs": [],
   "source": []
  }
 ]
}