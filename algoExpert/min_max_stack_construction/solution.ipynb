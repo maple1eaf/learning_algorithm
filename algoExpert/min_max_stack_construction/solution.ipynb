{
 "metadata": {
  "language_info": {
   "codemirror_mode": {
    "name": "ipython",
    "version": 3
   },
   "file_extension": ".py",
   "mimetype": "text/x-python",
   "name": "python",
   "nbconvert_exporter": "python",
   "pygments_lexer": "ipython3",
   "version": 3
  },
  "orig_nbformat": 2
 },
 "nbformat": 4,
 "nbformat_minor": 2,
 "cells": [
  {
   "source": [
    "# Min Max Stack Consstruction\n",
    "[link](https://www.algoexpert.io/questions/Min%20Max%20Stack%20Construction)"
   ],
   "cell_type": "markdown",
   "metadata": {}
  },
  {
   "cell_type": "code",
   "execution_count": null,
   "metadata": {},
   "outputs": [],
   "source": [
    "# Feel free to add new properties and methods to the class.\n",
    "class MinMaxStack:\n",
    "    def peek(self):\n",
    "        # Write your code here.\n",
    "        pass\n",
    "\n",
    "    def pop(self):\n",
    "        # Write your code here.\n",
    "        pass\n",
    "\n",
    "    def push(self, number):\n",
    "        # Write your code here.\n",
    "        pass\n",
    "\n",
    "    def getMin(self):\n",
    "        # Write your code here.\n",
    "        pass\n",
    "\n",
    "    def getMax(self):\n",
    "        # Write your code here.\n",
    "        pass"
   ]
  },
  {
   "source": [
    "## My Solution"
   ],
   "cell_type": "markdown",
   "metadata": {}
  },
  {
   "cell_type": "code",
   "execution_count": null,
   "metadata": {},
   "outputs": [],
   "source": [
    "# Feel free to add new properties and methods to the class.\n",
    "class MinMaxStack:\n",
    "    def __init__(self):\n",
    "        self.minMaxStack = []\n",
    "    \n",
    "    def peek(self):\n",
    "        # Write your code here.\n",
    "        return self.minMaxStack[-1]['value']\n",
    "\n",
    "    def pop(self):\n",
    "        # Write your code here.\n",
    "        popEle = self.minMaxStack.pop()\n",
    "        return popEle['value']\n",
    "\n",
    "    def push(self, number):\n",
    "        # Write your code here.\n",
    "        if self.minMaxStack == []:\n",
    "            self.minMaxStack.append({'value': number, 'max': number, 'min': number})\n",
    "            return\n",
    "        currentMax = self.minMaxStack[-1]['max']\n",
    "        currentMin = self.minMaxStack[-1]['min']\n",
    "        currentMax = number if number > currentMax else currentMax\n",
    "        currentMin = number if number < currentMin else currentMin\n",
    "        self.minMaxStack.append({'value': number, 'max': currentMax, 'min': currentMin})\n",
    "\n",
    "    def getMin(self):\n",
    "        # Write your code here.\n",
    "        return self.minMaxStack[-1]['min']\n",
    "\n",
    "    def getMax(self):\n",
    "        # Write your code here.\n",
    "        return self.minMaxStack[-1]['max']"
   ]
  },
  {
   "cell_type": "code",
   "execution_count": null,
   "metadata": {},
   "outputs": [],
   "source": []
  },
  {
   "source": [
    "## Expert Solution"
   ],
   "cell_type": "markdown",
   "metadata": {}
  },
  {
   "cell_type": "code",
   "execution_count": null,
   "metadata": {},
   "outputs": [],
   "source": [
    "class MinMaxStack:\n",
    "    def __init__(self):\n",
    "        # minMaxStack is the stack storing min and max values\n",
    "        self.minMaxStack = []\n",
    "        # stack store the pushed values\n",
    "        self.stack = []\n",
    "        \n",
    "    def peek(self):\n",
    "        return self.stack[len(self.stack) - 1]\n",
    "    \n",
    "    # O(1) time | O(1) space\n",
    "    def pop(self):\n",
    "        self.minMaxStack.pop()\n",
    "        return self.stack.pop()\n",
    "    \n",
    "    # O(1) time | O(1) space\n",
    "    def push(self, number):\n",
    "        newMinMax = {\"min\": number, \"max\": number}\n",
    "        if len(self.minMaxStack):\n",
    "            lastMinMax = self.minMaxStack[len(self.minMaxStack) - 1]\n",
    "            newMinMax[\"min\"] = min(lastMinMax[\"min\"], number)\n",
    "            newMinMax[\"max\"] = max(lastMinMax[\"max\"], number)\n",
    "        self.minMaxStack.append(newMinMax)\n",
    "        self.stack.append(number)\n",
    "\n",
    "    # O(1) time |O(1) space\n",
    "    def getMin(self):\n",
    "        return self.minMaxStack[len(self.minMaxStack) - 1][\"min\"]\n",
    "    \n",
    "    # O(1) time | O(1) space\n",
    "    def getMax(self):\n",
    "        return self.minMaxStack[len(self.minMaxStack) - 1][\"max\"]"
   ]
  },
  {
   "cell_type": "code",
   "execution_count": null,
   "metadata": {},
   "outputs": [],
   "source": []
  },
  {
   "source": [
    "## Thoughts"
   ],
   "cell_type": "markdown",
   "metadata": {}
  },
  {
   "cell_type": "code",
   "execution_count": null,
   "metadata": {},
   "outputs": [],
   "source": []
  },
  {
   "cell_type": "code",
   "execution_count": null,
   "metadata": {},
   "outputs": [],
   "source": []
  },
  {
   "cell_type": "code",
   "execution_count": null,
   "metadata": {},
   "outputs": [],
   "source": []
  },
  {
   "cell_type": "code",
   "execution_count": null,
   "metadata": {},
   "outputs": [],
   "source": []
  },
  {
   "cell_type": "code",
   "execution_count": null,
   "metadata": {},
   "outputs": [],
   "source": []
  },
  {
   "cell_type": "code",
   "execution_count": null,
   "metadata": {},
   "outputs": [],
   "source": []
  },
  {
   "cell_type": "code",
   "execution_count": null,
   "metadata": {},
   "outputs": [],
   "source": []
  },
  {
   "cell_type": "code",
   "execution_count": null,
   "metadata": {},
   "outputs": [],
   "source": []
  },
  {
   "cell_type": "code",
   "execution_count": null,
   "metadata": {},
   "outputs": [],
   "source": []
  },
  {
   "cell_type": "code",
   "execution_count": null,
   "metadata": {},
   "outputs": [],
   "source": []
  },
  {
   "cell_type": "code",
   "execution_count": null,
   "metadata": {},
   "outputs": [],
   "source": []
  },
  {
   "cell_type": "code",
   "execution_count": null,
   "metadata": {},
   "outputs": [],
   "source": []
  }
 ]
}