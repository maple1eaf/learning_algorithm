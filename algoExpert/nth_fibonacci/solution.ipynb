{
 "metadata": {
  "language_info": {
   "codemirror_mode": {
    "name": "ipython",
    "version": 3
   },
   "file_extension": ".py",
   "mimetype": "text/x-python",
   "name": "python",
   "nbconvert_exporter": "python",
   "pygments_lexer": "ipython3",
   "version": 3
  },
  "orig_nbformat": 2
 },
 "nbformat": 4,
 "nbformat_minor": 2,
 "cells": [
  {
   "source": [
    "# Nth Fibonacci\n",
    "[link](https://www.algoexpert.io/questions/Nth%20Fibonacci)"
   ],
   "cell_type": "markdown",
   "metadata": {}
  },
  {
   "source": [
    "## My Solution"
   ],
   "cell_type": "markdown",
   "metadata": {}
  },
  {
   "cell_type": "code",
   "execution_count": null,
   "metadata": {},
   "outputs": [],
   "source": [
    "# recursive\n",
    "def getNthFib(n):\n",
    "    # Write your code here.\n",
    "    if n == 1:\n",
    "        return 0\n",
    "    elif n == 2:\n",
    "        return 1\n",
    "    else:\n",
    "        return getNthFib(n-2) + getNthFib(n-1)"
   ]
  },
  {
   "cell_type": "code",
   "execution_count": null,
   "metadata": {},
   "outputs": [],
   "source": [
    "# recursive with memory\n",
    "def getNthFib(n):\n",
    "    # Write your code here.\n",
    "    return getNthFibMemo(n, {1: 0, 2: 1})\n",
    "    \n",
    "def getNthFibMemo(n, memory):\n",
    "    if memory.get(n) is not None:\n",
    "        return memory.get(n)\n",
    "    else:\n",
    "        memory[n] = getNthFibMemo(n-2, memory) + getNthFibMemo(n-1, memory)\n",
    "        return memory[n]"
   ]
  },
  {
   "cell_type": "code",
   "execution_count": null,
   "metadata": {},
   "outputs": [],
   "source": [
    "# itterative\n",
    "def getNthFib(n):\n",
    "    # Write your code here.\n",
    "    if n == 1:\n",
    "        return 0\n",
    "    elif n == 2:\n",
    "        return 1\n",
    "    else:\n",
    "        prev2 = 0\n",
    "        prev1 = 1\n",
    "        for i in range(n-2):\n",
    "            cur = prev2 + prev1\n",
    "            prev2 = prev1\n",
    "            prev1 = cur\n",
    "        return cur"
   ]
  },
  {
   "source": [
    "## Expert Solution"
   ],
   "cell_type": "markdown",
   "metadata": {}
  },
  {
   "cell_type": "code",
   "execution_count": null,
   "metadata": {},
   "outputs": [],
   "source": [
    "def getNthFib(n):\n",
    "    # O(2^n) time | O(n) space\n",
    "    if n == 2:\n",
    "        return 1\n",
    "    elif n == 1:\n",
    "        return 0\n",
    "    else:\n",
    "        return getNthFib(n - 1) + getNthFib(n - 2)"
   ]
  },
  {
   "cell_type": "code",
   "execution_count": null,
   "metadata": {},
   "outputs": [],
   "source": [
    "def getNthFib(n, memoize={1: 0, 2: 1}):\n",
    "    # O(n) time | O(n) space\n",
    "    if n in memoize[n]:\n",
    "        return memoize[n]\n",
    "    else:\n",
    "        memoize[n] = getNthFib(n - 1, memoize) + getNthFib(n - 2, memoize)\n",
    "        return memoize[n]"
   ]
  },
  {
   "cell_type": "code",
   "execution_count": null,
   "metadata": {},
   "outputs": [],
   "source": [
    "def getNthFib(n):\n",
    "    # O(n) time | O(1) space\n",
    "    lastTwo = [0, 1]\n",
    "    counter = 3\n",
    "    while counter <= n:\n",
    "        nextFib = lastTwo[0] + lastTwo[1]\n",
    "        lastTwo[0] = lastTwo[1]\n",
    "        lastTwo[1] = nextFib\n",
    "        counter += 1\n",
    "    return lastTwo[1] if n > 1 else lastTwo[0]"
   ]
  },
  {
   "source": [
    "## Thoughts\n",
    "- For recursive solution:\n",
    "    - O(2^n) time: at each call of function, we call twice again.\n",
    "    - O(n) space: at most n times call of function in the stack. (the most left branch is the longest branch)\n",
    "- about generalized form of the itterative solution of DP:\n",
    "     ```\n",
    "     initialize previous solutions as variables:\n",
    "     in the loop:\n",
    "        calulate new(current) solution from the \"previous\" variables\n",
    "        pass values of variables, preparing for the next round\n",
    "     ```\n",
    "- about writing the code:\n",
    "    - write the main loop first, then consider the edge cases."
   ],
   "cell_type": "markdown",
   "metadata": {}
  },
  {
   "cell_type": "code",
   "execution_count": null,
   "metadata": {},
   "outputs": [],
   "source": []
  },
  {
   "cell_type": "code",
   "execution_count": null,
   "metadata": {},
   "outputs": [],
   "source": []
  },
  {
   "cell_type": "code",
   "execution_count": null,
   "metadata": {},
   "outputs": [],
   "source": []
  },
  {
   "cell_type": "code",
   "execution_count": null,
   "metadata": {},
   "outputs": [],
   "source": []
  },
  {
   "cell_type": "code",
   "execution_count": null,
   "metadata": {},
   "outputs": [],
   "source": []
  },
  {
   "cell_type": "code",
   "execution_count": null,
   "metadata": {},
   "outputs": [],
   "source": []
  },
  {
   "cell_type": "code",
   "execution_count": null,
   "metadata": {},
   "outputs": [],
   "source": []
  },
  {
   "cell_type": "code",
   "execution_count": null,
   "metadata": {},
   "outputs": [],
   "source": []
  },
  {
   "cell_type": "code",
   "execution_count": null,
   "metadata": {},
   "outputs": [],
   "source": []
  },
  {
   "cell_type": "code",
   "execution_count": null,
   "metadata": {},
   "outputs": [],
   "source": []
  },
  {
   "cell_type": "code",
   "execution_count": null,
   "metadata": {},
   "outputs": [],
   "source": []
  },
  {
   "cell_type": "code",
   "execution_count": null,
   "metadata": {},
   "outputs": [],
   "source": []
  }
 ]
}