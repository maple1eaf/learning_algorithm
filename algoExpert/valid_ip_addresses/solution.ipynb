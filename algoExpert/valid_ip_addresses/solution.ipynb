{
 "metadata": {
  "language_info": {
   "codemirror_mode": {
    "name": "ipython",
    "version": 3
   },
   "file_extension": ".py",
   "mimetype": "text/x-python",
   "name": "python",
   "nbconvert_exporter": "python",
   "pygments_lexer": "ipython3",
   "version": 3
  },
  "orig_nbformat": 2
 },
 "nbformat": 4,
 "nbformat_minor": 2,
 "cells": [
  {
   "source": [
    "# Valid IP Addresses\n",
    "[link](https://www.algoexpert.io/questions/Valid%20IP%20Addresses)"
   ],
   "cell_type": "markdown",
   "metadata": {}
  },
  {
   "source": [
    "## My Solution"
   ],
   "cell_type": "markdown",
   "metadata": {}
  },
  {
   "cell_type": "code",
   "execution_count": null,
   "metadata": {},
   "outputs": [],
   "source": [
    "def validIPAddresses(string):\n",
    "    # Write your code here.\n",
    "    res = []\n",
    "    validIPHelper(string, 0, 3, [], res)\n",
    "    return res\n",
    "\n",
    "def validIPHelper(string, startIdx, pointLeft, temp, res):\n",
    "    if startIdx >= len(string):\n",
    "        return\n",
    "    if pointLeft > 0:\n",
    "        for length in [1, 2, 3]:\n",
    "            endIdx = startIdx + length\n",
    "            substring = string[startIdx:endIdx]\n",
    "            if not isSubstringValid(substring):\n",
    "                continue\n",
    "            newTemp = temp[:]\n",
    "            newTemp.append(substring)\n",
    "            validIPHelper(string, endIdx, pointLeft - 1, newTemp, res)\n",
    "    else:\n",
    "        substring = string[startIdx:]\n",
    "        if not isSubstringValid(substring):\n",
    "            return\n",
    "        temp.append(substring)\n",
    "        res.append('.'.join(temp))\n",
    "    \n",
    "def isSubstringValid(substring):\n",
    "    if substring != '0' and substring[0] == '0':\n",
    "        return False\n",
    "    if int(substring) > 255:\n",
    "        return False\n",
    "    return True"
   ]
  },
  {
   "cell_type": "code",
   "execution_count": null,
   "metadata": {},
   "outputs": [],
   "source": []
  },
  {
   "source": [
    "## Expert Solution"
   ],
   "cell_type": "markdown",
   "metadata": {}
  },
  {
   "cell_type": "code",
   "execution_count": null,
   "metadata": {},
   "outputs": [],
   "source": [
    "# O(1) time | O(1) space\n",
    "def validIPAddresses(string):\n",
    "    ipAddressesFound = []\n",
    "\n",
    "    for i in range(1, min(len(string), 4)):\n",
    "        currentIPAddressParts = [\"\", \"\", \"\", \"\"]\n",
    "\n",
    "        currentIPAddressParts[0] = string[:i]\n",
    "        if not isValidPart(currentIPAddressParts[0]):\n",
    "            continue\n",
    "\n",
    "        for j in range(i + 1, i + min(len(string) - i, 4)):\n",
    "            currentIPAddressParts[1] = string[i:j]\n",
    "            if not isValidPart(currentIPAddressParts[1]):\n",
    "                continue\n",
    "\n",
    "            for k in range(j + 1, j + min(len(string) - j, 4)):\n",
    "                currentIPAddressParts[2] = string[j:k]\n",
    "                currentIPAddressParts[3] = string[k:]\n",
    "\n",
    "                if isValidPart(currentIPAddressParts[2]) and isValidPart(currentIPAddressParts[3]):\n",
    "                    ipAddressesFound.append(\".\".join(currentIPAddressParts))\n",
    "\n",
    "    return ipAddressesFound\n",
    "\n",
    "\n",
    "def isValidPart(string):\n",
    "    stringAsInt = int(string)\n",
    "    if stringAsInt > 255:\n",
    "        return False\n",
    "    \n",
    "    return len(string) == len(str(stringAsInt)) # check for leading 0"
   ]
  },
  {
   "cell_type": "code",
   "execution_count": null,
   "metadata": {},
   "outputs": [],
   "source": []
  },
  {
   "source": [
    "## Thoughts\n",
    "notice that the time and space complexity are both O(1).\n",
    "\n",
    "this is because the input string does have an upper bound of 12 digits which is a constant bound. this implies that the result space does have a constant upper bound, so the space complexity is O(1). besides, although there includes multiple for-loop in the expert's solution, they are finite, so the time complexity is also O(1)."
   ],
   "cell_type": "markdown",
   "metadata": {}
  },
  {
   "cell_type": "code",
   "execution_count": null,
   "metadata": {},
   "outputs": [],
   "source": []
  },
  {
   "cell_type": "code",
   "execution_count": null,
   "metadata": {},
   "outputs": [],
   "source": []
  },
  {
   "cell_type": "code",
   "execution_count": null,
   "metadata": {},
   "outputs": [],
   "source": []
  },
  {
   "cell_type": "code",
   "execution_count": null,
   "metadata": {},
   "outputs": [],
   "source": []
  },
  {
   "cell_type": "code",
   "execution_count": null,
   "metadata": {},
   "outputs": [],
   "source": []
  },
  {
   "cell_type": "code",
   "execution_count": null,
   "metadata": {},
   "outputs": [],
   "source": []
  },
  {
   "cell_type": "code",
   "execution_count": null,
   "metadata": {},
   "outputs": [],
   "source": []
  },
  {
   "cell_type": "code",
   "execution_count": null,
   "metadata": {},
   "outputs": [],
   "source": []
  },
  {
   "cell_type": "code",
   "execution_count": null,
   "metadata": {},
   "outputs": [],
   "source": []
  },
  {
   "cell_type": "code",
   "execution_count": null,
   "metadata": {},
   "outputs": [],
   "source": []
  },
  {
   "cell_type": "code",
   "execution_count": null,
   "metadata": {},
   "outputs": [],
   "source": []
  },
  {
   "cell_type": "code",
   "execution_count": null,
   "metadata": {},
   "outputs": [],
   "source": []
  }
 ]
}