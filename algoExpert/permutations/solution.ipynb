{
 "metadata": {
  "language_info": {
   "codemirror_mode": {
    "name": "ipython",
    "version": 3
   },
   "file_extension": ".py",
   "mimetype": "text/x-python",
   "name": "python",
   "nbconvert_exporter": "python",
   "pygments_lexer": "ipython3",
   "version": 3
  },
  "orig_nbformat": 2
 },
 "nbformat": 4,
 "nbformat_minor": 2,
 "cells": [
  {
   "source": [
    "# Permutations\n",
    "[link](https://www.algoexpert.io/questions/Permutations)"
   ],
   "cell_type": "markdown",
   "metadata": {}
  },
  {
   "source": [
    "## My Solution"
   ],
   "cell_type": "markdown",
   "metadata": {}
  },
  {
   "cell_type": "code",
   "execution_count": null,
   "metadata": {},
   "outputs": [],
   "source": [
    "def getPermutations(array):\n",
    "    # Write your code here.\n",
    "    if array == []:\n",
    "        return []\n",
    "    res = [[array[0]]]\n",
    "    for x in array[1:]:\n",
    "        res = getPermutationsHelper(res, x)\n",
    "    return res\n",
    "\n",
    "# def getPermutationsHelper(array, x):\n",
    "# \treturn [ar[:i] + [x] + ar[i:] for ar in array for i in range(len(ar) + 1)]\n",
    "\n",
    "def getPermutationsHelper(array, x):\n",
    "    res = []\n",
    "    for ar in array:\n",
    "        for i in range(len(ar) + 1):\n",
    "            res.append(ar[:i] + [x] + ar[i:])\n",
    "    return res"
   ]
  },
  {
   "cell_type": "code",
   "execution_count": null,
   "metadata": {},
   "outputs": [],
   "source": [
    "def getPermutations(array):\n",
    "    # Write your code here.\n",
    "    res = []\n",
    "    getPermutationsHelper(array, [], res)\n",
    "    return res\n",
    "\n",
    "def getPermutationsHelper(array, permutation, res):\n",
    "    if array == [] and permutation != []:\n",
    "        res.append(permutation)\n",
    "    else:\n",
    "        for i in range(len(array)):\n",
    "            newPermutation = permutation + [array[i]]\n",
    "            newArray = array[:i] + array[i+1:]\n",
    "            getPermutationsHelper(newArray, newPermutation, res)"
   ]
  },
  {
   "cell_type": "code",
   "execution_count": null,
   "metadata": {},
   "outputs": [],
   "source": [
    "def getPermutations(array):\n",
    "    # Write your code here.\n",
    "    res = []\n",
    "    getPermutationsHelper(array, 0, res)\n",
    "    return res\n",
    "\n",
    "def getPermutationsHelper(array, i, res):\n",
    "    if i == len(array) - 1:\n",
    "        res.append(array[:])\n",
    "    else:\n",
    "        for j in range(i, len(array)):\n",
    "            array[i], array[j] = array[j], array[i]\n",
    "            getPermutationsHelper(array, i + 1, res)\n",
    "            array[i], array[j] = array[j], array[i]"
   ]
  },
  {
   "source": [
    "## Expert Solution"
   ],
   "cell_type": "markdown",
   "metadata": {}
  },
  {
   "cell_type": "code",
   "execution_count": null,
   "metadata": {},
   "outputs": [],
   "source": [
    "# Upper Bound: O(n^2*n!) time | O(n*n!) space\n",
    "# Roughly: O(n*n!) time | O(n*n!) space\n",
    "def getPermutations(array):\n",
    "    permutations = []\n",
    "    permutationsHelper(array, [], permutations)\n",
    "    return permutations\n",
    "\n",
    "def permutationsHelper(array, currentPermutation, permutations):\n",
    "    if not len(array) and len(currentPermutation):\n",
    "        permutations.append(currentPermutation)\n",
    "    else:\n",
    "        for i in range(len(array)):\n",
    "            newArray = array[:i] + array[i + 1:]\n",
    "            newPermutation = currentPermutation + [array[i]]\n",
    "            permutationsHelper(newArray, newPermutation, permutations)"
   ]
  },
  {
   "cell_type": "code",
   "execution_count": null,
   "metadata": {},
   "outputs": [],
   "source": [
    "# O(n*n!) time | O(n*n!) space\n",
    "def getPermutations(array):\n",
    "    permutations = []\n",
    "    permutationsHelper(0, array, permutations)\n",
    "    return permutations\n",
    "\n",
    "def permutationsHelper(i, array, permutations):\n",
    "    if i == len(array) - 1:\n",
    "        permutations.append(array[:])\n",
    "    else:\n",
    "        for j in range(i, len(array)):\n",
    "            swap(array, i, j)\n",
    "            permutationsHelper(i + 1, array, permutations)\n",
    "            swap(array, i, j)\n",
    "\n",
    "def swap(array, i, j):\n",
    "    array[i], array[j] = array[j], array[i]"
   ]
  },
  {
   "source": [
    "## Thoughts\n",
    "\n",
    "### expert solution 1 complexity analysis\n",
    "#### time complexity\n",
    "![](./tc_expert1.JPG)\n",
    "#### space complexity\n",
    "- newArray & newPermutation both need O(n) space\n",
    "- each path need O(n) space for call the Helper()\n",
    "- mainly spend on storing the permutation results.\n",
    "\n",
    "### expert solution 2 complexity analysis\n",
    "#### time complexity\n",
    "![](./tc_expert2.JPG)\n",
    "#### space complexity\n",
    "- swap() need O(1) space\n",
    "- each path need O(n) space for call the Helper()\n",
    "- mainly spend on storing the permutation results.\n",
    "\n",
    "### help to understand the swap method (expert solution 2)\n",
    "- in each call of Helper(), i and j are two pointers keep looking at the two positions for swaping. they do not change.\n",
    "- why the order can go back to the state before swap? we can see this by looking reverse intuitively: in a path's end, the values in the position i and j will be swaped first, then do nothing to the array (only append the array to the result), then swap back. so after these 3 steps, the array go back to the state before swaping at any path's end call (nth call) of Helper(), which means nth call does nothing to the array's order. intuitively, the (n-1)th call first swap, then does nothing (because nth call does nothing), and then swap back. so (n-1)th call also does nothing to the order. so we know that after every call of Helper(), the order will not change.\n",
    "- why does this method work?"
   ],
   "cell_type": "markdown",
   "metadata": {}
  },
  {
   "cell_type": "code",
   "execution_count": null,
   "metadata": {},
   "outputs": [],
   "source": []
  },
  {
   "cell_type": "code",
   "execution_count": null,
   "metadata": {},
   "outputs": [],
   "source": []
  },
  {
   "cell_type": "code",
   "execution_count": null,
   "metadata": {},
   "outputs": [],
   "source": []
  },
  {
   "cell_type": "code",
   "execution_count": null,
   "metadata": {},
   "outputs": [],
   "source": []
  },
  {
   "cell_type": "code",
   "execution_count": null,
   "metadata": {},
   "outputs": [],
   "source": []
  },
  {
   "cell_type": "code",
   "execution_count": null,
   "metadata": {},
   "outputs": [],
   "source": []
  },
  {
   "cell_type": "code",
   "execution_count": null,
   "metadata": {},
   "outputs": [],
   "source": []
  },
  {
   "cell_type": "code",
   "execution_count": null,
   "metadata": {},
   "outputs": [],
   "source": []
  },
  {
   "cell_type": "code",
   "execution_count": null,
   "metadata": {},
   "outputs": [],
   "source": []
  },
  {
   "cell_type": "code",
   "execution_count": null,
   "metadata": {},
   "outputs": [],
   "source": []
  },
  {
   "cell_type": "code",
   "execution_count": null,
   "metadata": {},
   "outputs": [],
   "source": []
  },
  {
   "cell_type": "code",
   "execution_count": null,
   "metadata": {},
   "outputs": [],
   "source": []
  }
 ]
}