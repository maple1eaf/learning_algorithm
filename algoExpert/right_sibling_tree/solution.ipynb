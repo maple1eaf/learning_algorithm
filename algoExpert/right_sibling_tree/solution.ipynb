{
 "metadata": {
  "language_info": {
   "codemirror_mode": {
    "name": "ipython",
    "version": 3
   },
   "file_extension": ".py",
   "mimetype": "text/x-python",
   "name": "python",
   "nbconvert_exporter": "python",
   "pygments_lexer": "ipython3",
   "version": "3.9.0-final"
  },
  "orig_nbformat": 2,
  "kernelspec": {
   "name": "python3",
   "display_name": "Python 3.9.0 64-bit",
   "metadata": {
    "interpreter": {
     "hash": "63fd5069d213b44bf678585dea6b12cceca9941eaf7f819626cde1f2670de90d"
    }
   }
  }
 },
 "nbformat": 4,
 "nbformat_minor": 2,
 "cells": [
  {
   "source": [
    "# Right Sibling Tree\n",
    "[link](https://www.algoexpert.io/questions/Right%20Sibling%20Tree)"
   ],
   "cell_type": "markdown",
   "metadata": {}
  },
  {
   "source": [
    "## My Solution"
   ],
   "cell_type": "markdown",
   "metadata": {}
  },
  {
   "cell_type": "code",
   "execution_count": null,
   "metadata": {},
   "outputs": [],
   "source": [
    "# This is the class of the input root. Do not edit it.\n",
    "class BinaryTree:\n",
    "    def __init__(self, value, left=None, right=None):\n",
    "        self.value = value\n",
    "        self.left = left\n",
    "        self.right = right\n",
    "\n",
    "# O(n) time | O(d) space\n",
    "def rightSiblingTree(root):\n",
    "    # Write your code here.\n",
    "\tcurRightMost = {}\n",
    "    traverse(root, None, True)\n",
    "\treturn root\n",
    "\n",
    "\n",
    "def traverse(node, parent, isLeftChild):\n",
    "\tif node is None:\n",
    "\t\treturn\n",
    "\tleft, right = node.left, node.right\n",
    "\ttraverse(left, node, True)\n",
    "\tif parent is None:\n",
    "\t\tnode.right = None\n",
    "\telif isLeftChild:\n",
    "\t\tnode.right = parent.right\n",
    "\telse:\n",
    "\t\tif parent.right is None:\n",
    "\t\t\tnode.right = None\n",
    "\t\telse:\n",
    "\t\t\tnode.right = parent.right.left\n",
    "\ttraverse(right, node, False)"
   ]
  },
  {
   "source": [
    "## Expert Solution"
   ],
   "cell_type": "markdown",
   "metadata": {}
  },
  {
   "cell_type": "code",
   "execution_count": null,
   "metadata": {},
   "outputs": [],
   "source": [
    "class BinaryTree:\n",
    "    def __init__(self, value, left=None, right=None):\n",
    "        self.value = value\n",
    "        self.left = left\n",
    "        self.right = right\n",
    "\n",
    "\n",
    "# O(n) time | O(d) space - where n is the number of nodes in the Binary Tree and d is the depth (height) of the Binary Tree\n",
    "def rightSiblingTree(root):\n",
    "    mutate(root, None, None)\n",
    "\treturn root\n",
    "\n",
    "def mutate(node, parent, isLeftChild):\n",
    "\tif node is None:\n",
    "\t\treturn\n",
    "\tleft, right = node.left, node.right\n",
    "\tmutate(left, node, True)\n",
    "\tif parent is None:\n",
    "\t\tnode.right = None\n",
    "\telif isLeftChild:\n",
    "\t\tnode.right = parent.right\n",
    "\telse:\n",
    "\t\tif parent.right is None:\n",
    "\t\t\tnode.right = None\n",
    "\t\telse:\n",
    "\t\t\tnode.right = parent.right.left\n",
    "\tmutate(right, node, False)"
   ]
  },
  {
   "source": [
    "## Thoughts\n",
    "- in-place order: dig deeply to the left most leaf first. then do some process. then go to another new tree (the right child tree)."
   ],
   "cell_type": "markdown",
   "metadata": {}
  },
  {
   "source": [
    "## Wrong Answer"
   ],
   "cell_type": "markdown",
   "metadata": {}
  },
  {
   "cell_type": "code",
   "execution_count": 66,
   "metadata": {},
   "outputs": [],
   "source": [
    "# This is the class of the input root. Do not edit it.\n",
    "class BinaryTree:\n",
    "    def __init__(self, value, left=None, right=None):\n",
    "        self.value = value\n",
    "        self.left = left\n",
    "        self.right = right\n",
    "\n",
    "    def __repr__(self):\n",
    "        return str(self.value)\n",
    "\n",
    "\n",
    "\n",
    "def rightSiblingTree(root):\n",
    "    # Write your code here.\n",
    "    curRightMost = {}\n",
    "    traverse(root, curRightMost, 0)\n",
    "    return root\n",
    "\n",
    "\n",
    "def traverse(node, curRightMost, level):\n",
    "    if node is None:\n",
    "        if level in curRightMost:\n",
    "            curRightMost[level] = None\n",
    "        return\n",
    "\n",
    "    if level in curRightMost and curRightMost[level] is not None:\n",
    "        curRightMost[level].right = node\n",
    "    curRightMost[level] = node\n",
    "    \n",
    "    traverse(node.left, curRightMost, level + 1)\n",
    "    traverse(node.right, curRightMost, level + 1)\n",
    "    node.right = None"
   ]
  },
  {
   "cell_type": "code",
   "execution_count": 67,
   "metadata": {},
   "outputs": [
    {
     "output_type": "display_data",
     "data": {
      "text/plain": "9"
     },
     "metadata": {}
    }
   ],
   "source": [
    "# test wrong answer\n",
    "n1 = BinaryTree(1)\n",
    "n2 = BinaryTree(2)\n",
    "n3 = BinaryTree(3)\n",
    "n4 = BinaryTree(4)\n",
    "n5 = BinaryTree(5)\n",
    "n6 = BinaryTree(6)\n",
    "n7 = BinaryTree(7)\n",
    "n9 = BinaryTree(9)\n",
    "n1.left = n2\n",
    "n1.right = n3\n",
    "n2.left = n4\n",
    "n3.right = n5\n",
    "n4.right = n6\n",
    "n5.left = n9\n",
    "n5.right = n7\n",
    "\n",
    "rightSiblingTree(n1)\n",
    "\n",
    "display(n6.right) # this should be none"
   ]
  },
  {
   "cell_type": "code",
   "execution_count": null,
   "metadata": {},
   "outputs": [],
   "source": []
  },
  {
   "cell_type": "code",
   "execution_count": null,
   "metadata": {},
   "outputs": [],
   "source": []
  },
  {
   "cell_type": "code",
   "execution_count": null,
   "metadata": {},
   "outputs": [],
   "source": []
  },
  {
   "cell_type": "code",
   "execution_count": null,
   "metadata": {},
   "outputs": [],
   "source": []
  },
  {
   "cell_type": "code",
   "execution_count": null,
   "metadata": {},
   "outputs": [],
   "source": []
  },
  {
   "cell_type": "code",
   "execution_count": null,
   "metadata": {},
   "outputs": [],
   "source": []
  },
  {
   "cell_type": "code",
   "execution_count": null,
   "metadata": {},
   "outputs": [],
   "source": []
  },
  {
   "cell_type": "code",
   "execution_count": null,
   "metadata": {},
   "outputs": [],
   "source": []
  },
  {
   "cell_type": "code",
   "execution_count": null,
   "metadata": {},
   "outputs": [],
   "source": []
  },
  {
   "cell_type": "code",
   "execution_count": null,
   "metadata": {},
   "outputs": [],
   "source": []
  },
  {
   "cell_type": "code",
   "execution_count": null,
   "metadata": {},
   "outputs": [],
   "source": []
  }
 ]
}