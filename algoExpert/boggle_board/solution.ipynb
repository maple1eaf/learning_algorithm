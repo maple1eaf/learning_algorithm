{
 "metadata": {
  "language_info": {
   "codemirror_mode": {
    "name": "ipython",
    "version": 3
   },
   "file_extension": ".py",
   "mimetype": "text/x-python",
   "name": "python",
   "nbconvert_exporter": "python",
   "pygments_lexer": "ipython3",
   "version": 3
  },
  "orig_nbformat": 2
 },
 "nbformat": 4,
 "nbformat_minor": 2,
 "cells": [
  {
   "source": [
    "# Boggle Board\n",
    "[link](https://www.algoexpert.io/questions/Boggle%20Board)"
   ],
   "cell_type": "markdown",
   "metadata": {}
  },
  {
   "source": [
    "## My Solution"
   ],
   "cell_type": "markdown",
   "metadata": {}
  },
  {
   "cell_type": "code",
   "execution_count": null,
   "metadata": {},
   "outputs": [],
   "source": [
    "def boggleBoard(board, words):\n",
    "    # Write your code here.\n",
    "    t = Trie()\n",
    "    t.addWords(words)\n",
    "    \n",
    "    wordsSet = set()\n",
    "    for i in range(len(board)):\n",
    "        for j in range(len(board[i])):\n",
    "            coor = (i, j)\n",
    "            traverseCheck(board, coor, t, set(), wordsSet)\n",
    "    return list(wordsSet)\n",
    "            \n",
    "def traverseCheck(board, coor, trie, visited, wordsSet):\n",
    "    i, j = coor\n",
    "    if trie.isWordEnd == True:\n",
    "        wordsSet.add(trie.fullword)\n",
    "    if trie.chars == {}:\n",
    "        return True\n",
    "    if i < 0 or i >= len(board):\n",
    "        return False\n",
    "    if j < 0 or j >= len(board[i]):\n",
    "        return False\n",
    "    if (i, j) in visited:\n",
    "        return False\n",
    "    c = board[i][j]\n",
    "    if c not in trie.chars:\n",
    "        return False\n",
    "    visited.add((i, j))\n",
    "    nextTrie = trie.chars[c]\n",
    "    nextCoors = [(i - 1, j), (i + 1, j), (i, j - 1), (i, j + 1), \\\n",
    "                (i - 1, j - 1), (i + 1, j + 1), (i - 1, j + 1), (i + 1, j - 1)]\n",
    "    for coor in nextCoors:\n",
    "        traverseCheck(board, coor, nextTrie, visited, wordsSet)\n",
    "    visited.remove((i, j))\n",
    "    \n",
    "class Trie:\n",
    "    def __init__(self, isWordEnd=False):\n",
    "        self.chars = {}\n",
    "        self.isWordEnd = isWordEnd\n",
    "        self.fullword = \"\"\n",
    "        \n",
    "    def addWord(self, word):\n",
    "        currentTrie = self\n",
    "        for c in word:\n",
    "            if c not in currentTrie.chars:\n",
    "                currentTrie.chars[c] = Trie()\n",
    "            currentTrie = currentTrie.chars[c]\n",
    "        currentTrie.isWordEnd = True\n",
    "        currentTrie.fullword = word\n",
    "        \n",
    "    def addWords(self, words):\n",
    "        for word in words:\n",
    "            self.addWord(word)"
   ]
  },
  {
   "cell_type": "code",
   "execution_count": null,
   "metadata": {},
   "outputs": [],
   "source": []
  },
  {
   "source": [
    "## Expert Solution"
   ],
   "cell_type": "markdown",
   "metadata": {}
  },
  {
   "cell_type": "code",
   "execution_count": null,
   "metadata": {},
   "outputs": [],
   "source": [
    "# O(nm*8^s + ws) time | O(nm + ws) space\n",
    "def boggleBoard(board, words):\n",
    "    trie = Trie()\n",
    "    for word in words:\n",
    "        trie.add(word)\n",
    "    finalWords = {}\n",
    "    visited = [[False for letter in row] for row in board]\n",
    "    for i in range(len(board)):\n",
    "        for j in range(len(board[i])):\n",
    "            explore(i, j, board, trie.root, visited, finalWords)\n",
    "    return list(finalWords.keys())\n",
    "\n",
    "def explore(i, j, board, trieNode, visited, finalWords):\n",
    "    if visited[i][j]:\n",
    "        return\n",
    "    letter = board[i][j]\n",
    "    if letter not in trieNode:\n",
    "        return\n",
    "    visited[i][j] = True\n",
    "    trieNode = trieNode[letter]\n",
    "    if \"*\" in trieNode:\n",
    "        finalWords[trieNode[\"*\"]] = True\n",
    "    neighbors = getNeighbors(i, j, board)\n",
    "    for neighbor in neighbors:\n",
    "        explore(neighbor[0], neighbor[1], board, trieNode, visited, finalWords)\n",
    "    visited[i][j] = False\n",
    "    \n",
    "def getNeighbors(i, j, board):\n",
    "    neighbors = []\n",
    "    if i > 0 and j > 0:\n",
    "        neighbors.append([i - 1, j - 1])\n",
    "    if i > 0 and j < len(board[0]) - 1:\n",
    "        neighbors.append([i - 1, j + 1])\n",
    "    if i < len(board) - 1 and j < len(board[0]) - 1:\n",
    "        neighbors.append([i + 1, j + 1])\n",
    "    if i < len(board) - 1 and j > 0:\n",
    "        neighbors.append([i + 1, j - 1])\n",
    "    if i > 0:\n",
    "        neighbors.append([i - 1, j])\n",
    "    if i < len(board) - 1:\n",
    "        neighbors.append([i + 1, j])\n",
    "    if j > 0:\n",
    "        neighbors.append([i, j - 1])\n",
    "    if j < len(board[0]) - 1:\n",
    "        neighbors.append([i, j + 1])\n",
    "    return neighbors\n",
    "\n",
    "class Trie:\n",
    "    def __init__(self):\n",
    "        self.root ={}\n",
    "        self.endSymbol = \"*\"\n",
    "        \n",
    "    def add(self, word):\n",
    "        current = self.root\n",
    "        for letter in word:\n",
    "            if letter not in current:\n",
    "                current[letter] = {}\n",
    "            current = current[letter]\n",
    "        current[self.endSymbol] = word"
   ]
  },
  {
   "cell_type": "code",
   "execution_count": null,
   "metadata": {},
   "outputs": [],
   "source": []
  },
  {
   "source": [
    "## Thoughts\n",
    "- w - number of words\n",
    "- s - the length of the longest word\n",
    "- n, m -  the number of rows and the number of columns\n",
    "\n",
    "### my solution space complexity\n",
    "- O(ws) space for trie construction\n",
    "- O(s) space for `visited` set, O(s) for calling the `traverseCheck` function, because we at most call the `traverseCheck` function s times in the stack.\n",
    "- O(ws) space for storing the final result words\n",
    "- total space complexity will be O(ws) + O(s) + O(s) + O(ws) = O(ws)\n",
    "- expert solution space complexity is O(ws + nm) because it needs an auxiliary matrix to store the status of the visited charactors.\n",
    "\n",
    "### time complexity\n",
    "- O(ws) time for trie construction\n",
    "- O(nm) time for two for-loop iteration (in expert solution, O(nm) for auxiliary visited matrix construction)\n",
    "- in each iteration, O(8^s) time for `traverseCheck` because in each call of `traverseCheck` function, we check at most 8 directions, and the continuous calling of `traverseCheck` function will be at most s times.\n",
    "- so totally, O(ws + nm * 8^s)"
   ],
   "cell_type": "markdown",
   "metadata": {}
  },
  {
   "cell_type": "code",
   "execution_count": null,
   "metadata": {},
   "outputs": [],
   "source": []
  },
  {
   "cell_type": "code",
   "execution_count": null,
   "metadata": {},
   "outputs": [],
   "source": []
  },
  {
   "cell_type": "code",
   "execution_count": null,
   "metadata": {},
   "outputs": [],
   "source": []
  },
  {
   "cell_type": "code",
   "execution_count": null,
   "metadata": {},
   "outputs": [],
   "source": []
  },
  {
   "cell_type": "code",
   "execution_count": null,
   "metadata": {},
   "outputs": [],
   "source": []
  },
  {
   "cell_type": "code",
   "execution_count": null,
   "metadata": {},
   "outputs": [],
   "source": []
  },
  {
   "cell_type": "code",
   "execution_count": null,
   "metadata": {},
   "outputs": [],
   "source": []
  },
  {
   "cell_type": "code",
   "execution_count": null,
   "metadata": {},
   "outputs": [],
   "source": []
  },
  {
   "cell_type": "code",
   "execution_count": null,
   "metadata": {},
   "outputs": [],
   "source": []
  },
  {
   "cell_type": "code",
   "execution_count": null,
   "metadata": {},
   "outputs": [],
   "source": []
  },
  {
   "cell_type": "code",
   "execution_count": null,
   "metadata": {},
   "outputs": [],
   "source": []
  },
  {
   "cell_type": "code",
   "execution_count": null,
   "metadata": {},
   "outputs": [],
   "source": []
  }
 ]
}