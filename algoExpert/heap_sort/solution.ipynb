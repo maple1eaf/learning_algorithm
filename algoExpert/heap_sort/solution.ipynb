{
 "metadata": {
  "language_info": {
   "codemirror_mode": {
    "name": "ipython",
    "version": 3
   },
   "file_extension": ".py",
   "mimetype": "text/x-python",
   "name": "python",
   "nbconvert_exporter": "python",
   "pygments_lexer": "ipython3",
   "version": 3
  },
  "orig_nbformat": 2
 },
 "nbformat": 4,
 "nbformat_minor": 2,
 "cells": [
  {
   "source": [
    "# Heap Sort\n",
    "[link](https://www.algoexpert.io/questions/Heap%20Sort)"
   ],
   "cell_type": "markdown",
   "metadata": {}
  },
  {
   "source": [
    "## My Solution"
   ],
   "cell_type": "markdown",
   "metadata": {}
  },
  {
   "cell_type": "code",
   "execution_count": null,
   "metadata": {},
   "outputs": [],
   "source": [
    "def heapSort(array):\n",
    "    # Write your code here.\n",
    "    buildHeap(array)\n",
    "    for lastIdx in reversed(range(1, len(array))):\n",
    "        swap(array, 0, lastIdx)\n",
    "        heapfyDown(array, 0, lastIdx)\n",
    "    return array\n",
    "\n",
    "\n",
    "def heapfyDown(heap, startIdx, length):\n",
    "    idx = startIdx\n",
    "    while idx < length:\n",
    "        childOne = 2 * idx + 1\n",
    "        childTwo = 2 * idx + 2\n",
    "        if length <= childOne:\n",
    "            break\n",
    "        elif length - 1 == childOne:\n",
    "            if heap[idx] < heap[childOne]:\n",
    "                swap(heap, idx, childOne)\n",
    "                idx = childOne\n",
    "            else:\n",
    "                break\n",
    "        elif childTwo < length:\n",
    "            bigger = childOne if heap[childOne] >= heap[childTwo] else childTwo\n",
    "            if heap[idx] < heap[bigger]:\n",
    "                swap(heap, idx, bigger)\n",
    "                idx = bigger\n",
    "            else:\n",
    "                break\n",
    "\n",
    "def buildHeap(array):\n",
    "    lastIdx = len(array) - 1\n",
    "    lastParentIdx = (lastIdx - 1) // 2\n",
    "    for idx in reversed(range(lastParentIdx + 1)):\n",
    "        heapfyDown(array, idx, len(array))\n",
    "\n",
    "def swap(array, i, j):\n",
    "    array[i], array[j] = array[j], array[i]"
   ]
  },
  {
   "source": [
    "## Expert Solution"
   ],
   "cell_type": "markdown",
   "metadata": {}
  },
  {
   "cell_type": "code",
   "execution_count": null,
   "metadata": {},
   "outputs": [],
   "source": [
    "# Best: O(nlog(n)) time | O(1) space\n",
    "# Average: O(nlog(n)) time | O(1) space\n",
    "# Worst: O(nlog(n)) time | O(1) space\n",
    "def heapSort(array):\n",
    "    buildMaxHeap(array)\n",
    "    for endIdx in reversed(range(1, len(array))):\n",
    "        swap(0, endIdx, array)\n",
    "        siftDown(0, endIdx - 1, array)\n",
    "    return array\n",
    "\n",
    "\n",
    "def buildMaxHeap(array):\n",
    "    firstParentIdx = (len(array) - 2) // 2\n",
    "    for currentIdx in reversed(range(firstParentIdx + 1)):\n",
    "        siftDown(currentIdx, len(array) - 1, array)\n",
    "        \n",
    "        \n",
    "def siftDown(currentIdx, endIdx, heap):\n",
    "    childOneIdx = currentIdx * 2 + 1\n",
    "    while childOneIdx <= endIdx:\n",
    "        childTwoIdx = currentIdx * 2 + 2 if currentIdx * 2 + 2 <= endIdx else -1\n",
    "        if childTwoIdx > - 1 and heap[childTwoIdx] > heap[childOneIdx]:\n",
    "            idxToSwap = childTwoIdx\n",
    "        else:\n",
    "            idxToSwap = childOneIdx\n",
    "        if heap[idxToSwap] > heap[currentIdx]:\n",
    "            swap(currentIdx, idxToSwap, heap)\n",
    "            currentIdx = idxToSwap\n",
    "            childOneIdx = currentIdx * 2 + 1\n",
    "        else:\n",
    "            return\n",
    "\n",
    "def swap(i, j, array):\n",
    "    array[i], array[j] = array[j], array[i]"
   ]
  },
  {
   "source": [
    "## Thoughts"
   ],
   "cell_type": "markdown",
   "metadata": {}
  },
  {
   "cell_type": "code",
   "execution_count": null,
   "metadata": {},
   "outputs": [],
   "source": []
  },
  {
   "cell_type": "code",
   "execution_count": null,
   "metadata": {},
   "outputs": [],
   "source": []
  },
  {
   "cell_type": "code",
   "execution_count": null,
   "metadata": {},
   "outputs": [],
   "source": []
  },
  {
   "cell_type": "code",
   "execution_count": null,
   "metadata": {},
   "outputs": [],
   "source": []
  },
  {
   "cell_type": "code",
   "execution_count": null,
   "metadata": {},
   "outputs": [],
   "source": []
  },
  {
   "cell_type": "code",
   "execution_count": null,
   "metadata": {},
   "outputs": [],
   "source": []
  },
  {
   "cell_type": "code",
   "execution_count": null,
   "metadata": {},
   "outputs": [],
   "source": []
  },
  {
   "cell_type": "code",
   "execution_count": null,
   "metadata": {},
   "outputs": [],
   "source": []
  },
  {
   "cell_type": "code",
   "execution_count": null,
   "metadata": {},
   "outputs": [],
   "source": []
  },
  {
   "cell_type": "code",
   "execution_count": null,
   "metadata": {},
   "outputs": [],
   "source": []
  },
  {
   "cell_type": "code",
   "execution_count": null,
   "metadata": {},
   "outputs": [],
   "source": []
  },
  {
   "cell_type": "code",
   "execution_count": null,
   "metadata": {},
   "outputs": [],
   "source": []
  }
 ]
}