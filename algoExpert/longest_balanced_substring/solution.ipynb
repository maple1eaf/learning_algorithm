{
 "metadata": {
  "language_info": {
   "codemirror_mode": {
    "name": "ipython",
    "version": 3
   },
   "file_extension": ".py",
   "mimetype": "text/x-python",
   "name": "python",
   "nbconvert_exporter": "python",
   "pygments_lexer": "ipython3",
   "version": 3
  },
  "orig_nbformat": 2
 },
 "nbformat": 4,
 "nbformat_minor": 2,
 "cells": [
  {
   "source": [
    "# Longest Balanced Substring\n",
    "[link](https://www.algoexpert.io/questions/Longest%20Balanced%20Substring)"
   ],
   "cell_type": "markdown",
   "metadata": {}
  },
  {
   "source": [
    "## My Solution"
   ],
   "cell_type": "markdown",
   "metadata": {}
  },
  {
   "cell_type": "code",
   "execution_count": null,
   "metadata": {},
   "outputs": [],
   "source": [
    "# O(n) time | O(n) space\n",
    "def longestBalancedSubstring(string):\n",
    "    # Write your code here.\n",
    "    opt = [0 for _ in range(len(string) + 1)]\n",
    "    maxLength = 0\n",
    "    for i, c in enumerate(string):\n",
    "        optIdx = i + 1\n",
    "        if c == \"(\":\n",
    "            opt[optIdx] = 0\n",
    "        else:\n",
    "            j = i - opt[optIdx - 1] - 1\n",
    "            if j < 0:\n",
    "                opt[optIdx] = 0\n",
    "                continue\n",
    "            if string[j] == \"(\":\n",
    "                opt[optIdx] = opt[optIdx - 1] + 2 + opt[j]\n",
    "                maxLength = max(maxLength, opt[optIdx])\n",
    "    return maxLength"
   ]
  },
  {
   "cell_type": "code",
   "execution_count": null,
   "metadata": {},
   "outputs": [],
   "source": [
    "# O(n) time | O(n) space\n",
    "def longestBalancedSubstring(string):\n",
    "    # Write your code here.\n",
    "    stack = [-1]\n",
    "    maxLength = 0\n",
    "    for i, c in enumerate(string):\n",
    "        if c == \"(\":\n",
    "            stack.append(i)\n",
    "        else:\n",
    "            stack.pop()\n",
    "            if len(stack) == 0:\n",
    "                stack.append(i)\n",
    "            else:\n",
    "                maxLength = max(maxLength, i - stack[-1])\n",
    "    return maxLength"
   ]
  },
  {
   "cell_type": "code",
   "execution_count": null,
   "metadata": {},
   "outputs": [],
   "source": [
    "# O(n) time | O(1) space\n",
    "def longestBalancedSubstring(string):\n",
    "    # Write your code here.\n",
    "    maxLeftToRight = iterateFindLongest(string, 0, len(string), 1, \"(\")\n",
    "    maxRightToLeft = iterateFindLongest(string, len(string) - 1, -1, -1, \")\")\n",
    "    return max(maxLeftToRight, maxRightToLeft)\n",
    "\n",
    "\n",
    "def iterateFindLongest(string, start, end, step, symbol):\n",
    "    count1, count2 = 0, 0\n",
    "    maxLength, currentLength = 0, 0\n",
    "    for i in range(start, end, step):\n",
    "        c = string[i]\n",
    "        if c == symbol:\n",
    "            count1 += 1\n",
    "        else:\n",
    "            count2 += 1\n",
    "        if count2 == count1:\n",
    "            currentLength = count1 + count2\n",
    "            maxLength = max(maxLength, currentLength)\n",
    "        elif count2 > count1:\n",
    "            count1, count2 = 0, 0\n",
    "    return maxLength"
   ]
  },
  {
   "source": [
    "## Expert Solution"
   ],
   "cell_type": "markdown",
   "metadata": {}
  },
  {
   "cell_type": "code",
   "execution_count": null,
   "metadata": {},
   "outputs": [],
   "source": [
    "# O(n^3) time | O(n) space - where n is the length of the input string\n",
    "def longestBalancedSubstring(string):\n",
    "    maxLength = 0\n",
    "\n",
    "    for i in range(len(string)):\n",
    "        for j in range(i + 2, len(string) + 1, 2):\n",
    "            if isBalanced(string[i:j]):\n",
    "                currentLength = j - i\n",
    "                maxLength = max(maxLength, currentLength)\n",
    "    return maxLength\n",
    "\n",
    "def isBalanced(string):\n",
    "    openParensStack = []\n",
    "\n",
    "    for char in string:\n",
    "        if char == \"(\":\n",
    "            openParensStack.append(\"(\")\n",
    "        elif len(openParensStack) > 0:\n",
    "            openParensStack.pop()\n",
    "        else:\n",
    "            return False\n",
    "    \n",
    "    return len(openParensStack) == 0"
   ]
  },
  {
   "cell_type": "code",
   "execution_count": null,
   "metadata": {},
   "outputs": [],
   "source": [
    "# O(n) time | O(n) space - where n is the length of the input string\n",
    "def longestBalancedSubstring(string):\n",
    "    maxLength = 0\n",
    "    idxStack = []\n",
    "    idxStack.append(-1)\n",
    "\n",
    "    for i in range(len(string)):\n",
    "        if string[i] == \"(\":\n",
    "            idxStack.append(i)\n",
    "        else:\n",
    "            idxStack.pop()\n",
    "            if len(idxStack) == 0:\n",
    "                idxStack.append(i)\n",
    "            else:\n",
    "                balancedSubstringStartIdx = idxStack[len(idxStack) - 1]\n",
    "                currentLength = i - balancedSubstringStartIdx\n",
    "                maxLength = max(maxLength, currentLength)\n",
    "    \n",
    "    return maxLength"
   ]
  },
  {
   "cell_type": "code",
   "execution_count": null,
   "metadata": {},
   "outputs": [],
   "source": [
    "# O(n) time | O(1) space - where n is the length of the input string\n",
    "def longestBalancedSubstring(string):\n",
    "    maxLength = 0\n",
    "\n",
    "    openingCount = 0\n",
    "    closingCount = 0\n",
    "\n",
    "    for char in string:\n",
    "        if char == \"(\":\n",
    "            openingCount += 1\n",
    "        else:\n",
    "            closingCount += 1\n",
    "\n",
    "        if openingCount == closingCount:\n",
    "            maxLength = max(maxLength, closingCount * 2)\n",
    "        elif closingCount > openingCount:\n",
    "            openingCount = 0\n",
    "            closingCount = 0\n",
    "\n",
    "    openingCount = 0\n",
    "    closingCount = 0\n",
    "\n",
    "    for i in reversed(range(len(string))):\n",
    "        char = string[i]\n",
    "\n",
    "        if char == \"(\":\n",
    "            openingCount += 1\n",
    "        else:\n",
    "            closingCount += 1\n",
    "\n",
    "        if openingCount == closingCount:\n",
    "            maxLength = max(maxLength, openingCount * 2)\n",
    "        elif openingCount > closingCount:\n",
    "            openingCount = 0\n",
    "            closingCount = 0\n",
    "            \n",
    "    return maxLength"
   ]
  },
  {
   "cell_type": "code",
   "execution_count": null,
   "metadata": {},
   "outputs": [],
   "source": [
    "# O(n) time | O(1) space - where n is the length of the input string\n",
    "def longestBalancedSubstring(string):\n",
    "    return max(\n",
    "        getLongestBalancedInDirection(string, True),\n",
    "        getLongestBalancedInDirection(string, False),\n",
    "    )\n",
    "\n",
    "def getLongestBalancedInDirection(string, leftToRight):\n",
    "    openingParens = \"(\" if leftToRight else \")\"\n",
    "    startIdx = 0 if leftToRight else len(string) - 1\n",
    "    step = 1 if leftToRight else -1\n",
    "\n",
    "    maxLength = 0\n",
    "\n",
    "    openingCount = 0\n",
    "    closingCount = 0\n",
    "\n",
    "    idx = startIdx\n",
    "    while idx >= 0 and idx < len(string):\n",
    "        char = string[idx]\n",
    "\n",
    "        if char == openingParens:\n",
    "            openingCount += 1\n",
    "        else:\n",
    "            closingCount += 1\n",
    "\n",
    "        if openingCount == closingCount:\n",
    "            maxLength = max(maxLength, closingCount * 2)\n",
    "        elif closingCount > openingCount:\n",
    "            openingCount = 0\n",
    "            closingCount = 0\n",
    "\n",
    "        idx += step\n",
    "        \n",
    "    return maxLength"
   ]
  },
  {
   "source": [
    "## Thoughts\n",
    "### my solution 1\n",
    "- dynamic programing\n",
    "- opt(i) stores the previous i charactors' information: the length of the longest balanced substring ends at the ith charactor (index i - 1)\n",
    "\n",
    "### expert solution 2\n",
    "- use stack\n",
    "\n",
    "### expert solution 3 & 4\n",
    "- most efficient way\n",
    "- traverse through the string from left to right and from right to left\n",
    "\n",
    "#### why update the current length only when opening count equal to closing count? why not update current length when closing count < opening count\n",
    "- example: \"()(((()\"\n",
    "- if update current length when closing count < opening count, at index 1, we update current length to 2, openCount = 1, closeCount = 1. then after traverse through the rest string, at last openCount = 5, closeCount = 2, but we can't update current length to 2.\n",
    "- generally, when we traverse from left to right, we consider \"(\" first, which means openCount will first increment to 1. in this situation, the substring will be balanced only when openCount == closeCount.\n",
    "- that's also the reason why we need to then traverse from right to left. when traverse from right to left, we consider \")\" first.\n",
    "\n"
   ],
   "cell_type": "markdown",
   "metadata": {}
  },
  {
   "cell_type": "code",
   "execution_count": null,
   "metadata": {},
   "outputs": [],
   "source": []
  },
  {
   "cell_type": "code",
   "execution_count": null,
   "metadata": {},
   "outputs": [],
   "source": []
  },
  {
   "cell_type": "code",
   "execution_count": null,
   "metadata": {},
   "outputs": [],
   "source": []
  },
  {
   "cell_type": "code",
   "execution_count": null,
   "metadata": {},
   "outputs": [],
   "source": []
  },
  {
   "cell_type": "code",
   "execution_count": null,
   "metadata": {},
   "outputs": [],
   "source": []
  },
  {
   "cell_type": "code",
   "execution_count": null,
   "metadata": {},
   "outputs": [],
   "source": []
  },
  {
   "cell_type": "code",
   "execution_count": null,
   "metadata": {},
   "outputs": [],
   "source": []
  },
  {
   "cell_type": "code",
   "execution_count": null,
   "metadata": {},
   "outputs": [],
   "source": []
  },
  {
   "cell_type": "code",
   "execution_count": null,
   "metadata": {},
   "outputs": [],
   "source": []
  },
  {
   "cell_type": "code",
   "execution_count": null,
   "metadata": {},
   "outputs": [],
   "source": []
  },
  {
   "cell_type": "code",
   "execution_count": null,
   "metadata": {},
   "outputs": [],
   "source": []
  },
  {
   "cell_type": "code",
   "execution_count": null,
   "metadata": {},
   "outputs": [],
   "source": []
  }
 ]
}