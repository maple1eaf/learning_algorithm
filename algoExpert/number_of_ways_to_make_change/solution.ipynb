{
 "metadata": {
  "language_info": {
   "codemirror_mode": {
    "name": "ipython",
    "version": 3
   },
   "file_extension": ".py",
   "mimetype": "text/x-python",
   "name": "python",
   "nbconvert_exporter": "python",
   "pygments_lexer": "ipython3",
   "version": 3
  },
  "orig_nbformat": 2
 },
 "nbformat": 4,
 "nbformat_minor": 2,
 "cells": [
  {
   "source": [
    "# Number Of Ways To Make Change\n",
    "[link](https://www.algoexpert.io/questions/Number%20Of%20Ways%20To%20Make%20Change)"
   ],
   "cell_type": "markdown",
   "metadata": {}
  },
  {
   "source": [
    "## My Solution"
   ],
   "cell_type": "markdown",
   "metadata": {}
  },
  {
   "cell_type": "code",
   "execution_count": null,
   "metadata": {},
   "outputs": [],
   "source": [
    "def numberOfWaysToMakeChange(n, denoms):\n",
    "    # Write your code here.\n",
    "    denoms.append(0)\n",
    "    denoms.sort()\n",
    "    \n",
    "    m = len(denoms)\n",
    "    memo = [[0 for j in range(m)] for i in range(n+1)]\n",
    "    # for i in range(n+1):\n",
    "    # \tmemo[i][0] = 0\n",
    "    for j in range(m):\n",
    "        memo[0][j] = 1\n",
    "        \n",
    "    for j in range(1, m):\n",
    "        for i in range(1, n+1):\n",
    "            if i - denoms[j] < 0:\n",
    "                memo[i][j] = memo[i][j-1]\n",
    "            else:\n",
    "                memo[i][j] = memo[i][j-1] + memo[i-denoms[j]][j]\n",
    "            print(i, j, memo[i][j])\n",
    "    return memo[n][m-1]"
   ]
  },
  {
   "cell_type": "code",
   "execution_count": null,
   "metadata": {},
   "outputs": [],
   "source": [
    "def numberOfWaysToMakeChange(n, denoms):\n",
    "    # Write your code here.\n",
    "    denoms.append(0)\n",
    "    denoms.sort()\n",
    "    \n",
    "    m = len(denoms)\n",
    "    memo = [0 for i in range(n+1)]\n",
    "    memo[0] = 1\n",
    "        \n",
    "    for j in range(1, m):\n",
    "        for i in range(1, n+1):\n",
    "            if not i - denoms[j] < 0:\n",
    "                memo[i] += memo[i-denoms[j]]\n",
    "    return memo[n]"
   ]
  },
  {
   "source": [
    "## Expert Solution"
   ],
   "cell_type": "markdown",
   "metadata": {}
  },
  {
   "cell_type": "code",
   "execution_count": null,
   "metadata": {},
   "outputs": [],
   "source": [
    "# O(nd) time | o(n) space\n",
    "# n is the money amount\n",
    "# d is the number of denominations\n",
    "def numberOfWaysToMakeChange(n, denoms):\n",
    "    ways = [0 for amount in range(n + 1)]:\n",
    "    ways[0] = 1\n",
    "    for denom in denoms:\n",
    "        for amount in range(1, n + 1):\n",
    "            if denom <= amount:\n",
    "                ways[amount] += ways[amount - denom]\n",
    "    return ways[n]"
   ]
  },
  {
   "cell_type": "code",
   "execution_count": null,
   "metadata": {},
   "outputs": [],
   "source": []
  },
  {
   "source": [
    "## Thoughts\n",
    "![](./make_change.JPG)"
   ],
   "cell_type": "markdown",
   "metadata": {}
  },
  {
   "cell_type": "code",
   "execution_count": null,
   "metadata": {},
   "outputs": [],
   "source": []
  },
  {
   "cell_type": "code",
   "execution_count": null,
   "metadata": {},
   "outputs": [],
   "source": []
  },
  {
   "cell_type": "code",
   "execution_count": null,
   "metadata": {},
   "outputs": [],
   "source": []
  },
  {
   "cell_type": "code",
   "execution_count": null,
   "metadata": {},
   "outputs": [],
   "source": []
  },
  {
   "cell_type": "code",
   "execution_count": null,
   "metadata": {},
   "outputs": [],
   "source": []
  },
  {
   "cell_type": "code",
   "execution_count": null,
   "metadata": {},
   "outputs": [],
   "source": []
  },
  {
   "cell_type": "code",
   "execution_count": null,
   "metadata": {},
   "outputs": [],
   "source": []
  },
  {
   "cell_type": "code",
   "execution_count": null,
   "metadata": {},
   "outputs": [],
   "source": []
  },
  {
   "cell_type": "code",
   "execution_count": null,
   "metadata": {},
   "outputs": [],
   "source": []
  },
  {
   "cell_type": "code",
   "execution_count": null,
   "metadata": {},
   "outputs": [],
   "source": []
  },
  {
   "cell_type": "code",
   "execution_count": null,
   "metadata": {},
   "outputs": [],
   "source": []
  },
  {
   "cell_type": "code",
   "execution_count": null,
   "metadata": {},
   "outputs": [],
   "source": []
  }
 ]
}