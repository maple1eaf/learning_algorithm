{
 "metadata": {
  "language_info": {
   "codemirror_mode": {
    "name": "ipython",
    "version": 3
   },
   "file_extension": ".py",
   "mimetype": "text/x-python",
   "name": "python",
   "nbconvert_exporter": "python",
   "pygments_lexer": "ipython3",
   "version": 3
  },
  "orig_nbformat": 2
 },
 "nbformat": 4,
 "nbformat_minor": 2,
 "cells": [
  {
   "source": [
    "# Suffix Trie Construction\n",
    "[link](https://www.algoexpert.io/questions/Suffix%20Trie%20Construction)"
   ],
   "cell_type": "markdown",
   "metadata": {}
  },
  {
   "cell_type": "code",
   "execution_count": null,
   "metadata": {},
   "outputs": [],
   "source": [
    "# Do not edit the class below except for the\n",
    "# populateSuffixTrieFrom and contains methods.\n",
    "# Feel free to add new properties and methods\n",
    "# to the class.\n",
    "class SuffixTrie:\n",
    "    def __init__(self, string):\n",
    "        self.root = {}\n",
    "        self.endSymbol = \"*\"\n",
    "        self.populateSuffixTrieFrom(string)\n",
    "\n",
    "    def populateSuffixTrieFrom(self, string):\n",
    "        # Write your code here.\n",
    "        pass\n",
    "\n",
    "    def contains(self, string):\n",
    "        # Write your code here.\n",
    "        pass"
   ]
  },
  {
   "source": [
    "## My Solution"
   ],
   "cell_type": "markdown",
   "metadata": {}
  },
  {
   "cell_type": "code",
   "execution_count": null,
   "metadata": {},
   "outputs": [],
   "source": [
    "# Do not edit the class below except for the\n",
    "# populateSuffixTrieFrom and contains methods.\n",
    "# Feel free to add new properties and methods\n",
    "# to the class.\n",
    "class SuffixTrie:\n",
    "    def __init__(self, string):\n",
    "        self.root = {}\n",
    "        self.endSymbol = \"*\"\n",
    "        self.populateSuffixTrieFrom(string)\n",
    "\n",
    "    def populateSuffixTrieFrom(self, string):\n",
    "        # Write your code here.\n",
    "        for i in range(len(string)):\n",
    "            self.createPath(string, i)\n",
    "        \n",
    "    def createPath(self, string, startIdx):\n",
    "        cur = self.root\n",
    "        for i in range(startIdx, len(string)):\n",
    "            if string[i] not in cur:\n",
    "                cur[string[i]] = {}\n",
    "            cur = cur[string[i]]\n",
    "        cur[self.endSymbol] = True\n",
    "\n",
    "    def contains(self, string):\n",
    "        # Write your code here.\n",
    "        cur = self.root\n",
    "        for c in string:\n",
    "            if c not in cur:\n",
    "                return False\n",
    "            cur = cur[c]\n",
    "        return self.endSymbol in cur"
   ]
  },
  {
   "cell_type": "code",
   "execution_count": null,
   "metadata": {},
   "outputs": [],
   "source": []
  },
  {
   "source": [
    "## Expert Solution"
   ],
   "cell_type": "markdown",
   "metadata": {}
  },
  {
   "cell_type": "code",
   "execution_count": null,
   "metadata": {},
   "outputs": [],
   "source": [
    "class SuffixTrie:\n",
    "    def __init__(self, string):\n",
    "        self.root = {}\n",
    "        self.endSymbol = \"*\"\n",
    "        self.populateSuffixTrieFrom(string)\n",
    "\n",
    "    # O(n^2) time | O(n^2) space\n",
    "    def populateSuffixTrieFrom(self, string):\n",
    "        for i in range(len(string)):\n",
    "\t\t\tself.insertSubstringStartingAt(i, string)\n",
    "\t\t\n",
    "\tdef insertSubstringStartingAt(self, i, string):\n",
    "\t\tnode = self.root\n",
    "\t\tfor j in range(i, len(string)):\n",
    "            letter = string[j]\n",
    "\t\t\tif letter not in node:\n",
    "\t\t\t\tnode[letter] = {}\n",
    "\t\t\tnode = node[letter]\n",
    "\t\tnode[self.endSymbol] = True\n",
    "\n",
    "    # O(m) time | O(1) space\n",
    "    # m is the length of the string\n",
    "    def contains(self, string):\n",
    "\t\tnode = self.root\n",
    "        for letter in string:\n",
    "\t\t\tif letter not in node:\n",
    "\t\t\t\treturn False\n",
    "\t\t\tnode = node[letter]\n",
    "\t\treturn self.endSymbol in node"
   ]
  },
  {
   "cell_type": "code",
   "execution_count": null,
   "metadata": {},
   "outputs": [],
   "source": []
  },
  {
   "source": [
    "## Thoughts"
   ],
   "cell_type": "markdown",
   "metadata": {}
  },
  {
   "cell_type": "code",
   "execution_count": null,
   "metadata": {},
   "outputs": [],
   "source": []
  },
  {
   "cell_type": "code",
   "execution_count": null,
   "metadata": {},
   "outputs": [],
   "source": []
  },
  {
   "cell_type": "code",
   "execution_count": null,
   "metadata": {},
   "outputs": [],
   "source": []
  },
  {
   "cell_type": "code",
   "execution_count": null,
   "metadata": {},
   "outputs": [],
   "source": []
  },
  {
   "cell_type": "code",
   "execution_count": null,
   "metadata": {},
   "outputs": [],
   "source": []
  },
  {
   "cell_type": "code",
   "execution_count": null,
   "metadata": {},
   "outputs": [],
   "source": []
  },
  {
   "cell_type": "code",
   "execution_count": null,
   "metadata": {},
   "outputs": [],
   "source": []
  },
  {
   "cell_type": "code",
   "execution_count": null,
   "metadata": {},
   "outputs": [],
   "source": []
  },
  {
   "cell_type": "code",
   "execution_count": null,
   "metadata": {},
   "outputs": [],
   "source": []
  },
  {
   "cell_type": "code",
   "execution_count": null,
   "metadata": {},
   "outputs": [],
   "source": []
  },
  {
   "cell_type": "code",
   "execution_count": null,
   "metadata": {},
   "outputs": [],
   "source": []
  },
  {
   "cell_type": "code",
   "execution_count": null,
   "metadata": {},
   "outputs": [],
   "source": []
  }
 ]
}