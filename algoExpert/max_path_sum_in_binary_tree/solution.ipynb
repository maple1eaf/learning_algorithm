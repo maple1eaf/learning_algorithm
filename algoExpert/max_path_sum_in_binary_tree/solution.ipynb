{
 "metadata": {
  "language_info": {
   "codemirror_mode": {
    "name": "ipython",
    "version": 3
   },
   "file_extension": ".py",
   "mimetype": "text/x-python",
   "name": "python",
   "nbconvert_exporter": "python",
   "pygments_lexer": "ipython3",
   "version": "3.7.3-final"
  },
  "orig_nbformat": 2,
  "kernelspec": {
   "name": "python3",
   "display_name": "Python 3",
   "language": "python"
  }
 },
 "nbformat": 4,
 "nbformat_minor": 2,
 "cells": [
  {
   "source": [
    "# Max Path Sum In Binary Tree\n",
    "[link](https://www.algoexpert.io/questions/Max%20Path%20Sum%20In%20Binary%20Tree)"
   ],
   "cell_type": "markdown",
   "metadata": {}
  },
  {
   "source": [
    "## My Solution"
   ],
   "cell_type": "markdown",
   "metadata": {}
  },
  {
   "cell_type": "code",
   "execution_count": 8,
   "metadata": {},
   "outputs": [],
   "source": [
    "def maxPathSum(tree):\n",
    "    # Write your code here.\n",
    "    maxContainer = [float('-inf')]\n",
    "    maxPathSumHelper(tree, maxContainer)\n",
    "    return maxContainer[0]\n",
    "\n",
    "def maxPathSumHelper(node, maxContainer):\n",
    "    if node is None:\n",
    "        return float('-inf')\n",
    "    \n",
    "    leftMaxValue = maxPathSumHelper(node.left, maxContainer)\n",
    "    rightMaxValue = maxPathSumHelper(node.right, maxContainer)\n",
    "    \n",
    "    # maxSideWithNode = max(leftMaxValue + node.value, rightMaxValue + node.value, node.value)\n",
    "    # maxPathSumThroughNode = max(leftMaxValue, rightMaxValue, node.value, leftMaxValue + node.value, rightMaxValue + node.value, leftMaxValue + rightMaxValue + node.value)\n",
    "    maxSideWithNode = max(leftMaxValue + node.value, rightMaxValue + node.value, node.value)\n",
    "    \n",
    "    maxPathSumThroughNode = max(leftMaxValue, rightMaxValue, maxSideWithNode, leftMaxValue + rightMaxValue + node.value)\n",
    "    if maxPathSumThroughNode > maxContainer[0]:\n",
    "        maxContainer[0] = maxPathSumThroughNode\n",
    "        \n",
    "    return maxSideWithNode"
   ]
  },
  {
   "cell_type": "code",
   "execution_count": 9,
   "metadata": {},
   "outputs": [
    {
     "output_type": "execute_result",
     "data": {
      "text/plain": [
       "5"
      ]
     },
     "metadata": {},
     "execution_count": 9
    }
   ],
   "source": [
    "class BT():\n",
    "    def __init__(self, value):\n",
    "        self.value = value\n",
    "        self.left = None\n",
    "        self.right = None\n",
    "        \n",
    "tree = BT(-50)\n",
    "tree.left = BT(5)\n",
    "tree.right = BT(-100)\n",
    "\n",
    "maxPathSum(tree)"
   ]
  },
  {
   "source": [
    "## Expert Solution"
   ],
   "cell_type": "markdown",
   "metadata": {}
  },
  {
   "cell_type": "code",
   "execution_count": null,
   "metadata": {},
   "outputs": [],
   "source": [
    "# O(n) time | O(log(n)) space\n",
    "def maxPathSum(tree):\n",
    "    _, maxSum = findMaxSum(tree)\n",
    "    return maxSum\n",
    "\n",
    "def findMaxSum(tree):\n",
    "    if tree is None:\n",
    "        return(0, float(\"-inf\"))\n",
    "\n",
    "    leftMaxSumAsBranch, leftMaxPathSum = findMaxSum(tree.left)\n",
    "    rightMaxSumAsBranch, rightMaxPathSum = findMaxSum(tree.right)\n",
    "    maxChildSumAsBranch = max(leftMaxSumAsBranch, rightMaxSumAsBranch)\n",
    "    \n",
    "    value = tree.value\n",
    "    maxSumAsBranch = max(maxChildSumAsBranch + value, value)\n",
    "    maxSumAsRootNode = max(leftMaxSumAsBranch + value + rightMaxSumAsBranch, maxSumAsBranch)\n",
    "    maxPathSum = max(leftMaxPathSum, rightMaxPathSum, maxSumAsRootNode)\n",
    "    \n",
    "    return(maxSumAsBranch, maxPathSum)"
   ]
  },
  {
   "cell_type": "code",
   "execution_count": null,
   "metadata": {},
   "outputs": [],
   "source": []
  },
  {
   "source": [
    "## Thoughts\n",
    "2 ways of keep tracking of a value through the algorithm:\n",
    "- set a pointer as an input variable\n",
    "- return it as an extra value"
   ],
   "cell_type": "markdown",
   "metadata": {}
  },
  {
   "cell_type": "code",
   "execution_count": null,
   "metadata": {},
   "outputs": [],
   "source": []
  },
  {
   "cell_type": "code",
   "execution_count": null,
   "metadata": {},
   "outputs": [],
   "source": []
  },
  {
   "cell_type": "code",
   "execution_count": null,
   "metadata": {},
   "outputs": [],
   "source": []
  },
  {
   "cell_type": "code",
   "execution_count": null,
   "metadata": {},
   "outputs": [],
   "source": []
  },
  {
   "cell_type": "code",
   "execution_count": null,
   "metadata": {},
   "outputs": [],
   "source": []
  },
  {
   "cell_type": "code",
   "execution_count": null,
   "metadata": {},
   "outputs": [],
   "source": []
  },
  {
   "cell_type": "code",
   "execution_count": null,
   "metadata": {},
   "outputs": [],
   "source": []
  },
  {
   "cell_type": "code",
   "execution_count": null,
   "metadata": {},
   "outputs": [],
   "source": []
  },
  {
   "cell_type": "code",
   "execution_count": null,
   "metadata": {},
   "outputs": [],
   "source": []
  },
  {
   "cell_type": "code",
   "execution_count": null,
   "metadata": {},
   "outputs": [],
   "source": []
  },
  {
   "cell_type": "code",
   "execution_count": null,
   "metadata": {},
   "outputs": [],
   "source": []
  },
  {
   "cell_type": "code",
   "execution_count": null,
   "metadata": {},
   "outputs": [],
   "source": []
  }
 ]
}