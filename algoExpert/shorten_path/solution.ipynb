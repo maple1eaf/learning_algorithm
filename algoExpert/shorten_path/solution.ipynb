{
 "metadata": {
  "language_info": {
   "codemirror_mode": {
    "name": "ipython",
    "version": 3
   },
   "file_extension": ".py",
   "mimetype": "text/x-python",
   "name": "python",
   "nbconvert_exporter": "python",
   "pygments_lexer": "ipython3",
   "version": 3
  },
  "orig_nbformat": 2
 },
 "nbformat": 4,
 "nbformat_minor": 2,
 "cells": [
  {
   "source": [
    "# Shorten Path\n",
    "[link](https://www.algoexpert.io/questions/Shorten%20Path)"
   ],
   "cell_type": "markdown",
   "metadata": {}
  },
  {
   "source": [
    "## My Solution"
   ],
   "cell_type": "markdown",
   "metadata": {}
  },
  {
   "cell_type": "code",
   "execution_count": null,
   "metadata": {},
   "outputs": [],
   "source": [
    "def shortenPath(path):\n",
    "    # Write your code here.\n",
    "    stack = ['/'] if path[0] == '/' else []\n",
    "    pathList = path.split('/')\n",
    "    for x in pathList:\n",
    "        if x != \"..\" and x != \".\" and x != \"\":\n",
    "            stack.append(x)\n",
    "        elif x == \"..\":\n",
    "            if len(stack) > 1:\n",
    "                if stack[-1] != '..':\n",
    "                    stack.pop()\n",
    "                else:\n",
    "                    stack.append('..')\n",
    "            elif len(stack) == 1:\n",
    "                if stack[0] == '/':\n",
    "                    continue\n",
    "                elif stack[0] == '..':\n",
    "                    stack.append(x)\n",
    "                else:\n",
    "                    stack.pop()\n",
    "            else:\n",
    "                stack.append(x)\n",
    "        else:\n",
    "            continue\n",
    "    if stack[0] == '/':\n",
    "        return '/' + '/'.join(stack[1:])\n",
    "    else:\n",
    "        return '/'.join(stack)\n"
   ]
  },
  {
   "cell_type": "code",
   "execution_count": null,
   "metadata": {},
   "outputs": [],
   "source": [
    "def shortenPath(path):\n",
    "    # Write your code here.\n",
    "    stack = [''] if path[0] == '/' else []\n",
    "    pathList = path.split('/')\n",
    "    for x in pathList:\n",
    "        if x != '..' and x != '.' and x != '':\n",
    "            stack.append(x)\n",
    "        elif x == '..':\n",
    "            if len(stack) == 0 or stack[-1] == '..':\n",
    "                stack.append('..')\n",
    "            elif stack[-1] != '':\n",
    "                stack.pop()\n",
    "                \n",
    "    if len(stack) == 1 and stack[0] == '':\n",
    "        return '/'\n",
    "    \n",
    "    return '/'.join(stack)\n"
   ]
  },
  {
   "source": [
    "## Expert Solution"
   ],
   "cell_type": "markdown",
   "metadata": {}
  },
  {
   "cell_type": "code",
   "execution_count": null,
   "metadata": {},
   "outputs": [],
   "source": [
    "# O(n) time, O(n) space\n",
    "def shortenPath(path):\n",
    "    startsWithSlash = path[0] == \"/\"\n",
    "    tokens = filter(isImportantToken, path.split(\"/\"))\n",
    "    stack = []\n",
    "    if startsWithSlash:\n",
    "        stack.append(\"\")\n",
    "    for token in tokens:\n",
    "        if token == \"..\":\n",
    "            if len(stack) == 0 or stack[-1] == \"..\":\n",
    "                stack.append(token)\n",
    "            elif stack[-1] != \"\":\n",
    "                stack.pop()\n",
    "        else:\n",
    "            stack.append(token)\n",
    "            \n",
    "    if len(stack) == 1 and stack[0] == \"\":\n",
    "        return \"/\"\n",
    "    return \"/\".join(stack)\n",
    "\n",
    "def isImportantToken(token):\n",
    "    return len(token) > 0 and token != \".\""
   ]
  },
  {
   "source": [
    "## Thoughts\n",
    "- use stack\n",
    "- the difficulty comes from the edge cases"
   ],
   "cell_type": "markdown",
   "metadata": {}
  },
  {
   "cell_type": "code",
   "execution_count": null,
   "metadata": {},
   "outputs": [],
   "source": []
  },
  {
   "cell_type": "code",
   "execution_count": null,
   "metadata": {},
   "outputs": [],
   "source": []
  },
  {
   "cell_type": "code",
   "execution_count": null,
   "metadata": {},
   "outputs": [],
   "source": []
  },
  {
   "cell_type": "code",
   "execution_count": null,
   "metadata": {},
   "outputs": [],
   "source": []
  },
  {
   "cell_type": "code",
   "execution_count": null,
   "metadata": {},
   "outputs": [],
   "source": []
  },
  {
   "cell_type": "code",
   "execution_count": null,
   "metadata": {},
   "outputs": [],
   "source": []
  },
  {
   "cell_type": "code",
   "execution_count": null,
   "metadata": {},
   "outputs": [],
   "source": []
  },
  {
   "cell_type": "code",
   "execution_count": null,
   "metadata": {},
   "outputs": [],
   "source": []
  },
  {
   "cell_type": "code",
   "execution_count": null,
   "metadata": {},
   "outputs": [],
   "source": []
  },
  {
   "cell_type": "code",
   "execution_count": null,
   "metadata": {},
   "outputs": [],
   "source": []
  },
  {
   "cell_type": "code",
   "execution_count": null,
   "metadata": {},
   "outputs": [],
   "source": []
  },
  {
   "cell_type": "code",
   "execution_count": null,
   "metadata": {},
   "outputs": [],
   "source": []
  }
 ]
}