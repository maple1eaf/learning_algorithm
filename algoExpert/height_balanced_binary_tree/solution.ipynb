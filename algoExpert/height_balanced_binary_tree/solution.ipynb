{
 "metadata": {
  "language_info": {
   "codemirror_mode": {
    "name": "ipython",
    "version": 3
   },
   "file_extension": ".py",
   "mimetype": "text/x-python",
   "name": "python",
   "nbconvert_exporter": "python",
   "pygments_lexer": "ipython3",
   "version": 3
  },
  "orig_nbformat": 2
 },
 "nbformat": 4,
 "nbformat_minor": 2,
 "cells": [
  {
   "cell_type": "markdown",
   "source": [
    "# Height Balanced Binary Tree\n",
    "[link](https://www.algoexpert.io/questions/Height%20Balanced%20Binary%20Tree)"
   ],
   "metadata": {}
  },
  {
   "cell_type": "markdown",
   "source": [
    "## My Solution"
   ],
   "metadata": {}
  },
  {
   "cell_type": "code",
   "execution_count": null,
   "source": [
    "# This is an input class. Do not edit.\n",
    "class BinaryTree:\n",
    "    def __init__(self, value, left=None, right=None):\n",
    "        self.value = value\n",
    "        self.left = left\n",
    "        self.right = right\n",
    "\n",
    "# O(n) time | O(h) space\n",
    "def heightBalancedBinaryTree(tree):\n",
    "    # Write your code here.\n",
    "    return helper(tree, 0)[1]\n",
    "\n",
    "def helper(tree, height):\n",
    "    if tree is None:\n",
    "        return height, True\n",
    "    \n",
    "    leftHeight, isLeftBalanced = helper(tree.left, height + 1)\n",
    "    rightHeight, isRightBalanced = helper(tree.right, height + 1)\n",
    "    \n",
    "    if isLeftBalanced == False or isRightBalanced == False:\n",
    "        return None, False\n",
    "    \n",
    "    if abs(leftHeight - rightHeight) > 1:\n",
    "        return None, False\n",
    "    \n",
    "    return max(leftHeight, rightHeight), True"
   ],
   "outputs": [],
   "metadata": {}
  },
  {
   "cell_type": "markdown",
   "source": [
    "## Expert Solution"
   ],
   "metadata": {}
  },
  {
   "cell_type": "code",
   "execution_count": null,
   "source": [
    "# This is an input class. Do not edit.\n",
    "class BinaryTree:\n",
    "    def __init__(self, value, left=None, right=None):\n",
    "        self.value = value\n",
    "        self.left = left\n",
    "        self.right = right\n",
    "\n",
    "class TreeInfo:\n",
    "    def __init__(self, isBalanced, height):\n",
    "        self.isBalanced = isBalanced\n",
    "        self.height = height\n",
    "\n",
    "# O(n) time | O(h) space\n",
    "def heightBalancedBinaryTree(tree):\n",
    "    # Write your code here.\n",
    "    treeInfo = getTreeInfo(tree)\n",
    "    return treeInfo.isBalanced\n",
    "\n",
    "def getTreeInfo(node):\n",
    "    if node is None:\n",
    "        return TreeInfo(True, -1)\n",
    "\n",
    "    leftSubtreeInfo = getTreeInfo(node.left)\n",
    "    rightSubtreeInfo = getTreeInfo(node.right)\n",
    "\n",
    "    isBalanced = (\n",
    "        leftSubtreeInfo.isBalanced\n",
    "        and rightSubtreeInfo.isBalanced\n",
    "        and abs(leftSubtreeInfo.height - rightSubtreeInfo.height) <= 1\n",
    "    )\n",
    "    height = max(leftSubtreeInfo.height, rightSubtreeInfo.height) + 1\n",
    "    return TreeInfo(isBalanced, height)"
   ],
   "outputs": [],
   "metadata": {}
  },
  {
   "cell_type": "markdown",
   "source": [
    "## Thoughts"
   ],
   "metadata": {}
  },
  {
   "cell_type": "markdown",
   "source": [
    "## expert solution 2\n",
    "- here, the height is not the height from root node, but the height from each leaf node\n",
    "## my solution 1\n",
    "- here, the height is actually the height from root node to the deepest node in one subtree"
   ],
   "metadata": {}
  },
  {
   "cell_type": "code",
   "execution_count": null,
   "source": [],
   "outputs": [],
   "metadata": {}
  },
  {
   "cell_type": "code",
   "execution_count": null,
   "source": [],
   "outputs": [],
   "metadata": {}
  },
  {
   "cell_type": "code",
   "execution_count": null,
   "source": [],
   "outputs": [],
   "metadata": {}
  },
  {
   "cell_type": "code",
   "execution_count": null,
   "source": [],
   "outputs": [],
   "metadata": {}
  },
  {
   "cell_type": "code",
   "execution_count": null,
   "source": [],
   "outputs": [],
   "metadata": {}
  },
  {
   "cell_type": "code",
   "execution_count": null,
   "source": [],
   "outputs": [],
   "metadata": {}
  },
  {
   "cell_type": "code",
   "execution_count": null,
   "source": [],
   "outputs": [],
   "metadata": {}
  },
  {
   "cell_type": "code",
   "execution_count": null,
   "source": [],
   "outputs": [],
   "metadata": {}
  },
  {
   "cell_type": "code",
   "execution_count": null,
   "source": [],
   "outputs": [],
   "metadata": {}
  },
  {
   "cell_type": "code",
   "execution_count": null,
   "source": [],
   "outputs": [],
   "metadata": {}
  },
  {
   "cell_type": "code",
   "execution_count": null,
   "source": [],
   "outputs": [],
   "metadata": {}
  }
 ]
}