{
 "metadata": {
  "language_info": {
   "codemirror_mode": {
    "name": "ipython",
    "version": 3
   },
   "file_extension": ".py",
   "mimetype": "text/x-python",
   "name": "python",
   "nbconvert_exporter": "python",
   "pygments_lexer": "ipython3",
   "version": 3
  },
  "orig_nbformat": 2
 },
 "nbformat": 4,
 "nbformat_minor": 2,
 "cells": [
  {
   "source": [
    "# Longest Increasing Subsequence\n",
    "[link](https://www.algoexpert.io/questions/Longest%20Increasing%20Subsequence)"
   ],
   "cell_type": "markdown",
   "metadata": {}
  },
  {
   "source": [
    "## My Solution"
   ],
   "cell_type": "markdown",
   "metadata": {}
  },
  {
   "cell_type": "code",
   "execution_count": null,
   "metadata": {},
   "outputs": [],
   "source": [
    "# time O(n^2) | space O(n)\n",
    "def longestIncreasingSubsequence(array):\n",
    "    # Write your code here.\n",
    "    opt = [1 for _ in array]\n",
    "    maxIdx = 0\n",
    "    for i in range(len(array)):\n",
    "        for x in range(i):\n",
    "            if array[i] > array[x]:\n",
    "                opt[i] = max(opt[i], opt[x] + 1)\n",
    "            if opt[maxIdx] < opt[i]:\n",
    "                maxIdx = i\n",
    "                \n",
    "    res = [array[maxIdx]]\n",
    "    idx = maxIdx\n",
    "    while opt[idx] > 1:\n",
    "        for i in reversed(range(idx)):\n",
    "            if array[i] < array[idx] and opt[i] + 1 == opt[idx]:\n",
    "                res.append(array[i])\n",
    "                idx = i\n",
    "                break\n",
    "    return list(reversed(res))"
   ]
  },
  {
   "cell_type": "code",
   "execution_count": null,
   "metadata": {},
   "outputs": [],
   "source": [
    "# time O(n^2) | space O(n)\n",
    "def longestIncreasingSubsequence(array):\n",
    "    # Write your code here.\n",
    "    seq = [None for _ in array]\n",
    "    opt = [1 for _ in array]\n",
    "    maxIdx = 0\n",
    "    for i in range(len(array)):\n",
    "        for x in range(i):\n",
    "            if array[i] > array[x] and opt[x] + 1 > opt[i]:\n",
    "                opt[i] = opt[x] + 1\n",
    "                seq[i] = x\n",
    "            if opt[maxIdx] < opt[i]:\n",
    "                maxIdx = i\n",
    "    \n",
    "    lis = buildLIS(seq, maxIdx, opt[maxIdx], array)\n",
    "    return lis\n",
    "\n",
    "def buildLIS(seq, startIdx, lisLength, array):\n",
    "    lis = [1 for _ in range(lisLength)]\n",
    "    idx = startIdx\n",
    "    l = lisLength - 1\n",
    "    while idx is not None:\n",
    "        lis[l] = array[idx]\n",
    "        l -= 1\n",
    "        idx = seq[idx]\n",
    "    return lis"
   ]
  },
  {
   "cell_type": "code",
   "execution_count": null,
   "metadata": {},
   "outputs": [],
   "source": [
    "# time O(nlogn) | space O(n)\n",
    "def longestIncreasingSubsequence(array):\n",
    "    # Write your code here.\n",
    "    indices = [None, 0]\n",
    "    sequences = [None for _ in array]\n",
    "    length = 0\n",
    "    for idx in range(1, len(array)):\n",
    "        largestSmallerThanIdx = findLargestSmallerThanIdx(indices, array, idx)\n",
    "        if largestSmallerThanIdx == len(indices) - 1:\n",
    "            indices.append(idx)\n",
    "        else:\n",
    "            indices[largestSmallerThanIdx + 1] = idx\n",
    "        sequences[idx] = indices[largestSmallerThanIdx]\n",
    "    lis = buildLIS(sequences, indices[-1], len(indices) - 1, array)\n",
    "    return lis\n",
    "\n",
    "def findLargestSmallerThanIdx(indices, array, idx):\n",
    "    left = 1\n",
    "    right = len(indices) - 1\n",
    "    while left <= right:\n",
    "        mid = (left + right) // 2\n",
    "        i = indices[mid]\n",
    "        if array[i] < array[idx]:\n",
    "            left = mid + 1\n",
    "        else:\n",
    "            right = mid - 1\n",
    "    return (left + right) // 2\n",
    "\n",
    "def buildLIS(seq, startIdx, lisLength, array):\n",
    "    lis = [1 for _ in range(lisLength)]\n",
    "    idx = startIdx\n",
    "    l = lisLength - 1\n",
    "    while idx is not None:\n",
    "        lis[l] = array[idx]\n",
    "        l -= 1\n",
    "        idx = seq[idx]\n",
    "    return lis"
   ]
  },
  {
   "source": [
    "## Expert Solution"
   ],
   "cell_type": "markdown",
   "metadata": {}
  },
  {
   "cell_type": "code",
   "execution_count": null,
   "metadata": {},
   "outputs": [],
   "source": [
    "# O(n^2) time | O(n) space\n",
    "def longestIncreasingSubsequence(array):\n",
    "    seq = [None for x in array]\n",
    "\tlengths = [1 for x in array]\n",
    "\tmaxLengthIdx = 0\n",
    "\tfor i in range(len(array)):\n",
    "\t\tcurrentNum = array[i]\n",
    "\t\tfor j in range(0, i):\n",
    "\t\t\totherNum = array[j]\n",
    "\t\t\tif otherNum < currentNum and lengths[j] + 1 >= lengths[i]:\n",
    "\t\t\t\tlengths[i] = lengths[j] + 1\n",
    "\t\t\t\tseq[i] = j\n",
    "\t\tif lengths[i] >= lengths[maxLengthIdx]:\n",
    "\t\t\tmaxLengthIdx = i\n",
    "\treturn buildSeq(array, seq, maxLengthIdx)\n",
    "\n",
    "\n",
    "def buildSeq(array, seqs, currentIdx):\n",
    "\tseq = []\n",
    "\twhile currentIdx is not None:\n",
    "\t\tseq.append(array[currentIdx])\n",
    "\t\tcurrentIdx = seqs[currentIdx]\n",
    "\treturn list(reversed(seq))"
   ]
  },
  {
   "cell_type": "code",
   "execution_count": null,
   "metadata": {},
   "outputs": [],
   "source": [
    "# O(nlogn) time | O(n) space\n",
    "def longestIncreasingSubsequence(array):\n",
    "    sequences = [None for x in array]\n",
    "    indices = [None for x in range(len(array) + 1)]\n",
    "    length = 0\n",
    "    for i, num in enumerate(array):\n",
    "        newLength = binarySearch(1, length, indices, array, num)\n",
    "        sequences[i] = indices[newLength - 1]\n",
    "        indices[newLength] = i\n",
    "        length = max(length, newLength)\n",
    "    return buildSequence(array, sequences, indices[length])\n",
    "\n",
    "\n",
    "def binarySearch(startIdx, endIdx, indices, array, num):\n",
    "    if startIdx > endIdx:\n",
    "        return startIdx\n",
    "    middleIdx = (startIdx + endIdx) // 2\n",
    "    if array[indices[middleIdx]] < num:\n",
    "        startIdx = middleIdx + 1\n",
    "    else:\n",
    "        endIdx = middleIdx - 1\n",
    "    return binarySearch(startIdx, endIdx, indices, array, num)\n",
    "\n",
    "def buildSequence(array, sequences, currentIdx):\n",
    "    sequence = []\n",
    "    while currentIdx is not None:\n",
    "        sequence.append(array[currentIdx])\n",
    "        currentIdx = sequences[currentIdx]\n",
    "    return list(reversed(sequence))"
   ]
  },
  {
   "source": [
    "## Thoughts\n",
    "### O(nlogn) time algorithm key points\n",
    "- example array: `[5, 7, -24, 12, 10, 2, 3, 12, 5, 6, 35]`\n",
    "- for each number in the array, find the largest number smaller than the current number in the previous subarray. for example, if current number is 10, the number we're looking for is 7. this process can be done in O(logn) time by binary search in `indices`.\n",
    "- in `indices`, index stands for the length of a LIS. for example, position of index 1 store the information for a LIS of length 1.\n",
    "- the information: for example, at index 3, `indices` stores the index of the last number in an LIS of length 3. for example, the current number is 2, we can find that the largest number smaller than 2 before 2 is -24. because the LIS ends up with -24 is `[-24]`, the LIS ends up with 2 must be `[-24, 2]`, the lenght of which is 2. So `indices[2]` will rewrite from 1 to 5.\n",
    "- at each iteration, store the number before the rewrite number in indices to sequences. this sequences is the same as the sequences in dynamic programing solution."
   ],
   "cell_type": "markdown",
   "metadata": {}
  },
  {
   "cell_type": "code",
   "execution_count": null,
   "metadata": {},
   "outputs": [],
   "source": []
  },
  {
   "cell_type": "code",
   "execution_count": null,
   "metadata": {},
   "outputs": [],
   "source": []
  },
  {
   "cell_type": "code",
   "execution_count": null,
   "metadata": {},
   "outputs": [],
   "source": []
  },
  {
   "cell_type": "code",
   "execution_count": null,
   "metadata": {},
   "outputs": [],
   "source": []
  },
  {
   "cell_type": "code",
   "execution_count": null,
   "metadata": {},
   "outputs": [],
   "source": []
  },
  {
   "cell_type": "code",
   "execution_count": null,
   "metadata": {},
   "outputs": [],
   "source": []
  },
  {
   "cell_type": "code",
   "execution_count": null,
   "metadata": {},
   "outputs": [],
   "source": []
  },
  {
   "cell_type": "code",
   "execution_count": null,
   "metadata": {},
   "outputs": [],
   "source": []
  },
  {
   "cell_type": "code",
   "execution_count": null,
   "metadata": {},
   "outputs": [],
   "source": []
  },
  {
   "cell_type": "code",
   "execution_count": null,
   "metadata": {},
   "outputs": [],
   "source": []
  },
  {
   "cell_type": "code",
   "execution_count": null,
   "metadata": {},
   "outputs": [],
   "source": []
  },
  {
   "cell_type": "code",
   "execution_count": null,
   "metadata": {},
   "outputs": [],
   "source": []
  }
 ]
}