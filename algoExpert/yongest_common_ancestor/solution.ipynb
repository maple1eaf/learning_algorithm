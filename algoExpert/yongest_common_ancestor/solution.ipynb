{
 "metadata": {
  "language_info": {
   "codemirror_mode": {
    "name": "ipython",
    "version": 3
   },
   "file_extension": ".py",
   "mimetype": "text/x-python",
   "name": "python",
   "nbconvert_exporter": "python",
   "pygments_lexer": "ipython3",
   "version": 3
  },
  "orig_nbformat": 2
 },
 "nbformat": 4,
 "nbformat_minor": 2,
 "cells": [
  {
   "source": [
    "# Youngest Common Ancestor\n",
    "[link](https://www.algoexpert.io/questions/Youngest%20Common%20Ancestor)"
   ],
   "cell_type": "markdown",
   "metadata": {}
  },
  {
   "source": [
    "## My Solution"
   ],
   "cell_type": "markdown",
   "metadata": {}
  },
  {
   "cell_type": "code",
   "execution_count": null,
   "metadata": {},
   "outputs": [],
   "source": [
    "# This is an input class. Do not edit.\n",
    "class AncestralTree:\n",
    "    def __init__(self, name):\n",
    "        self.name = name\n",
    "        self.ancestor = None\n",
    "\n",
    "\n",
    "def getYoungestCommonAncestor(topAncestor, descendantOne, descendantTwo):\n",
    "    # O(d) time | O(d) space\n",
    "    oneAncestors = []\n",
    "    twoAncestors = []\n",
    "    \n",
    "    cur = descendantOne\n",
    "    while cur is not None:\n",
    "        oneAncestors.append(cur)\n",
    "        cur = cur.ancestor\n",
    "    cur = descendantTwo\n",
    "    while cur is not None:\n",
    "        twoAncestors.append(cur)\n",
    "        cur = cur.ancestor\n",
    "    idxOne = len(oneAncestors) - 1\n",
    "    idxTwo = len(twoAncestors) - 1\n",
    "    while idxOne >= 0 and idxTwo >= 0:\n",
    "        if oneAncestors[idxOne] == twoAncestors[idxTwo]:\n",
    "            idxOne -= 1\n",
    "            idxTwo -= 1\n",
    "        else:\n",
    "            break\n",
    "    return oneAncestors[idxOne + 1]"
   ]
  },
  {
   "cell_type": "code",
   "execution_count": null,
   "metadata": {},
   "outputs": [],
   "source": [
    "# This is an input class. Do not edit.\n",
    "class AncestralTree:\n",
    "    def __init__(self, name):\n",
    "        self.name = name\n",
    "        self.ancestor = None\n",
    "\n",
    "        \n",
    "def getYoungestCommonAncestor(topAncestor, descendantOne, descendantTwo):\n",
    "    # Write your code here.\n",
    "    # O(d) time | O(1) space\n",
    "    depthOne = getDepth(descendantOne, topAncestor)\n",
    "    depthTwo = getDepth(descendantTwo, topAncestor)\n",
    "    if depthTwo > depthOne:\n",
    "        deeper = descendantTwo\n",
    "        shallower = descendantOne\n",
    "        diff = depthTwo - depthOne\n",
    "    else:\n",
    "        deeper = descendantOne\n",
    "        shallower = descendantTwo\n",
    "        diff = depthOne - depthTwo\n",
    "    while diff > 0:\n",
    "        deeper = deeper.ancestor\n",
    "        diff -= 1\n",
    "    while deeper is not shallower:\n",
    "        deeper = deeper.ancestor\n",
    "        shallower = shallower.ancestor\n",
    "    return deeper\n",
    "\n",
    "def getDepth(node, topNode):\n",
    "    depth = 0\n",
    "    cur = node\n",
    "    while cur is not topNode:\n",
    "        depth += 1\n",
    "        cur = cur.ancestor\n",
    "    return depth"
   ]
  },
  {
   "source": [
    "## Expert Solution"
   ],
   "cell_type": "markdown",
   "metadata": {}
  },
  {
   "cell_type": "code",
   "execution_count": null,
   "metadata": {},
   "outputs": [],
   "source": [
    "# This is an input class. Do not edit.\n",
    "class AncestralTree:\n",
    "    def __init__(self, name):\n",
    "        self.name = name\n",
    "        self.ancestor = None\n",
    "\n",
    "\n",
    "# O(d) time | O(1) space       \n",
    "def getYoungestCommonAncestor(topAncestor, descendantOne, descendantTwo):\n",
    "    depthOne = getDescendantDepth(descendantOne, topAncestor)\n",
    "    depthTwo = getDescendantDepth(descendantTwo, topAncestor)\n",
    "    if depthOne > depthTwo:\n",
    "        return backtrackAncestralTree(descendantOne, descendantTwo, depthOne - depthTwo)\n",
    "    else:\n",
    "        return backtrackAncestralTree(descendantTwo, descendantOne, depthTwo - depthOne)\n",
    "\n",
    "def getDescendantDepth(descendant, topAncestor):\n",
    "    depth = 0\n",
    "    while descendant != topAncestor:\n",
    "        depth += 1\n",
    "        descendant = descendant.ancestor\n",
    "    return depth\n",
    "\n",
    "def backtrackAncestralTree(lowerDescendant, higherDescendant, diff):\n",
    "    while diff > 0:\n",
    "        lowerDescendant = lowerDescendant.ancestor\n",
    "        diff -= 1\n",
    "    while lowerDescendant != higherDescendant:\n",
    "        lowerDescendant = lowerDescendant.ancestor\n",
    "        higherDescendant = higherDescendant.ancestor\n",
    "    return lowerDescendant"
   ]
  },
  {
   "cell_type": "code",
   "execution_count": null,
   "metadata": {},
   "outputs": [],
   "source": []
  },
  {
   "source": [
    "## Thoughts\n",
    "Start by finding the two input descendants' depths in the ancestral tree. If one of them is deeper, iterate up through its ancestors until you reach the depth of the higher descendant. Then, iterate through both descendants' ancestors in tandem until you find the first common ancestor. Note that at this point, one of the descendants will be the ancestor of the lower descendant that is at the same level as the higher descendant."
   ],
   "cell_type": "markdown",
   "metadata": {}
  },
  {
   "cell_type": "code",
   "execution_count": null,
   "metadata": {},
   "outputs": [],
   "source": []
  },
  {
   "cell_type": "code",
   "execution_count": null,
   "metadata": {},
   "outputs": [],
   "source": []
  },
  {
   "cell_type": "code",
   "execution_count": null,
   "metadata": {},
   "outputs": [],
   "source": []
  },
  {
   "cell_type": "code",
   "execution_count": null,
   "metadata": {},
   "outputs": [],
   "source": []
  },
  {
   "cell_type": "code",
   "execution_count": null,
   "metadata": {},
   "outputs": [],
   "source": []
  },
  {
   "cell_type": "code",
   "execution_count": null,
   "metadata": {},
   "outputs": [],
   "source": []
  },
  {
   "cell_type": "code",
   "execution_count": null,
   "metadata": {},
   "outputs": [],
   "source": []
  },
  {
   "cell_type": "code",
   "execution_count": null,
   "metadata": {},
   "outputs": [],
   "source": []
  },
  {
   "cell_type": "code",
   "execution_count": null,
   "metadata": {},
   "outputs": [],
   "source": []
  },
  {
   "cell_type": "code",
   "execution_count": null,
   "metadata": {},
   "outputs": [],
   "source": []
  },
  {
   "cell_type": "code",
   "execution_count": null,
   "metadata": {},
   "outputs": [],
   "source": []
  },
  {
   "cell_type": "code",
   "execution_count": null,
   "metadata": {},
   "outputs": [],
   "source": []
  }
 ]
}