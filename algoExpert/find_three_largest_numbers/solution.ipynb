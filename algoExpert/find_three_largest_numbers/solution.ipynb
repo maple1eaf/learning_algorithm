{
 "metadata": {
  "language_info": {
   "codemirror_mode": {
    "name": "ipython",
    "version": 3
   },
   "file_extension": ".py",
   "mimetype": "text/x-python",
   "name": "python",
   "nbconvert_exporter": "python",
   "pygments_lexer": "ipython3",
   "version": 3
  },
  "orig_nbformat": 2
 },
 "nbformat": 4,
 "nbformat_minor": 2,
 "cells": [
  {
   "source": [
    "# Find Three Largest Number\n",
    "[link](https://www.algoexpert.io/questions/Find%20Three%20Largest%20Numbers)"
   ],
   "cell_type": "markdown",
   "metadata": {}
  },
  {
   "source": [
    "## My Solution"
   ],
   "cell_type": "markdown",
   "metadata": {}
  },
  {
   "cell_type": "code",
   "execution_count": null,
   "metadata": {},
   "outputs": [],
   "source": [
    "def findThreeLargestNumbers(array):\n",
    "    # Write your code here.\n",
    "    maxThree = [None, None, None] # maxThree[2] is the largest\n",
    "    for x in array:\n",
    "        if maxThree[0] == None:\n",
    "            maxThree[0] = x\n",
    "            continue\n",
    "        if maxThree[1] == None:\n",
    "            if x >= maxThree[0]:\n",
    "                maxThree[1] = x\n",
    "            else:\n",
    "                maxThree[1], maxThree[0] = maxThree[0], x\n",
    "            continue\n",
    "        if maxThree[2] == None:\n",
    "            if x >= maxThree[1]:\n",
    "                maxThree[2] = x\n",
    "            elif x < maxThree[1] and x >= maxThree[0]:\n",
    "                maxThree[2], maxThree[1]= maxThree[1], x\n",
    "            else:\n",
    "                maxThree = [maxThree[1], maxThree[0], x]\n",
    "            continue\n",
    "        \n",
    "        if x > maxThree[0]:\n",
    "            maxThree[0] = x\n",
    "        if maxThree[0] > maxThree[1]:\n",
    "            maxThree[1], maxThree[0] = maxThree[0], maxThree[1]\n",
    "        if maxThree[1] > maxThree[2]:\n",
    "            maxThree[2], maxThree[1] = maxThree[1], maxThree[2]\n",
    "    return maxThree"
   ]
  },
  {
   "cell_type": "code",
   "execution_count": null,
   "metadata": {},
   "outputs": [],
   "source": [
    "def findThreeLargestNumbers(array):\n",
    "    # Write your code here.\n",
    "    maxThree = array[:3] # maxThree[2] is the largest\n",
    "    for i in range(len(array)):\n",
    "        if i >=3 and array[i] > maxThree[0]:\n",
    "            maxThree[0] = array[i]\n",
    "        if maxThree[0] > maxThree[1]:\n",
    "            maxThree[1], maxThree[0] = maxThree[0], maxThree[1]\n",
    "        if maxThree[1] > maxThree[2]:\n",
    "            maxThree[2], maxThree[1] = maxThree[1], maxThree[2]\n",
    "    return maxThree"
   ]
  },
  {
   "source": [
    "## Expert Solution"
   ],
   "cell_type": "markdown",
   "metadata": {}
  },
  {
   "cell_type": "code",
   "execution_count": null,
   "metadata": {},
   "outputs": [],
   "source": [
    "def findThreeLargestNumbers(array):\n",
    "    threeLargest = [None, None, None]\n",
    "    for num in array:\n",
    "        updateLargest(threeLargest, num)\n",
    "    return threeLargest\n",
    "\n",
    "def updateLargest(threeLargest, num):\n",
    "    if threeLargest[2] is None or num > threeLargest[2]:\n",
    "        shiftAndUpdate(threeLargest, num, 2)\n",
    "    elif threeLargest[1] is None or num > threeLargest[1]:\n",
    "        shiftAndUpdate(threeLargest, num, 1)\n",
    "    elif threeLargest[0] is None or num > threeLargest[0]:\n",
    "        shiftAndUpdate(threeLargest, num, 0)\n",
    "\n",
    "def shiftAndUpdate(array, num, idx):\n",
    "    for i in range(idx + 1):\n",
    "        if i == idx:\n",
    "            array[i] = num\n",
    "        else:\n",
    "            array[i] = array[i + 1]"
   ]
  },
  {
   "cell_type": "code",
   "execution_count": null,
   "metadata": {},
   "outputs": [],
   "source": []
  },
  {
   "source": [
    "## Thoughts"
   ],
   "cell_type": "markdown",
   "metadata": {}
  },
  {
   "cell_type": "code",
   "execution_count": null,
   "metadata": {},
   "outputs": [],
   "source": []
  },
  {
   "cell_type": "code",
   "execution_count": null,
   "metadata": {},
   "outputs": [],
   "source": []
  },
  {
   "cell_type": "code",
   "execution_count": null,
   "metadata": {},
   "outputs": [],
   "source": []
  },
  {
   "cell_type": "code",
   "execution_count": null,
   "metadata": {},
   "outputs": [],
   "source": []
  },
  {
   "cell_type": "code",
   "execution_count": null,
   "metadata": {},
   "outputs": [],
   "source": []
  },
  {
   "cell_type": "code",
   "execution_count": null,
   "metadata": {},
   "outputs": [],
   "source": []
  },
  {
   "cell_type": "code",
   "execution_count": null,
   "metadata": {},
   "outputs": [],
   "source": []
  },
  {
   "cell_type": "code",
   "execution_count": null,
   "metadata": {},
   "outputs": [],
   "source": []
  },
  {
   "cell_type": "code",
   "execution_count": null,
   "metadata": {},
   "outputs": [],
   "source": []
  },
  {
   "cell_type": "code",
   "execution_count": null,
   "metadata": {},
   "outputs": [],
   "source": []
  },
  {
   "cell_type": "code",
   "execution_count": null,
   "metadata": {},
   "outputs": [],
   "source": []
  },
  {
   "cell_type": "code",
   "execution_count": null,
   "metadata": {},
   "outputs": [],
   "source": []
  }
 ]
}