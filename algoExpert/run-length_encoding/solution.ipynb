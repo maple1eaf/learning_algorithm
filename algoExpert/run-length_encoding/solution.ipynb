{
 "metadata": {
  "language_info": {
   "codemirror_mode": {
    "name": "ipython",
    "version": 3
   },
   "file_extension": ".py",
   "mimetype": "text/x-python",
   "name": "python",
   "nbconvert_exporter": "python",
   "pygments_lexer": "ipython3",
   "version": "3.6.10-final"
  },
  "orig_nbformat": 2,
  "kernelspec": {
   "name": "python3",
   "display_name": "Python 3",
   "language": "python"
  }
 },
 "nbformat": 4,
 "nbformat_minor": 2,
 "cells": [
  {
   "source": [
    "# Run-Length Encoding\n",
    "[link](https://www.algoexpert.io/questions/Run-Length%20Encoding)"
   ],
   "cell_type": "markdown",
   "metadata": {}
  },
  {
   "source": [
    "## My Solution"
   ],
   "cell_type": "markdown",
   "metadata": {}
  },
  {
   "cell_type": "code",
   "execution_count": 49,
   "metadata": {},
   "outputs": [],
   "source": [
    "def runLengthEncoding(string):\n",
    "    # Write your code here.\n",
    "    return \"\".join(runLengthEncodingHelper(string, []))\n",
    "    \n",
    "def runLengthEncodingHelper(string, container):\n",
    "    if string == '':\n",
    "        return []\n",
    "    theChar = string[0]\n",
    "    counter = 0\n",
    "    while counter < 9 and counter < len(string):\n",
    "        if string[counter] == theChar:\n",
    "            counter += 1\n",
    "        else:\n",
    "            break\n",
    "    container.append('%d%c' % (counter, theChar))\n",
    "    runLengthEncodingHelper(string[counter:], container)\n",
    "    return container"
   ]
  },
  {
   "cell_type": "code",
   "execution_count": 65,
   "metadata": {},
   "outputs": [],
   "source": [
    "def runLengthEncoding(string):\n",
    "    # Write your code here.\n",
    "    container = []\n",
    "    if string == '':\n",
    "        return ''\n",
    "    theChar = string[0]\n",
    "    counter = 0\n",
    "    for i in range(len(string)):\n",
    "        if counter < 9 and string[i] == theChar:\n",
    "            counter += 1\n",
    "        else:\n",
    "            container.append('%d%c' % (counter, theChar))\n",
    "            counter = 1\n",
    "            theChar = string[i]\n",
    "    container.append('%d%c' % (counter, theChar))\n",
    "    return \"\".join(container)"
   ]
  },
  {
   "cell_type": "code",
   "execution_count": 66,
   "metadata": {},
   "outputs": [
    {
     "output_type": "execute_result",
     "data": {
      "text/plain": [
       "'9A4A2B4C2D'"
      ]
     },
     "metadata": {},
     "execution_count": 66
    }
   ],
   "source": [
    "runLengthEncoding('AAAAAAAAAAAAABBCCCCDD')"
   ]
  },
  {
   "source": [
    "## Expert Solution"
   ],
   "cell_type": "markdown",
   "metadata": {}
  },
  {
   "cell_type": "code",
   "execution_count": 59,
   "metadata": {},
   "outputs": [],
   "source": [
    "# O(n) time | O(n) space - where n is the length of the input string\n",
    "def runLengthEncoding(string):\n",
    "    # The input string is guaranteed to be non-empty\n",
    "    # so our first run will be of at least length 1.\n",
    "    encodedStringCharacters = []\n",
    "    currentRunLength = 1\n",
    "\n",
    "    for i in range(1, len(string)):\n",
    "        currentCharacter = string[i]\n",
    "        previousCharacter = string[i - 1]\n",
    "\n",
    "        if currentCharacter != previousCharacter or currentRunLength == 9:\n",
    "            encodedStringCharacters.append(str(currentRunLength))\n",
    "            encodedStringCharacters.append(previousCharacter)\n",
    "            currentRunLength = 0\n",
    "\n",
    "        currentRunLength += 1\n",
    "\n",
    "    # Handle the last run\n",
    "    encodedStringCharacters.append(str(currentRunLength))\n",
    "    encodedStringCharacters.append(string[len(string) - 1])\n",
    "\n",
    "    return \"\".join(encodedStringCharacters)"
   ]
  },
  {
   "cell_type": "code",
   "execution_count": null,
   "metadata": {},
   "outputs": [],
   "source": []
  },
  {
   "source": [
    "## Thoughts\n",
    "### expert solution O(n) time\n",
    "for-loop takes O(n) time, join function takes O(n) time. totally, O(n) + O(n) -> O(n) time"
   ],
   "cell_type": "markdown",
   "metadata": {}
  },
  {
   "cell_type": "code",
   "execution_count": null,
   "metadata": {},
   "outputs": [],
   "source": []
  },
  {
   "cell_type": "code",
   "execution_count": null,
   "metadata": {},
   "outputs": [],
   "source": []
  },
  {
   "cell_type": "code",
   "execution_count": null,
   "metadata": {},
   "outputs": [],
   "source": []
  },
  {
   "cell_type": "code",
   "execution_count": null,
   "metadata": {},
   "outputs": [],
   "source": []
  },
  {
   "cell_type": "code",
   "execution_count": null,
   "metadata": {},
   "outputs": [],
   "source": []
  },
  {
   "cell_type": "code",
   "execution_count": null,
   "metadata": {},
   "outputs": [],
   "source": []
  },
  {
   "cell_type": "code",
   "execution_count": null,
   "metadata": {},
   "outputs": [],
   "source": []
  },
  {
   "cell_type": "code",
   "execution_count": null,
   "metadata": {},
   "outputs": [],
   "source": []
  },
  {
   "cell_type": "code",
   "execution_count": null,
   "metadata": {},
   "outputs": [],
   "source": []
  },
  {
   "cell_type": "code",
   "execution_count": null,
   "metadata": {},
   "outputs": [],
   "source": []
  },
  {
   "cell_type": "code",
   "execution_count": null,
   "metadata": {},
   "outputs": [],
   "source": []
  },
  {
   "cell_type": "code",
   "execution_count": null,
   "metadata": {},
   "outputs": [],
   "source": []
  }
 ]
}