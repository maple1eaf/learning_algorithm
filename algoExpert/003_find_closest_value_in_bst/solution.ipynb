{
 "metadata": {
  "language_info": {
   "codemirror_mode": {
    "name": "ipython",
    "version": 3
   },
   "file_extension": ".py",
   "mimetype": "text/x-python",
   "name": "python",
   "nbconvert_exporter": "python",
   "pygments_lexer": "ipython3",
   "version": 3
  },
  "orig_nbformat": 2
 },
 "nbformat": 4,
 "nbformat_minor": 2,
 "cells": [
  {
   "source": [
    "# Find Closest Value In BST\n",
    "[link](https://www.algoexpert.io/questions/Find%20Closest%20Value%20In%20BST)\n",
    "\n",
    "Write a function that takes in a Binary Search Tree (BST) and a target integer value and returns the closest value to that target value contained in the BST.\n",
    "\n",
    "You can assume that there will only be one closest value.\n",
    "\n",
    "Each `BST` node has an integer `value`, a `left` child node, and a `right` child node. A node is said to be a valid `BST` node if and only if it satisfies the BST property: its `value` is strictly greater than the values of every node to its left; its `value` is less than or equal to the values of every node to its right; and its children nodes are either valid `BST` nodes themselves or `None`/`null`.\n",
    "  "
   ],
   "cell_type": "markdown",
   "metadata": {}
  },
  {
   "source": [
    "sample Input:\n",
    "```\n",
    "tree =   10\n",
    "       /     \\\n",
    "      5      15\n",
    "    /   \\   /   \\\n",
    "   2     5 13   22\n",
    " /           \\\n",
    "1            14\n",
    "target = 12\n",
    "```\n",
    "smaple Output:\n",
    "\n",
    "13\n",
    "\n",
    "This is the class of the input tree. Do not edit.\n",
    "```python\n",
    "class BST:\n",
    "    def __init__(self, value):\n",
    "        self.value = value\n",
    "        self.left = None\n",
    "        self.right = None\n",
    "```"
   ],
   "cell_type": "markdown",
   "metadata": {}
  },
  {
   "source": [
    "## My solution"
   ],
   "cell_type": "markdown",
   "metadata": {}
  },
  {
   "cell_type": "code",
   "execution_count": null,
   "metadata": {},
   "outputs": [],
   "source": [
    "# iteratively\n",
    "def findClosestValueInBst(tree, target):\n",
    "    # O(d) time | O(1) space where d is the depth of the tree\n",
    "    # worst case: d = n,so O(n) time | O(1) space\n",
    "    # avg case: d = log(n), so O(log(n)) time | O(1) space\n",
    "    closest_value = tree.value\n",
    "    closest_distance = abs(tree.value - target)\n",
    "\n",
    "    cur_ = tree\n",
    "    while cur_ is not None:\n",
    "        cur_distance = abs(cur_.value - target)\n",
    "\n",
    "        if cur_distance < closest_distance:\n",
    "            closest_distance = cur_distance\n",
    "            closest_value = cur_.value\n",
    "\n",
    "        if cur_.value < target:\n",
    "            cur_ = cur_.right\n",
    "        elif target < cur_.value:\n",
    "            cur_ = cur_.left\n",
    "        else:\n",
    "            break\n",
    "    return closest_value"
   ]
  },
  {
   "cell_type": "code",
   "execution_count": null,
   "metadata": {},
   "outputs": [],
   "source": [
    "# recursively\n",
    "def findClosestValueInBst(tree, target):\n",
    "    # O(d) time | O(d) space where d is the depth of the tree\n",
    "\t# worst case: d = n,so O(n) time | O(n) space\n",
    "\t# avg case: d = log(n), so O(log(n)) time | O(log(n)) space\n",
    "\tclosest_value = tree.value\n",
    "    closest_distance = abs(tree.value - target)\n",
    "    \n",
    "\tcandi_node = tree.right if tree.value <= target else tree.left\n",
    "\tif candi_node is None:\n",
    "\t\treturn tree.value\n",
    "\t\n",
    "\tcandi_value = findClosestValueInBst(candi_node, target)\n",
    "\tcandi_distance = abs(candi_value - target)\n",
    "\tif closest_distance < candi_distance:\n",
    "\t\treturn closest_value\n",
    "\telse:\n",
    "\t\treturn candi_value"
   ]
  },
  {
   "source": [
    "## Expert Solution"
   ],
   "cell_type": "markdown",
   "metadata": {}
  },
  {
   "cell_type": "code",
   "execution_count": null,
   "metadata": {},
   "outputs": [],
   "source": [
    "# recursively\n",
    "def findClosestValueInBst(tree, target):\n",
    "    # O(d) time | O(d) space where d is the depth of the tree\n",
    "\t# worst case: d = n,so O(n) time | O(n) space\n",
    "\t# avg case: d = log(n), so O(log(n)) time | O(log(n)) space\n",
    "    return findClosestValueInBstHelper(tree, target, tree.value)\n",
    "\n",
    "def findClosestValueInBstHelper(tree, target, closest):\n",
    "    if tree is None:\n",
    "        return closest\n",
    "    if abs(target - closest) > abs(target - tree.value):\n",
    "        closest = tree.value\n",
    "    if target < tree.value:\n",
    "        return findClosestValueInBstHelper(tree.left, target, closest)\n",
    "    elif target > tree.value:\n",
    "        return findClosestValueInBstHelper(tree.right, target, closest)\n",
    "    else:\n",
    "        return closest"
   ]
  },
  {
   "cell_type": "code",
   "execution_count": null,
   "metadata": {},
   "outputs": [],
   "source": [
    "# iteratively\n",
    "def findClosestValueInBst(tree, target):\n",
    "    # O(d) time | O(1) space where d is the depth of the tree\n",
    "    # worst case: d = n,so O(n) time | O(1) space\n",
    "    # avg case: d = log(n), so O(log(n)) time | O(1) space\n",
    "    return findClosestValueInBstHelper(tree, target, tree.value)\n",
    "\n",
    "def findClosestValueInBstHelper(tree, target, closest):\n",
    "    currentNode = tree\n",
    "    while currentNode is not None:\n",
    "        if abs(target - closest) > abs(target - currentNode.value):\n",
    "            closest = currentNode.value\n",
    "        if target > currentNode.value:\n",
    "            currentNode = currentNode.right\n",
    "        elif target < currentNode.value:\n",
    "            currentNode = currentNode.left\n",
    "        else:\n",
    "            break\n",
    "    return closest"
   ]
  },
  {
   "source": [
    "## Thoughts\n",
    "\n",
    "由于问题的需要，我们要在整个过程中跟踪 `closest value` ，所以可以构建一个 `helper function` ，将 `closest value` 作为一个参数，这样就实现了跟踪。不论是迭代还是回溯，都会keep track of 该参数。"
   ],
   "cell_type": "markdown",
   "metadata": {}
  },
  {
   "cell_type": "code",
   "execution_count": null,
   "metadata": {},
   "outputs": [],
   "source": []
  }
 ]
}