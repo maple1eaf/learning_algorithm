{
 "metadata": {
  "language_info": {
   "codemirror_mode": {
    "name": "ipython",
    "version": 3
   },
   "file_extension": ".py",
   "mimetype": "text/x-python",
   "name": "python",
   "nbconvert_exporter": "python",
   "pygments_lexer": "ipython3",
   "version": 3
  },
  "orig_nbformat": 2
 },
 "nbformat": 4,
 "nbformat_minor": 2,
 "cells": [
  {
   "source": [
    "# Waterfall Streams\n",
    "[link](https://www.algoexpert.io/questions/Waterfall%20Streams)"
   ],
   "cell_type": "markdown",
   "metadata": {}
  },
  {
   "source": [
    "## My Solution"
   ],
   "cell_type": "markdown",
   "metadata": {}
  },
  {
   "cell_type": "code",
   "execution_count": null,
   "metadata": {},
   "outputs": [],
   "source": [
    "def waterfallStreams(array, source):\n",
    "    # Write your code here.\n",
    "    # O(w^2 * h) time | O(w) space\n",
    "    water = array[0][:]\n",
    "    water[source] = 100\n",
    "    for level in range(1, len(array)):\n",
    "        curBlock = array[level - 1]\n",
    "        nxtBlock = array[level]\n",
    "        nxtWater = [0 for w in water]\n",
    "        for i, s in enumerate(water):\n",
    "            if s != 0:\n",
    "                left = leftCheck(water, nxtWater, curBlock, nxtBlock, i)\n",
    "                right = rightCheck(water, nxtWater, curBlock, nxtBlock, i)\n",
    "                if left is not None:\n",
    "                    nxtWater[left[0]] += left[1]\n",
    "                if right is not None:\n",
    "                    nxtWater[right[0]] += right[1]\n",
    "        water = nxtWater\n",
    "    return water\n",
    "        \n",
    "def leftCheck(water, nxtWater, curBlock, nxtBlock, startIdx):\n",
    "    res = None\n",
    "    idx = startIdx\n",
    "    streamAmount = water[idx] / 2\n",
    "    while idx >= 0:\n",
    "        if nxtBlock[idx] == 0:\n",
    "            return [idx, streamAmount]\n",
    "        if idx == 0 or curBlock[idx - 1] == 1:\n",
    "            return\n",
    "        idx -= 1\n",
    "    \n",
    "def rightCheck(water, nxtWater, curBlock, nxtBlock, startIdx):\n",
    "    res = None\n",
    "    idx = startIdx\n",
    "    streamAmount = water[idx] / 2\n",
    "    while idx < len(water):\n",
    "        if nxtBlock[idx] == 0:\n",
    "            return [idx, streamAmount]\n",
    "        if idx == len(water) - 1 or curBlock[idx + 1] == 1:\n",
    "            return\n",
    "        idx += 1"
   ]
  },
  {
   "source": [
    "## Expert Solution"
   ],
   "cell_type": "markdown",
   "metadata": {}
  },
  {
   "cell_type": "code",
   "execution_count": null,
   "metadata": {},
   "outputs": [],
   "source": [
    "# O(w^2 * h) time | O(w) space - where w and h\n",
    "# are the width and height of the input array\n",
    "def waterfallStreams(array, source):\n",
    "    rowAbove = array[0][:]\n",
    "    # We'll use -1 to represent water, since 1 is used for a block\n",
    "    rowAbove[source] = -1\n",
    "\n",
    "    for row in range(1, len(array)):\n",
    "        currentRow = array[row][:]\n",
    "\n",
    "        for idx in range(len(rowAbove)):\n",
    "            valueAbove = rowAbove[idx]\n",
    "\n",
    "            hasWaterAbove = valueAbove < 0\n",
    "            hasBlock = currentRow[idx] == 1\n",
    "\n",
    "            if not hasWaterAbove:\n",
    "                continue\n",
    "\n",
    "            if not hasBlock:\n",
    "                # If there is no block in the current column, move the water down.\n",
    "                currentRow[idx] += valueAbove\n",
    "                continue\n",
    "\n",
    "            splitWater = valueAbove / 2\n",
    "\n",
    "            # Move water right.\n",
    "            rightIdx = idx\n",
    "            while rightIdx + 1 < len(rowAbove):\n",
    "                rightIdx += 1\n",
    "                if rowAbove[rightIdx] == 1: # if there is a block in the way\n",
    "                    break\n",
    "                if currentRow[rightIdx] != 1: # if there is no block below us\n",
    "                    currentRow[rightIdx] += splitWater\n",
    "                    break\n",
    "\n",
    "            # Move water left.\n",
    "            leftIdx = idx\n",
    "            while leftIdx - 1 >= 0:\n",
    "                leftIdx -= 1\n",
    "                if rowAbove[leftIdx] == 1: # if there is a block in the way\n",
    "                    break\n",
    "                if currentRow[leftIdx] != 1: # if there is no block below us\n",
    "                    currentRow[leftIdx] += splitWater\n",
    "                    break\n",
    "\n",
    "        rowAbove = currentRow\n",
    "\n",
    "    # Convert our negative values to positive percentages.\n",
    "    finalPercentages = list(map(lambda num: num * -100, rowAbove))\n",
    "\n",
    "    return finalPercentages"
   ]
  },
  {
   "source": [
    "## Thoughts"
   ],
   "cell_type": "markdown",
   "metadata": {}
  },
  {
   "cell_type": "code",
   "execution_count": null,
   "metadata": {},
   "outputs": [],
   "source": []
  },
  {
   "cell_type": "code",
   "execution_count": null,
   "metadata": {},
   "outputs": [],
   "source": []
  },
  {
   "cell_type": "code",
   "execution_count": null,
   "metadata": {},
   "outputs": [],
   "source": []
  },
  {
   "cell_type": "code",
   "execution_count": null,
   "metadata": {},
   "outputs": [],
   "source": []
  },
  {
   "cell_type": "code",
   "execution_count": null,
   "metadata": {},
   "outputs": [],
   "source": []
  },
  {
   "cell_type": "code",
   "execution_count": null,
   "metadata": {},
   "outputs": [],
   "source": []
  },
  {
   "cell_type": "code",
   "execution_count": null,
   "metadata": {},
   "outputs": [],
   "source": []
  },
  {
   "cell_type": "code",
   "execution_count": null,
   "metadata": {},
   "outputs": [],
   "source": []
  },
  {
   "cell_type": "code",
   "execution_count": null,
   "metadata": {},
   "outputs": [],
   "source": []
  },
  {
   "cell_type": "code",
   "execution_count": null,
   "metadata": {},
   "outputs": [],
   "source": []
  },
  {
   "cell_type": "code",
   "execution_count": null,
   "metadata": {},
   "outputs": [],
   "source": []
  },
  {
   "cell_type": "code",
   "execution_count": null,
   "metadata": {},
   "outputs": [],
   "source": []
  }
 ]
}