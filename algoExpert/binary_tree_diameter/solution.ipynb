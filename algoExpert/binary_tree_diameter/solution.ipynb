{
 "metadata": {
  "language_info": {
   "codemirror_mode": {
    "name": "ipython",
    "version": 3
   },
   "file_extension": ".py",
   "mimetype": "text/x-python",
   "name": "python",
   "nbconvert_exporter": "python",
   "pygments_lexer": "ipython3",
   "version": 3
  },
  "orig_nbformat": 2
 },
 "nbformat": 4,
 "nbformat_minor": 2,
 "cells": [
  {
   "source": [
    "# Binary Tree Diameter\n",
    "[link](https://www.algoexpert.io/questions/Binary%20Tree%20Diameter)"
   ],
   "cell_type": "markdown",
   "metadata": {}
  },
  {
   "source": [
    "## My Solution"
   ],
   "cell_type": "markdown",
   "metadata": {}
  },
  {
   "cell_type": "code",
   "execution_count": null,
   "metadata": {},
   "outputs": [],
   "source": [
    "# This is an input class. Do not edit.\n",
    "class BinaryTree:\n",
    "    def __init__(self, value, left=None, right=None):\n",
    "        self.value = value\n",
    "        self.left = left\n",
    "        self.right = right\n",
    "\n",
    "def binaryTreeDiameter(tree):\n",
    "    # Write your code here.\n",
    "    # O(n) time | O(n) space\n",
    "    binaryTreeRadiusTag(tree)\n",
    "    return binaryTreeMaxDiameter(tree, [0])\n",
    "\n",
    "def binaryTreeRadiusTag(node):\n",
    "    # O(n) time | O(n) space\n",
    "    if node is None:\n",
    "        return 0\n",
    "    leftMaxRadius = binaryTreeRadiusTag(node.left)\n",
    "    rightMaxRadius = binaryTreeRadiusTag(node.right)\n",
    "    node.maxDiameter = leftMaxRadius + rightMaxRadius\n",
    "    return max(leftMaxRadius, rightMaxRadius) + 1\n",
    "\n",
    "def binaryTreeMaxDiameter(node, maxDiameterPointer):\n",
    "    # O(n) time | O(d) space\n",
    "    if node is None:\n",
    "        return\n",
    "    if maxDiameterPointer[0] < node.maxDiameter:\n",
    "        maxDiameterPointer[0] = node.maxDiameter\n",
    "    binaryTreeMaxDiameter(node.left, maxDiameterPointer)\n",
    "    binaryTreeMaxDiameter(node.right, maxDiameterPointer)\n",
    "    return maxDiameterPointer[0]"
   ]
  },
  {
   "cell_type": "code",
   "execution_count": null,
   "metadata": {},
   "outputs": [],
   "source": [
    "# This is an input class. Do not edit.\n",
    "class BinaryTree:\n",
    "    def __init__(self, value, left=None, right=None):\n",
    "        self.value = value\n",
    "        self.left = left\n",
    "        self.right = right\n",
    "\n",
    "def binaryTreeDiameter(tree):\n",
    "    # Write your code here.\n",
    "    # O(n) time | O(d) space\n",
    "    maxDiameterPointer = [0]\n",
    "    binaryTreeDiameterHelper(tree, maxDiameterPointer)\n",
    "    return maxDiameterPointer[0]\n",
    "\n",
    "def binaryTreeDiameterHelper(node, maxDiameterPointer):\n",
    "    if node is None:\n",
    "        return 0\n",
    "    leftMaxRadius = binaryTreeDiameterHelper(node.left, maxDiameterPointer)\n",
    "    rightMaxRadius = binaryTreeDiameterHelper(node.right, maxDiameterPointer)\n",
    "    \n",
    "    maxDiameter = leftMaxRadius + rightMaxRadius\n",
    "    if maxDiameterPointer[0] < maxDiameter:\n",
    "        maxDiameterPointer[0] = maxDiameter\n",
    "        \n",
    "    return max(leftMaxRadius, rightMaxRadius) + 1"
   ]
  },
  {
   "source": [
    "## Expert Solution"
   ],
   "cell_type": "markdown",
   "metadata": {}
  },
  {
   "cell_type": "code",
   "execution_count": null,
   "metadata": {},
   "outputs": [],
   "source": [
    "# This is an input class. Do not edit.\n",
    "class BinaryTree:\n",
    "    def __init__(self, value, left=None, right=None):\n",
    "        self.value = value\n",
    "        self.left = left\n",
    "        self.right = right\n",
    "\n",
    "# Average case: when the tree is balanced\n",
    "# O(n) time | O(h) space\n",
    "# where n is the number of nodes in the Binary Tree and\n",
    "# h is the height of the Binary tree\n",
    "def binaryTreeDiameter(tree):\n",
    "\treturn getTreeInfo(tree).diameter\n",
    "\n",
    "def getTreeInfo(tree):\n",
    "\tif tree is None:\n",
    "        return TreeInfo(0, 0)\n",
    "\n",
    "    leftTreeInfo = getTreeinfo(tree.left)\n",
    "    rightTreeInfo = getTreeInfo(tree.right)\n",
    "\n",
    "    longestPathThroughRoot = leftTreeInfo.height + rightTreeInfo.height\n",
    "    maxDiameterSoFar = max(leftTreeInfo.diameter, rightTreeInfo.diameter)\n",
    "    currentDiameter = max(longestPathThroughRoot, maxDiameterSoFar)\n",
    "    currentHeight = 1 + max(leftTreeInfo.height, rightTreeInfo.height)\n",
    "\n",
    "    return TreeInfo(currentDiameter, currentHeight)\n",
    "\n",
    "class TreeInfo:\n",
    "    def __init__(self, diameter, height):\n",
    "        self.diameter = diameter\n",
    "        self.height = height"
   ]
  },
  {
   "cell_type": "code",
   "execution_count": null,
   "metadata": {},
   "outputs": [],
   "source": []
  },
  {
   "source": [
    "## Thoughts\n",
    "### my solution\n",
    "calculate the max diameter through one root node:\n",
    "\n",
    "one root node's max diameter = max left radius + max right radius\n",
    "\n",
    "### expert solution\n",
    "see every node as a complete binary tree, and calculate its binary tree diameter described in the question:\n",
    "\n",
    "binary tree diameter of a node (as root) = max(longest path through root so far, max binary tree diameter of its children)"
   ],
   "cell_type": "markdown",
   "metadata": {}
  },
  {
   "cell_type": "code",
   "execution_count": null,
   "metadata": {},
   "outputs": [],
   "source": []
  },
  {
   "cell_type": "code",
   "execution_count": null,
   "metadata": {},
   "outputs": [],
   "source": []
  },
  {
   "cell_type": "code",
   "execution_count": null,
   "metadata": {},
   "outputs": [],
   "source": []
  },
  {
   "cell_type": "code",
   "execution_count": null,
   "metadata": {},
   "outputs": [],
   "source": []
  },
  {
   "cell_type": "code",
   "execution_count": null,
   "metadata": {},
   "outputs": [],
   "source": []
  },
  {
   "cell_type": "code",
   "execution_count": null,
   "metadata": {},
   "outputs": [],
   "source": []
  },
  {
   "cell_type": "code",
   "execution_count": null,
   "metadata": {},
   "outputs": [],
   "source": []
  },
  {
   "cell_type": "code",
   "execution_count": null,
   "metadata": {},
   "outputs": [],
   "source": []
  },
  {
   "cell_type": "code",
   "execution_count": null,
   "metadata": {},
   "outputs": [],
   "source": []
  },
  {
   "cell_type": "code",
   "execution_count": null,
   "metadata": {},
   "outputs": [],
   "source": []
  },
  {
   "cell_type": "code",
   "execution_count": null,
   "metadata": {},
   "outputs": [],
   "source": []
  },
  {
   "cell_type": "code",
   "execution_count": null,
   "metadata": {},
   "outputs": [],
   "source": []
  }
 ]
}