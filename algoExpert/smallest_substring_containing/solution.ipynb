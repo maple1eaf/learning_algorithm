{
 "metadata": {
  "language_info": {
   "codemirror_mode": {
    "name": "ipython",
    "version": 3
   },
   "file_extension": ".py",
   "mimetype": "text/x-python",
   "name": "python",
   "nbconvert_exporter": "python",
   "pygments_lexer": "ipython3",
   "version": 3
  },
  "orig_nbformat": 2
 },
 "nbformat": 4,
 "nbformat_minor": 2,
 "cells": [
  {
   "source": [
    "# Smallest Substring Containing\n",
    "[link](https://www.algoexpert.io/questions/Smallest%20Substring%20Containing)"
   ],
   "cell_type": "markdown",
   "metadata": {}
  },
  {
   "source": [
    "## My Solution"
   ],
   "cell_type": "markdown",
   "metadata": {}
  },
  {
   "cell_type": "code",
   "execution_count": null,
   "metadata": {},
   "outputs": [],
   "source": [
    "# O(b + s) time | O(b + s) space\n",
    "def smallestSubstringContaining(bigString, smallString):\n",
    "    # Write your code here.\n",
    "    small = {}\n",
    "    for s in smallString:\n",
    "        if s not in small:\n",
    "            small[s] = 1\n",
    "        else:\n",
    "            small[s] += 1\n",
    "    smallLength = len(smallString)\n",
    "    \n",
    "    big = {}\n",
    "    curLength = 0\n",
    "    left, right = 0, 0\n",
    "    shortestLength = float(\"inf\")\n",
    "    shortest = [0, 0]\n",
    "    while right < len(bigString) or curLength == smallLength:\n",
    "        if curLength < smallLength:\n",
    "            # move right pointer\n",
    "            curChar = bigString[right]\n",
    "            if curChar not in big:\n",
    "                big[curChar] = 1\n",
    "            else:\n",
    "                big[curChar] += 1\n",
    "            if curChar in small and big[curChar] == small[curChar]:\n",
    "                curLength += small[curChar]\n",
    "            right += 1\n",
    "        elif curLength == smallLength:\n",
    "            # move left pointer\n",
    "            curChar = bigString[left]\n",
    "            big[curChar] -= 1\n",
    "            if curChar in small and big[curChar] < small[curChar]:\n",
    "                curLength -= small[curChar]\n",
    "                if right - left < shortestLength:\n",
    "                    shortest = [left, right]\n",
    "                    shortestLength = right - left\n",
    "            left += 1\n",
    "    return bigString[shortest[0]:shortest[1]]\n",
    "                \n"
   ]
  },
  {
   "cell_type": "code",
   "execution_count": null,
   "metadata": {},
   "outputs": [],
   "source": [
    "# O(b + s) time | O(b + s) space\n",
    "def smallestSubstringContaining(bigString, smallString):\n",
    "    # Write your code here.\n",
    "    small = {}\n",
    "    for s in smallString:\n",
    "        if s not in small:\n",
    "            small[s] = 1\n",
    "        else:\n",
    "            small[s] += 1\n",
    "    smallLength = len(smallString)\n",
    "    \n",
    "    big = {}\n",
    "    curLength = 0\n",
    "    left, right = 0, 0\n",
    "    shortestLength = float(\"inf\")\n",
    "    shortest = [0, 0]\n",
    "    while right < len(bigString):\n",
    "        # move right pointer\n",
    "        curChar = bigString[right]\n",
    "        if curChar not in small:\n",
    "            right += 1\n",
    "            continue\n",
    "        if curChar not in big:\n",
    "            big[curChar] = 1\n",
    "        else:\n",
    "            big[curChar] += 1\n",
    "        if big[curChar] == small[curChar]:\n",
    "            curLength += small[curChar]\n",
    "        right += 1\n",
    "        while curLength == smallLength:\n",
    "            # move left pointer\n",
    "            curChar = bigString[left]\n",
    "            if curChar not in small:\n",
    "                left += 1\n",
    "                continue\n",
    "            big[curChar] -= 1\n",
    "            if big[curChar] < small[curChar]:\n",
    "                curLength -= small[curChar]\n",
    "                if right - left < shortestLength:\n",
    "                    shortest = [left, right]\n",
    "                    shortestLength = right - left\n",
    "            left += 1\n",
    "    return bigString[shortest[0]:shortest[1]]"
   ]
  },
  {
   "source": [
    "## Expert Solution"
   ],
   "cell_type": "markdown",
   "metadata": {}
  },
  {
   "cell_type": "code",
   "execution_count": null,
   "metadata": {},
   "outputs": [],
   "source": [
    "# O(b + s) time | O(b + s) space - where b is the length of the big\n",
    "# input string and s is the length of the small input string\n",
    "def smallestSubstringContaining(bigString, smallString):\n",
    "    targetCharCounts = getCharCounts(smallString)\n",
    "    substringBounds = getSubstringBounds(bigString, targetCharCounts)\n",
    "    return getStringFromBounds(bigString, substringBounds)\n",
    "\n",
    "def getCharCounts(string):\n",
    "    charCounts = {}\n",
    "    for char in string:\n",
    "        increaseCharCount(char, charCounts)\n",
    "    return charCounts\n",
    "\n",
    "def getSubstringBounds(string, targetCharCounts):\n",
    "    substringBounds = [0, float(\"inf\")]\n",
    "    substringCharCounts = {}\n",
    "    numUniqueChars = len(targetCharCounts.keys())\n",
    "    numUniqueCharsDone = 0\n",
    "    leftIdx = 0\n",
    "    rightIdx = 0\n",
    "    # Move the rightIdx to the right in the string until you've counted\n",
    "    # all of the target characters enough times.\n",
    "    while rightIdx < len(string):\n",
    "        rightChar = string[rightIdx]\n",
    "        if rightChar not in targetCharCounts:\n",
    "            rightIdx += 1\n",
    "            continue\n",
    "        increaseCharCount(rightChar, substringCharCounts)\n",
    "        if substringCharCounts[rightChar] == targetCharCounts[rightChar]:\n",
    "            numUniqueCharsDone += 1\n",
    "        # Move the leftIdx to the right in the string until you no longer\n",
    "        # have enough of the target characters in between the leftIdx and\n",
    "        # the rightIdx. Update the substringBounds accordingly.\n",
    "        while numUniqueCharsDone == numUniqueChars and leftIdx <= rightIdx:\n",
    "            substringBounds = getCloserBounds(leftIdx, rightIdx, substringBounds[0], substringBounds[1])\n",
    "            leftChar = string[leftIdx]\n",
    "            if leftChar not in targetCharCounts:\n",
    "                leftIdx += 1\n",
    "                continue\n",
    "            if substringCharCounts[leftChar] == targetCharCounts[leftChar]:\n",
    "                numUniqueCharsDone -= 1\n",
    "            decreaseCharCount(leftChar, substringCharCounts)\n",
    "            leftIdx += 1\n",
    "        rightIdx += 1\n",
    "    return substringBounds\n",
    "\n",
    "def getCloserBounds(idx1, idx2, idx3, idx4):\n",
    "    return [idx1, idx2] if idx2 - idx1 < idx4 - idx3 else [idx3, idx4]\n",
    "\n",
    "def getStringFromBounds(string, bounds):\n",
    "    start, end = bounds\n",
    "    if end == float(\"inf\"):\n",
    "        return \"\"\n",
    "    return string[start : end + 1]\n",
    "\n",
    "def increaseCharCount(char, charCounts):\n",
    "    if char not in charCounts:\n",
    "        charCounts[char] = 0\n",
    "    charCounts[char] += 1\n",
    "\n",
    "def decreaseCharCount(char, charCounts):\n",
    "    charCounts[char] -= 1"
   ]
  },
  {
   "source": [
    "## Thoughts\n",
    "sliding window\n",
    "\n",
    "### improvements of my solution 2 than 1\n",
    "- use two while-loop to replace the complicated one while-loop condition, make the logic clearer\n",
    "- do not store the charactors that are in bigString but not in smallString. save the memory. the O(b) in space complexity comes from the output of the whole algorithm which could be the whole bigString."
   ],
   "cell_type": "markdown",
   "metadata": {}
  },
  {
   "cell_type": "code",
   "execution_count": null,
   "metadata": {},
   "outputs": [],
   "source": []
  },
  {
   "cell_type": "code",
   "execution_count": null,
   "metadata": {},
   "outputs": [],
   "source": []
  },
  {
   "cell_type": "code",
   "execution_count": null,
   "metadata": {},
   "outputs": [],
   "source": []
  },
  {
   "cell_type": "code",
   "execution_count": null,
   "metadata": {},
   "outputs": [],
   "source": []
  },
  {
   "cell_type": "code",
   "execution_count": null,
   "metadata": {},
   "outputs": [],
   "source": []
  },
  {
   "cell_type": "code",
   "execution_count": null,
   "metadata": {},
   "outputs": [],
   "source": []
  },
  {
   "cell_type": "code",
   "execution_count": null,
   "metadata": {},
   "outputs": [],
   "source": []
  },
  {
   "cell_type": "code",
   "execution_count": null,
   "metadata": {},
   "outputs": [],
   "source": []
  },
  {
   "cell_type": "code",
   "execution_count": null,
   "metadata": {},
   "outputs": [],
   "source": []
  },
  {
   "cell_type": "code",
   "execution_count": null,
   "metadata": {},
   "outputs": [],
   "source": []
  },
  {
   "cell_type": "code",
   "execution_count": null,
   "metadata": {},
   "outputs": [],
   "source": []
  },
  {
   "cell_type": "code",
   "execution_count": null,
   "metadata": {},
   "outputs": [],
   "source": []
  }
 ]
}