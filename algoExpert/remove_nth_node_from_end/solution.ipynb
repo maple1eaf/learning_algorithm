{
 "metadata": {
  "language_info": {
   "codemirror_mode": {
    "name": "ipython",
    "version": 3
   },
   "file_extension": ".py",
   "mimetype": "text/x-python",
   "name": "python",
   "nbconvert_exporter": "python",
   "pygments_lexer": "ipython3",
   "version": 3
  },
  "orig_nbformat": 2
 },
 "nbformat": 4,
 "nbformat_minor": 2,
 "cells": [
  {
   "source": [
    "# Remove Nth Node From End\n",
    "[link](https://www.algoexpert.io/questions/Remove%20Kth%20Node%20From%20End)"
   ],
   "cell_type": "markdown",
   "metadata": {}
  },
  {
   "source": [
    "## My Solution"
   ],
   "cell_type": "markdown",
   "metadata": {}
  },
  {
   "cell_type": "code",
   "execution_count": null,
   "metadata": {},
   "outputs": [],
   "source": [
    "# This is an input class. Do not edit.\n",
    "class LinkedList:\n",
    "    def __init__(self, value):\n",
    "        self.value = value\n",
    "        self.next = None\n",
    "\n",
    "\n",
    "def removeKthNodeFromEnd(head, k):\n",
    "    # Write your code here.\n",
    "    searchPointer = head\n",
    "    for i in range(k):\n",
    "        searchPointer = searchPointer.next\n",
    "    # mind the situation removing the first node\n",
    "    if searchPointer is None:\n",
    "        head.value = head.next.value\n",
    "        head.next= head.next.next\n",
    "        return\n",
    "    nodeBeforeRemove = head\n",
    "    while searchPointer.next is not None:\n",
    "        searchPointer = searchPointer.next\n",
    "        nodeBeforeRemove = nodeBeforeRemove.next\n",
    "    # mind the situation removing the last node\n",
    "    nodeBeforeRemove.next = nodeBeforeRemove.next.next"
   ]
  },
  {
   "cell_type": "code",
   "execution_count": null,
   "metadata": {},
   "outputs": [],
   "source": []
  },
  {
   "source": [
    "## Expert Solution"
   ],
   "cell_type": "markdown",
   "metadata": {}
  },
  {
   "cell_type": "code",
   "execution_count": null,
   "metadata": {},
   "outputs": [],
   "source": [
    "class LinkedList:\n",
    "    def __init__(self, value):\n",
    "        self.value = value\n",
    "        self.next = None\n",
    "\n",
    "# O(n) time | O(1) space\n",
    "def removeKthNodeFromEnd(head, k):\n",
    "    counter = 1\n",
    "    first = head\n",
    "    second = head\n",
    "    while counter <= k:\n",
    "        second = second.next\n",
    "        counter += 1\n",
    "    if second is None:\n",
    "        head.value = head.next.value\n",
    "        head.next= head.next.next\n",
    "        return\n",
    "    while second.next is not None:\n",
    "        second = second.next\n",
    "        first = first.next\n",
    "    first.next = first.next.next"
   ]
  },
  {
   "cell_type": "code",
   "execution_count": null,
   "metadata": {},
   "outputs": [],
   "source": []
  },
  {
   "source": [
    "## Thoughts\n",
    "### sliding window\n",
    "use two pointers to create a sliding window to help the traversing"
   ],
   "cell_type": "markdown",
   "metadata": {}
  },
  {
   "cell_type": "code",
   "execution_count": null,
   "metadata": {},
   "outputs": [],
   "source": []
  },
  {
   "cell_type": "code",
   "execution_count": null,
   "metadata": {},
   "outputs": [],
   "source": []
  },
  {
   "cell_type": "code",
   "execution_count": null,
   "metadata": {},
   "outputs": [],
   "source": []
  },
  {
   "cell_type": "code",
   "execution_count": null,
   "metadata": {},
   "outputs": [],
   "source": []
  },
  {
   "cell_type": "code",
   "execution_count": null,
   "metadata": {},
   "outputs": [],
   "source": []
  },
  {
   "cell_type": "code",
   "execution_count": null,
   "metadata": {},
   "outputs": [],
   "source": []
  },
  {
   "cell_type": "code",
   "execution_count": null,
   "metadata": {},
   "outputs": [],
   "source": []
  },
  {
   "cell_type": "code",
   "execution_count": null,
   "metadata": {},
   "outputs": [],
   "source": []
  },
  {
   "cell_type": "code",
   "execution_count": null,
   "metadata": {},
   "outputs": [],
   "source": []
  },
  {
   "cell_type": "code",
   "execution_count": null,
   "metadata": {},
   "outputs": [],
   "source": []
  },
  {
   "cell_type": "code",
   "execution_count": null,
   "metadata": {},
   "outputs": [],
   "source": []
  },
  {
   "cell_type": "code",
   "execution_count": null,
   "metadata": {},
   "outputs": [],
   "source": []
  }
 ]
}