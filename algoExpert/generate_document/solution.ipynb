{
 "metadata": {
  "language_info": {
   "codemirror_mode": {
    "name": "ipython",
    "version": 3
   },
   "file_extension": ".py",
   "mimetype": "text/x-python",
   "name": "python",
   "nbconvert_exporter": "python",
   "pygments_lexer": "ipython3",
   "version": 3
  },
  "orig_nbformat": 2
 },
 "nbformat": 4,
 "nbformat_minor": 2,
 "cells": [
  {
   "cell_type": "markdown",
   "source": [
    "# Generate Document\n",
    "[link](https://www.algoexpert.io/questions/Generate%20Document)"
   ],
   "metadata": {}
  },
  {
   "cell_type": "markdown",
   "source": [
    "## My Solution"
   ],
   "metadata": {}
  },
  {
   "cell_type": "code",
   "execution_count": null,
   "source": [
    "# O(n + m) time | O(c) space - where n is the number\n",
    "# of characters and m is the length of the document\n",
    "def generateDocument(characters, document):\n",
    "    # Write your code here.\n",
    "    freqs = {}\n",
    "    for c in characters:\n",
    "        if c not in freqs:\n",
    "            freqs[c] = 1\n",
    "        else:\n",
    "            freqs[c] += 1\n",
    "    for c in document:\n",
    "        if c not in freqs:\n",
    "            return False\n",
    "        freqs[c] -= 1\n",
    "        if freqs[c] < 0:\n",
    "            return False\n",
    "    return True"
   ],
   "outputs": [],
   "metadata": {}
  },
  {
   "cell_type": "markdown",
   "source": [
    "## Expert Solution"
   ],
   "metadata": {}
  },
  {
   "cell_type": "code",
   "execution_count": null,
   "source": [
    "# O(m * (n + m)) time | O(1) space - where n is the number\n",
    "# of characters and m is the length of the document\n",
    "def generateDocument(characters, document):\n",
    "    for character in document:\n",
    "        documentFrequency = countCharacterFrequency(character, document)\n",
    "        characterFrequency = countCharacterFrequency(character, characters)\n",
    "        if documentFrequency > characterFrequency:\n",
    "            return False\n",
    "    \n",
    "    return True\n",
    "\n",
    "\n",
    "def countCharacterFrequency(character, target):\n",
    "    frequency = 0\n",
    "    for char in target:\n",
    "        if char == character:\n",
    "            frequency += 1\n",
    "\n",
    "    return frequency"
   ],
   "outputs": [],
   "metadata": {}
  },
  {
   "cell_type": "code",
   "execution_count": null,
   "source": [
    "# O(c * (n + m)) time | O(c) space - where n is the number of characters and m is \n",
    "# the length of the document, and c is the number of unique characters in the document\n",
    "def generateDocument(characters, document):\n",
    "    alreadyCounted = set()\n",
    "\n",
    "    for character in document:\n",
    "        if character in alreadyCounted:\n",
    "            continue\n",
    "\n",
    "        documentFrequency = countCharacterFrequency(character, document)\n",
    "        characterFrequency = countCharacterFrequency(character, characters)\n",
    "        if documentFrequency > characterFrequency:\n",
    "            return False\n",
    "    \n",
    "        alreadyCounted.add(character)\n",
    "        \n",
    "    return True\n",
    "\n",
    "\n",
    "def countCharacterFrequency(character, target):\n",
    "    frequency = 0\n",
    "    for char in target:\n",
    "        if char == character:\n",
    "            frequency += 1\n",
    "\n",
    "    return frequency"
   ],
   "outputs": [],
   "metadata": {}
  },
  {
   "cell_type": "code",
   "execution_count": null,
   "source": [
    "# O(n + m) time | O(c) space - where n is the number of characters and m is \n",
    "# the length of the document, and c is the number of unique characters in the document\n",
    "def generateDocument(characters, document):\n",
    "    characterCounts = {}\n",
    "\n",
    "    for character in characters:\n",
    "        if character not in characterCounts:\n",
    "            characterCounts[character] = 0\n",
    "\n",
    "        characterCounts[character] += 1\n",
    "\n",
    "    for character in document:\n",
    "        if character not in characterCounts or characterCounts[character] == 0:\n",
    "            return False\n",
    "\n",
    "        characterCounts[character] -= 1\n",
    "    \n",
    "    return True"
   ],
   "outputs": [],
   "metadata": {}
  },
  {
   "cell_type": "markdown",
   "source": [
    "## Thoughts"
   ],
   "metadata": {}
  },
  {
   "cell_type": "code",
   "execution_count": null,
   "source": [],
   "outputs": [],
   "metadata": {}
  },
  {
   "cell_type": "code",
   "execution_count": null,
   "source": [],
   "outputs": [],
   "metadata": {}
  },
  {
   "cell_type": "code",
   "execution_count": null,
   "source": [],
   "outputs": [],
   "metadata": {}
  },
  {
   "cell_type": "code",
   "execution_count": null,
   "source": [],
   "outputs": [],
   "metadata": {}
  },
  {
   "cell_type": "code",
   "execution_count": null,
   "source": [],
   "outputs": [],
   "metadata": {}
  },
  {
   "cell_type": "code",
   "execution_count": null,
   "source": [],
   "outputs": [],
   "metadata": {}
  },
  {
   "cell_type": "code",
   "execution_count": null,
   "source": [],
   "outputs": [],
   "metadata": {}
  },
  {
   "cell_type": "code",
   "execution_count": null,
   "source": [],
   "outputs": [],
   "metadata": {}
  },
  {
   "cell_type": "code",
   "execution_count": null,
   "source": [],
   "outputs": [],
   "metadata": {}
  },
  {
   "cell_type": "code",
   "execution_count": null,
   "source": [],
   "outputs": [],
   "metadata": {}
  },
  {
   "cell_type": "code",
   "execution_count": null,
   "source": [],
   "outputs": [],
   "metadata": {}
  },
  {
   "cell_type": "code",
   "execution_count": null,
   "source": [],
   "outputs": [],
   "metadata": {}
  }
 ]
}