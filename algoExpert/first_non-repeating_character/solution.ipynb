{
 "metadata": {
  "language_info": {
   "codemirror_mode": {
    "name": "ipython",
    "version": 3
   },
   "file_extension": ".py",
   "mimetype": "text/x-python",
   "name": "python",
   "nbconvert_exporter": "python",
   "pygments_lexer": "ipython3",
   "version": 3
  },
  "orig_nbformat": 2
 },
 "nbformat": 4,
 "nbformat_minor": 2,
 "cells": [
  {
   "cell_type": "markdown",
   "source": [
    "# First Non-Repeating Character\n",
    "[link](https://www.algoexpert.io/questions/First%20Non-Repeating%20Character)"
   ],
   "metadata": {}
  },
  {
   "cell_type": "markdown",
   "source": [
    "## My Solution"
   ],
   "metadata": {}
  },
  {
   "cell_type": "code",
   "execution_count": 2,
   "source": [
    "# O(n) time | O(1) space\n",
    "def firstNonRepeatingCharacter(string):\n",
    "    # Write your code here.\n",
    "    found = {}\n",
    "    for idx, c in enumerate(string):\n",
    "        if c not in found:\n",
    "            found[c] = [idx, 1]\n",
    "        else:\n",
    "            found[c][1] += 1\n",
    "            \n",
    "    firstNonRepeatingIdx = float(\"inf\")\n",
    "    for idx, times in found.values():\n",
    "        if times == 1 and idx < firstNonRepeatingIdx:\n",
    "            firstNonRepeatingIdx = idx\n",
    "            \n",
    "    if firstNonRepeatingIdx == float(\"inf\"):\n",
    "        return -1\n",
    "    return firstNonRepeatingIdx"
   ],
   "outputs": [],
   "metadata": {}
  },
  {
   "cell_type": "markdown",
   "source": [
    "## Expert Solution"
   ],
   "metadata": {}
  },
  {
   "cell_type": "code",
   "execution_count": null,
   "source": [
    "# O(n^2) time | O(1) space - where n is the length of the input string\n",
    "def firstNonRepeatingCharacter(string):\n",
    "    for idx in range(len(string)):\n",
    "        foundDuplicate = False\n",
    "        for idx2 in range(len(string)):\n",
    "            if string[idx] == string[idx2] and idx != idx2:\n",
    "                foundDuplicate = True\n",
    "        \n",
    "        if not foundDuplicate:\n",
    "            return idx\n",
    "    \n",
    "    return -1"
   ],
   "outputs": [],
   "metadata": {}
  },
  {
   "cell_type": "code",
   "execution_count": null,
   "source": [
    "# O(n) time | O(1) space - where n is the length of the input string\n",
    "# The constant space is because the input string only has lowercase\n",
    "# English-alphabet letters; thus, our hash table will never have more\n",
    "# than 26 character frequencies.\n",
    "def firstNonRepeatingCharacter(string):\n",
    "    characterFrequencies = {}\n",
    "\n",
    "    for character in string:\n",
    "        characterFrequencies[character] = characterFrequencies.get(character, 0) + 1\n",
    "\n",
    "    for idx in range(len(string)):\n",
    "        character = string[idx]\n",
    "        if characterFrequencies[character] == 1:\n",
    "            return idx\n",
    "\n",
    "    return -1"
   ],
   "outputs": [],
   "metadata": {}
  },
  {
   "cell_type": "markdown",
   "source": [
    "## Thoughts"
   ],
   "metadata": {}
  },
  {
   "cell_type": "markdown",
   "source": [
    "## the reason of O(1) space\n",
    "- english alphabet only has 26 letters."
   ],
   "metadata": {}
  },
  {
   "cell_type": "code",
   "execution_count": null,
   "source": [],
   "outputs": [],
   "metadata": {}
  },
  {
   "cell_type": "code",
   "execution_count": null,
   "source": [],
   "outputs": [],
   "metadata": {}
  },
  {
   "cell_type": "code",
   "execution_count": null,
   "source": [],
   "outputs": [],
   "metadata": {}
  },
  {
   "cell_type": "code",
   "execution_count": null,
   "source": [],
   "outputs": [],
   "metadata": {}
  },
  {
   "cell_type": "code",
   "execution_count": null,
   "source": [],
   "outputs": [],
   "metadata": {}
  },
  {
   "cell_type": "code",
   "execution_count": null,
   "source": [],
   "outputs": [],
   "metadata": {}
  },
  {
   "cell_type": "code",
   "execution_count": null,
   "source": [],
   "outputs": [],
   "metadata": {}
  },
  {
   "cell_type": "code",
   "execution_count": null,
   "source": [],
   "outputs": [],
   "metadata": {}
  },
  {
   "cell_type": "code",
   "execution_count": null,
   "source": [],
   "outputs": [],
   "metadata": {}
  },
  {
   "cell_type": "code",
   "execution_count": null,
   "source": [],
   "outputs": [],
   "metadata": {}
  },
  {
   "cell_type": "code",
   "execution_count": null,
   "source": [],
   "outputs": [],
   "metadata": {}
  }
 ]
}