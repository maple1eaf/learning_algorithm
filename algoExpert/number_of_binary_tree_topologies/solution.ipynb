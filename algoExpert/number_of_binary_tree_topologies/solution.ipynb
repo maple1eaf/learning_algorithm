{
 "metadata": {
  "language_info": {
   "codemirror_mode": {
    "name": "ipython",
    "version": 3
   },
   "file_extension": ".py",
   "mimetype": "text/x-python",
   "name": "python",
   "nbconvert_exporter": "python",
   "pygments_lexer": "ipython3",
   "version": 3
  },
  "orig_nbformat": 2
 },
 "nbformat": 4,
 "nbformat_minor": 2,
 "cells": [
  {
   "source": [
    "# Number Of Binary Tree Topologies\n",
    "[link](https://www.algoexpert.io/questions/Number%20Of%20Binary%20Tree%20Topologies)"
   ],
   "cell_type": "markdown",
   "metadata": {}
  },
  {
   "source": [
    "## My Solution"
   ],
   "cell_type": "markdown",
   "metadata": {}
  },
  {
   "cell_type": "code",
   "execution_count": null,
   "metadata": {},
   "outputs": [],
   "source": [
    "# O(n^2) time | O(n) space\n",
    "def numberOfBinaryTreeTopologies(n):\n",
    "    # Write your code here.\n",
    "    memo = {0: 1}\n",
    "    return helper(n, memo)\n",
    "    \n",
    "\n",
    "def helper(n, memo):\n",
    "    if n in memo:\n",
    "        return memo[n]\n",
    "    numOfN = 0\n",
    "    for x in range(n):\n",
    "        numOfN += helper(x, memo) * helper(n - x - 1, memo)\n",
    "    memo[n] = numOfN\n",
    "    return memo[n]"
   ]
  },
  {
   "source": [
    "## Expert Solution"
   ],
   "cell_type": "markdown",
   "metadata": {}
  },
  {
   "cell_type": "code",
   "execution_count": null,
   "metadata": {},
   "outputs": [],
   "source": [
    "# Upper Bound: O((n*(2n)!)/(n!(n+1)!)) time | O(n) space\n",
    "def numberOfBinaryTreeTopologies(n):\n",
    "    if n == 0:\n",
    "        return 1\n",
    "    numberOfTrees = 0\n",
    "    for leftTreeSize in range(n):\n",
    "        rightTreeSize = n - 1 - leftTreeSize\n",
    "        numberOfLeftTrees = numberOfBinaryTreeTopologies(leftTreeSize)\n",
    "        numberOfRightTrees = numberOfBinaryTreeTopologies(rightTreeSize)\n",
    "        numberOfTrees += numberOfLeftTrees * numberOfRightTrees\n",
    "    return numberOfTrees"
   ]
  },
  {
   "cell_type": "code",
   "execution_count": null,
   "metadata": {},
   "outputs": [],
   "source": [
    "# O(n^2) time | O(n) space\n",
    "def numberOfBinaryTreeTopologies(n, cache={0: 1}):\n",
    "    if n in cache:\n",
    "        return cache[n]\n",
    "    numberOfTrees = 0\n",
    "    for leftTreeSize in range(n):\n",
    "        rightTreeSize = n - 1 - leftTreeSize\n",
    "        numberOfLeftTrees = numberOfBinaryTreeTopologies(leftTreeSize, cache)\n",
    "        numberOfRightTrees = numberOfBinaryTreeTopologies(rightTreeSize, cache)\n",
    "        numberOfTrees += numberOfLeftTrees * numberOfRightTrees\n",
    "    cache[n] = numberOfTrees\n",
    "    return numberOfTrees"
   ]
  },
  {
   "cell_type": "code",
   "execution_count": null,
   "metadata": {},
   "outputs": [],
   "source": [
    "# O(n^2) time | O(n) space\n",
    "def numberOfBinaryTreeTopologies(n):\n",
    "    cache = [1]\n",
    "\tfor m in range(1, n + 1):\n",
    "\t\tnumberOfTrees = 0\n",
    "\t\tfor leftTreeSize in range(m):\n",
    "\t\t\trightTreeSize = m - 1 - leftTreeSize\n",
    "\t\t\tnumberOfLeftTrees = cache[leftTreeSize]\n",
    "\t\t\tnumberOfRightTrees = cache[rightTreeSize]\n",
    "\t\t\tnumberOfTrees += numberOfLeftTrees * numberOfRightTrees\n",
    "\t\tcache.append(numberOfTrees)\n",
    "\treturn cache[n]"
   ]
  },
  {
   "source": [
    "## Thoughts\n",
    "### idea\n",
    "every binary tree topology of n nodes where n is greater than 0 must have a root node and an amount of nodes on both of its sides totaling n - 1. if left subtree has x nodes, thus right subtree must have (n - 1 - x) nodes.\n",
    "\n",
    "### formula\n",
    "- f(0) = 1\n",
    "- f(n) = sum of (f(x) * f(n - 1 - x)), for x in `[0, n - 1]`"
   ],
   "cell_type": "markdown",
   "metadata": {}
  },
  {
   "cell_type": "code",
   "execution_count": null,
   "metadata": {},
   "outputs": [],
   "source": []
  },
  {
   "cell_type": "code",
   "execution_count": null,
   "metadata": {},
   "outputs": [],
   "source": []
  },
  {
   "cell_type": "code",
   "execution_count": null,
   "metadata": {},
   "outputs": [],
   "source": []
  },
  {
   "cell_type": "code",
   "execution_count": null,
   "metadata": {},
   "outputs": [],
   "source": []
  },
  {
   "cell_type": "code",
   "execution_count": null,
   "metadata": {},
   "outputs": [],
   "source": []
  },
  {
   "cell_type": "code",
   "execution_count": null,
   "metadata": {},
   "outputs": [],
   "source": []
  },
  {
   "cell_type": "code",
   "execution_count": null,
   "metadata": {},
   "outputs": [],
   "source": []
  },
  {
   "cell_type": "code",
   "execution_count": null,
   "metadata": {},
   "outputs": [],
   "source": []
  },
  {
   "cell_type": "code",
   "execution_count": null,
   "metadata": {},
   "outputs": [],
   "source": []
  },
  {
   "cell_type": "code",
   "execution_count": null,
   "metadata": {},
   "outputs": [],
   "source": []
  },
  {
   "cell_type": "code",
   "execution_count": null,
   "metadata": {},
   "outputs": [],
   "source": []
  },
  {
   "cell_type": "code",
   "execution_count": null,
   "metadata": {},
   "outputs": [],
   "source": []
  }
 ]
}