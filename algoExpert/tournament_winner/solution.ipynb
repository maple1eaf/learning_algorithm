{
 "metadata": {
  "language_info": {
   "codemirror_mode": {
    "name": "ipython",
    "version": 3
   },
   "file_extension": ".py",
   "mimetype": "text/x-python",
   "name": "python",
   "nbconvert_exporter": "python",
   "pygments_lexer": "ipython3",
   "version": 3
  },
  "orig_nbformat": 2
 },
 "nbformat": 4,
 "nbformat_minor": 2,
 "cells": [
  {
   "cell_type": "markdown",
   "source": [
    "# Tournament Winner\n",
    "[link](https://www.algoexpert.io/questions/Tournament%20Winner)"
   ],
   "metadata": {}
  },
  {
   "cell_type": "markdown",
   "source": [
    "## My Solution"
   ],
   "metadata": {}
  },
  {
   "cell_type": "code",
   "execution_count": null,
   "source": [
    "# O(n) time | O(k) space - where n is the number\n",
    "# of competitions and k is the number of teams\n",
    "def tournamentWinner(competitions, results):\n",
    "    # Write your code here.\n",
    "    points = {}\n",
    "    winnerTeam = \"\"\n",
    "    winnerPoint = 0\n",
    "    for i in range(len(results)):\n",
    "        winnerThisRound = competitions[i][0] if results[i] == 1 else competitions[i][1]\n",
    "        \n",
    "        if winnerThisRound not in points:\n",
    "            points[winnerThisRound] = 1\n",
    "        else:\n",
    "            points[winnerThisRound] += 1\n",
    "            \n",
    "        if points[winnerThisRound] > winnerPoint:\n",
    "            winnerPoint = points[winnerThisRound]\n",
    "            winnerTeam = winnerThisRound\n",
    "    return winnerTeam"
   ],
   "outputs": [],
   "metadata": {}
  },
  {
   "cell_type": "markdown",
   "source": [
    "## Expert Solution"
   ],
   "metadata": {}
  },
  {
   "cell_type": "code",
   "execution_count": null,
   "source": [
    "HOME_TEAM_WON = 1\n",
    "\n",
    "# O(n) time | O(k) space - where n is the number\n",
    "# of competitions and k is the number of teams\n",
    "def tournamentWinner(competitions, results):\n",
    "    currentBestTeam  = \"\"\n",
    "    scores = {currentBestTeam: 0}\n",
    "\n",
    "    for idx, competition in enumerate(competitions):\n",
    "        result = results[idx]\n",
    "        homeTeam, awayTeam = competition\n",
    "\n",
    "        winningTeam = homeTeam if result == HOME_TEAM_WON else awayTeam\n",
    "\n",
    "        updateScores(winningTeam, 3, scores)\n",
    "\n",
    "        if scores[winningTeam] > scores[currentBestTeam]:\n",
    "            currentBestTeam = winningTeam\n",
    "    \n",
    "    return currentBestTeam\n",
    "        \n",
    "def updateScores(team, points, scores):\n",
    "    if team not in scores:\n",
    "        scores[team] = 0\n",
    "\n",
    "    scores[team] += points"
   ],
   "outputs": [],
   "metadata": {}
  },
  {
   "cell_type": "markdown",
   "source": [
    "## Thoughts"
   ],
   "metadata": {}
  },
  {
   "cell_type": "code",
   "execution_count": null,
   "source": [],
   "outputs": [],
   "metadata": {}
  },
  {
   "cell_type": "code",
   "execution_count": null,
   "source": [],
   "outputs": [],
   "metadata": {}
  },
  {
   "cell_type": "code",
   "execution_count": null,
   "source": [],
   "outputs": [],
   "metadata": {}
  },
  {
   "cell_type": "code",
   "execution_count": null,
   "source": [],
   "outputs": [],
   "metadata": {}
  },
  {
   "cell_type": "code",
   "execution_count": null,
   "source": [],
   "outputs": [],
   "metadata": {}
  },
  {
   "cell_type": "code",
   "execution_count": null,
   "source": [],
   "outputs": [],
   "metadata": {}
  },
  {
   "cell_type": "code",
   "execution_count": null,
   "source": [],
   "outputs": [],
   "metadata": {}
  },
  {
   "cell_type": "code",
   "execution_count": null,
   "source": [],
   "outputs": [],
   "metadata": {}
  },
  {
   "cell_type": "code",
   "execution_count": null,
   "source": [],
   "outputs": [],
   "metadata": {}
  },
  {
   "cell_type": "code",
   "execution_count": null,
   "source": [],
   "outputs": [],
   "metadata": {}
  },
  {
   "cell_type": "code",
   "execution_count": null,
   "source": [],
   "outputs": [],
   "metadata": {}
  },
  {
   "cell_type": "code",
   "execution_count": null,
   "source": [],
   "outputs": [],
   "metadata": {}
  }
 ]
}