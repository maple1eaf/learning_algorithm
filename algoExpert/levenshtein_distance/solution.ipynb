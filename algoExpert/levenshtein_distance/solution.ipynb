{
 "metadata": {
  "language_info": {
   "codemirror_mode": {
    "name": "ipython",
    "version": 3
   },
   "file_extension": ".py",
   "mimetype": "text/x-python",
   "name": "python",
   "nbconvert_exporter": "python",
   "pygments_lexer": "ipython3",
   "version": 3
  },
  "orig_nbformat": 2
 },
 "nbformat": 4,
 "nbformat_minor": 2,
 "cells": [
  {
   "source": [
    "# Levenshtein Distance\n",
    "[link](https://www.algoexpert.io/questions/Levenshtein%20Distance)"
   ],
   "cell_type": "markdown",
   "metadata": {}
  },
  {
   "source": [
    "## My Solution"
   ],
   "cell_type": "markdown",
   "metadata": {}
  },
  {
   "cell_type": "code",
   "execution_count": null,
   "metadata": {},
   "outputs": [],
   "source": [
    "def levenshteinDistance(str1, str2):\n",
    "    # Write your code here.\n",
    "    memo = [[0 for q in range(len(str2) + 1)] for p in range(len(str1) + 1)]\n",
    "    for p in range(len(str1) + 1):\n",
    "        memo[p][0] = p\n",
    "    for q in range(len(str2) + 1):\n",
    "        memo[0][q] = q\n",
    "    \n",
    "    for q in range(1, len(str2) + 1):\n",
    "        for p in range(1, len(str1) + 1):\n",
    "            memo[p][q] = min(memo[p - 1][q - 1] + (1 if str1[p-1] != str2[q-1] else 0), \\\n",
    "                            memo[p][q - 1] + 1, \\\n",
    "                            memo[p - 1][q] + 1)\n",
    "    return memo[-1][-1]"
   ]
  },
  {
   "cell_type": "code",
   "execution_count": null,
   "metadata": {},
   "outputs": [],
   "source": [
    "def levenshteinDistance(str1, str2):\n",
    "    # Write your code here.\n",
    "    memo_prev = [p for p in range(len(str1) + 1)]\n",
    "    memo_current = [0 for p in range(len(str1) + 1)]\n",
    "    for q in range(1, len(str2) + 1):\n",
    "        memo_current[0] += 1\n",
    "        for p in range(1, len(str1) + 1):\n",
    "            memo_current[p] = min(memo_prev[p - 1] + (1 if str1[p-1] != str2[q-1] else 0), \\\n",
    "                            memo_prev[p] + 1, \\\n",
    "                            memo_current[p - 1] + 1)\n",
    "        memo_prev = [x for x in memo_current]\n",
    "    return memo_current[-1]"
   ]
  },
  {
   "cell_type": "code",
   "execution_count": null,
   "metadata": {},
   "outputs": [],
   "source": [
    "def levenshteinDistance(str1, str2):\n",
    "    # Write your code here.\n",
    "    if len(str1) > len(str2):\n",
    "        # if str1 is longer than str2, switch them\n",
    "        str1, str2 = str2, str1\n",
    "    memo_prev = [p for p in range(len(str1) + 1)]\n",
    "    memo_current = [0 for p in range(len(str1) + 1)]\n",
    "    for q in range(1, len(str2) + 1):\n",
    "        memo_current[0] += 1\n",
    "        for p in range(1, len(str1) + 1):\n",
    "            memo_current[p] = min(memo_prev[p - 1] + (1 if str1[p-1] != str2[q-1] else 0), \\\n",
    "                            memo_prev[p] + 1, \\\n",
    "                            memo_current[p - 1] + 1)\n",
    "        memo_prev = [x for x in memo_current]\n",
    "    return memo_current[-1]"
   ]
  },
  {
   "source": [
    "## Expert Solution"
   ],
   "cell_type": "markdown",
   "metadata": {}
  },
  {
   "cell_type": "code",
   "execution_count": null,
   "metadata": {},
   "outputs": [],
   "source": [
    "# O(nm) time | O(nm) space\n",
    "def levenshteinDistance(str1, str2):\n",
    "\tedits = [[x for x in range(len(str1) + 1)] for y in range(len(str2) + 1)]\n",
    "\tfor i in range(1, len(str2) + 1):\n",
    "\t\tedits[i][0] = edits[i - 1][0] + 1\n",
    "\tfor i in range(1, len(str2) + 1):\n",
    "\t\tfor j in range(1, len(str1) + 1):\n",
    "\t\t\tif str2[i - 1] == str1[j - 1]:\n",
    "\t\t\t\tedits[i][j] = edits[i - 1][j - 1]\n",
    "\t\t\telse:\n",
    "\t\t\t\tedits[i][j] = 1 + min(edits[i - 1][j - 1], edits[i - 1][j], edits[i][j - 1])\n",
    "\treturn edits[-1][-1]"
   ]
  },
  {
   "cell_type": "code",
   "execution_count": null,
   "metadata": {},
   "outputs": [],
   "source": [
    "# O(nm) time | O(min(n, m)) space\n",
    "def levenshteinDistance(str1, str2):\n",
    "    small = str1 if len(str1) < len(str2) else str2\n",
    "    big = str1 if len(str1) >= len(str2) else str2\n",
    "    evenEdits = [x for x in range(len(small) + 1)]\n",
    "    oddEdits = [None for x in range(len(small) + 1)]\n",
    "    for i in range(1, len(big) + 1):\n",
    "        if i % 2 == 1:\n",
    "            currentEdits = oddEdits\n",
    "            previouseEdits = evenEdits\n",
    "        else:\n",
    "            currentEdits = evenEdits\n",
    "            previouseEdits = oddEdits\n",
    "        currentEdits[0] = i\n",
    "        for j in range(1, len(small) + 1):\n",
    "            if big[i - 1] == small[j - 1]:\n",
    "                currentEdits[j] = previouseEdits[j - 1]\n",
    "            else:\n",
    "                currentEdits[j] = 1 + min(previouseEdits[j - 1], previouseEdits[j], currentEdits[j - 1])\n",
    "    return evenEdits[-1] if len(big) % 2 == 0 else oddEdits[-1]"
   ]
  },
  {
   "source": [
    "## Thoughts\n",
    "### my solution\n",
    "- 1 -> 2: O(nm) space -> O(n) space. store 2 lines instead of the whole table.\n",
    "- 2 -> 3: O(n) space -> O(min(n, m)) space. check which string is shorter first.\n",
    "\n",
    "![](./levenshtein_distance.JPG)"
   ],
   "cell_type": "markdown",
   "metadata": {}
  },
  {
   "cell_type": "code",
   "execution_count": null,
   "metadata": {},
   "outputs": [],
   "source": []
  },
  {
   "cell_type": "code",
   "execution_count": null,
   "metadata": {},
   "outputs": [],
   "source": []
  },
  {
   "cell_type": "code",
   "execution_count": null,
   "metadata": {},
   "outputs": [],
   "source": []
  },
  {
   "cell_type": "code",
   "execution_count": null,
   "metadata": {},
   "outputs": [],
   "source": []
  },
  {
   "cell_type": "code",
   "execution_count": null,
   "metadata": {},
   "outputs": [],
   "source": []
  },
  {
   "cell_type": "code",
   "execution_count": null,
   "metadata": {},
   "outputs": [],
   "source": []
  },
  {
   "cell_type": "code",
   "execution_count": null,
   "metadata": {},
   "outputs": [],
   "source": []
  },
  {
   "cell_type": "code",
   "execution_count": null,
   "metadata": {},
   "outputs": [],
   "source": []
  },
  {
   "cell_type": "code",
   "execution_count": null,
   "metadata": {},
   "outputs": [],
   "source": []
  },
  {
   "cell_type": "code",
   "execution_count": null,
   "metadata": {},
   "outputs": [],
   "source": []
  },
  {
   "cell_type": "code",
   "execution_count": null,
   "metadata": {},
   "outputs": [],
   "source": []
  },
  {
   "cell_type": "code",
   "execution_count": null,
   "metadata": {},
   "outputs": [],
   "source": []
  }
 ]
}