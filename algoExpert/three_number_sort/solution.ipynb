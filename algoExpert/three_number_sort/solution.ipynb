{
 "metadata": {
  "language_info": {
   "codemirror_mode": {
    "name": "ipython",
    "version": 3
   },
   "file_extension": ".py",
   "mimetype": "text/x-python",
   "name": "python",
   "nbconvert_exporter": "python",
   "pygments_lexer": "ipython3",
   "version": 3
  },
  "orig_nbformat": 2
 },
 "nbformat": 4,
 "nbformat_minor": 2,
 "cells": [
  {
   "source": [
    "# Three Number Sort\n",
    "[link](https://www.algoexpert.io/questions/Three%20Number%20Sort)"
   ],
   "cell_type": "markdown",
   "metadata": {}
  },
  {
   "source": [
    "## My Solution"
   ],
   "cell_type": "markdown",
   "metadata": {}
  },
  {
   "cell_type": "code",
   "execution_count": null,
   "metadata": {},
   "outputs": [],
   "source": [
    "def threeNumberSort(array, order):\n",
    "    # Write your code here.\n",
    "    left = 0\n",
    "    for target in order[:2]:\n",
    "        right = len(array) - 1\n",
    "        while left <= right:\n",
    "            if array[left] == target:\n",
    "                left += 1\n",
    "                continue\n",
    "            if array[right] == target:\n",
    "                swap(array, left, right)\n",
    "                left += 1\n",
    "            right -= 1\n",
    "    return array\n",
    "        \n",
    "            \n",
    "def swap(array, i, j):\n",
    "    array[i], array[j] = array[j], array[i]"
   ]
  },
  {
   "cell_type": "code",
   "execution_count": null,
   "metadata": {},
   "outputs": [],
   "source": [
    "def threeNumberSort(array, order):\n",
    "    # Write your code here.\n",
    "    left = 0\n",
    "    right = len(array) - 1\n",
    "    pointer = 0\n",
    "    while pointer <= right:\n",
    "        if array[pointer] == order[0]:\n",
    "            swap(array, left, pointer)\n",
    "            left += 1\n",
    "            pointer += 1\n",
    "        elif array[pointer] == order[2]:\n",
    "            swap(array, pointer, right)\n",
    "            right -= 1\n",
    "        else:\n",
    "            pointer += 1\n",
    "    return array\n",
    "            \n",
    "def swap(array, i, j):\n",
    "    array[i], array[j] = array[j], array[i]"
   ]
  },
  {
   "source": [
    "## Expert Solution"
   ],
   "cell_type": "markdown",
   "metadata": {}
  },
  {
   "cell_type": "code",
   "execution_count": null,
   "metadata": {},
   "outputs": [],
   "source": [
    "# O(n) time | O(1) space - where n is the length of the array\n",
    "# go throught the entire array 4 times (can be optimized to 2 times at most)\n",
    "def threeNumberSort(array, order):\n",
    "    valueCounts = [0, 0, 0]\n",
    "\n",
    "    for element in array:\n",
    "        orderIdx = order.index(element)\n",
    "        valueCounts[orderIdx] += 1\n",
    "    \n",
    "    for i in range(3):\n",
    "        value = order[i]\n",
    "        count = valueCounts[i]\n",
    "\n",
    "        numElementsBefore = sum(valueCounts[:i])\n",
    "        for n in range(count):\n",
    "            currentIdx = numElementsBefore + n\n",
    "            array[currentIdx] = value\n",
    "    \n",
    "    return array"
   ]
  },
  {
   "cell_type": "code",
   "execution_count": null,
   "metadata": {},
   "outputs": [],
   "source": [
    "# O(n) time | O(1) space - where n is the length of the array\n",
    "# go throught the entire array at least one time, at most two times\n",
    "def threeNumberSort(array, order):\n",
    "    firstValue = order[0]\n",
    "    thirdValue = order[2]\n",
    "\n",
    "    firstIdx = 0\n",
    "    for idx in range(len(array)):\n",
    "        if array[idx] == firstValue:\n",
    "            array[firstIdx], array[idx] = array[idx], array[firstIdx]\n",
    "            firstIdx += 1\n",
    "    \n",
    "    thirdIdx = len(array) - 1\n",
    "    for idx in range(len(array) - 1, -1, -1):\n",
    "        if array[idx] = thirdValue:\n",
    "            array[thirdIdx], array[idx] = array[idx], array[thirdIdx]\n",
    "            thirdIdx -= 1\n",
    "\n",
    "    return array"
   ]
  },
  {
   "cell_type": "code",
   "execution_count": null,
   "metadata": {},
   "outputs": [],
   "source": [
    "# O(n) time | O(1) space - where n is the length of the array\n",
    "# go throught the entire array one time\n",
    "def threeNumberSort(array, order):\n",
    "    firstValue = order[0]\n",
    "    secondValue =order[1]\n",
    "\n",
    "    # Keep track of the indices where the values are stored\n",
    "    firstIdx, secondIdx, thirdIdx = 0, 0, len(array) - 1\n",
    "\n",
    "    while secondIdx <= thirdIdx:\n",
    "        value = array[secondIdx]\n",
    "\n",
    "        if value == firstValue:\n",
    "            array[secondIdx], array[firstIdx] = array[firstIdx], array[secondIdx]\n",
    "            firstIdx += 1\n",
    "            secondIdx += 1\n",
    "        elif value == secondValue:\n",
    "            secondIdx += 1\n",
    "        else:\n",
    "            array[secondIdx], array[thirdIdx] = array[thirdIdx], array[secondIdx]\n",
    "            thirdIdx -= 1\n",
    "        \n",
    "    return array"
   ]
  },
  {
   "source": [
    "## Thoughts\n",
    "### expert solution 3\n",
    "watch that when `value` == `thirdValue`, we don't increment `secondIdx` because we don't know what value is swaped from `thirdIdx` to `secondIdx`."
   ],
   "cell_type": "markdown",
   "metadata": {}
  },
  {
   "cell_type": "code",
   "execution_count": null,
   "metadata": {},
   "outputs": [],
   "source": []
  },
  {
   "cell_type": "code",
   "execution_count": null,
   "metadata": {},
   "outputs": [],
   "source": []
  },
  {
   "cell_type": "code",
   "execution_count": null,
   "metadata": {},
   "outputs": [],
   "source": []
  },
  {
   "cell_type": "code",
   "execution_count": null,
   "metadata": {},
   "outputs": [],
   "source": []
  },
  {
   "cell_type": "code",
   "execution_count": null,
   "metadata": {},
   "outputs": [],
   "source": []
  },
  {
   "cell_type": "code",
   "execution_count": null,
   "metadata": {},
   "outputs": [],
   "source": []
  },
  {
   "cell_type": "code",
   "execution_count": null,
   "metadata": {},
   "outputs": [],
   "source": []
  },
  {
   "cell_type": "code",
   "execution_count": null,
   "metadata": {},
   "outputs": [],
   "source": []
  },
  {
   "cell_type": "code",
   "execution_count": null,
   "metadata": {},
   "outputs": [],
   "source": []
  },
  {
   "cell_type": "code",
   "execution_count": null,
   "metadata": {},
   "outputs": [],
   "source": []
  },
  {
   "cell_type": "code",
   "execution_count": null,
   "metadata": {},
   "outputs": [],
   "source": []
  },
  {
   "cell_type": "code",
   "execution_count": null,
   "metadata": {},
   "outputs": [],
   "source": []
  }
 ]
}