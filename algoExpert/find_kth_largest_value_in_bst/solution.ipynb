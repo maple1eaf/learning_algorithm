{
 "metadata": {
  "language_info": {
   "codemirror_mode": {
    "name": "ipython",
    "version": 3
   },
   "file_extension": ".py",
   "mimetype": "text/x-python",
   "name": "python",
   "nbconvert_exporter": "python",
   "pygments_lexer": "ipython3",
   "version": 3
  },
  "orig_nbformat": 2
 },
 "nbformat": 4,
 "nbformat_minor": 2,
 "cells": [
  {
   "cell_type": "markdown",
   "source": [
    "# Find Kth Largest Value In BST\n",
    "[link](https://www.algoexpert.io/questions/Find%20Kth%20Largest%20Value%20In%20BST)"
   ],
   "metadata": {}
  },
  {
   "cell_type": "markdown",
   "source": [
    "## My Solution"
   ],
   "metadata": {}
  },
  {
   "cell_type": "code",
   "execution_count": null,
   "source": [
    "# This is an input class. Do not edit.\n",
    "class BST:\n",
    "    def __init__(self, value, left=None, right=None):\n",
    "        self.value = value\n",
    "        self.left = left\n",
    "        self.right = right\n",
    "\n",
    "\n",
    "# O(h + k) time | O(h) space - where h is the height of the tree and k is the input parameter\n",
    "def findKthLargestValueInBst(tree, k):\n",
    "    # Write your code here.\n",
    "    return helper(tree, k)[0]\n",
    "    \n",
    "def helper(node, count):\n",
    "    if node is None:\n",
    "        return None, count\n",
    "    \n",
    "    value, count = helper(node.right, count)\n",
    "    if count == 0:\n",
    "        return value, count\n",
    "    \n",
    "    count -= 1\n",
    "    if count == 0:\n",
    "        return node.value, count\n",
    "    \n",
    "    value, count = helper(node.left, count)\n",
    "    if count == 0:\n",
    "        return value, count\n",
    "    \n",
    "    return None, count"
   ],
   "outputs": [],
   "metadata": {}
  },
  {
   "cell_type": "markdown",
   "source": [
    "## Expert Solution"
   ],
   "metadata": {}
  },
  {
   "cell_type": "code",
   "execution_count": null,
   "source": [
    "# This is an input class. Do not edit.\n",
    "class BST:\n",
    "    def __init__(self, value, left=None, right=None):\n",
    "        self.value = value\n",
    "        self.left = left\n",
    "        self.right = right\n",
    "\n",
    "\n",
    "# O(n) time | O(n) space - where n is the number of nodes in the tree\n",
    "def findKthLargestValueInBst(tree, k):\n",
    "    sortedNodeValues = []\n",
    "    inOrderTraverse(tree, sortedNodeValues)\n",
    "    return sortedNodeValues[len(sortedNodeValues) - k]\n",
    "\n",
    "def inOrderTraverse(node, sortedNodeValues):\n",
    "    if node is None:\n",
    "        return\n",
    "\n",
    "    inOrderTraverse(node.left, sortedNodeValues)\n",
    "    sortedNodeValues.append(node.value)\n",
    "    inOrderTraverse(node.right, sortedNodeValues)"
   ],
   "outputs": [],
   "metadata": {}
  },
  {
   "cell_type": "code",
   "execution_count": null,
   "source": [
    "# This is an input class. Do not edit.\n",
    "class BST:\n",
    "    def __init__(self, value, left=None, right=None):\n",
    "        self.value = value\n",
    "        self.left = left\n",
    "        self.right = right\n",
    "\n",
    "class TreeInfo:\n",
    "    def __init__(self, numberOfNodesVisited, latestVisitedNodeValue):\n",
    "        self.numberOfNodesVisited = numberOfNodesVisited\n",
    "        self.latestVisitedNodeValue = latestVisitedNodeValue\n",
    "\n",
    "# O(n) time | O(n) space - where n is the number of nodes in the tree\n",
    "def findKthLargestValueInBst(tree, k):\n",
    "    treeInfo = TreeInfo(0, -1)\n",
    "    reverseInOrderTraverse(tree, k, treeInfo)\n",
    "    return treeInfo.latestVisitedNodeValue\n",
    "    \n",
    "def reverseInOrderTraverse(node, k, treeInfo):\n",
    "    if node is None or treeInfo.numberOfNodesVisited >= k:\n",
    "        return\n",
    "\n",
    "    reverseInOrderTraverse(node.right, k, treeInfo)\n",
    "    if treeInfo.numberOfNodesVisited < k:\n",
    "        treeInfo.numberOfNodesVisited += 1\n",
    "        treeInfo.latestVisitedNodeValue = node.value\n",
    "        reverseInOrderTraverse(node.left, k, treeInfo)"
   ],
   "outputs": [],
   "metadata": {}
  },
  {
   "cell_type": "markdown",
   "source": [
    "## Thoughts"
   ],
   "metadata": {}
  },
  {
   "cell_type": "code",
   "execution_count": null,
   "source": [],
   "outputs": [],
   "metadata": {}
  },
  {
   "cell_type": "code",
   "execution_count": null,
   "source": [],
   "outputs": [],
   "metadata": {}
  },
  {
   "cell_type": "code",
   "execution_count": null,
   "source": [],
   "outputs": [],
   "metadata": {}
  },
  {
   "cell_type": "code",
   "execution_count": null,
   "source": [],
   "outputs": [],
   "metadata": {}
  },
  {
   "cell_type": "code",
   "execution_count": null,
   "source": [],
   "outputs": [],
   "metadata": {}
  },
  {
   "cell_type": "code",
   "execution_count": null,
   "source": [],
   "outputs": [],
   "metadata": {}
  },
  {
   "cell_type": "code",
   "execution_count": null,
   "source": [],
   "outputs": [],
   "metadata": {}
  },
  {
   "cell_type": "code",
   "execution_count": null,
   "source": [],
   "outputs": [],
   "metadata": {}
  },
  {
   "cell_type": "code",
   "execution_count": null,
   "source": [],
   "outputs": [],
   "metadata": {}
  },
  {
   "cell_type": "code",
   "execution_count": null,
   "source": [],
   "outputs": [],
   "metadata": {}
  },
  {
   "cell_type": "code",
   "execution_count": null,
   "source": [],
   "outputs": [],
   "metadata": {}
  },
  {
   "cell_type": "code",
   "execution_count": null,
   "source": [],
   "outputs": [],
   "metadata": {}
  }
 ]
}