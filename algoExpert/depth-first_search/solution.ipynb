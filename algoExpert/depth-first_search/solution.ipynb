{
 "metadata": {
  "language_info": {
   "codemirror_mode": {
    "name": "ipython",
    "version": 3
   },
   "file_extension": ".py",
   "mimetype": "text/x-python",
   "name": "python",
   "nbconvert_exporter": "python",
   "pygments_lexer": "ipython3",
   "version": "3.7.3-final"
  },
  "orig_nbformat": 2,
  "kernelspec": {
   "name": "python3",
   "display_name": "Python 3",
   "language": "python"
  }
 },
 "nbformat": 4,
 "nbformat_minor": 2,
 "cells": [
  {
   "source": [
    "# Depth-first Search\n",
    "[link](https://www.algoexpert.io/questions/Depth-first%20Search)"
   ],
   "cell_type": "markdown",
   "metadata": {}
  },
  {
   "source": [
    "## My Solution"
   ],
   "cell_type": "markdown",
   "metadata": {}
  },
  {
   "cell_type": "code",
   "execution_count": 1,
   "metadata": {},
   "outputs": [],
   "source": [
    "# recursive\n",
    "class Node:\n",
    "    def __init__(self, name):\n",
    "        self.children = []\n",
    "        self.name = name\n",
    "\n",
    "    def addChild(self, name):\n",
    "        self.children.append(Node(name))\n",
    "        return self\n",
    "\n",
    "    def depthFirstSearch(self, array):\n",
    "        # Write your code here.\n",
    "        # O(v + e) time | O(v) space\n",
    "        array.append(self.name)\n",
    "        for n in self.children:\n",
    "            n.depthFirstSearch(array)\n",
    "        return array"
   ]
  },
  {
   "cell_type": "code",
   "execution_count": 2,
   "metadata": {},
   "outputs": [],
   "source": [
    "# itterative\n",
    "class Node:\n",
    "    def __init__(self, name):\n",
    "        self.children = []\n",
    "        self.name = name\n",
    "\n",
    "    def addChild(self, name):\n",
    "        self.children.append(Node(name))\n",
    "        return self\n",
    "\n",
    "    def depthFirstSearch(self, array):\n",
    "        # Write your code here.\n",
    "        # O(v + e) time | O(v) space\n",
    "        cur = self\n",
    "        stack = [self]\n",
    "        while len(stack) > 0:\n",
    "            cur = stack.pop()\n",
    "            array.append(cur.name)\n",
    "            # for i in range(len(cur.children)-1, -1, -1):\n",
    "            for i in range(-1, -len(cur.children)-1, -1):\n",
    "                stack.append(cur.children[i])\n",
    "        return array"
   ]
  },
  {
   "source": [
    "## Expert Solution"
   ],
   "cell_type": "markdown",
   "metadata": {}
  },
  {
   "cell_type": "code",
   "execution_count": null,
   "metadata": {},
   "outputs": [],
   "source": [
    "class Node:\n",
    "    def __init__(self, name):\n",
    "        self.children = []\n",
    "        self.name = name\n",
    "\n",
    "    def addChild(self, name):\n",
    "        self.children.append(Node(name))\n",
    "        return self\n",
    "\n",
    "    def depthFirstSearch(self, array):\n",
    "        # Write your code here.\n",
    "        # O(v + e) time | O(v) space\n",
    "        array.append(self.name)\n",
    "        for child in self.children:\n",
    "            child.depthFirstSearch(array)\n",
    "        return array"
   ]
  },
  {
   "cell_type": "code",
   "execution_count": null,
   "metadata": {},
   "outputs": [],
   "source": []
  },
  {
   "source": [
    "## Thoughts\n",
    "- O(v+e):\n",
    "    - v -> because we call the DFS function v times\n",
    "    - e -> because in each call of DFS funciton, the for/while loop times is equal to the number of children"
   ],
   "cell_type": "markdown",
   "metadata": {}
  },
  {
   "cell_type": "code",
   "execution_count": null,
   "metadata": {},
   "outputs": [],
   "source": []
  },
  {
   "cell_type": "code",
   "execution_count": null,
   "metadata": {},
   "outputs": [],
   "source": []
  },
  {
   "cell_type": "code",
   "execution_count": null,
   "metadata": {},
   "outputs": [],
   "source": []
  },
  {
   "cell_type": "code",
   "execution_count": null,
   "metadata": {},
   "outputs": [],
   "source": []
  },
  {
   "cell_type": "code",
   "execution_count": null,
   "metadata": {},
   "outputs": [],
   "source": []
  },
  {
   "cell_type": "code",
   "execution_count": null,
   "metadata": {},
   "outputs": [],
   "source": []
  },
  {
   "cell_type": "code",
   "execution_count": null,
   "metadata": {},
   "outputs": [],
   "source": []
  },
  {
   "cell_type": "code",
   "execution_count": null,
   "metadata": {},
   "outputs": [],
   "source": []
  },
  {
   "cell_type": "code",
   "execution_count": null,
   "metadata": {},
   "outputs": [],
   "source": []
  },
  {
   "cell_type": "code",
   "execution_count": null,
   "metadata": {},
   "outputs": [],
   "source": []
  },
  {
   "cell_type": "code",
   "execution_count": null,
   "metadata": {},
   "outputs": [],
   "source": []
  },
  {
   "cell_type": "code",
   "execution_count": null,
   "metadata": {},
   "outputs": [],
   "source": []
  }
 ]
}