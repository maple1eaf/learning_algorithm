{
 "metadata": {
  "language_info": {
   "codemirror_mode": {
    "name": "ipython",
    "version": 3
   },
   "file_extension": ".py",
   "mimetype": "text/x-python",
   "name": "python",
   "nbconvert_exporter": "python",
   "pygments_lexer": "ipython3",
   "version": "3.6.10-final"
  },
  "orig_nbformat": 2,
  "kernelspec": {
   "name": "python3",
   "display_name": "Python 3.6.10 64-bit ('ml': conda)",
   "metadata": {
    "interpreter": {
     "hash": "f248c69e5a77d51c87ccdad00216165980e1bc56aedec90de08a902cfe9095ee"
    }
   }
  }
 },
 "nbformat": 4,
 "nbformat_minor": 2,
 "cells": [
  {
   "source": [
    "# A* Algorithm\n",
    "[link](https://www.algoexpert.io/questions/A*%20Algorithm)"
   ],
   "cell_type": "markdown",
   "metadata": {}
  },
  {
   "source": [
    "## My Solution"
   ],
   "cell_type": "markdown",
   "metadata": {}
  },
  {
   "cell_type": "code",
   "execution_count": 1,
   "metadata": {},
   "outputs": [],
   "source": [
    "class GraphNode:\n",
    "    def __init__(self, coordinate):\n",
    "        self.coordinate = coordinate\n",
    "        self.distanceFromSource = None\n",
    "        self.heuristic = None\n",
    "        self.f = None # f = g + h = distanceFromSource + heuristic\n",
    "        self.prevNode = None\n",
    "\n",
    "def aStarAlgorithm(startRow, startCol, endRow, endCol, graph):\n",
    "    # Write your code here.\n",
    "    startCoord = (startRow, startCol)\n",
    "    startNode = GraphNode(startCoord)\n",
    "    startNode.distanceFromSource = 0\n",
    "    startNode.heuristic = manhattanDistance(startCoord, (endRow, endCol))\n",
    "    startNode.f = startNode.distanceFromSource + startNode.heuristic\n",
    "    \n",
    "    frontiers = minArray()\n",
    "    frontiers.add(startNode)\n",
    "\n",
    "    visited = {}\n",
    "    lastNode = None\n",
    "    while len(frontiers.nodes) != 0:\n",
    "        curNode = frontiers.popMin()\n",
    "        if curNode.coordinate == (endRow, endCol):\n",
    "            lastNode = curNode\n",
    "            break\n",
    "        visited[curNode.coordinate] = curNode\n",
    "        \n",
    "        checkNeighbor(curNode, graph, frontiers, visited, (endRow, endCol))\n",
    "    if lastNode is None:\n",
    "        return []\n",
    "    res = []\n",
    "    curNode = lastNode\n",
    "    while curNode is not None:\n",
    "        curCoord = list(curNode.coordinate)\n",
    "        res.append(curCoord)\n",
    "        curNode = curNode.prevNode\n",
    "    return list(reversed(res))\n",
    "\n",
    "def manhattanDistance(coordA, coordB):\n",
    "    return abs(coordA[0] - coordB[0]) + abs(coordA[1] - coordB[1])\n",
    "\n",
    "def checkNeighbor(node, graph, frontiers, visited, endCoord):\n",
    "    nodeCoord = node.coordinate\n",
    "\n",
    "    curRow, curCol = nodeCoord[0] - 1, nodeCoord[1]\n",
    "    curCoord = (curRow, curCol)\n",
    "    if curRow >= 0 and curCoord not in visited and graph[curRow][curCol] == 0:\n",
    "        process(node, curCoord, endCoord, frontiers)\n",
    "\n",
    "    curRow, curCol = nodeCoord[0] + 1, nodeCoord[1]\n",
    "    curCoord = (curRow, curCol)\n",
    "    if curRow < len(graph) and curCoord not in visited and graph[curRow][curCol] == 0:\n",
    "        process(node, curCoord, endCoord, frontiers)\n",
    "\n",
    "    curRow, curCol = nodeCoord[0], nodeCoord[1] - 1\n",
    "    curCoord = (curRow, curCol)\n",
    "    if curCol >= 0 and curCoord not in visited and graph[curRow][curCol] == 0:\n",
    "        process(node, curCoord, endCoord, frontiers)\n",
    "\n",
    "    curRow, curCol = nodeCoord[0], nodeCoord[1] + 1\n",
    "    curCoord = (curRow, curCol)\n",
    "    if curCol < len(graph[0]) and curCoord not in visited and graph[curRow][curCol] == 0:\n",
    "        process(node, curCoord, endCoord, frontiers)\n",
    "        \n",
    "def process(node, curCoord, endCoord, frontiers):\n",
    "    g = node.distanceFromSource + 1\n",
    "    h = manhattanDistance(curCoord, endCoord)\n",
    "    f = g + h\n",
    "    newNode = GraphNode(curCoord)\n",
    "    newNode.distanceFromSource = g\n",
    "    newNode.heuristic = h\n",
    "    newNode.f = f\n",
    "    newNode.prevNode = node\n",
    "    if curCoord not in frontiers.nodes:\n",
    "        frontiers.add(newNode)\n",
    "    else:\n",
    "        if f < frontiers.nodes[curCoord].f:\n",
    "            frontiers.nodes[curCoord] = newNode\n",
    "\n",
    "class minArray:\n",
    "    def __init__(self):\n",
    "        self.nodes = {}\n",
    "        \n",
    "    def add(self, node):\n",
    "        self.nodes[node.coordinate] = node\n",
    "        \n",
    "    def remove(self, coord):\n",
    "        return self.nodes.pop(coord)\n",
    "\n",
    "    def popMin(self):\n",
    "        if len(self.nodes) == 0:\n",
    "            return None\n",
    "        coords = list(self.nodes.keys())\n",
    "        minCoord = coords[0]\n",
    "        minNode = self.nodes[minCoord]\n",
    "        for coord in coords:\n",
    "            node = self.nodes[coord]\n",
    "            if node.f < minNode.f:\n",
    "                minCoord = coord\n",
    "                minNode = node\n",
    "        return self.nodes.pop(minCoord)"
   ]
  },
  {
   "cell_type": "code",
   "execution_count": 9,
   "metadata": {},
   "outputs": [
    {
     "output_type": "error",
     "ename": "TabError",
     "evalue": "inconsistent use of tabs and spaces in indentation (<ipython-input-9-99ca1880f36e>, line 3)",
     "traceback": [
      "\u001b[1;36m  File \u001b[1;32m\"<ipython-input-9-99ca1880f36e>\"\u001b[1;36m, line \u001b[1;32m3\u001b[0m\n\u001b[1;33m    self.a = a\u001b[0m\n\u001b[1;37m              ^\u001b[0m\n\u001b[1;31mTabError\u001b[0m\u001b[1;31m:\u001b[0m inconsistent use of tabs and spaces in indentation\n"
     ]
    }
   ],
   "source": [
    "class GraphNode:\n",
    "    def __init__(self, coordinate, distanceFromSource=None, heuristic=None, prevNode=None):\n",
    "        self.coordinate = coordinate\n",
    "        self.distanceFromSource = distanceFromSource\n",
    "        self.heuristic = heuristic\n",
    "        self.f = distanceFromSource + heuristic # f = g + h = distanceFromSource + heuristic\n",
    "        self.prevNode = prevNode\n",
    "\n",
    "def aStarAlgorithm(startRow, startCol, endRow, endCol, graph):\n",
    "    # Write your code here.\n",
    "    startCoord = (startRow, startCol)\n",
    "    startNode = GraphNode(startCoord, 0, manhattanDistance(startCoord, (endRow, endCol)))\n",
    "    \n",
    "    frontiers = minArray()\n",
    "    frontiers.add(startNode)\n",
    "\n",
    "    visited = {}\n",
    "    lastNode = None\n",
    "    while len(frontiers.nodes) != 0:\n",
    "        curNode = frontiers.popMin()\n",
    "        if curNode.coordinate == (endRow, endCol):\n",
    "            lastNode = curNode\n",
    "            break\n",
    "            \n",
    "        visited[curNode.coordinate] = curNode\n",
    "        checkNeighbor(curNode, graph, frontiers, visited, (endRow, endCol))\n",
    "        \n",
    "    if lastNode is None:\n",
    "        return []\n",
    "    res = []\n",
    "    curNode = lastNode\n",
    "    while curNode is not None:\n",
    "        curCoord = list(curNode.coordinate)\n",
    "        res.append(curCoord)\n",
    "        curNode = curNode.prevNode\n",
    "    return list(reversed(res))\n",
    "\n",
    "def manhattanDistance(coordA, coordB):\n",
    "    return abs(coordA[0] - coordB[0]) + abs(coordA[1] - coordB[1])\n",
    "\n",
    "def checkNeighbor(node, graph, frontiers, visited, endCoord):\n",
    "    nodeCoord = node.coordinate\n",
    "    neighborCoords = []\n",
    "    if nodeCoord[0] - 1 >= 0:\n",
    "        neighborCoords.append((nodeCoord[0] - 1, nodeCoord[1]))\n",
    "    if nodeCoord[0] + 1 < len(graph):\n",
    "        neighborCoords.append((nodeCoord[0] + 1, nodeCoord[1]))\n",
    "    if nodeCoord[1] - 1 >= 0:\n",
    "        neighborCoords.append((nodeCoord[0], nodeCoord[1] - 1))\n",
    "    if nodeCoord[1] + 1 < len(graph[0]):\n",
    "        neighborCoords.append((nodeCoord[0], nodeCoord[1] + 1))\n",
    "        \n",
    "    for curRow, curCol in neighborCoords:\n",
    "        curCoord = (curRow, curCol)\n",
    "        if curCoord not in visited and graph[curRow][curCol] == 0:\n",
    "            g = node.distanceFromSource + 1\n",
    "            h = manhattanDistance(curCoord, endCoord)\n",
    "            newNode = GraphNode(curCoord, g, h, node)\n",
    "            \n",
    "            if curCoord not in frontiers.nodes:\n",
    "                frontiers.add(newNode)\n",
    "            else:\n",
    "                if g + h < frontiers.nodes[curCoord].f:\n",
    "                    frontiers.nodes[curCoord] = newNode\n",
    "\n",
    "class minArray:\n",
    "    def __init__(self):\n",
    "        self.nodes = {}\n",
    "        \n",
    "    def add(self, node):\n",
    "        self.nodes[node.coordinate] = node\n",
    "        \n",
    "    def remove(self, coord):\n",
    "        return self.nodes.pop(coord)\n",
    "\n",
    "    def popMin(self):\n",
    "        if len(self.nodes) == 0:\n",
    "            return None\n",
    "        coords = list(self.nodes.keys())\n",
    "        minCoord = coords[0]\n",
    "        minNode = self.nodes[minCoord]\n",
    "        for coord in coords:\n",
    "            node = self.nodes[coord]\n",
    "            if node.f < minNode.f:\n",
    "                minCoord = coord\n",
    "                minNode = node\n",
    "        return self.nodes.pop(minCoord)"
   ]
  },
  {
   "cell_type": "code",
   "execution_count": 2,
   "metadata": {},
   "outputs": [],
   "source": [
    "m = minArray()\n",
    "m.add((1,2), 4)\n",
    "m.add((3,4), 2)\n",
    "m.add((6,4), 7)"
   ]
  },
  {
   "cell_type": "code",
   "execution_count": 5,
   "metadata": {},
   "outputs": [
    {
     "output_type": "execute_result",
     "data": {
      "text/plain": [
       "((3, 4), 2)"
      ]
     },
     "metadata": {},
     "execution_count": 5
    }
   ],
   "source": [
    "m.popMin()"
   ]
  },
  {
   "cell_type": "code",
   "execution_count": 7,
   "metadata": {},
   "outputs": [
    {
     "output_type": "execute_result",
     "data": {
      "text/plain": [
       "[4, 7]"
      ]
     },
     "metadata": {},
     "execution_count": 7
    }
   ],
   "source": [
    "m.distances"
   ]
  },
  {
   "cell_type": "code",
   "execution_count": null,
   "metadata": {},
   "outputs": [],
   "source": []
  },
  {
   "source": [
    "## Expert Solution"
   ],
   "cell_type": "markdown",
   "metadata": {}
  },
  {
   "cell_type": "code",
   "execution_count": null,
   "metadata": {},
   "outputs": [],
   "source": []
  },
  {
   "source": [
    "## Thoughts"
   ],
   "cell_type": "markdown",
   "metadata": {}
  },
  {
   "cell_type": "code",
   "execution_count": null,
   "metadata": {},
   "outputs": [],
   "source": []
  },
  {
   "cell_type": "code",
   "execution_count": null,
   "metadata": {},
   "outputs": [],
   "source": []
  },
  {
   "cell_type": "code",
   "execution_count": null,
   "metadata": {},
   "outputs": [],
   "source": []
  },
  {
   "cell_type": "code",
   "execution_count": null,
   "metadata": {},
   "outputs": [],
   "source": []
  },
  {
   "cell_type": "code",
   "execution_count": null,
   "metadata": {},
   "outputs": [],
   "source": []
  },
  {
   "cell_type": "code",
   "execution_count": null,
   "metadata": {},
   "outputs": [],
   "source": []
  },
  {
   "cell_type": "code",
   "execution_count": null,
   "metadata": {},
   "outputs": [],
   "source": []
  },
  {
   "cell_type": "code",
   "execution_count": null,
   "metadata": {},
   "outputs": [],
   "source": []
  },
  {
   "cell_type": "code",
   "execution_count": null,
   "metadata": {},
   "outputs": [],
   "source": []
  },
  {
   "cell_type": "code",
   "execution_count": null,
   "metadata": {},
   "outputs": [],
   "source": []
  },
  {
   "cell_type": "code",
   "execution_count": null,
   "metadata": {},
   "outputs": [],
   "source": []
  },
  {
   "cell_type": "code",
   "execution_count": null,
   "metadata": {},
   "outputs": [],
   "source": []
  }
 ]
}