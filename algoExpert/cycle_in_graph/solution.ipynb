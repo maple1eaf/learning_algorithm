{
 "metadata": {
  "language_info": {
   "codemirror_mode": {
    "name": "ipython",
    "version": 3
   },
   "file_extension": ".py",
   "mimetype": "text/x-python",
   "name": "python",
   "nbconvert_exporter": "python",
   "pygments_lexer": "ipython3",
   "version": 3
  },
  "orig_nbformat": 2
 },
 "nbformat": 4,
 "nbformat_minor": 2,
 "cells": [
  {
   "cell_type": "markdown",
   "source": [
    "# Cycle In Graph\n",
    "[link](https://www.algoexpert.io/questions/Cycle%20In%20Graph)"
   ],
   "metadata": {}
  },
  {
   "cell_type": "markdown",
   "source": [
    "## My Solution"
   ],
   "metadata": {}
  },
  {
   "cell_type": "code",
   "execution_count": null,
   "source": [
    "# O(v + e) time | O(v) space\n",
    "def cycleInGraph(edges):\n",
    "    # Write your code here.\n",
    "    length = len(edges)\n",
    "    edges.append([_ for _ in range(length)])\n",
    "    ancestors = set()\n",
    "    return dfs(-1, ancestors, edges)\n",
    "\n",
    "def dfs(node, ancestors, edges):\n",
    "    if node in ancestors:\n",
    "        return True\n",
    "    \n",
    "    ancestors.add(node)\n",
    "    \n",
    "    res = False\n",
    "    for child in edges[node]:\n",
    "        res = dfs(child, ancestors, edges)\n",
    "        if res == True:\n",
    "            break\n",
    "            \n",
    "    ancestors.remove(node)\n",
    "    return res"
   ],
   "outputs": [],
   "metadata": {}
  },
  {
   "cell_type": "markdown",
   "source": [
    "## Expert Solution"
   ],
   "metadata": {}
  },
  {
   "cell_type": "code",
   "execution_count": null,
   "source": [
    "# O(v + e) time | O(v) space - where v is the number of\n",
    "# vertices and e is the number of edges in the graph\n",
    "def cycleInGraph(edges):\n",
    "    numberOfNodes = len(edges)\n",
    "    visited = [False for _ in range(numberOfNodes)]\n",
    "    currentlyInStack = [False for _ in range(numberOfNodes)]\n",
    "\n",
    "    for node in range(numberOfNodes):\n",
    "        if visited[node]:\n",
    "            continue\n",
    "\n",
    "        containsCycle = isNodeInCycle(node, edges, visited, currentlyInStack)\n",
    "        if containsCycle:\n",
    "            return True\n",
    "    \n",
    "    return False\n",
    "\n",
    "def isNodeInCycle(node, edges, visited, currentlyInStack):\n",
    "    visited[node] = True\n",
    "    currentlyInStack[node] = True\n",
    "\n",
    "    neighbors = edges[node]\n",
    "    for neighbor in neighbors:\n",
    "        if not visited[neighbor]:\n",
    "            containsCycle = isNodeInCycle(neighbor, edges, visited, currentlyInStack)\n",
    "            if containsCycle:\n",
    "                return True\n",
    "        elif currentlyInStack[neighbor]:\n",
    "            return True\n",
    "\n",
    "    currentlyInStack[node] = False\n",
    "    return False"
   ],
   "outputs": [],
   "metadata": {}
  },
  {
   "cell_type": "code",
   "execution_count": null,
   "source": [
    "WHITE, GREY, BLACK = 0, 1, 2\n",
    "\n",
    "# O(v + e) time | O(v) space - where v is the number of\n",
    "# vertices and e is the number of edges in the graph\n",
    "def cycleInGraph(edges):\n",
    "    numberOfNodes = len(edges)\n",
    "    colors = [WHITE for _ in range(numberOfNodes)]\n",
    "\n",
    "    for node in range(numberOfNodes):\n",
    "        if colors[node] != WHITE:\n",
    "            continue\n",
    "\n",
    "        containsCycle = traverseAndColorNodes(node, edges, colors)\n",
    "        if containsCycle:\n",
    "            return True\n",
    "\n",
    "    return False\n",
    "\n",
    "def traverseAndColorNodes(node, edges, colors):\n",
    "    colors[node] = GREY\n",
    "\n",
    "    neighbors = edges[node]\n",
    "    for neighbor in neighbors:\n",
    "        neighborColor = colors[neighbor]\n",
    "\n",
    "        if neighborColor == GREY:\n",
    "            return True\n",
    "        \n",
    "        if neighborColor == BLACK:\n",
    "            continue\n",
    "\n",
    "        containsCycle = traverseAndColorNodes(neighbor, edges, colors)\n",
    "        if containsCycle:\n",
    "            return True\n",
    "\n",
    "    colors[node] = BLACK\n",
    "    return False"
   ],
   "outputs": [],
   "metadata": {}
  },
  {
   "cell_type": "markdown",
   "source": [
    "## Thoughts\n",
    "### expert solution 2\n",
    "- `WHITE`, `GREY`, `BLACK` means unvisited, visited, finished(& not found cycle)\n",
    "- if a GREY node point to a BLACK node, we say the GREY node is also not in a cycle."
   ],
   "metadata": {}
  },
  {
   "cell_type": "code",
   "execution_count": null,
   "source": [],
   "outputs": [],
   "metadata": {}
  },
  {
   "cell_type": "code",
   "execution_count": null,
   "source": [],
   "outputs": [],
   "metadata": {}
  },
  {
   "cell_type": "code",
   "execution_count": null,
   "source": [],
   "outputs": [],
   "metadata": {}
  },
  {
   "cell_type": "code",
   "execution_count": null,
   "source": [],
   "outputs": [],
   "metadata": {}
  },
  {
   "cell_type": "code",
   "execution_count": null,
   "source": [],
   "outputs": [],
   "metadata": {}
  },
  {
   "cell_type": "code",
   "execution_count": null,
   "source": [],
   "outputs": [],
   "metadata": {}
  },
  {
   "cell_type": "code",
   "execution_count": null,
   "source": [],
   "outputs": [],
   "metadata": {}
  },
  {
   "cell_type": "code",
   "execution_count": null,
   "source": [],
   "outputs": [],
   "metadata": {}
  },
  {
   "cell_type": "code",
   "execution_count": null,
   "source": [],
   "outputs": [],
   "metadata": {}
  },
  {
   "cell_type": "code",
   "execution_count": null,
   "source": [],
   "outputs": [],
   "metadata": {}
  },
  {
   "cell_type": "code",
   "execution_count": null,
   "source": [],
   "outputs": [],
   "metadata": {}
  },
  {
   "cell_type": "code",
   "execution_count": null,
   "source": [],
   "outputs": [],
   "metadata": {}
  }
 ]
}