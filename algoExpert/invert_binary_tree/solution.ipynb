{
 "metadata": {
  "language_info": {
   "codemirror_mode": {
    "name": "ipython",
    "version": 3
   },
   "file_extension": ".py",
   "mimetype": "text/x-python",
   "name": "python",
   "nbconvert_exporter": "python",
   "pygments_lexer": "ipython3",
   "version": 3
  },
  "orig_nbformat": 2
 },
 "nbformat": 4,
 "nbformat_minor": 2,
 "cells": [
  {
   "source": [
    "# Invert Binary Tree\n",
    "[link](https://www.algoexpert.io/questions/Invert%20Binary%20Tree)"
   ],
   "cell_type": "markdown",
   "metadata": {}
  },
  {
   "source": [
    "## My Solution"
   ],
   "cell_type": "markdown",
   "metadata": {}
  },
  {
   "cell_type": "code",
   "execution_count": null,
   "metadata": {},
   "outputs": [],
   "source": [
    "def invertBinaryTree(tree):\n",
    "    # Write your code here.\n",
    "    if tree is None:\n",
    "        return\n",
    "    else:\n",
    "        tree.left, tree.right = tree.right, tree.left\n",
    "        invertBinaryTree(tree.left)\n",
    "        invertBinaryTree(tree.right)\n",
    "\n",
    "# This is the class of the input binary tree.\n",
    "class BinaryTree:\n",
    "    def __init__(self, value):\n",
    "        self.value = value\n",
    "        self.left = None\n",
    "        self.right = None"
   ]
  },
  {
   "cell_type": "code",
   "execution_count": null,
   "metadata": {},
   "outputs": [],
   "source": []
  },
  {
   "source": [
    "## Expert Solution"
   ],
   "cell_type": "markdown",
   "metadata": {}
  },
  {
   "cell_type": "code",
   "execution_count": null,
   "metadata": {},
   "outputs": [],
   "source": [
    "# O(n) time | O(n) space\n",
    "# bfs & itteratively\n",
    "def invertBinaryTree(tree):\n",
    "    queue = [tree]\n",
    "\twhile len(queue):\n",
    "\t\tcurrent = queue.pop(0)\n",
    "\t\tif current is None:\n",
    "\t\t\tcontinue\n",
    "\t\tswapLeftAndRight(current)\n",
    "\t\tqueue.append(current.left)\n",
    "\t\tqueue.append(current.right)\n",
    "\t\t\t\n",
    "def swapLeftAndRight(tree):\n",
    "\ttree.left, tree.right = tree.right, tree.left\n",
    "\n",
    "# This is the class of the input binary tree.\n",
    "class BinaryTree:\n",
    "    def __init__(self, value):\n",
    "        self.value = value\n",
    "        self.left = None\n",
    "        self.right = None"
   ]
  },
  {
   "cell_type": "code",
   "execution_count": null,
   "metadata": {},
   "outputs": [],
   "source": [
    "# O(n) time | O(d) space\n",
    "# dfs & recursively\n",
    "def invertBinaryTree(tree):\n",
    "    if tree is None:\n",
    "        return\n",
    "    swapLeftAndRight(tree)\n",
    "    invertBinaryTree(tree.left)\n",
    "    invertBinaryTree(tree.right)\n",
    "            \n",
    "def swapLeftAndRight(tree):\n",
    "    tree.left, tree.right = tree.right, tree.left\n",
    "\n",
    "# This is the class of the input binary tree.\n",
    "class BinaryTree:\n",
    "    def __init__(self, value):\n",
    "        self.value = value\n",
    "        self.left = None\n",
    "        self.right = None"
   ]
  },
  {
   "source": [
    "## Thoughts"
   ],
   "cell_type": "markdown",
   "metadata": {}
  },
  {
   "cell_type": "code",
   "execution_count": null,
   "metadata": {},
   "outputs": [],
   "source": []
  },
  {
   "cell_type": "code",
   "execution_count": null,
   "metadata": {},
   "outputs": [],
   "source": []
  },
  {
   "cell_type": "code",
   "execution_count": null,
   "metadata": {},
   "outputs": [],
   "source": []
  },
  {
   "cell_type": "code",
   "execution_count": null,
   "metadata": {},
   "outputs": [],
   "source": []
  },
  {
   "cell_type": "code",
   "execution_count": null,
   "metadata": {},
   "outputs": [],
   "source": []
  },
  {
   "cell_type": "code",
   "execution_count": null,
   "metadata": {},
   "outputs": [],
   "source": []
  },
  {
   "cell_type": "code",
   "execution_count": null,
   "metadata": {},
   "outputs": [],
   "source": []
  },
  {
   "cell_type": "code",
   "execution_count": null,
   "metadata": {},
   "outputs": [],
   "source": []
  },
  {
   "cell_type": "code",
   "execution_count": null,
   "metadata": {},
   "outputs": [],
   "source": []
  },
  {
   "cell_type": "code",
   "execution_count": null,
   "metadata": {},
   "outputs": [],
   "source": []
  },
  {
   "cell_type": "code",
   "execution_count": null,
   "metadata": {},
   "outputs": [],
   "source": []
  },
  {
   "cell_type": "code",
   "execution_count": null,
   "metadata": {},
   "outputs": [],
   "source": []
  }
 ]
}