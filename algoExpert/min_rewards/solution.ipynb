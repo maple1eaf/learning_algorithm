{
 "metadata": {
  "language_info": {
   "codemirror_mode": {
    "name": "ipython",
    "version": 3
   },
   "file_extension": ".py",
   "mimetype": "text/x-python",
   "name": "python",
   "nbconvert_exporter": "python",
   "pygments_lexer": "ipython3",
   "version": 3
  },
  "orig_nbformat": 2
 },
 "nbformat": 4,
 "nbformat_minor": 2,
 "cells": [
  {
   "source": [
    "# Min Rewards\n",
    "[link](https://www.algoexpert.io/questions/Min%20Rewards)"
   ],
   "cell_type": "markdown",
   "metadata": {}
  },
  {
   "source": [
    "## My Solution"
   ],
   "cell_type": "markdown",
   "metadata": {}
  },
  {
   "cell_type": "code",
   "execution_count": null,
   "metadata": {},
   "outputs": [],
   "source": [
    "def minRewards(scores):\n",
    "    # Write your code here.\n",
    "    # O(n) time | O(n) space\n",
    "    if len(scores) == 1:\n",
    "        return 1\n",
    "    points = [0 for x in scores]\n",
    "    for i in range(len(scores)):\n",
    "        if i == 0:\n",
    "            if scores[0] > scores[1]:\n",
    "                points[0] = 'high'\n",
    "            else:\n",
    "                points[0] = 1\n",
    "        elif i == len(scores) - 1:\n",
    "            if scores[i - 1] < scores[i]:\n",
    "                points[i] = 'high'\n",
    "            else:\n",
    "                points[i] = 1\n",
    "        else:\n",
    "            if scores[i - 1] < scores[i] and scores[i] > scores[i + 1]:\n",
    "                points[i] = 'high'\n",
    "            elif scores[i - 1] > scores[i] and scores[i] < scores[i + 1]:\n",
    "                points[i] = 1\n",
    "                \n",
    "    for i in range(len(scores)):\n",
    "        if points[i] != 1:\n",
    "            continue\n",
    "        startPoint = 2\n",
    "        left = i - 1\n",
    "        while left >= 0 and points[left] != 'high':\n",
    "            points[left] = startPoint\n",
    "            startPoint += 1\n",
    "            left -= 1\n",
    "        startPoint = 2\n",
    "        right = i + 1\n",
    "        while right < len(scores) and points[right] != 'high':\n",
    "            points[right] = startPoint\n",
    "            startPoint += 1\n",
    "            right += 1\n",
    "\n",
    "    for i in range(len(scores)):\n",
    "        if points[i] != 'high':\n",
    "            continue\n",
    "        if i == 0:\n",
    "            points[0] = points[1] + 1\n",
    "        elif i == len(scores) - 1:\n",
    "            points[i] = points[i - 1] + 1\n",
    "        else:\n",
    "            points[i] = max(points[i - 1], points[i + 1]) + 1\n",
    "\n",
    "    return sum(points)"
   ]
  },
  {
   "cell_type": "code",
   "execution_count": null,
   "metadata": {},
   "outputs": [],
   "source": [
    "def minRewards(scores):\n",
    "    # Write your code here.\n",
    "    points = [1 for _ in scores]\n",
    "    for i in range(1, len(scores)):\n",
    "        if scores[i] > scores[i - 1]:\n",
    "            points[i] = points[i - 1] + 1\n",
    "    for i in reversed(range(len(scores) - 1)):\n",
    "        if scores[i] > scores[i + 1]:\n",
    "            points[i] = max(points[i], points[i + 1] + 1)\n",
    "    return sum(points)"
   ]
  },
  {
   "source": [
    "## Expert Solution"
   ],
   "cell_type": "markdown",
   "metadata": {}
  },
  {
   "cell_type": "code",
   "execution_count": null,
   "metadata": {},
   "outputs": [],
   "source": [
    "# O(n^2) time | O(n) space - where n is the length of the input array\n",
    "def minRewards(scores):\n",
    "    rewards = [1 for _ in scores]\n",
    "\tfor i in range(1, len(scores)):\n",
    "\t\tj = i - 1\n",
    "\t\tif scores[i] > scores[j]:\n",
    "\t\t\trewards[i] = rewards[j] + 1\n",
    "\t\telse:\n",
    "\t\t\twhile j >= 0 and scores[j] > scores[j + 1]:\n",
    "\t\t\t\trewards[j] = max(rewards[j], rewards[j + 1] + 1)\n",
    "\t\t\t\tj -= 1\n",
    "\treturn sum(rewards)"
   ]
  },
  {
   "cell_type": "code",
   "execution_count": null,
   "metadata": {},
   "outputs": [],
   "source": [
    "# O(n) time | O(n) space - where n is the length of the input array\n",
    "def minRewards(scores):\n",
    "    rewards = [1 for _ in scores]\n",
    "    localMinIdxs = getLocalMinIdxs(scores)\n",
    "    for localMinIdx in localMinIdxs:\n",
    "        expandFromLocalMinIdx(localMinIdx, scores, rewards)\n",
    "    return sum(rewards)\n",
    "\n",
    "def getLocalMinIdxs(array):\n",
    "    if len(array) == 1:\n",
    "        return [0]\n",
    "    localMinIdxs = []\n",
    "    for i in range(len(array)):\n",
    "        if i == 0 and array[i] < array[i + 1]:\n",
    "            localMinIdxs.append(i)\n",
    "        if i == len(array) - 1 and array[i] < array[i - 1]:\n",
    "            localMinIdxs.append(i)\n",
    "        if i == 0 or i == len(array) - 1:\n",
    "            continue\n",
    "        if array[i] < array[i + 1] and array[i] < array[i - 1]:\n",
    "            localMinIdxs.append(i)\n",
    "    return localMinIdxs\n",
    "\n",
    "def expandFromLocalMinIdx(localMinIdx, scores, rewards):\n",
    "    leftIdx = localMinIdx - 1\n",
    "    while leftIdx >= 0 and scores[leftIdx] > scores[leftIdx + 1]:\n",
    "        rewards[leftIdx] = max(rewards[leftIdx], rewards[leftIdx + 1] + 1)\n",
    "        leftIdx -= 1\n",
    "    rightIdx = localMinIdx + 1\n",
    "    while rightIdx < len(scores) and scores[rightIdx] > scores[rightIdx - 1]:\n",
    "        rewards[rightIdx] = rewards[rightIdx - 1] + 1\n",
    "        rightIdx += 1"
   ]
  },
  {
   "cell_type": "code",
   "execution_count": null,
   "metadata": {},
   "outputs": [],
   "source": [
    "# O(n) time | O(n) space - where n is the length of the input array\n",
    "def minRewards(scores):\n",
    "    rewards = [1 for _ in scores]\n",
    "    for i in range(1, len(scores)):\n",
    "        if scores[i] > scores[i - 1]:\n",
    "            rewards[i] = rewards[i - 1] + 1\n",
    "    for i in reversed(range(len(scores) - 1)):\n",
    "        if scores[i] > scores[i + 1]:\n",
    "            rewards[i] = max(rewards[i], rewards[i + 1] + 1)\n",
    "    return sum(rewards)"
   ]
  },
  {
   "source": [
    "## Thoughts\n",
    "- check two sides at the same time -> check one side in each iteration, two direction iterations\n",
    "- valley-peak approach, or local min and max"
   ],
   "cell_type": "markdown",
   "metadata": {}
  },
  {
   "cell_type": "code",
   "execution_count": null,
   "metadata": {},
   "outputs": [],
   "source": []
  },
  {
   "cell_type": "code",
   "execution_count": null,
   "metadata": {},
   "outputs": [],
   "source": []
  },
  {
   "cell_type": "code",
   "execution_count": null,
   "metadata": {},
   "outputs": [],
   "source": []
  },
  {
   "cell_type": "code",
   "execution_count": null,
   "metadata": {},
   "outputs": [],
   "source": []
  },
  {
   "cell_type": "code",
   "execution_count": null,
   "metadata": {},
   "outputs": [],
   "source": []
  },
  {
   "cell_type": "code",
   "execution_count": null,
   "metadata": {},
   "outputs": [],
   "source": []
  },
  {
   "cell_type": "code",
   "execution_count": null,
   "metadata": {},
   "outputs": [],
   "source": []
  },
  {
   "cell_type": "code",
   "execution_count": null,
   "metadata": {},
   "outputs": [],
   "source": []
  },
  {
   "cell_type": "code",
   "execution_count": null,
   "metadata": {},
   "outputs": [],
   "source": []
  },
  {
   "cell_type": "code",
   "execution_count": null,
   "metadata": {},
   "outputs": [],
   "source": []
  },
  {
   "cell_type": "code",
   "execution_count": null,
   "metadata": {},
   "outputs": [],
   "source": []
  },
  {
   "cell_type": "code",
   "execution_count": null,
   "metadata": {},
   "outputs": [],
   "source": []
  }
 ]
}