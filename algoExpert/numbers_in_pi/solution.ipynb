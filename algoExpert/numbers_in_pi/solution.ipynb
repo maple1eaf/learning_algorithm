{
 "metadata": {
  "language_info": {
   "codemirror_mode": {
    "name": "ipython",
    "version": 3
   },
   "file_extension": ".py",
   "mimetype": "text/x-python",
   "name": "python",
   "nbconvert_exporter": "python",
   "pygments_lexer": "ipython3",
   "version": 3
  },
  "orig_nbformat": 2
 },
 "nbformat": 4,
 "nbformat_minor": 2,
 "cells": [
  {
   "source": [
    "# Numbers In Pi\n",
    "[link](https://www.algoexpert.io/questions/Numbers%20In%20Pi)"
   ],
   "cell_type": "markdown",
   "metadata": {}
  },
  {
   "source": [
    "## My Solution"
   ],
   "cell_type": "markdown",
   "metadata": {}
  },
  {
   "cell_type": "code",
   "execution_count": null,
   "metadata": {},
   "outputs": [],
   "source": [
    "def numbersInPi(pi, numbers):\n",
    "    # Write your code here.\n",
    "    # brute force\n",
    "    d1 = {number: True for number in numbers}\n",
    "    minSpaces = [float('inf')]\n",
    "    numbersInPiHelper(pi, d1, 0, minSpaces, 0)\n",
    "    return minSpaces[0] if minSpaces[0] != float('inf') else -1\n",
    "    \n",
    "def numbersInPiHelper(pi, d1, startIdx, minSpaces, numberOfSpaces):\n",
    "    for endIdx in range(startIdx, len(pi)):\n",
    "        cur = pi[startIdx:endIdx + 1]\n",
    "        \n",
    "        if cur in d1:\n",
    "            if endIdx == len(pi) - 1 and numberOfSpaces < minSpaces[0]:\n",
    "                minSpaces[0] = numberOfSpaces\n",
    "                continue\n",
    "            numbersInPiHelper(pi, d1, endIdx + 1, minSpaces, numberOfSpaces + 1)"
   ]
  },
  {
   "cell_type": "code",
   "execution_count": null,
   "metadata": {},
   "outputs": [],
   "source": [
    "def numbersInPi(pi, numbers):\n",
    "    # Write your code here.\n",
    "    # dp: O(n^3 + m) time | O(n + m)\n",
    "    # n - the number of digits in pi\n",
    "    # m - length of the number list\n",
    "    d1 = {number: True for number in numbers}\n",
    "    opt = [-1 for i in range(len(pi))]\n",
    "    \n",
    "    for i in range(len(pi)):\n",
    "        if pi[:i + 1] in d1:\n",
    "            opt[i] = 0\n",
    "        else:\n",
    "            minValue = float('inf')\n",
    "            for j in range(i):\n",
    "                if opt[j] != -1 and pi[j + 1:i + 1] in d1:\n",
    "                    minValue = min(opt[j], minValue)\n",
    "            if minValue != float('inf'):\n",
    "                opt[i] = minValue + 1\n",
    "    \n",
    "    return opt[-1]"
   ]
  },
  {
   "source": [
    "## Expert Solution"
   ],
   "cell_type": "markdown",
   "metadata": {}
  },
  {
   "cell_type": "code",
   "execution_count": null,
   "metadata": {},
   "outputs": [],
   "source": [
    "# O(n^3 + m) time | O(n + m) space, where n is the number of digits in Pi and m is the number of favorite numbers\n",
    "# recursive solution\n",
    "def numbersInPi(pi, numbers):\n",
    "\tnumbersTable = {number: True for number in numbers}\n",
    "\tminSpaces = getMinSpaces(pi, numbersTable, {}, 0)\n",
    "\treturn -1 if minSpaces == float(\"inf\") else minSpaces\n",
    "\n",
    "def getMinSpaces(pi, numbersTable, cache, idx):\n",
    "\tif idx == len(pi):\n",
    "\t\treturn -1\n",
    "\tif idx in cache:\n",
    "\t\treturn cache[idx]\n",
    "\tminSpaces = float(\"inf\")\n",
    "\tfor i in range(idx, len(pi)):\n",
    "\t\tprefix = pi[idx: i + 1]\n",
    "\t\tif prefix in numbersTable:\n",
    "\t\t\tminSpacesInSuffix = getMinSpaces(pi, numbersTable, cache, i + 1)\n",
    "\t\t\tminSpaces = min(minSpaces, minSpacesInSuffix + 1)\n",
    "\tcache[idx] = minSpaces\n",
    "\treturn cache[idx]"
   ]
  },
  {
   "cell_type": "code",
   "execution_count": null,
   "metadata": {},
   "outputs": [],
   "source": [
    "# O(n^3 + m) time | O(n + m) space, where n is the number of digits in Pi and m is the number of favorite numbers\n",
    "# dp\n",
    "def numbersInPi(pi, numbers):\n",
    "\tnumbersTable = {number: True for number in numbers}\n",
    "    cache = {}\n",
    "    for i in reversed(range(len(pi))):\n",
    "        getMinSpaces(pi, numbersTable, cache, i)\n",
    "    return -1 if cache[0] == float(\"inf\") else cache[0]\n",
    "\n",
    "def getMinSpaces(pi, numbersTable, cache, idx):\n",
    "    if idx == len(pi):\n",
    "        return -1\n",
    "    if idx in cache:\n",
    "        return cache[idx]\n",
    "    minSpaces = float(\"inf\")\n",
    "    for i in range(idx, len(pi)):\n",
    "        prefix = pi[idx : i + 1]\n",
    "        if prefix in numbersTable:\n",
    "            minSpacesInSuffix = getMinSpaces(pi, numbersTable, cache, i + 1)\n",
    "            minSpaces = min(minSpaces, minSpacesInSuffix)\n",
    "    cache[idx] = minSpaces\n",
    "    return cache[idx]"
   ]
  },
  {
   "source": [
    "## Thoughts\n",
    "### my solution 1\n",
    "- this is a brute force solution\n",
    "- there are many duplicate calculations because we may deploy the recursive function many times at same string inputs. for example, let `pi = \"31415926\"`, recursive function is `fun(piece of string)`.\n",
    "    - one moment, we may have `\"3\" + \"14\" + fun(\"15926\")`\n",
    "    - another moment, we may have `\"314\" + fun(\"15926\")`\n",
    "    - `fun(\"15926\")` is computed more than once\n",
    "    - an idea is to store the value of `fun(\"15926\")` when we get it at first time.\n",
    "\n",
    "### expert solution 1\n",
    "- `cache[i]` stores the min number of spaces add of `pi[i:end]`\n",
    "- `cache[i]` is computed in the order from i = end to i = 0\n",
    "- this is basically the memo version of dp\n",
    "\n",
    "### expert solution 2\n",
    "- why can we solve the question with the same direction of generate `cache[i]`? this will turns to be a dp solution.\n",
    "\n",
    "### my solution 2\n",
    "- actually we can solve in an order of start to end.\n",
    "- `opt[i]` means the the min number of spaces added to string `pi[:i + 1]` (i + 1 due to the exclusive)"
   ],
   "cell_type": "markdown",
   "metadata": {}
  },
  {
   "cell_type": "code",
   "execution_count": null,
   "metadata": {},
   "outputs": [],
   "source": []
  },
  {
   "cell_type": "code",
   "execution_count": null,
   "metadata": {},
   "outputs": [],
   "source": []
  },
  {
   "cell_type": "code",
   "execution_count": null,
   "metadata": {},
   "outputs": [],
   "source": []
  },
  {
   "cell_type": "code",
   "execution_count": null,
   "metadata": {},
   "outputs": [],
   "source": []
  },
  {
   "cell_type": "code",
   "execution_count": null,
   "metadata": {},
   "outputs": [],
   "source": []
  },
  {
   "cell_type": "code",
   "execution_count": null,
   "metadata": {},
   "outputs": [],
   "source": []
  },
  {
   "cell_type": "code",
   "execution_count": null,
   "metadata": {},
   "outputs": [],
   "source": []
  },
  {
   "cell_type": "code",
   "execution_count": null,
   "metadata": {},
   "outputs": [],
   "source": []
  },
  {
   "cell_type": "code",
   "execution_count": null,
   "metadata": {},
   "outputs": [],
   "source": []
  },
  {
   "cell_type": "code",
   "execution_count": null,
   "metadata": {},
   "outputs": [],
   "source": []
  },
  {
   "cell_type": "code",
   "execution_count": null,
   "metadata": {},
   "outputs": [],
   "source": []
  },
  {
   "cell_type": "code",
   "execution_count": null,
   "metadata": {},
   "outputs": [],
   "source": []
  }
 ]
}