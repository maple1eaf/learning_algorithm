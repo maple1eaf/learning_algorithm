{
 "metadata": {
  "language_info": {
   "codemirror_mode": {
    "name": "ipython",
    "version": 3
   },
   "file_extension": ".py",
   "mimetype": "text/x-python",
   "name": "python",
   "nbconvert_exporter": "python",
   "pygments_lexer": "ipython3",
   "version": "3.7.3-final"
  },
  "orig_nbformat": 2,
  "kernelspec": {
   "name": "python3",
   "display_name": "Python 3",
   "language": "python"
  }
 },
 "nbformat": 4,
 "nbformat_minor": 2,
 "cells": [
  {
   "source": [
    "# Powerset\n",
    "[link](https://www.algoexpert.io/questions/Powerset)\n",
    "\n",
    "In mathematics, the power set (or powerset) of a set S is the set of all subsets of S, including the empty set and S itself."
   ],
   "cell_type": "markdown",
   "metadata": {}
  },
  {
   "source": [
    "## My Solution"
   ],
   "cell_type": "markdown",
   "metadata": {}
  },
  {
   "cell_type": "code",
   "execution_count": null,
   "metadata": {},
   "outputs": [],
   "source": [
    "def powerset(array):\n",
    "    # Write your code here.\n",
    "    return powersetHelper(array, len(array) - 1)\n",
    "\n",
    "def powersetHelper(array, idx):\n",
    "    if idx < 0:\n",
    "        return [[]]\n",
    "    res = powersetHelper(array, idx - 1)\n",
    "    for i in range(len(res)):\n",
    "        x = res[i] + [array[idx]]\n",
    "        res.append(x)\n",
    "    return res"
   ]
  },
  {
   "cell_type": "code",
   "execution_count": 5,
   "metadata": {},
   "outputs": [],
   "source": [
    "def powerset(array):\n",
    "    # Write your code here.\n",
    "    res = [[]]\n",
    "    for e in array:\n",
    "        powersetHelper(res, e)\n",
    "    return res\n",
    "    \n",
    "def powersetHelper(res, e):\n",
    "    for i in range(len(res)):\n",
    "        x = res[i] + [e]\n",
    "        res.append(x)"
   ]
  },
  {
   "cell_type": "code",
   "execution_count": 11,
   "metadata": {},
   "outputs": [
    {
     "output_type": "execute_result",
     "data": {
      "text/plain": [
       "[[],\n",
       " [1],\n",
       " [2],\n",
       " [1, 2],\n",
       " [3],\n",
       " [1, 3],\n",
       " [2, 3],\n",
       " [1, 2, 3],\n",
       " [4],\n",
       " [1, 4],\n",
       " [2, 4],\n",
       " [1, 2, 4],\n",
       " [3, 4],\n",
       " [1, 3, 4],\n",
       " [2, 3, 4],\n",
       " [1, 2, 3, 4]]"
      ]
     },
     "metadata": {},
     "execution_count": 11
    }
   ],
   "source": [
    "powerset([1,2,3,4])"
   ]
  },
  {
   "cell_type": "code",
   "execution_count": null,
   "metadata": {},
   "outputs": [],
   "source": [
    "#  mind! wrong way\n",
    "def powersetHelper(res, e):\n",
    "    for x in res: # this will make the loop endless because we append a new element at each loop\n",
    "        x = res.append(e) # this will change the original x\n",
    "        res.append(x)"
   ]
  },
  {
   "source": [
    "## Expert Solution"
   ],
   "cell_type": "markdown",
   "metadata": {}
  },
  {
   "cell_type": "code",
   "execution_count": null,
   "metadata": {},
   "outputs": [],
   "source": [
    "# O(n*2^n) time | O(n*2^n) space\n",
    "def powerset(array, idx=None):\n",
    "    if idx is None:\n",
    "\t\tidx = len(array) - 1\n",
    "\tif idx < 0:\n",
    "\t\treturn [[]]\n",
    "\tele = array[idx]\n",
    "\tsubsets = powerset(array, idx - 1)\n",
    "\tfor i in range(len(subsets)):\n",
    "\t\tcurrentSubset = subsets[i]\n",
    "\t\tsubsets.append(currentSubset + [ele])\n",
    "\treturn subsets"
   ]
  },
  {
   "cell_type": "code",
   "execution_count": 10,
   "metadata": {},
   "outputs": [],
   "source": [
    "# O(n*2^n) time | O(n*2^n) space\n",
    "def powerset(array):\n",
    "    subsets = [[]]\n",
    "    for ele in array:\n",
    "        for i in range(len(subsets)):\n",
    "            currentSubset = subsets[i]\n",
    "            subsets.append(currentSubset + [ele])\n",
    "    return subsets"
   ]
  },
  {
   "source": [
    "## Thoughts\n",
    "\n",
    "### time complexity\n",
    "- at the end, we need to generate 2^n subsets\n",
    "- for generating each subset, we need at most O(n) time\n",
    "- totally, O(n*2^n) time\n",
    "\n",
    "### space complexity\n",
    "- at the end, we need to generate 2^n subsets\n",
    "- subsets have average n/2 elements\n",
    "- totally, O(n*2^n) space\n"
   ],
   "cell_type": "markdown",
   "metadata": {}
  },
  {
   "cell_type": "code",
   "execution_count": null,
   "metadata": {},
   "outputs": [],
   "source": []
  },
  {
   "cell_type": "code",
   "execution_count": null,
   "metadata": {},
   "outputs": [],
   "source": []
  },
  {
   "cell_type": "code",
   "execution_count": null,
   "metadata": {},
   "outputs": [],
   "source": []
  },
  {
   "cell_type": "code",
   "execution_count": null,
   "metadata": {},
   "outputs": [],
   "source": []
  },
  {
   "cell_type": "code",
   "execution_count": null,
   "metadata": {},
   "outputs": [],
   "source": []
  },
  {
   "cell_type": "code",
   "execution_count": null,
   "metadata": {},
   "outputs": [],
   "source": []
  },
  {
   "cell_type": "code",
   "execution_count": null,
   "metadata": {},
   "outputs": [],
   "source": []
  },
  {
   "cell_type": "code",
   "execution_count": null,
   "metadata": {},
   "outputs": [],
   "source": []
  },
  {
   "cell_type": "code",
   "execution_count": null,
   "metadata": {},
   "outputs": [],
   "source": []
  },
  {
   "cell_type": "code",
   "execution_count": null,
   "metadata": {},
   "outputs": [],
   "source": []
  },
  {
   "cell_type": "code",
   "execution_count": null,
   "metadata": {},
   "outputs": [],
   "source": []
  },
  {
   "cell_type": "code",
   "execution_count": null,
   "metadata": {},
   "outputs": [],
   "source": []
  }
 ]
}