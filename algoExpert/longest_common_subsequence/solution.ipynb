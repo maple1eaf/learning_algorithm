{
 "metadata": {
  "language_info": {
   "codemirror_mode": {
    "name": "ipython",
    "version": 3
   },
   "file_extension": ".py",
   "mimetype": "text/x-python",
   "name": "python",
   "nbconvert_exporter": "python",
   "pygments_lexer": "ipython3",
   "version": "3.7.3-final"
  },
  "orig_nbformat": 2,
  "kernelspec": {
   "name": "python3",
   "display_name": "Python 3",
   "language": "python"
  }
 },
 "nbformat": 4,
 "nbformat_minor": 2,
 "cells": [
  {
   "source": [
    "# Longest Common Subsequence\n",
    "[link](https://www.algoexpert.io/questions/Longest%20Common%20Subsequence)"
   ],
   "cell_type": "markdown",
   "metadata": {}
  },
  {
   "source": [
    "## My Solution"
   ],
   "cell_type": "markdown",
   "metadata": {}
  },
  {
   "cell_type": "code",
   "execution_count": 22,
   "metadata": {},
   "outputs": [],
   "source": [
    "def longestCommonSubsequence(str1, str2):\n",
    "\t# Write your code here.\n",
    "\tif str1 == \"\" or str2 == \"\":\n",
    "\t\treturn []\n",
    "\topt = [[0 for y in str2] for x in str1]\n",
    "\tprev = [[None for y in str2] for x in str1]\n",
    "\n",
    "\tfor i in range(len(str1)):\n",
    "\t\tif str1[i] == str2[0]: opt[i][0] = 1\n",
    "\n",
    "\tfor j in range(len(str2)):\n",
    "\t\tif str1[0] == str2[j]: opt[0][j] = 1\n",
    "\n",
    "\tfor i in range(1, len(str1)):\n",
    "\t\tfor j in range(1, len(str2)):\n",
    "\t\t\tif str1[i] == str2[j]:\n",
    "\t\t\t\topt[i][j] = opt[i - 1][j - 1] + 1\n",
    "\t\t\t\tprev[i][j] = [i - 1, j - 1]\n",
    "\t\t\telse:\n",
    "\t\t\t\ttemp = opt[i - 1][j]\n",
    "\t\t\t\ttempIJ = [i - 1, j]\n",
    "\t\t\t\tif opt[i][j - 1] > temp:\n",
    "\t\t\t\t\ttemp = opt[i][j - 1]\n",
    "\t\t\t\t\ttempIJ = [i, j - 1]\n",
    "\t\t\t\tif opt[i - 1][j - 1] > temp:\n",
    "\t\t\t\t\ttemp = opt[i - 1][j - 1]\n",
    "\t\t\t\t\ttempIJ = [i - 1, j - 1]\n",
    "\t\t\t\topt[i][j] = temp\n",
    "\t\t\t\tprev[i][j] = tempIJ\n",
    "\n",
    "\tres = []\n",
    "\tcurrentIJ = [len(str1) - 1, len(str2) - 1]\n",
    "\twhile currentIJ is not None:\n",
    "\t\tif str1[currentIJ[0]] == str2[currentIJ[1]]:\n",
    "\t\t\tres.append(str1[currentIJ[0]])\n",
    "\t\tcurrentIJ = prev[currentIJ[0]][currentIJ[1]]\n",
    "\tres.reverse()\n",
    "\treturn res"
   ]
  },
  {
   "cell_type": "code",
   "execution_count": 24,
   "metadata": {},
   "outputs": [],
   "source": [
    "def longestCommonSubsequence(str1, str2):\n",
    "    # Write your code here.\n",
    "    opt = [[0 for j in range(len(str2) + 1)] for i in range(len(str1) + 1)]\n",
    "\n",
    "    for i in range(1, len(str1) + 1):\n",
    "        for j in range(1, len(str2) + 1):\n",
    "            if str1[i - 1] == str2[j - 1]:\n",
    "                opt[i][j] = opt[i - 1][j - 1] + 1\n",
    "            else:\n",
    "                opt[i][j] = max(opt[i - 1][j], opt[i][j - 1])\n",
    "\n",
    "    res = []\n",
    "    i, j = len(str1), len(str2)\n",
    "    while i > 0 and j > 0:\n",
    "        if opt[i][j] == opt[i - 1][j]:\n",
    "            i -= 1\n",
    "        elif opt[i][j] == opt[i][j - 1]:\n",
    "            j -= 1\n",
    "        else:\n",
    "            res.append(str1[i - 1])\n",
    "            i -= 1\n",
    "            j -= 1\n",
    "    res.reverse()\n",
    "    return res"
   ]
  },
  {
   "cell_type": "code",
   "execution_count": null,
   "metadata": {},
   "outputs": [],
   "source": [
    "def longestCommonSubsequence(str1, str2):\n",
    "    # Write your code here.\n",
    "    opt = [[0 for j in range(len(str2) + 1)] for i in range(len(str1) + 1)]\n",
    "\n",
    "    for i in range(1, len(str1) + 1):\n",
    "        for j in range(1, len(str2) + 1):\n",
    "            opt[i][j] = max(opt[i - 1][j], \\\n",
    "                            opt[i][j - 1], \\\n",
    "                            opt[i - 1][j - 1] + (1 if str1[i - 1] == str2[j - 1] else 0) \\\n",
    "                        )\n",
    "\n",
    "    res = []\n",
    "    i, j = len(str1), len(str2)\n",
    "    while i > 0 and j > 0:\n",
    "        array = [opt[i - 1][j], \\\n",
    "                opt[i][j - 1], \\\n",
    "                opt[i - 1][j - 1] + (1 if str1[i - 1] == str2[j - 1] else 0) \\\n",
    "                ]\n",
    "        idxArray = [[i - 1, j], [i, j - 1], [i - 1, j - 1]]\n",
    "        prevIdx = getIdx(array, opt[i][j])\n",
    "        if prevIdx == 2 and str1[i - 1] == str2[j - 1]:\n",
    "            res.append(str1[i - 1])\n",
    "        i, j = idxArray[prevIdx]\n",
    "    res.reverse()\n",
    "    return res\n",
    "\n",
    "def getIdx(array, targetValue):\n",
    "    for i in range(len(array)):\n",
    "        if array[i] == targetValue:\n",
    "            return i"
   ]
  },
  {
   "cell_type": "code",
   "execution_count": 25,
   "metadata": {},
   "outputs": [
    {
     "output_type": "execute_result",
     "data": {
      "text/plain": [
       "['A', 'E']"
      ]
     },
     "metadata": {},
     "execution_count": 25
    }
   ],
   "source": [
    "str1 = \"ABCDEFG\"\n",
    "str2 = \"APPLES\"\n",
    "longestCommonSubsequence(str1, str2)"
   ]
  },
  {
   "source": [
    "## Expert Solution"
   ],
   "cell_type": "markdown",
   "metadata": {}
  },
  {
   "cell_type": "code",
   "execution_count": null,
   "metadata": {},
   "outputs": [],
   "source": [
    "# O(nm*min(n, m)) time | O(nm*min(n, m)) space\n",
    "def longestCommonSubsequence(str1, str2):\n",
    "    lcs = [[[] for x in range(len(str1) + 1)] for y in range(len(str2) + 1)]\n",
    "\tfor i in range(1, len(str2) + 1):\n",
    "\t\tfor j in range(1, len(str1) + 1):\n",
    "\t\t\tif str2[i - 1] == str1[j -1]:\n",
    "\t\t\t\tlcs[i][j] = lcs[i - 1][j - 1] + [str2[i - 1]]\n",
    "\t\t\telse:\n",
    "\t\t\t\tlcs[i][j] = max(lcs[i - 1][j], lcs[i][j - 1], key = len)\n",
    "\treturn lcs[-1][-1]"
   ]
  },
  {
   "cell_type": "code",
   "execution_count": null,
   "metadata": {},
   "outputs": [],
   "source": [
    "# O(nm*min(n, m)) time | O((min(n, m))^2) space\n",
    "def longestCommonSubsequence(str1, str2):\n",
    "    small = str1 if len(str1) < len(str2) else str2\n",
    "    big = str1 if len(str1) >= len(str2) else str2\n",
    "    evenLcs = [[] for x in range(len(small) + 1)]\n",
    "    oddLcs = [[] for x in range(len(small) + 1)]\n",
    "    for i in range(1, len(big) + 1):\n",
    "        if i % 2 == 1:\n",
    "            currentLcs = oddLcs\n",
    "            previousLcs = evenLcs\n",
    "        else:\n",
    "            currentLcs = evenLcs\n",
    "            previousLcs = oddLcs\n",
    "        for j in range(1, len(small) + 1):\n",
    "            if big[i - 1] == small[j - 1]:\n",
    "                currentLcs[j] = previousLcs[j - 1] + [big[i - 1]]\n",
    "            else:\n",
    "                currentLcs[j] = max(previousLcs[j], currentLcs[j - 1], key=len)\n",
    "    return evenLcs[-1] if len(big) % 2 ==0 else oddLcs[-1]"
   ]
  },
  {
   "cell_type": "code",
   "execution_count": null,
   "metadata": {},
   "outputs": [],
   "source": [
    "# O(nm) time | O(nm) space\n",
    "def longestCommonSubsequence(str1, str2):\n",
    "    lcs = [[[None, 0, None, None] for x in range(len(str1) + 1)] for y in range(len(str2) + 1)]\n",
    "    for i in range(1, len(str2) + 1):\n",
    "        for j in range(1, len(str1) + 1):\n",
    "            if str2[i - 1] == str1[j - 1]:\n",
    "                lcs[i][j] = [str2[i - 1], lcs[i - 1][j - 1][1] + 1, i - 1, j - 1]\n",
    "            else:\n",
    "                if lcs[i - 1][j][1] > lcs[i][j - 1][1]:\n",
    "                    lcs[i][j] = [None, lcs[i - 1][j][1], i - 1, j]\n",
    "                else:\n",
    "                    lcs[i][j] = [None, lcs[i][j - 1][1], i, j - 1]\n",
    "    return buildSequence(lcs)\n",
    "\n",
    "def buildSequence(lcs):\n",
    "    sequence = []\n",
    "    i = len(lcs) - 1\n",
    "    j = len(lcs[0]) - 1\n",
    "    while i != 0 and j != 0:\n",
    "        currentEntry = lcs[i][j]\n",
    "        if currentEntry[0] is not None:\n",
    "            sequence.append(currentEntry[0])\n",
    "        i = currentEntry[2]\n",
    "        j = currentEntry[3]\n",
    "    return list(reversed(sequence))"
   ]
  },
  {
   "cell_type": "code",
   "execution_count": null,
   "metadata": {},
   "outputs": [],
   "source": [
    "# O(nm) time | O(nm) space\n",
    "def longestCommonSubsequence(str1, str2):\n",
    "    lengths = [[0 for x in range(len(str1) + 1)] for y in range(len(str2) + 1)]\n",
    "\tfor i in range(1, len(str2) + 1):\n",
    "\t\tfor j in range(1, len(str1) + 1):\n",
    "\t\t\tif str2[i - 1] == str1[j - 1]:\n",
    "\t\t\t\tlengths[i][j] = lengths[i - 1][j - 1] + 1\n",
    "\t\t\telse:\n",
    "\t\t\t\tlengths[i][j] = max(lengths[i - 1][j], lengths[i][j - 1])\n",
    "\treturn buildSequence(lengths, str1)\n",
    "\n",
    "def buildSequence(lengths, string):\n",
    "\tsequence = []\n",
    "\ti = len(lengths) - 1\n",
    "\tj = len(lengths[0]) - 1\n",
    "\twhile i != 0 and j != 0:\n",
    "\t\tif lengths[i][j] == lengths[i - 1][j]:\n",
    "\t\t\ti -= 1\n",
    "\t\telif lengths[i][j] == lengths[i][j - 1]:\n",
    "\t\t\tj -= 1\n",
    "\t\telse:\n",
    "\t\t\tsequence.append(string[j - 1])\n",
    "\t\t\ti -= 1\n",
    "\t\t\tj -= 1\n",
    "\treturn list(reversed(sequence))"
   ]
  },
  {
   "cell_type": "code",
   "execution_count": null,
   "metadata": {},
   "outputs": [],
   "source": []
  },
  {
   "source": [
    "## Thoughts\n",
    "- observation: if `str1[i] != str2[j]`, `opt[i - 1][j - 1]` must <= `opt[i - 1][j]` or <= `opt[i][j - 1]`.\n",
    "- the shortest string is empty string, so the opt matrix is (n + 1) * (m + 1)\n",
    "- the matrix could directly store the result as expert solution 1, but it has a higher complexity trade-off."
   ],
   "cell_type": "markdown",
   "metadata": {}
  },
  {
   "cell_type": "code",
   "execution_count": null,
   "metadata": {},
   "outputs": [],
   "source": []
  },
  {
   "cell_type": "code",
   "execution_count": null,
   "metadata": {},
   "outputs": [],
   "source": []
  },
  {
   "cell_type": "code",
   "execution_count": null,
   "metadata": {},
   "outputs": [],
   "source": []
  },
  {
   "cell_type": "code",
   "execution_count": null,
   "metadata": {},
   "outputs": [],
   "source": []
  },
  {
   "cell_type": "code",
   "execution_count": null,
   "metadata": {},
   "outputs": [],
   "source": []
  },
  {
   "cell_type": "code",
   "execution_count": null,
   "metadata": {},
   "outputs": [],
   "source": []
  },
  {
   "cell_type": "code",
   "execution_count": null,
   "metadata": {},
   "outputs": [],
   "source": []
  },
  {
   "cell_type": "code",
   "execution_count": null,
   "metadata": {},
   "outputs": [],
   "source": []
  },
  {
   "cell_type": "code",
   "execution_count": null,
   "metadata": {},
   "outputs": [],
   "source": []
  },
  {
   "cell_type": "code",
   "execution_count": null,
   "metadata": {},
   "outputs": [],
   "source": []
  },
  {
   "cell_type": "code",
   "execution_count": null,
   "metadata": {},
   "outputs": [],
   "source": []
  },
  {
   "cell_type": "code",
   "execution_count": null,
   "metadata": {},
   "outputs": [],
   "source": []
  }
 ]
}