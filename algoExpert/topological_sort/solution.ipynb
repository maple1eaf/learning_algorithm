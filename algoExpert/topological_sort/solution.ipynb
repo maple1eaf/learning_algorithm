{
 "metadata": {
  "language_info": {
   "codemirror_mode": {
    "name": "ipython",
    "version": 3
   },
   "file_extension": ".py",
   "mimetype": "text/x-python",
   "name": "python",
   "nbconvert_exporter": "python",
   "pygments_lexer": "ipython3",
   "version": 3
  },
  "orig_nbformat": 2
 },
 "nbformat": 4,
 "nbformat_minor": 2,
 "cells": [
  {
   "source": [
    "# Topological Sort\n",
    "[link](https://www.algoexpert.io/questions/Topological%20Sort)"
   ],
   "cell_type": "markdown",
   "metadata": {}
  },
  {
   "source": [
    "## My Solution"
   ],
   "cell_type": "markdown",
   "metadata": {}
  },
  {
   "cell_type": "code",
   "execution_count": null,
   "metadata": {},
   "outputs": [],
   "source": [
    "def topologicalSort(jobs, deps):\n",
    "    # Write your code here.\n",
    "    d = {j: Job(j) for j in jobs}\n",
    "    for dep in deps:\n",
    "        d[dep[0]].outs.add(dep[1])\n",
    "        d[dep[1]].numOfIns += 1\n",
    "        \n",
    "    queue = [k for k in d if d[k].numOfIns == 0]\n",
    "    \n",
    "    res = []\n",
    "    while queue != []:\n",
    "        k = queue.pop(0)\n",
    "        res.append(k)\n",
    "        job = d[k]\n",
    "        for outKey in job.outs:\n",
    "            outJob = d[outKey]\n",
    "            outJob.numOfIns -= 1\n",
    "            if outJob.numOfIns == 0:\n",
    "                queue.append(outKey)\n",
    "    if len(res) != len(jobs):\n",
    "        res = []\n",
    "    return res\n",
    "    \n",
    "                \n",
    "class Job:\n",
    "    def __init__(self, key):\n",
    "        self.key = key\n",
    "        self.numOfIns = 0\n",
    "        self.outs = set()"
   ]
  },
  {
   "cell_type": "code",
   "execution_count": null,
   "metadata": {},
   "outputs": [],
   "source": []
  },
  {
   "source": [
    "## Expert Solution"
   ],
   "cell_type": "markdown",
   "metadata": {}
  },
  {
   "cell_type": "code",
   "execution_count": null,
   "metadata": {},
   "outputs": [],
   "source": [
    "# O(j + d) time | O(j + d) space\n",
    "def topologicalSort(jobs, deps):\n",
    "    jobGraph = createJobGraph(jobs, deps)\n",
    "    return getOrderJobs(jobGraph)\n",
    "\n",
    "def createJobGraph(jobs, deps):\n",
    "    graph = JobGraph(jobs)\n",
    "    for prereq, job in deps:\n",
    "        graph.addPrereq(job, prereq)\n",
    "    return graph\n",
    "\n",
    "def getOrderJobs(graph):\n",
    "    orderedJobs = []\n",
    "    nodes = graph.nodes\n",
    "    while len(nodes):\n",
    "        node = nodes.pop()\n",
    "        containsCycle = depthFirstTraverse(node, orderedJobs)\n",
    "        if containsCycle:\n",
    "            return []\n",
    "    return orderedJobs\n",
    "\n",
    "def depthFirstTraverse(node, orderedJobs):\n",
    "    if node.visited:\n",
    "        return False\n",
    "    if node.visiting:\n",
    "        return True\n",
    "    node.visiting = True\n",
    "    for prereqNode in node.prereqs:\n",
    "        containsCycle = depthFirstTraverse(prereqNode, orderedJobs)\n",
    "        if containsCycle:\n",
    "            return True\n",
    "    node.visited = True\n",
    "    node.visiting = False\n",
    "    orderedJobs.append(node.job)\n",
    "    return False\n",
    "\n",
    "class JobGraph:\n",
    "    def __init__(self, jobs):\n",
    "        self.nodes = []\n",
    "        self.graph = {}\n",
    "        for job in jobs:\n",
    "            self.addNode(job)\n",
    "            \n",
    "    def addPrereq(self, job, prereq):\n",
    "        jobNode = self.getNode(job)\n",
    "        prereqNode = self.getNode(prereq)\n",
    "        jobNode.prereqs.append(prereqNode)\n",
    "        \n",
    "    def addNode(self, job):\n",
    "        self.graph[job] = JobNode(job)\n",
    "        self.nodes.append(self.graph[job])\n",
    "        \n",
    "    def getNode(self, job):\n",
    "        if job not in self.graph:\n",
    "            self.addNode(job)\n",
    "        return self.graph[job]\n",
    "    \n",
    "class JobNode:\n",
    "    def __init__(self, job):\n",
    "        self.job = job\n",
    "        self.prereqs = []\n",
    "        self.visited = False\n",
    "        self.visiting = False"
   ]
  },
  {
   "cell_type": "code",
   "execution_count": null,
   "metadata": {},
   "outputs": [],
   "source": [
    "# O(j + d) time | O(j + d) space\n",
    "def topologicalSort(jobs, deps):\n",
    "\tjobGraph = createJobGraph(jobs, deps)\n",
    "\treturn getOrderedJobs(jobGraph)\n",
    "\n",
    "def createJobGraph(jobs, deps):\n",
    "\tgraph = JobGraph(jobs)\n",
    "\tfor job, dep in deps:\n",
    "\t\tgraph.addDep(job, dep)\n",
    "\treturn graph\n",
    "\n",
    "def getOrderedJobs(graph):\n",
    "\torderedJobs = []\n",
    "\tnodesWithNoPrereqs = list(filter(lambda node: node.numOfPrereqs == 0, graph.nodes))\n",
    "\twhile len(nodesWithNoPrereqs):\n",
    "\t\tnode = nodesWithNoPrereqs.pop()\n",
    "\t\torderedJobs.append(node.job)\n",
    "\t\tremoveDeps(node, nodesWithNoPrereqs)\n",
    "\tgraphHasEdges = any(node.numOfPrereqs for node in graph.nodes)\n",
    "\treturn [] if graphHasEdges else orderedJobs\n",
    "\n",
    "def removeDeps(node, nodesWithNoPrereqs):\n",
    "\twhile len(node.deps):\n",
    "\t\tdep = node.deps.pop()\n",
    "\t\tdep.numOfPrereqs -= 1\n",
    "\t\tif dep.numOfPrereqs == 0:\n",
    "\t\t\tnodesWithNoPrereqs.append(dep)\n",
    "\t\t\t\n",
    "class JobGraph:\n",
    "\tdef __init__(self, jobs):\n",
    "\t\tself.nodes = []\n",
    "\t\tself.graph = {}\n",
    "\t\tfor job in jobs:\n",
    "\t\t\tself.addNode(job)\n",
    "\t\t\t\n",
    "\tdef addDep(self, job, dep):\n",
    "\t\tjobNode = self.getNode(job)\n",
    "\t\tdepNode = self.getNode(dep)\n",
    "\t\tjobNode.deps.append(depNode)\n",
    "\t\tdepNode.numOfPrereqs += 1\n",
    "\t\t\n",
    "\tdef addNode(self, job):\n",
    "\t\tself.graph[job] = JobNode(job)\n",
    "\t\tself.nodes.append(self.graph[job])\n",
    "\t\t\n",
    "\tdef getNode(self, job):\n",
    "\t\tif job not in self.graph:\n",
    "\t\t\tself.addNode(job)\n",
    "\t\treturn self.graph[job]\n",
    "\t\n",
    "class JobNode:\n",
    "\tdef __init__(self, job):\n",
    "\t\tself.job = job\n",
    "\t\tself.deps = []\n",
    "\t\tself.numOfPrereqs = 0"
   ]
  },
  {
   "source": [
    "## Thoughts\n",
    "DAG (Directed Acyclic Graph) is a directed acyclic graph is a directed graph with no directed cycles. \n"
   ],
   "cell_type": "markdown",
   "metadata": {}
  },
  {
   "cell_type": "code",
   "execution_count": null,
   "metadata": {},
   "outputs": [],
   "source": []
  },
  {
   "cell_type": "code",
   "execution_count": null,
   "metadata": {},
   "outputs": [],
   "source": []
  },
  {
   "cell_type": "code",
   "execution_count": null,
   "metadata": {},
   "outputs": [],
   "source": []
  },
  {
   "cell_type": "code",
   "execution_count": null,
   "metadata": {},
   "outputs": [],
   "source": []
  },
  {
   "cell_type": "code",
   "execution_count": null,
   "metadata": {},
   "outputs": [],
   "source": []
  },
  {
   "cell_type": "code",
   "execution_count": null,
   "metadata": {},
   "outputs": [],
   "source": []
  },
  {
   "cell_type": "code",
   "execution_count": null,
   "metadata": {},
   "outputs": [],
   "source": []
  },
  {
   "cell_type": "code",
   "execution_count": null,
   "metadata": {},
   "outputs": [],
   "source": []
  },
  {
   "cell_type": "code",
   "execution_count": null,
   "metadata": {},
   "outputs": [],
   "source": []
  },
  {
   "cell_type": "code",
   "execution_count": null,
   "metadata": {},
   "outputs": [],
   "source": []
  },
  {
   "cell_type": "code",
   "execution_count": null,
   "metadata": {},
   "outputs": [],
   "source": []
  },
  {
   "cell_type": "code",
   "execution_count": null,
   "metadata": {},
   "outputs": [],
   "source": []
  }
 ]
}