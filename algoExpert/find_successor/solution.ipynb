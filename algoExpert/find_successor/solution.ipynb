{
 "metadata": {
  "language_info": {
   "codemirror_mode": {
    "name": "ipython",
    "version": 3
   },
   "file_extension": ".py",
   "mimetype": "text/x-python",
   "name": "python",
   "nbconvert_exporter": "python",
   "pygments_lexer": "ipython3",
   "version": 3
  },
  "orig_nbformat": 2
 },
 "nbformat": 4,
 "nbformat_minor": 2,
 "cells": [
  {
   "cell_type": "markdown",
   "source": [
    "# Find Successor\n",
    "[link](https://www.algoexpert.io/questions/Find%20Successor)"
   ],
   "metadata": {}
  },
  {
   "cell_type": "markdown",
   "source": [
    "## My Solution"
   ],
   "metadata": {}
  },
  {
   "cell_type": "code",
   "execution_count": null,
   "source": [
    "# This is an input class. Do not edit.\n",
    "class BinaryTree:\n",
    "    def __init__(self, value, left=None, right=None, parent=None):\n",
    "        self.value = value\n",
    "        self.left = left\n",
    "        self.right = right\n",
    "        self.parent = parent\n",
    "\n",
    "# O(h) time | O(1) space\n",
    "def findSuccessor(tree, node):\n",
    "    # Write your code here.\n",
    "    if node.right is not None:\n",
    "        return findLeftNearestChild(node)\n",
    "    else:\n",
    "        return findRightNearestParent(node)\n",
    "\n",
    "def findLeftNearestChild(root):\n",
    "    cur = root\n",
    "    if cur.right is None:\n",
    "        return None\n",
    "    cur = cur.right\n",
    "    while cur.left is not None:\n",
    "        cur = cur.left\n",
    "    return cur\n",
    "\n",
    "def findRightNearestParent(node):\n",
    "    cur, parent = node, node.parent\n",
    "    while parent is not None and parent.left != cur:\n",
    "        cur = parent\n",
    "        parent = parent.parent\n",
    "    return parent"
   ],
   "outputs": [],
   "metadata": {}
  },
  {
   "cell_type": "markdown",
   "source": [
    "## Expert Solution"
   ],
   "metadata": {}
  },
  {
   "cell_type": "code",
   "execution_count": null,
   "source": [
    "# This is an input class. Do not edit.\n",
    "class BinaryTree:\n",
    "    def __init__(self, value, left=None, right=None, parent=None):\n",
    "        self.value = value\n",
    "        self.left = left\n",
    "        self.right = right\n",
    "        self.parent = parent\n",
    "\n",
    "# O(n) time | O(n) space\n",
    "def findSuccessor(tree, node):\n",
    "    inOrderTraversalOrder = getInOrderTraversalOrder(tree)\n",
    "\n",
    "    for idx, currentNode in enumerate(inOrderTraversalOrder):\n",
    "        if currentNode != node:\n",
    "            continue\n",
    "\n",
    "        if idx == len(inOrderTraversalOrder) - 1:\n",
    "            return None\n",
    "        \n",
    "        return inOrderTraversalOrder[idx + 1]\n",
    "\n",
    "def getInOrderTraversalOrder(node, order=[]):\n",
    "    if node is None:\n",
    "        return order\n",
    "    \n",
    "    getInOrderTraversalOrder(node.left, order)\n",
    "    order.append(node)\n",
    "    getInOrderTraversalOrder(node.right, order)\n",
    "\n",
    "    return order"
   ],
   "outputs": [],
   "metadata": {}
  },
  {
   "cell_type": "code",
   "execution_count": null,
   "source": [
    "# This is an input class. Do not edit.\n",
    "class BinaryTree:\n",
    "    def __init__(self, value, left=None, right=None, parent=None):\n",
    "        self.value = value\n",
    "        self.left = left\n",
    "        self.right = right\n",
    "        self.parent = parent\n",
    "\n",
    "# O(h) time | O(1) space\n",
    "def findSuccessor(tree, node):\n",
    "    if node.right is not None:\n",
    "        return getLeftmostChild(node.right)\n",
    "\n",
    "    return getRightmostParent(node)\n",
    "\n",
    "def getLeftmostChild(node):\n",
    "    currentNode = node\n",
    "    while currentNode.left is not None:\n",
    "        currentNode = currentNode.left\n",
    "\n",
    "    return currentNode\n",
    "\n",
    "def getRightmostParent(node):\n",
    "    currentNode = node\n",
    "    while currentNode.parent is not None and currentNode.parent.right == currentNode:\n",
    "        currentNode = currentNode.parent\n",
    "\n",
    "    return currentNode.parent"
   ],
   "outputs": [],
   "metadata": {}
  },
  {
   "cell_type": "markdown",
   "source": [
    "## Thoughts"
   ],
   "metadata": {}
  },
  {
   "cell_type": "code",
   "execution_count": null,
   "source": [],
   "outputs": [],
   "metadata": {}
  },
  {
   "cell_type": "code",
   "execution_count": null,
   "source": [],
   "outputs": [],
   "metadata": {}
  },
  {
   "cell_type": "code",
   "execution_count": null,
   "source": [],
   "outputs": [],
   "metadata": {}
  },
  {
   "cell_type": "code",
   "execution_count": null,
   "source": [],
   "outputs": [],
   "metadata": {}
  },
  {
   "cell_type": "code",
   "execution_count": null,
   "source": [],
   "outputs": [],
   "metadata": {}
  },
  {
   "cell_type": "code",
   "execution_count": null,
   "source": [],
   "outputs": [],
   "metadata": {}
  },
  {
   "cell_type": "code",
   "execution_count": null,
   "source": [],
   "outputs": [],
   "metadata": {}
  },
  {
   "cell_type": "code",
   "execution_count": null,
   "source": [],
   "outputs": [],
   "metadata": {}
  },
  {
   "cell_type": "code",
   "execution_count": null,
   "source": [],
   "outputs": [],
   "metadata": {}
  },
  {
   "cell_type": "code",
   "execution_count": null,
   "source": [],
   "outputs": [],
   "metadata": {}
  },
  {
   "cell_type": "code",
   "execution_count": null,
   "source": [],
   "outputs": [],
   "metadata": {}
  },
  {
   "cell_type": "code",
   "execution_count": null,
   "source": [],
   "outputs": [],
   "metadata": {}
  }
 ]
}