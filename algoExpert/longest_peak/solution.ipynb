{
 "metadata": {
  "language_info": {
   "codemirror_mode": {
    "name": "ipython",
    "version": 3
   },
   "file_extension": ".py",
   "mimetype": "text/x-python",
   "name": "python",
   "nbconvert_exporter": "python",
   "pygments_lexer": "ipython3",
   "version": 3
  },
  "orig_nbformat": 2
 },
 "nbformat": 4,
 "nbformat_minor": 2,
 "cells": [
  {
   "source": [
    "# Longest Peak\n",
    "[link](https://www.algoexpert.io/questions/Longest%20Peak)"
   ],
   "cell_type": "markdown",
   "metadata": {}
  },
  {
   "source": [
    "## My Solution"
   ],
   "cell_type": "markdown",
   "metadata": {}
  },
  {
   "cell_type": "code",
   "execution_count": null,
   "metadata": {},
   "outputs": [],
   "source": [
    "def longestPeak(array):\n",
    "    # Write your code here.\n",
    "    longest = 0\n",
    "    startIdx = 0\n",
    "    isUpTrend = False\n",
    "    isValid = False\n",
    "    for i in range(1, len(array)):\n",
    "        prev = array[i-1]\n",
    "        cur = array[i]\n",
    "        \n",
    "        if isValid:\n",
    "            if prev > cur:\n",
    "                currentValidLength = i - startIdx + 1\n",
    "                if currentValidLength > longest:\n",
    "                    longest = currentValidLength\n",
    "            elif prev < cur:\n",
    "                startIdx = i - 1\n",
    "                isUpTrend = True\n",
    "                isValid = False\n",
    "            else:\n",
    "                startIdx = i\n",
    "                isUpTrend = False\n",
    "                isValid = False\n",
    "        else:\n",
    "            # isValid is False\n",
    "            if isUpTrend:\n",
    "                if prev > cur:\n",
    "                    isValid = True\n",
    "                    currentValidLength = i - startIdx + 1\n",
    "                    if currentValidLength > longest:\n",
    "                        longest = currentValidLength\n",
    "                elif prev < cur:\n",
    "                    continue\n",
    "                else:\n",
    "                    startIdx = i\n",
    "                    isUpTrend = False\n",
    "                    isValid = False\n",
    "            else:\n",
    "                if prev < cur:\n",
    "                    isUpTrend = True\n",
    "                else:\n",
    "                    startIdx = i\n",
    "                    isUpTrend = False\n",
    "                    isValid = False\n",
    "    return longest"
   ]
  },
  {
   "cell_type": "code",
   "execution_count": null,
   "metadata": {},
   "outputs": [],
   "source": [
    "def longestPeak(array):\n",
    "    # Write your code here.\n",
    "    longest = 0\n",
    "    for i in range(1, len(array) - 1):\n",
    "        if isPeakTip(array, i):\n",
    "            currentLength = getPeakLength(array, i)\n",
    "            if currentLength > longest:\n",
    "                longest = currentLength\n",
    "    return longest\n",
    "\n",
    "def isPeakTip(array, idx):\n",
    "    if array[idx-1] < array[idx] and array[idx] > array[idx+1]:\n",
    "        return True\n",
    "    else:\n",
    "        return False\n",
    "    \n",
    "def getPeakLength(array, i):\n",
    "    left = i\n",
    "    right = i\n",
    "    # find left\n",
    "    while left > 0 and array[left-1] < array[left]:\n",
    "        left -= 1\n",
    "    while right < len(array)-1 and array[right] > array[right+1]:\n",
    "        right += 1\n",
    "    return right - left + 1"
   ]
  },
  {
   "source": [
    "## Expert Solution"
   ],
   "cell_type": "markdown",
   "metadata": {}
  },
  {
   "cell_type": "code",
   "execution_count": null,
   "metadata": {},
   "outputs": [],
   "source": [
    "# O(n) time | O(1) space\n",
    "# where n is the length of the input array\n",
    "def longestPeak(array):\n",
    "    longestPeakLength = 0\n",
    "    i = 1\n",
    "    while i < len(array) - 1:\n",
    "        isPeak = array[i - 1] < array[i] and array[i] > array[i + 1]\n",
    "        if not isPeak:\n",
    "            i += 1\n",
    "            continue\n",
    "        leftIdx = i - 2\n",
    "        while leftIdx >= 0 and array[leftIdx] < array[leftIdx + 1]:\n",
    "            leftIdx -= 1\n",
    "        rightIdx = i + 2\n",
    "        while rightIdx < len(array) and array[rightIdx] < array[rightIdx - 1]:\n",
    "            rightIdx += 1\n",
    "        currentPeakLength = rightIdx - leftIdx - 1\n",
    "        longestPeakLength = max(longestPeakLength, currentPeakLength)\n",
    "        i = rightIdx\n",
    "    return longestPeakLength"
   ]
  },
  {
   "source": [
    "## Thoughts\n",
    "### my solution 1\n",
    "- traverse through the input array once, record the current status, then compare with the next integer of the array.\n",
    "- time complexity is O(n) because we traverse the input array just once, but this approach needs clearly thinking in the process of verifying the status. easily lead to a bug.\n",
    "\n",
    "### my solution 2 or expert solution\n",
    "we can first think the process will traverse the input array twice.\n",
    "\n",
    "1. traverse through the input array to find all valid peak tip (the highest integer)\n",
    "2. start from a valide peak tip, look left and right to measure the peak length.\n",
    "the reason why the time complexity is O(n) is that any two consecutive peak won't overlap with each other, so the total interger visits of step2 for all peaks will be less or equal to the length of the array.\n",
    "\n",
    "moreover, we can combine two steps into one, which means, we traverse through the input array, whenever find a peak tip, measure its length, store and track the longest length. this will give us a space complexity of O(1).\n",
    "\n",
    "### more thought\n",
    "in this question, we first divide our final target into two simpler tasks instead of accomplish it once. after analyze the sub-tasks, we notice that the time complexity won't be more than the \"direct\" approach. then in order to reduce the space complexity, we combine the two sub-tasks into back into one task, but this time, with clearer workflow in mind."
   ],
   "cell_type": "markdown",
   "metadata": {}
  }
 ]
}