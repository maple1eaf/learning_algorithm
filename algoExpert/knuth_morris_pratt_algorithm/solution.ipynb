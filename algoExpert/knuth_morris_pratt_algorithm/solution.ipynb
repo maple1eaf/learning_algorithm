{
 "metadata": {
  "language_info": {
   "codemirror_mode": {
    "name": "ipython",
    "version": 3
   },
   "file_extension": ".py",
   "mimetype": "text/x-python",
   "name": "python",
   "nbconvert_exporter": "python",
   "pygments_lexer": "ipython3",
   "version": "3.6.10"
  },
  "orig_nbformat": 2,
  "kernelspec": {
   "name": "python3",
   "display_name": "Python 3.6.10 64-bit ('ml': conda)",
   "metadata": {
    "interpreter": {
     "hash": "f248c69e5a77d51c87ccdad00216165980e1bc56aedec90de08a902cfe9095ee"
    }
   }
  }
 },
 "nbformat": 4,
 "nbformat_minor": 2,
 "cells": [
  {
   "source": [
    "# Knuth-Morris-Pratt Algorithm\n",
    "[link](https://www.algoexpert.io/questions/Knuth%E2%80%94Morris%E2%80%94Pratt%20Algorithm)"
   ],
   "cell_type": "markdown",
   "metadata": {}
  },
  {
   "source": [
    "## My Solution"
   ],
   "cell_type": "markdown",
   "metadata": {}
  },
  {
   "cell_type": "code",
   "execution_count": 9,
   "metadata": {},
   "outputs": [],
   "source": [
    "# O(n + m) time | O(m) space\n",
    "def knuthMorrisPrattAlgorithm(string, substring):\n",
    "    prefixTable = decidePrefixTable(substring)\n",
    "    subIdx = 0\n",
    "    for i in range(len(string)):\n",
    "        while subIdx < len(substring):\n",
    "            if substring[subIdx] == string[i]:\n",
    "                subIdx += 1\n",
    "                break\n",
    "            else:\n",
    "                if subIdx == 0:\n",
    "                    break\n",
    "                else:\n",
    "                    subIdx = prefixTable[subIdx - 1]\n",
    "        if subIdx == len(substring):\n",
    "            return True\n",
    "    return False\n",
    "\n",
    "def decidePrefixTable(substring):\n",
    "    prefixTable = [0 for _ in substring]\n",
    "    i = 0\n",
    "    for j in range(1, len(substring)):\n",
    "        while substring[i] != substring[j] and i > 0:\n",
    "            i = prefixTable[i - 1]\n",
    "        if substring[i] == substring[j]:\n",
    "            i += 1\n",
    "        prefixTable[j] = i\n",
    "    return prefixTable"
   ]
  },
  {
   "cell_type": "code",
   "execution_count": null,
   "metadata": {},
   "outputs": [],
   "source": [
    "# O(n + m) time | O(m) space\n",
    "def knuthMorrisPrattAlgorithm(string, substring):\n",
    "    prefixTable = decidePrefixTable(substring)\n",
    "    j = 0 # j is the index of substring\n",
    "    for i in range(len(string)):\n",
    "        while string[i] != substring[j] and j > 0:\n",
    "            j = prefixTable[j - 1]\n",
    "        if string[i] == substring[j]:\n",
    "            j += 1\n",
    "        if j == len(substring):\n",
    "            return True\n",
    "    return False\n",
    "\n",
    "def decidePrefixTable(substring):\n",
    "    prefixTable = [0 for _ in substring]\n",
    "    j = 0\n",
    "    for i in range(1, len(substring)):\n",
    "        while substring[i] != substring[j] and j > 0:\n",
    "            j = prefixTable[j - 1]\n",
    "        if substring[i] == substring[j]:\n",
    "            j += 1\n",
    "        # else j must be 0\n",
    "        prefixTable[i] = j\n",
    "    return prefixTable"
   ]
  },
  {
   "cell_type": "code",
   "execution_count": 10,
   "metadata": {},
   "outputs": [
    {
     "output_type": "execute_result",
     "data": {
      "text/plain": [
       "[0, 0, 0, 1, 2, 0, 1, 2, 3, 4, 5, 3, 4]"
      ]
     },
     "metadata": {},
     "execution_count": 10
    }
   ],
   "source": [
    "decidePrefixTable(\"aefaedaefaefa\")"
   ]
  },
  {
   "source": [
    "## Expert Solution"
   ],
   "cell_type": "markdown",
   "metadata": {}
  },
  {
   "cell_type": "code",
   "execution_count": 11,
   "metadata": {},
   "outputs": [],
   "source": [
    "# O(n + m) time | O(m) space\n",
    "def knuthMorrisPrattAlgorithm(string, substring):\n",
    "    pattern = buildPattern(substring)\n",
    "    return doesMatch(string, substring, pattern)\n",
    "\n",
    "def buildPattern(substring):\n",
    "    pattern = [-1 for i in substring]\n",
    "    j = 0\n",
    "    i = 1\n",
    "    while i < len(substring):\n",
    "        if substring[i] == substring[j]:\n",
    "            pattern[i] = j\n",
    "            i += 1\n",
    "            j += 1\n",
    "        elif j > 0:\n",
    "            j = pattern[j - 1] + 1\n",
    "        else:\n",
    "            i += 1\n",
    "    return pattern\n",
    "\n",
    "def doesMatch(string, substring, pattern):\n",
    "    i = 0\n",
    "    j = 0 \n",
    "    while i + len(substring) - j <= len(string):\n",
    "        if string[i] == substring[j]:\n",
    "            if j == len(substring) - 1:\n",
    "                return True\n",
    "            i += 1\n",
    "            j += 1\n",
    "        elif j > 0:\n",
    "            j = pattern[j - 1] + 1\n",
    "        else:\n",
    "            i += 1\n",
    "    return False"
   ]
  },
  {
   "cell_type": "code",
   "execution_count": 12,
   "metadata": {},
   "outputs": [
    {
     "output_type": "execute_result",
     "data": {
      "text/plain": [
       "[-1, -1, -1, 0, 1, -1, 0, 1, 2, 3, 4, 2, 3]"
      ]
     },
     "metadata": {},
     "execution_count": 12
    }
   ],
   "source": [
    "buildPattern(\"aefaedaefaefa\")"
   ]
  },
  {
   "source": [
    "## Thoughts\n",
    "### what's in prefix table\n",
    "#### perspective one\n",
    "- `prefixTable[i]` store the information about `string[0:i+1]`.\n",
    "- the information: the length of the longest prefix that is equal to the suffix.\n",
    "- for example: `string = \"aefaedaefaefa\"`, `prefixTable[4] = 2` because for \"aefae\" (`string[0:5]`), the longest prefix that is equal to the suffix is \"ae\" (length = 2).\n",
    "- `prefixTable` for string \"aefaedaefaefa\" is `[0, 0, 0, 1, 2, 0, 1, 2, 3, 4, 5, 3, 4]`.\n",
    "\n",
    "#### persepctive two\n",
    "- spective one\n",
    "- the information: the last letter's index of the longest prefix that is equal to the suffix.\n",
    "- for example: `string = \"aefaedaefaefa\"`, `prefixTable[4] = 1` because for \"aefae\" (`string[0:5]`), the longest prefix that is equal to the suffix is \"ae\". the last letter of this prefix is \"e\" whose index is 1.\n",
    "- `prefixTable` for string \"aefaedaefaefa\" is `[-1, -1, -1, 0, 1, -1, 0, 1, 2, 3, 4, 2, 3]`.\n",
    "- it's easy to find that persepctive two is 1 less than the persepctive one.\n",
    "\n",
    "### time complexity\n",
    "- build prefixTable needs O(m) time.\n",
    "- the rest \"check matching\" process needs O(n) time.\n",
    "- totally O(n + m) time\n",
    "\n",
    "### something else\n",
    "- notice that the \"build prefixTable\" process and \"check matching\" process are very similar."
   ],
   "cell_type": "markdown",
   "metadata": {}
  },
  {
   "cell_type": "code",
   "execution_count": null,
   "metadata": {},
   "outputs": [],
   "source": []
  },
  {
   "cell_type": "code",
   "execution_count": null,
   "metadata": {},
   "outputs": [],
   "source": []
  },
  {
   "cell_type": "code",
   "execution_count": null,
   "metadata": {},
   "outputs": [],
   "source": []
  },
  {
   "cell_type": "code",
   "execution_count": null,
   "metadata": {},
   "outputs": [],
   "source": []
  },
  {
   "cell_type": "code",
   "execution_count": null,
   "metadata": {},
   "outputs": [],
   "source": []
  },
  {
   "cell_type": "code",
   "execution_count": null,
   "metadata": {},
   "outputs": [],
   "source": []
  },
  {
   "cell_type": "code",
   "execution_count": null,
   "metadata": {},
   "outputs": [],
   "source": []
  },
  {
   "cell_type": "code",
   "execution_count": null,
   "metadata": {},
   "outputs": [],
   "source": []
  },
  {
   "cell_type": "code",
   "execution_count": null,
   "metadata": {},
   "outputs": [],
   "source": []
  },
  {
   "cell_type": "code",
   "execution_count": null,
   "metadata": {},
   "outputs": [],
   "source": []
  },
  {
   "cell_type": "code",
   "execution_count": null,
   "metadata": {},
   "outputs": [],
   "source": []
  },
  {
   "cell_type": "code",
   "execution_count": null,
   "metadata": {},
   "outputs": [],
   "source": []
  }
 ]
}