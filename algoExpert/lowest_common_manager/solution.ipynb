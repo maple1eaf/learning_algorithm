{
 "metadata": {
  "language_info": {
   "codemirror_mode": {
    "name": "ipython",
    "version": 3
   },
   "file_extension": ".py",
   "mimetype": "text/x-python",
   "name": "python",
   "nbconvert_exporter": "python",
   "pygments_lexer": "ipython3",
   "version": 3
  },
  "orig_nbformat": 2
 },
 "nbformat": 4,
 "nbformat_minor": 2,
 "cells": [
  {
   "source": [
    "# Lowest Common Manager\n",
    "[link](https://www.algoexpert.io/questions/Lowest%20Common%20Manager)"
   ],
   "cell_type": "markdown",
   "metadata": {}
  },
  {
   "source": [
    "## My Solution"
   ],
   "cell_type": "markdown",
   "metadata": {}
  },
  {
   "cell_type": "code",
   "execution_count": null,
   "metadata": {},
   "outputs": [],
   "source": [
    "def getLowestCommonManager(topManager, reportOne, reportTwo):\n",
    "    # Write your code here.\n",
    "    return getLCMHelper(topManager, reportOne, reportTwo)\n",
    "    \n",
    "def getLCMHelper(node, reportOne, reportTwo):\n",
    "    count = 0\n",
    "    if node == reportOne or node == reportTwo:\n",
    "        count += 1\n",
    "    for n in node.directReports:\n",
    "        c = getLCMHelper(n, reportOne, reportTwo)\n",
    "        if type(c) == int:\n",
    "            count += c\n",
    "        else:\n",
    "            return c\n",
    "    if count == 2:\n",
    "        return node\n",
    "    return count\n",
    "    \n",
    "    \n",
    "# This is an input class. Do not edit.\n",
    "class OrgChart:\n",
    "    def __init__(self, name):\n",
    "        self.name = name\n",
    "        self.directReports = []\n"
   ]
  },
  {
   "cell_type": "code",
   "execution_count": null,
   "metadata": {},
   "outputs": [],
   "source": [
    "def getLowestCommonManager(topManager, reportOne, reportTwo):\n",
    "    # Write your code here.\n",
    "    return getLCMHelper(topManager, reportOne, reportTwo)[1]\n",
    "    \n",
    "def getLCMHelper(node, reportOne, reportTwo):\n",
    "    count = 0\n",
    "    if node == reportOne or node == reportTwo:\n",
    "        count += 1\n",
    "    for n in node.directReports:\n",
    "        c, returnNode = getLCMHelper(n, reportOne, reportTwo)\n",
    "        if returnNode is not None:\n",
    "            return c, returnNode\n",
    "        count += c\n",
    "    if count == 2:\n",
    "        return count, node\n",
    "    return count, None\n",
    "    \n",
    "# This is an input class. Do not edit.\n",
    "class OrgChart:\n",
    "    def __init__(self, name):\n",
    "        self.name = name\n",
    "        self.directReports = []\n"
   ]
  },
  {
   "source": [
    "## Expert Solution"
   ],
   "cell_type": "markdown",
   "metadata": {}
  },
  {
   "cell_type": "code",
   "execution_count": null,
   "metadata": {},
   "outputs": [],
   "source": [
    "# O(n) time | O(d) space - where n is the number of people\n",
    "# in the org and d is the depth (height) of the org chart\n",
    "def getLowestCommonManager(topManager, reportOne, reportTwo):\n",
    "    return getOrgInfo(topManager, reportOne, reportTwo).lowestCommonManager\n",
    "\n",
    "def getOrgInfo(manager, reportOne, reportTwo):\n",
    "    numImportantReports = 0\n",
    "    for directReport in manager.directReports:\n",
    "        orgInfo = getOrgInfo(directReport, reportOne, reportTwo)\n",
    "        if orgInfo.lowestCommonManager is not None:\n",
    "            return orgInfo\n",
    "        numImportantReports += orgInfo.numImportantReports\n",
    "    if manager == reportOne or manager == reportTwo:\n",
    "        numImportantReports += 1\n",
    "    lowestCommonManager = manager if numImportantReports == 2 else None\n",
    "    return OrgInfo(lowestCommonManager, numImportantReports)\n",
    "\n",
    "class OrgInfo:\n",
    "    def __init__(self, lowestCommonManager, numImportantReports):\n",
    "        self.lowestCommonManager = lowestCommonManager\n",
    "        self.numImportantReports = numImportantReports\n",
    "\n",
    "\n",
    "# This is an input class. Do not edit.\n",
    "class OrgChart:\n",
    "    def __init__(self, name):\n",
    "        self.name = name\n",
    "        self.directReports = []"
   ]
  },
  {
   "cell_type": "code",
   "execution_count": null,
   "metadata": {},
   "outputs": [],
   "source": []
  },
  {
   "source": [
    "## Thoughts\n",
    "- the question is almost identical to the question \"[Yongest Common Ancestor](../yongest_common_ancestor/solution.ipynb)\". the difference is that in this question, the given data structure contains the descendants, while in the \"yongest common ancestor\" question, the given data structure is the youngest ancestor.\n",
    "\n",
    "- mind how to orgnize the data structure in the solution"
   ],
   "cell_type": "markdown",
   "metadata": {}
  },
  {
   "cell_type": "code",
   "execution_count": null,
   "metadata": {},
   "outputs": [],
   "source": []
  },
  {
   "cell_type": "code",
   "execution_count": null,
   "metadata": {},
   "outputs": [],
   "source": []
  },
  {
   "cell_type": "code",
   "execution_count": null,
   "metadata": {},
   "outputs": [],
   "source": []
  },
  {
   "cell_type": "code",
   "execution_count": null,
   "metadata": {},
   "outputs": [],
   "source": []
  },
  {
   "cell_type": "code",
   "execution_count": null,
   "metadata": {},
   "outputs": [],
   "source": []
  },
  {
   "cell_type": "code",
   "execution_count": null,
   "metadata": {},
   "outputs": [],
   "source": []
  },
  {
   "cell_type": "code",
   "execution_count": null,
   "metadata": {},
   "outputs": [],
   "source": []
  },
  {
   "cell_type": "code",
   "execution_count": null,
   "metadata": {},
   "outputs": [],
   "source": []
  },
  {
   "cell_type": "code",
   "execution_count": null,
   "metadata": {},
   "outputs": [],
   "source": []
  },
  {
   "cell_type": "code",
   "execution_count": null,
   "metadata": {},
   "outputs": [],
   "source": []
  },
  {
   "cell_type": "code",
   "execution_count": null,
   "metadata": {},
   "outputs": [],
   "source": []
  },
  {
   "cell_type": "code",
   "execution_count": null,
   "metadata": {},
   "outputs": [],
   "source": []
  }
 ]
}