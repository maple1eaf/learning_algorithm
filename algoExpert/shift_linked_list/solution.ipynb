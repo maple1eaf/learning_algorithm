{
 "metadata": {
  "language_info": {
   "codemirror_mode": {
    "name": "ipython",
    "version": 3
   },
   "file_extension": ".py",
   "mimetype": "text/x-python",
   "name": "python",
   "nbconvert_exporter": "python",
   "pygments_lexer": "ipython3",
   "version": 3
  },
  "orig_nbformat": 2
 },
 "nbformat": 4,
 "nbformat_minor": 2,
 "cells": [
  {
   "source": [
    "# Shift Linked List\n",
    "[link](https://www.algoexpert.io/questions/Shift%20Linked%20List)"
   ],
   "cell_type": "markdown",
   "metadata": {}
  },
  {
   "source": [
    "## My Solution"
   ],
   "cell_type": "markdown",
   "metadata": {}
  },
  {
   "cell_type": "code",
   "execution_count": null,
   "metadata": {},
   "outputs": [],
   "source": [
    "def shiftLinkedList(head, k):\n",
    "    # Write your code here.\n",
    "    # O(n) time | O(1) space\n",
    "    length = 1\n",
    "    node = head\n",
    "    while node.next is not None:\n",
    "        node = node.next\n",
    "        length += 1\n",
    "    node.next = head\n",
    "    k = k % length\n",
    "    final = node\n",
    "    for i in range(length - k):\n",
    "        final = final.next\n",
    "    start = final.next\n",
    "    final.next = None\n",
    "    return start\n",
    "    \n",
    "\n",
    "\n",
    "# This is the class of the input linked list.\n",
    "class LinkedList:\n",
    "    def __init__(self, value):\n",
    "        self.value = value\n",
    "        self.next = None"
   ]
  },
  {
   "cell_type": "code",
   "execution_count": null,
   "metadata": {},
   "outputs": [],
   "source": []
  },
  {
   "source": [
    "## Expert Solution"
   ],
   "cell_type": "markdown",
   "metadata": {}
  },
  {
   "cell_type": "code",
   "execution_count": null,
   "metadata": {},
   "outputs": [],
   "source": [
    "# O(n) time | O(1) space\n",
    "def shiftLinkedList(head, k):\n",
    "    listLength = 1\n",
    "    listTail = head\n",
    "    while listTail.next is not None:\n",
    "        listTail = listTail.next\n",
    "        listLength += 1\n",
    "    \n",
    "    offset = abs(k) % listLength\n",
    "    if offset == 0:\n",
    "        return head\n",
    "    \n",
    "    newTailPosition = listLength - offset if k > 0 else offset\n",
    "    newTail = head\n",
    "    for i in range(1, newTailPosition):\n",
    "        newTail = newTail.next\n",
    "\n",
    "    newHead = newTail.next\n",
    "    newTail.next = None\n",
    "    listTail.next = head\n",
    "    return newHead\n",
    "\n",
    "\n",
    "# This is the class of the input linked list.\n",
    "class LinkedList:\n",
    "    def __init__(self, value):\n",
    "        self.value = value\n",
    "        self.next = None"
   ]
  },
  {
   "cell_type": "code",
   "execution_count": null,
   "metadata": {},
   "outputs": [],
   "source": []
  },
  {
   "source": [
    "## Thoughts"
   ],
   "cell_type": "markdown",
   "metadata": {}
  },
  {
   "cell_type": "code",
   "execution_count": null,
   "metadata": {},
   "outputs": [],
   "source": []
  },
  {
   "cell_type": "code",
   "execution_count": null,
   "metadata": {},
   "outputs": [],
   "source": []
  },
  {
   "cell_type": "code",
   "execution_count": null,
   "metadata": {},
   "outputs": [],
   "source": []
  },
  {
   "cell_type": "code",
   "execution_count": null,
   "metadata": {},
   "outputs": [],
   "source": []
  },
  {
   "cell_type": "code",
   "execution_count": null,
   "metadata": {},
   "outputs": [],
   "source": []
  },
  {
   "cell_type": "code",
   "execution_count": null,
   "metadata": {},
   "outputs": [],
   "source": []
  },
  {
   "cell_type": "code",
   "execution_count": null,
   "metadata": {},
   "outputs": [],
   "source": []
  },
  {
   "cell_type": "code",
   "execution_count": null,
   "metadata": {},
   "outputs": [],
   "source": []
  },
  {
   "cell_type": "code",
   "execution_count": null,
   "metadata": {},
   "outputs": [],
   "source": []
  },
  {
   "cell_type": "code",
   "execution_count": null,
   "metadata": {},
   "outputs": [],
   "source": []
  },
  {
   "cell_type": "code",
   "execution_count": null,
   "metadata": {},
   "outputs": [],
   "source": []
  },
  {
   "cell_type": "code",
   "execution_count": null,
   "metadata": {},
   "outputs": [],
   "source": []
  }
 ]
}