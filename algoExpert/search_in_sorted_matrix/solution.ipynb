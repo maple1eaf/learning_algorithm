{
 "metadata": {
  "language_info": {
   "codemirror_mode": {
    "name": "ipython",
    "version": 3
   },
   "file_extension": ".py",
   "mimetype": "text/x-python",
   "name": "python",
   "nbconvert_exporter": "python",
   "pygments_lexer": "ipython3",
   "version": 3
  },
  "orig_nbformat": 2
 },
 "nbformat": 4,
 "nbformat_minor": 2,
 "cells": [
  {
   "source": [
    "# Search In Sorted Matrix\n",
    "[link](https://www.algoexpert.io/questions/Search%20In%20Sorted%20Matrix)"
   ],
   "cell_type": "markdown",
   "metadata": {}
  },
  {
   "source": [
    "## My Solution"
   ],
   "cell_type": "markdown",
   "metadata": {}
  },
  {
   "cell_type": "code",
   "execution_count": null,
   "metadata": {},
   "outputs": [],
   "source": [
    "# O(m*n) time, same as brute force\n",
    "# worst case: need to check every element in the matrix\n",
    "def searchInSortedMatrix(matrix, target):\n",
    "    # Write your code here.\n",
    "    i0, j0 = 0, 0\n",
    "    i1, j1 = len(matrix) - 1, len(matrix[0]) - 1\n",
    "    return searchInSortedMatrixHelper(matrix, target, i0, j0, i1, j1)\n",
    "\n",
    "def searchInSortedMatrixHelper(matrix, target, i0, j0, i1, j1):\n",
    "    if i0 > i1 or j0 > j1:\n",
    "        return [-1, -1]\n",
    "    if i0 == i1 and j0 == j1:\n",
    "        if matrix[i0][j0] == target:\n",
    "            return[i0, j0]\n",
    "        else:\n",
    "            return [-1, -1]\n",
    "    iMid = (i0 + i1) // 2\n",
    "    jMid = (j0 + j1) // 2\n",
    "    if target == matrix[iMid][jMid]:\n",
    "        return [iMid, jMid]\n",
    "    elif target < matrix[iMid][jMid]:\n",
    "        res = searchInSortedMatrixHelper(matrix, target, i0, j0, iMid - 1, j1)\n",
    "        if res != [-1, -1]:\n",
    "            return res\n",
    "        res = searchInSortedMatrixHelper(matrix, target, iMid, j0, i1, jMid - 1)\n",
    "        if res != [-1, -1]:\n",
    "            return res\n",
    "    else:\n",
    "        res = searchInSortedMatrixHelper(matrix, target, iMid + 1, j0, i1, j1)\n",
    "        if res != [-1, -1]:\n",
    "            return res\n",
    "        res = searchInSortedMatrixHelper(matrix, target, i0, jMid + 1, iMid, j1)\n",
    "        if res != [-1, -1]:\n",
    "            return res\n",
    "    return [-1, -1]"
   ]
  },
  {
   "cell_type": "code",
   "execution_count": null,
   "metadata": {},
   "outputs": [],
   "source": [
    "def searchInSortedMatrix(matrix, target):\n",
    "    # Write your code here.\n",
    "    i, j = 0, len(matrix[0]) - 1\n",
    "    while i < len(matrix) and j >= 0:\n",
    "        cur = matrix[i][j]\n",
    "        if cur < target:\n",
    "            i += 1\n",
    "        elif cur > target:\n",
    "            j -= 1\n",
    "        else:\n",
    "            return [i, j]\n",
    "    return [-1, -1]"
   ]
  },
  {
   "source": [
    "## Expert Solution"
   ],
   "cell_type": "markdown",
   "metadata": {}
  },
  {
   "cell_type": "code",
   "execution_count": null,
   "metadata": {},
   "outputs": [],
   "source": [
    "# O(n + m) time | O(1) space\n",
    "def searchInSortedMatrix(matrix, target):\n",
    "    row = 0\n",
    "    col = len(matrix[0]) - 1\n",
    "    while row < len(matrix) and col >= 0:\n",
    "        if matrix[row][col] > target:\n",
    "            col -= 1\n",
    "        elif matrix[row][col] < target:\n",
    "            row += 1\n",
    "        else:\n",
    "            return [row, col]\n",
    "    return [-1, -1]"
   ]
  },
  {
   "cell_type": "code",
   "execution_count": null,
   "metadata": {},
   "outputs": [],
   "source": []
  },
  {
   "source": [
    "## Thoughts\n",
    "![](./process.JPG)"
   ],
   "cell_type": "markdown",
   "metadata": {}
  },
  {
   "cell_type": "code",
   "execution_count": null,
   "metadata": {},
   "outputs": [],
   "source": []
  },
  {
   "cell_type": "code",
   "execution_count": null,
   "metadata": {},
   "outputs": [],
   "source": []
  },
  {
   "cell_type": "code",
   "execution_count": null,
   "metadata": {},
   "outputs": [],
   "source": []
  },
  {
   "cell_type": "code",
   "execution_count": null,
   "metadata": {},
   "outputs": [],
   "source": []
  },
  {
   "cell_type": "code",
   "execution_count": null,
   "metadata": {},
   "outputs": [],
   "source": []
  },
  {
   "cell_type": "code",
   "execution_count": null,
   "metadata": {},
   "outputs": [],
   "source": []
  },
  {
   "cell_type": "code",
   "execution_count": null,
   "metadata": {},
   "outputs": [],
   "source": []
  },
  {
   "cell_type": "code",
   "execution_count": null,
   "metadata": {},
   "outputs": [],
   "source": []
  },
  {
   "cell_type": "code",
   "execution_count": null,
   "metadata": {},
   "outputs": [],
   "source": []
  },
  {
   "cell_type": "code",
   "execution_count": null,
   "metadata": {},
   "outputs": [],
   "source": []
  },
  {
   "cell_type": "code",
   "execution_count": null,
   "metadata": {},
   "outputs": [],
   "source": []
  },
  {
   "cell_type": "code",
   "execution_count": null,
   "metadata": {},
   "outputs": [],
   "source": []
  }
 ]
}