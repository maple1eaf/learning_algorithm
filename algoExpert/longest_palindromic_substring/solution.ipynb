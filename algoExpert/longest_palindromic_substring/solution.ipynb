{
 "metadata": {
  "language_info": {
   "codemirror_mode": {
    "name": "ipython",
    "version": 3
   },
   "file_extension": ".py",
   "mimetype": "text/x-python",
   "name": "python",
   "nbconvert_exporter": "python",
   "pygments_lexer": "ipython3",
   "version": "3.6.10-final"
  },
  "orig_nbformat": 2,
  "kernelspec": {
   "name": "python3",
   "display_name": "Python 3",
   "language": "python"
  }
 },
 "nbformat": 4,
 "nbformat_minor": 2,
 "cells": [
  {
   "source": [
    "# Longest Palindromic Substring\n",
    "[link](https://www.algoexpert.io/questions/Longest%20Palindromic%20Substring)"
   ],
   "cell_type": "markdown",
   "metadata": {}
  },
  {
   "source": [
    "## My Solution"
   ],
   "cell_type": "markdown",
   "metadata": {}
  },
  {
   "cell_type": "code",
   "execution_count": 21,
   "metadata": {},
   "outputs": [],
   "source": [
    "# O(n^2) time | O(n) space\n",
    "def longestPalindromicSubstring(string):\n",
    "    # Write your code here.\n",
    "    res = [0, 1]\n",
    "    for centerIdx in range(1, len(string)):\n",
    "        odd = findLongestPalindrome(string, centerIdx - 1, centerIdx + 1)\n",
    "        even = findLongestPalindrome(string, centerIdx - 1, centerIdx)\n",
    "        res = max(odd, even, res, key=lambda x: x[1] - x[0])\n",
    "    return string[res[0]:res[1]]\n",
    "            \n",
    "def findLongestPalindrome(string, left, right):\n",
    "    while left >= 0 and right < len(string):\n",
    "        if string[left] != string[right]:\n",
    "            break\n",
    "        left -= 1\n",
    "        right += 1\n",
    "    return [left + 1, right]"
   ]
  },
  {
   "cell_type": "code",
   "execution_count": 22,
   "metadata": {},
   "outputs": [],
   "source": [
    "# Manacher's Algorithm\n",
    "# O(n) time | O(n) space\n",
    "def longestPalindromicSubstring(string):\n",
    "    # Write your code here.\n",
    "    newString = \"#\" + \"#\".join(string) + \"#\"\n",
    "    radiuses = [0 for x in newString] # not include the center\n",
    "    longestCenter = 0\n",
    "    left = 0\n",
    "    right = 0\n",
    "    for i in range(1, len(newString)):\n",
    "        if i <= right:\n",
    "            j = left + right - i\n",
    "            radiuses[i] = min(j - left, radiuses[j])\n",
    "        \n",
    "        k = radiuses[i]\n",
    "        while i - k - 1 >= 0 and i + k + 1 < len(newString):\n",
    "            if newString[i - k - 1] == newString[i + k + 1]:\n",
    "                k += 1\n",
    "            else:\n",
    "                break\n",
    "        radiuses[i] = k\n",
    "        potentialRight = i + k\n",
    "        if potentialRight > right:\n",
    "            right = potentialRight\n",
    "            left = i - k\n",
    "        if radiuses[i] > radiuses[longestCenter]:\n",
    "            longestCenter = i\n",
    "    resLeft = (longestCenter - radiuses[longestCenter]) // 2\n",
    "    resRight = (longestCenter + radiuses[longestCenter] - 1) // 2 + 1\n",
    "    return string[resLeft:resRight]"
   ]
  },
  {
   "cell_type": "code",
   "execution_count": 23,
   "metadata": {},
   "outputs": [
    {
     "output_type": "execute_result",
     "data": {
      "text/plain": [
       "'ababababababa'"
      ]
     },
     "metadata": {},
     "execution_count": 23
    }
   ],
   "source": [
    "longestPalindromicSubstring('ababababababa')"
   ]
  },
  {
   "source": [
    "## Expert Solution"
   ],
   "cell_type": "markdown",
   "metadata": {}
  },
  {
   "cell_type": "code",
   "execution_count": null,
   "metadata": {},
   "outputs": [],
   "source": [
    "# O(n^3) time | O(n) space\n",
    "def longestPalindromicSubstring(string):\n",
    "    longest = \"\"\n",
    "\tfor i in range(len(string)):\n",
    "\t\tfor j in range(i, len(string)):\n",
    "\t\t\tsubstring = string[i : j + 1]\n",
    "\t\t\tif len(substring) > len(longest) and isPalindrome(substring):\n",
    "\t\t\t\tlongest = substring\n",
    "\treturn longest\n",
    "\n",
    "def isPalindrome(string):\n",
    "\tleftIdx = 0\n",
    "\trightIdx = len(string) - 1\n",
    "\twhile leftIdx < rightIdx:\n",
    "\t\tif string[leftIdx] != string[rightIdx]:\n",
    "\t\t\treturn False\n",
    "\t\tleftIdx += 1\n",
    "\t\trightIdx -= 1\n",
    "\treturn True"
   ]
  },
  {
   "cell_type": "code",
   "execution_count": null,
   "metadata": {},
   "outputs": [],
   "source": [
    "# O(n^2) time | O(n) space\n",
    "def longestPalindromicSubstring(string):\n",
    "    currentLongest = [0, 1]\n",
    "    for i in range(1, len(string)):\n",
    "        odd = getLongestPalindromeFrom(string, i - 1, i + 1)\n",
    "        even = getLongestPalindromeFrom(string, i - 1, i)\n",
    "        longest = max(odd, even, key=lambda x: x[1] - x[0])\n",
    "        currentLongest = max(longest, currentLongest, key=lambda x: x[1] - x[0])\n",
    "    return string[currentLongest[0] : currentLongest[1]]\n",
    "\n",
    "def getLongestPalindromeFrom(string, leftIdx, rightIdx):\n",
    "    while leftIdx >= 0 and rightIdx < len(string):\n",
    "        if string[leftIdx] != rightIdx[rightIdx]:\n",
    "            break\n",
    "        leftIdx += 1\n",
    "        rightIdx -= 1\n",
    "    return [leftIdx + 1, rightIdx]"
   ]
  },
  {
   "source": [
    "## Thoughts\n",
    "expert solution 2 is more suitable in an interview.\n",
    "\n",
    "### Manacher's Algorithm\n",
    "[link](https://www.cnblogs.com/zebinlin/p/9933765.html)"
   ],
   "cell_type": "markdown",
   "metadata": {}
  },
  {
   "cell_type": "code",
   "execution_count": null,
   "metadata": {},
   "outputs": [],
   "source": []
  },
  {
   "cell_type": "code",
   "execution_count": null,
   "metadata": {},
   "outputs": [],
   "source": []
  },
  {
   "cell_type": "code",
   "execution_count": null,
   "metadata": {},
   "outputs": [],
   "source": []
  },
  {
   "cell_type": "code",
   "execution_count": null,
   "metadata": {},
   "outputs": [],
   "source": []
  },
  {
   "cell_type": "code",
   "execution_count": null,
   "metadata": {},
   "outputs": [],
   "source": []
  },
  {
   "cell_type": "code",
   "execution_count": null,
   "metadata": {},
   "outputs": [],
   "source": []
  },
  {
   "cell_type": "code",
   "execution_count": null,
   "metadata": {},
   "outputs": [],
   "source": []
  },
  {
   "cell_type": "code",
   "execution_count": null,
   "metadata": {},
   "outputs": [],
   "source": []
  },
  {
   "cell_type": "code",
   "execution_count": null,
   "metadata": {},
   "outputs": [],
   "source": []
  },
  {
   "cell_type": "code",
   "execution_count": null,
   "metadata": {},
   "outputs": [],
   "source": []
  },
  {
   "cell_type": "code",
   "execution_count": null,
   "metadata": {},
   "outputs": [],
   "source": []
  },
  {
   "cell_type": "code",
   "execution_count": null,
   "metadata": {},
   "outputs": [],
   "source": []
  }
 ]
}