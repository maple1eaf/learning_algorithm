{
 "metadata": {
  "language_info": {
   "codemirror_mode": {
    "name": "ipython",
    "version": 3
   },
   "file_extension": ".py",
   "mimetype": "text/x-python",
   "name": "python",
   "nbconvert_exporter": "python",
   "pygments_lexer": "ipython3",
   "version": 3
  },
  "orig_nbformat": 2
 },
 "nbformat": 4,
 "nbformat_minor": 2,
 "cells": [
  {
   "source": [
    "# Longest Palindromic Substring\n",
    "[link](https://www.algoexpert.io/questions/Longest%20Palindromic%20Substring)"
   ],
   "cell_type": "markdown",
   "metadata": {}
  },
  {
   "source": [
    "## My Solution"
   ],
   "cell_type": "markdown",
   "metadata": {}
  },
  {
   "cell_type": "code",
   "execution_count": null,
   "metadata": {},
   "outputs": [],
   "source": [
    "# O(n) time | O(n) space\n",
    "def longestPalindromicSubstring(string):\n",
    "    # Write your code here.\n",
    "    if len(string) <= 1:\n",
    "        return string\n",
    "    maxLength = 1\n",
    "    maxIdx = 0\n",
    "    prev = 1\n",
    "    same = True\n",
    "    for i in range(1, len(string)):\n",
    "        idx = i - 1 - prev\n",
    "        if idx >= 0 and string[i] == string[idx]:\n",
    "            prev += 2\n",
    "            same = False\n",
    "        elif string[i] == string[i - 1] and same == True:\n",
    "            prev += 1\n",
    "        else:\n",
    "            prev = 1\n",
    "            same = True\n",
    "            \n",
    "        if prev > maxLength:\n",
    "            maxLength = prev\n",
    "            maxIdx = i\n",
    "    return string[maxIdx - maxLength + 1:maxIdx + 1]"
   ]
  },
  {
   "cell_type": "code",
   "execution_count": null,
   "metadata": {},
   "outputs": [],
   "source": [
    "# O(n) time | O(n) space\n",
    "def longestPalindromicSubstring(string):\n",
    "    # Write your code here.\n",
    "    if len(string) <= 1:\n",
    "        return string\n",
    "    maxLength = 1\n",
    "    maxIdx = 0\n",
    "    curLongest = {'length': 1, 'allSameType': True}\n",
    "    for i in range(1, len(string)):\n",
    "        if curLongest['allSameType'] is True:\n",
    "            if string[i] == string[i - 1]:\n",
    "                curLongest['length'] += 1\n",
    "            else:\n",
    "                idx = i - 1 - curLongest['length']\n",
    "                if idx >= 0 and string[i] == string[idx]:\n",
    "                    curLongest['length'] += 2\n",
    "                    curLongest['allSameType'] = False\n",
    "                else:\n",
    "                    curLongest['length'] = 1\n",
    "        else:\n",
    "            idx = i - 1 - curLongest['length']\n",
    "            if idx >= 0 and string[i] == string[idx]:\n",
    "                curLongest['length'] += 2\n",
    "            else:\n",
    "                curLongest['length'] = 1\n",
    "                curLongest['allSameType'] = True\n",
    "                \n",
    "        if curLongest['length'] > maxLength:\n",
    "            maxLength = curLongest['length']\n",
    "            maxIdx = i\n",
    "    return string[maxIdx - maxLength + 1:maxIdx + 1]"
   ]
  },
  {
   "cell_type": "code",
   "execution_count": null,
   "metadata": {},
   "outputs": [],
   "source": [
    "# O(n) time | O(n) space\n",
    "def longestPalindromicSubstring(string):\n",
    "    # Write your code here.\n",
    "    if len(string) <= 1:\n",
    "        return string\n",
    "    maxLength = 1\n",
    "    maxIdx = 0\n",
    "    curLongest = {'length': 1, 'allSameType': True}\n",
    "    for i in range(1, len(string)):\n",
    "        if curLongest['allSameType'] is True and string[i] == string[i - 1]:\n",
    "            curLongest['length'] += 1\n",
    "        else:\n",
    "            idx = i - 1 - curLongest['length']\n",
    "            if idx >= 0 and string[i] == string[idx]:\n",
    "                curLongest['length'] += 2\n",
    "                curLongest['allSameType'] = False\n",
    "            else:\n",
    "                curLongest['length'] = 1\n",
    "                curLongest['allSameType'] = True\n",
    "                \n",
    "        if curLongest['length'] > maxLength:\n",
    "            maxLength = curLongest['length']\n",
    "            maxIdx = i\n",
    "    return string[maxIdx - maxLength + 1:maxIdx + 1]"
   ]
  },
  {
   "source": [
    "## Expert Solution"
   ],
   "cell_type": "markdown",
   "metadata": {}
  },
  {
   "cell_type": "code",
   "execution_count": null,
   "metadata": {},
   "outputs": [],
   "source": [
    "# O(n^3) time | O(n) space\n",
    "def longestPalindromicSubstring(string):\n",
    "    longest = \"\"\n",
    "\tfor i in range(len(string)):\n",
    "\t\tfor j in range(i, len(string)):\n",
    "\t\t\tsubstring = string[i : j + 1]\n",
    "\t\t\tif len(substring) > len(longest) and isPalindrome(substring):\n",
    "\t\t\t\tlongest = substring\n",
    "\treturn longest\n",
    "\n",
    "def isPalindrome(string):\n",
    "\tleftIdx = 0\n",
    "\trightIdx = len(string) - 1\n",
    "\twhile leftIdx < rightIdx:\n",
    "\t\tif string[leftIdx] != string[rightIdx]:\n",
    "\t\t\treturn False\n",
    "\t\tleftIdx += 1\n",
    "\t\trightIdx -= 1\n",
    "\treturn True"
   ]
  },
  {
   "cell_type": "code",
   "execution_count": null,
   "metadata": {},
   "outputs": [],
   "source": [
    "# O(n^2) time | O(n) space\n",
    "def longestPalindromicSubstring(string):\n",
    "    currentLongest = [0, 1]\n",
    "    for i in range(1, len(string)):\n",
    "        odd = getLongestPalindromeFrom(string, i - 1, i + 1)\n",
    "        even = getLongestPalindromeFrom(string, i - 1, i)\n",
    "        longest = max(odd, even, key=lambda x: x[1] - x[0])\n",
    "        currentLongest = max(longest, currentLongest, key=lambda x: x[1] - x[0])\n",
    "    return string[currentLongest[0] : currentLongest[1]]\n",
    "\n",
    "def getLongestPalindromeFrom(string, leftIdx, rightIdx):\n",
    "    while leftIdx >= 0 and rightIdx < len(string):\n",
    "        if string[leftIdx] != rightIdx[rightIdx]:\n",
    "            break\n",
    "        leftIdx += 1\n",
    "        rightIdx -= 1\n",
    "    return [leftIdx + 1, rightIdx]"
   ]
  },
  {
   "source": [
    "## Thoughts\n",
    "expert solution 2 is more suitable in an interview.\n",
    "\n",
    "### my solution\n",
    "use dynamic programming method\n",
    "\n",
    "- the sub problem i: at position i in the string, find the longest palindrom ends up at position i\n",
    "- the value of the sub problem i (sub(i)): at position i in the string, sub(i) is the length of the longest palindrom ends up at position i\n",
    "- a palindrom can be expanded in two situations:\n",
    "    - every palindrom's charactor is the same, and the next/incoming charactor is also the same, then we can expand the palindrom by adding this incoming charactor.\n",
    "    - if there's any charactor in the palindrom is different, this means the palindrom is in mirror symmetry situation. if the charactor on the other side of the palindrom is the same as the incoming charactor, we can expand the palindrom by adding charactors on both side."
   ],
   "cell_type": "markdown",
   "metadata": {}
  },
  {
   "cell_type": "code",
   "execution_count": null,
   "metadata": {},
   "outputs": [],
   "source": []
  },
  {
   "cell_type": "code",
   "execution_count": null,
   "metadata": {},
   "outputs": [],
   "source": []
  },
  {
   "cell_type": "code",
   "execution_count": null,
   "metadata": {},
   "outputs": [],
   "source": []
  },
  {
   "cell_type": "code",
   "execution_count": null,
   "metadata": {},
   "outputs": [],
   "source": []
  },
  {
   "cell_type": "code",
   "execution_count": null,
   "metadata": {},
   "outputs": [],
   "source": []
  },
  {
   "cell_type": "code",
   "execution_count": null,
   "metadata": {},
   "outputs": [],
   "source": []
  },
  {
   "cell_type": "code",
   "execution_count": null,
   "metadata": {},
   "outputs": [],
   "source": []
  },
  {
   "cell_type": "code",
   "execution_count": null,
   "metadata": {},
   "outputs": [],
   "source": []
  },
  {
   "cell_type": "code",
   "execution_count": null,
   "metadata": {},
   "outputs": [],
   "source": []
  },
  {
   "cell_type": "code",
   "execution_count": null,
   "metadata": {},
   "outputs": [],
   "source": []
  },
  {
   "cell_type": "code",
   "execution_count": null,
   "metadata": {},
   "outputs": [],
   "source": []
  },
  {
   "cell_type": "code",
   "execution_count": null,
   "metadata": {},
   "outputs": [],
   "source": []
  }
 ]
}