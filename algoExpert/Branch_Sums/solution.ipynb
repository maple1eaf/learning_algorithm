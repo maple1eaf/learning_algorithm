{
 "metadata": {
  "language_info": {
   "codemirror_mode": {
    "name": "ipython",
    "version": 3
   },
   "file_extension": ".py",
   "mimetype": "text/x-python",
   "name": "python",
   "nbconvert_exporter": "python",
   "pygments_lexer": "ipython3",
   "version": 3
  },
  "orig_nbformat": 2
 },
 "nbformat": 4,
 "nbformat_minor": 2,
 "cells": [
  {
   "source": [
    "# Branch Sums\n",
    "[link](https://www.algoexpert.io/questions/Branch%20Sums)"
   ],
   "cell_type": "markdown",
   "metadata": {}
  },
  {
   "source": [
    "## My Solution"
   ],
   "cell_type": "markdown",
   "metadata": {}
  },
  {
   "cell_type": "code",
   "execution_count": null,
   "metadata": {},
   "outputs": [],
   "source": [
    "# This is the class of the input root. Do not edit it.\n",
    "class BinaryTree:\n",
    "    def __init__(self, value):\n",
    "        self.value = value\n",
    "        self.left = None\n",
    "        self.right = None\n",
    "\n",
    "\n",
    "def branchSums(root):\n",
    "    # Write your code here.\n",
    "    return branchSumsHelper(root, 0, [])\n",
    "\n",
    "def branchSumsHelper(root, branchPrevSum=0, branchSums=[]):\n",
    "    branchCurrentSum = branchPrevSum + root.value\n",
    "    if root.left is None and root.right is None:\n",
    "        # leaf\n",
    "        branchSums.append(branchCurrentSum)\n",
    "    elif root.left is not None and root.right is None:\n",
    "        branchSumsHelper(root.left, branchCurrentSum, branchSums)\n",
    "    elif root.left is None:\n",
    "        branchSumsHelper(root.right, branchCurrentSum, branchSums)\n",
    "    else:\n",
    "        branchSumsHelper(root.left, branchCurrentSum, branchSums)\n",
    "        branchSumsHelper(root.right, branchCurrentSum, branchSums)\n",
    "    return branchSums"
   ]
  },
  {
   "cell_type": "code",
   "execution_count": null,
   "metadata": {},
   "outputs": [],
   "source": [
    "# This is the class of the input root. Do not edit it.\n",
    "class BinaryTree:\n",
    "    def __init__(self, value):\n",
    "        self.value = value\n",
    "        self.left = None\n",
    "        self.right = None\n",
    "\n",
    "\n",
    "def branchSums(root):\n",
    "    # Write your code here.\n",
    "\treturn branchSumsHelper(root, 0, [])\n",
    "\n",
    "def branchSumsHelper(node, branchPrevSum=0, branchSums=[]):\n",
    "\tif node is not None:\n",
    "\t\tbranchCurrentSum = branchPrevSum + node.value\n",
    "\t\tif node.left is None and node.right is None:\n",
    "\t\t\t# leaf\n",
    "\t\t\tbranchSums.append(branchCurrentSum)\n",
    "\n",
    "\t\tbranchSumsHelper(node.left, branchCurrentSum, branchSums)\n",
    "\t\tbranchSumsHelper(node.right, branchCurrentSum, branchSums)\n",
    "\treturn branchSums"
   ]
  },
  {
   "source": [
    "## Expert Solution"
   ],
   "cell_type": "markdown",
   "metadata": {}
  },
  {
   "cell_type": "code",
   "execution_count": null,
   "metadata": {},
   "outputs": [],
   "source": [
    "# This is the class of the input root. Do not edit it.\n",
    "class BinaryTree:\n",
    "    def __init__(self, value):\n",
    "        self.value = value\n",
    "        self.left = None\n",
    "        self.right = None\n",
    "\n",
    "\n",
    "def branchSums(root):\n",
    "    # O(n) time | O(n) space - where n is the number of nodes in the Binary Tree\n",
    "    sums = []\n",
    "    calculateBranchSums(root, 0, sums)\n",
    "\treturn sums\n",
    "\n",
    "def calculateBranchSums(node, runningSum, sums):\n",
    "\tif node is not None:\n",
    "        return\n",
    "    \n",
    "    newRunningSum = runningSum + node.value\n",
    "    if node.left is None and node.right is None:\n",
    "        sums.append(newRunningSum)\n",
    "        return\n",
    "\n",
    "\tcalculateBranchSums(node.left, newRunningSum, sums)\n",
    "    calculateBranchSums(node.right, newRunningSum, sums)"
   ]
  },
  {
   "source": [
    "## Thoughts\n",
    "- Observe my solution part that how recursive function return the value to outside\n",
    "- the space complexity should consider two things:\n",
    "    - recursive function call times -> O(n)\n",
    "    - length of the list that stores the branch sums -> equal to the number of branches/leaf-nodes -> the number of leaf-nodes bounds at roughly n/2 -> O(n)"
   ],
   "cell_type": "markdown",
   "metadata": {}
  },
  {
   "cell_type": "code",
   "execution_count": null,
   "metadata": {},
   "outputs": [],
   "source": []
  }
 ]
}