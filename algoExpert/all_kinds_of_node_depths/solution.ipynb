{
 "metadata": {
  "language_info": {
   "codemirror_mode": {
    "name": "ipython",
    "version": 3
   },
   "file_extension": ".py",
   "mimetype": "text/x-python",
   "name": "python",
   "nbconvert_exporter": "python",
   "pygments_lexer": "ipython3",
   "version": 3
  },
  "orig_nbformat": 2
 },
 "nbformat": 4,
 "nbformat_minor": 2,
 "cells": [
  {
   "source": [
    "# All Kinds Of Node Depths\n",
    "[link](https://www.algoexpert.io/questions/All%20Kinds%20Of%20Node%20Depths)"
   ],
   "cell_type": "markdown",
   "metadata": {}
  },
  {
   "cell_type": "code",
   "execution_count": null,
   "metadata": {},
   "outputs": [],
   "source": [
    "def allKindsOfNodeDepths(root):\n",
    "    # Write your code here.\n",
    "    pass\n",
    "\n",
    "\n",
    "# This is the class of the input binary tree.\n",
    "class BinaryTree:\n",
    "    def __init__(self, value):\n",
    "        self.value = value\n",
    "        self.left = None\n",
    "        self.right = None"
   ]
  },
  {
   "source": [
    "## My Solution"
   ],
   "cell_type": "markdown",
   "metadata": {}
  },
  {
   "cell_type": "code",
   "execution_count": null,
   "metadata": {},
   "outputs": [],
   "source": [
    "def allKindsOfNodeDepths(root):\n",
    "    # Write your code here.\n",
    "    totalSum = [0]\n",
    "    depthsSum, _ = getDepthsSum(root, totalSum)\n",
    "    return totalSum[0]\n",
    "\n",
    "def getDepthsSum(node, totalSum):\n",
    "    if node is None:\n",
    "        return 0, 0\n",
    "    \n",
    "    leftDepthsSum, leftNumOfNodes = getDepthsSum(node.left, totalSum)\n",
    "    rightDepthsSum, rightNumOfNodes = getDepthsSum(node.right, totalSum)\n",
    "    \n",
    "    depthsSum = leftDepthsSum + leftNumOfNodes + rightDepthsSum + rightNumOfNodes\n",
    "    numOfNodes = leftNumOfNodes + rightNumOfNodes + 1\n",
    "    totalSum[0] += depthsSum\n",
    "    \n",
    "    return depthsSum, numOfNodes\n",
    "\n",
    "\n",
    "# This is the class of the input binary tree.\n",
    "class BinaryTree:\n",
    "    def __init__(self, value):\n",
    "        self.value = value\n",
    "        self.left = None\n",
    "        self.right = None"
   ]
  },
  {
   "cell_type": "code",
   "execution_count": null,
   "metadata": {},
   "outputs": [],
   "source": [
    "def allKindsOfNodeDepths(root):\n",
    "    # Write your code here.\n",
    "    return getDepthsSum(root)[2]\n",
    "\n",
    "def getDepthsSum(node):\n",
    "    if node is None:\n",
    "        return 0, 0, 0\n",
    "    \n",
    "    leftDepthsSum, leftNumOfNodes, leftTotalSum = getDepthsSum(node.left)\n",
    "    rightDepthsSum, rightNumOfNodes, rightTotalSum = getDepthsSum(node.right)\n",
    "    \n",
    "    depthsSum = leftDepthsSum + leftNumOfNodes + rightDepthsSum + rightNumOfNodes\n",
    "    numOfNodes = leftNumOfNodes + rightNumOfNodes + 1\n",
    "    totalSum = depthsSum + leftTotalSum + rightTotalSum\n",
    "    \n",
    "    return depthsSum, numOfNodes, totalSum\n",
    "\n",
    "\n",
    "# This is the class of the input binary tree.\n",
    "class BinaryTree:\n",
    "    def __init__(self, value):\n",
    "        self.value = value\n",
    "        self.left = None\n",
    "        self.right = None\n"
   ]
  },
  {
   "source": [
    "## Expert Solution"
   ],
   "cell_type": "markdown",
   "metadata": {}
  },
  {
   "cell_type": "code",
   "execution_count": null,
   "metadata": {},
   "outputs": [],
   "source": [
    "# iteratively\n",
    "# Average case: when the tree is balanced\n",
    "# O(nlog(n)) time | O(h) space - where n is the number of nodes in\n",
    "# the Binary Tree and h is the height of the Binary Tree\n",
    "def allKindsOfNodeDepths(root):\n",
    "    sumOfAllDepths = 0\n",
    "    stack = [root]\n",
    "    while len(stack) > 0:\n",
    "        node = stack.pop()\n",
    "        if node is None:\n",
    "            continue\n",
    "        sumOfAllDepths += nodeDepths(node)\n",
    "        stack.append(node.left)\n",
    "        stack.append(node.right)\n",
    "    return sumOfAllDepths\n",
    "\n",
    "def nodeDepths(node, depth = 0):\n",
    "    if node is None:\n",
    "        return 0\n",
    "    return depth + nodeDepths(node.left, depth + 1) + nodeDepths(node.right, depth + 1)\n",
    "\n",
    "# This is the class of the input binary tree.\n",
    "class BinaryTree:\n",
    "    def __init__(self, value):\n",
    "        self.value = value\n",
    "        self.left = None\n",
    "        self.right = None"
   ]
  },
  {
   "cell_type": "code",
   "execution_count": null,
   "metadata": {},
   "outputs": [],
   "source": [
    "# Recursively\n",
    "# Average case: when the tree is balanced\n",
    "# O(nlog(n)) time | O(h) space - where n is the number of nodes in\n",
    "# the Binary Tree and h is the height of the Binary Tree\n",
    "def allKindsOfNodeDepths(root):\n",
    "    if root is None:\n",
    "        return 0\n",
    "    return allKindsOfNodeDepths(root.left) + allKindsOfNodeDepths(root.right) + nodeDepths(root)\n",
    "\n",
    "def nodeDepths(node, depth = 0):\n",
    "    if node is None:\n",
    "        return 0\n",
    "    return depth + nodeDepths(node.left, depth + 1) + nodeDepths(node.right, depth + 1)\n",
    "\n",
    "# This is the class of the input binary tree.\n",
    "class BinaryTree:\n",
    "    def __init__(self, value):\n",
    "        self.value = value\n",
    "        self.left = None\n",
    "        self.right = None"
   ]
  },
  {
   "cell_type": "code",
   "execution_count": null,
   "metadata": {},
   "outputs": [],
   "source": [
    "# Average case: when the tree is balanced\n",
    "# O(n) time | O(n) space - where n is the number of nodes in the Binary Tree\n",
    "def allKindsOfNodeDepths(root):\n",
    "    nodeCounts = {}\n",
    "    addNodeCounts(root, nodeCounts)\n",
    "    nodeDepths = {}\n",
    "    addNodeDepths(root, nodeDepths, NodeDepths)\n",
    "\n",
    "def sumAllNodeDepths(node, nodeDepths):\n",
    "    if node is None:\n",
    "        return 0\n",
    "    return sumAllNodeDepths(node.left, nodeDepths) + sumAllNodeDepths(node.right, nodeDepths) + nodeDepths[node]\n",
    "\n",
    "\n",
    "def addNodeDepths(node, nodeDepths, nodeCounts):\n",
    "    nodeDepths[node] = 0\n",
    "    if node.left is not None:\n",
    "        addNodeDepths(node.left, nodeDepths. nodeCounts)\n",
    "        nodeDepths[node] += nodeDepths[node.left] + nodeCounts[node.left]\n",
    "    if node.right is not None:\n",
    "        addNodeDepths(node.right, nodeDepths, nodeCounts)\n",
    "        nodeDepths[node] += nodeDepths[node.right] + nodeCounts[node.right]\n",
    "\n",
    "def addNodeCounts(node, nodeCounts):\n",
    "    nodeCounts[node] = 1\n",
    "    if node.left is not None:\n",
    "        addNodeCounts(node.left, nodeCounts)\n",
    "        nodeCounts[node] += nodeCounts[node.left]\n",
    "    if node.right is not None:\n",
    "        addNodeCounts(node.right, nodeCounts)\n",
    "        nodeCounts[node] += nodeCounts[node.right]\n",
    "\n",
    "\n",
    "# This is the class of the input binary tree.\n",
    "class BinaryTree:\n",
    "    def __init__(self, value):\n",
    "        self.value = value\n",
    "        self.left = None\n",
    "        self.right = None"
   ]
  },
  {
   "cell_type": "code",
   "execution_count": null,
   "metadata": {},
   "outputs": [],
   "source": [
    "# Average case: when the tree is balanced\n",
    "# O(n) time | O(h) space - where n is the number of nodes in\n",
    "# the Binary Tree and h is the height of the Binary Tree\n",
    "def allKindsOfNodeDepths(root):\n",
    "    return getTreeInfo(root).sumOfAllDepths\n",
    "\n",
    "\n",
    "def getTreeInfo(tree):\n",
    "    if tree is None:\n",
    "        return TreeInfo(0, 0, 0)\n",
    "\n",
    "    leftTreeInfo = getTreeInfo(tree.left)\n",
    "    rightTreeInfo = getTreeInfo(tree.right)\n",
    "\n",
    "    sumOfLeftDepths = leftTreeInfo.sumOfDepths + leftTreeInfo.numNodesInTree\n",
    "    sumOfRightDepths = rightTreeInfo.sumOfDepths + rightTreeInfo.numNodesInTree\n",
    "\n",
    "    numNodesInTree = 1 + leftTreeInfo.numNodesInTree + rightTreeInfo.numNodesInTree\n",
    "    sumOfDepths = sumOfLeftDepths + sumOfRightDepths\n",
    "    sumOfAllDepths = sumOfDepths + leftTreeInfo.sumOfAllDepths + rightTreeInfo.sumOfAllDepths\n",
    "\n",
    "    return TreeInfo(numNodesInTree, sumOfDepths, sumOfAllDepths)\n",
    "\n",
    "\n",
    "class TreeInfo:\n",
    "    def __init__(self, numNodesInTree, sumOfDepths, sumOfAllDepths):\n",
    "        self.numNodesInTree = numNodesInTree\n",
    "        self.sumOfDepths = sumOfDepths\n",
    "        self.sumOfAllDepths = sumOfAllDepths\n",
    "\n",
    "\n",
    "# This is the class of the input binary tree.\n",
    "class BinaryTree:\n",
    "    def __init__(self, value):\n",
    "        self.value = value\n",
    "        self.left = None\n",
    "        self.right = None"
   ]
  },
  {
   "source": [
    "There's an additional, cleaner and more clever way of solving this question with the same time and space time complexities as the optimal solution covered in the video explanation.\n",
    "\n",
    "Realize that a given node in the input tree has:\n",
    "\n",
    "- a depth of `1` with respect to its parent node\n",
    "- a depth of `2` with respect to its parent's parent node\n",
    "- a depth of `3` with respect to its parent's parent's node\n",
    "- ...\n",
    "- a depth of `d` with respect to the root node\n",
    "\n",
    "Since these depths are captured in each subtree's nodes' depths, which we sum up to get the final answer, we can deduce that each node in the input tree contributes `1 + 2 + 3 + ... + d - 1 + d` to the final answer.\n",
    "\n",
    "Thus, we can solve this question with a simple recursive function that takes in the running `depthSum` and adds the current node's depth to it at every call. See Solution 5 for the implementation of this algorithm.\n",
    "\n",
    "We can go one step further by realizing that the sum `1 + 2 + 3 + ... + n - 1 + n` can be calculated with the formula `(n * (n + 1)) / 2`, which eliminates the need to pass the running `depthSum` to each recursive function call. See Solution 6 for this implementation."
   ],
   "cell_type": "markdown",
   "metadata": {}
  },
  {
   "cell_type": "code",
   "execution_count": null,
   "metadata": {},
   "outputs": [],
   "source": [
    "# Average case: when the tree is balanced\n",
    "# O(n) time | O(h) space - where n is the number of nodes in\n",
    "# the Binary Tree and h is the height of the Binary Tree\n",
    "def allKindsOfNodeDepths(root, depthSum=0, depth=0):\n",
    "    if root is None:\n",
    "        return 0\n",
    "\n",
    "    depthSum += depth\n",
    "    return (\n",
    "        depthSum\n",
    "        + allKindsOfNodeDepths(root.left, depthSum, depth + 1)\n",
    "        + allKindsOfNodeDepths(root.right, depthSum, depth + 1)\n",
    "    )\n",
    "\n",
    "\n",
    "# This is the class of the input binary tree.\n",
    "class BinaryTree:\n",
    "    def __init__(self, value):\n",
    "        self.value = value\n",
    "        self.left = None\n",
    "        self.right = None"
   ]
  },
  {
   "cell_type": "code",
   "execution_count": null,
   "metadata": {},
   "outputs": [],
   "source": [
    "# Average case: when the tree is balanced\n",
    "# O(n) time | O(h) space - where n is the number of nodes in\n",
    "# the Binary Tree and h is the height of the Binary Tree\n",
    "def allKindsOfNodeDepths(root, depth=0):\n",
    "    if root is None:\n",
    "        return 0\n",
    "\n",
    "    # Formula to calculate 1 + 2 + 3 + ... + depth - 1 + depth\n",
    "    depthSum = (depth * (depth + 1)) / 2\n",
    "    return depthSum + allKindsOfNodeDepths(root.left, depth + 1) + allKindsOfNodeDepths(root.right, depth + 1)\n",
    "\n",
    "\n",
    "# This is the class of the input binary tree.\n",
    "class BinaryTree:\n",
    "    def __init__(self, value):\n",
    "        self.value = value\n",
    "        self.left = None\n",
    "        self.right = None"
   ]
  },
  {
   "source": [
    "## Thoughts"
   ],
   "cell_type": "markdown",
   "metadata": {}
  },
  {
   "cell_type": "code",
   "execution_count": null,
   "metadata": {},
   "outputs": [],
   "source": []
  },
  {
   "cell_type": "code",
   "execution_count": null,
   "metadata": {},
   "outputs": [],
   "source": []
  },
  {
   "cell_type": "code",
   "execution_count": null,
   "metadata": {},
   "outputs": [],
   "source": []
  },
  {
   "cell_type": "code",
   "execution_count": null,
   "metadata": {},
   "outputs": [],
   "source": []
  },
  {
   "cell_type": "code",
   "execution_count": null,
   "metadata": {},
   "outputs": [],
   "source": []
  },
  {
   "cell_type": "code",
   "execution_count": null,
   "metadata": {},
   "outputs": [],
   "source": []
  },
  {
   "cell_type": "code",
   "execution_count": null,
   "metadata": {},
   "outputs": [],
   "source": []
  },
  {
   "cell_type": "code",
   "execution_count": null,
   "metadata": {},
   "outputs": [],
   "source": []
  },
  {
   "cell_type": "code",
   "execution_count": null,
   "metadata": {},
   "outputs": [],
   "source": []
  },
  {
   "cell_type": "code",
   "execution_count": null,
   "metadata": {},
   "outputs": [],
   "source": []
  },
  {
   "cell_type": "code",
   "execution_count": null,
   "metadata": {},
   "outputs": [],
   "source": []
  },
  {
   "cell_type": "code",
   "execution_count": null,
   "metadata": {},
   "outputs": [],
   "source": []
  }
 ]
}