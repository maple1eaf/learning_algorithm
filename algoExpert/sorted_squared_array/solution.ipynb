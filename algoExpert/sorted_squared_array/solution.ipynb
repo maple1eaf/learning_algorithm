{
 "metadata": {
  "language_info": {
   "codemirror_mode": {
    "name": "ipython",
    "version": 3
   },
   "file_extension": ".py",
   "mimetype": "text/x-python",
   "name": "python",
   "nbconvert_exporter": "python",
   "pygments_lexer": "ipython3",
   "version": 3
  },
  "orig_nbformat": 2
 },
 "nbformat": 4,
 "nbformat_minor": 2,
 "cells": [
  {
   "cell_type": "markdown",
   "source": [
    "# Sorted Squared Array\n",
    "[link](https://www.algoexpert.io/questions/Sorted%20Squared%20Array)"
   ],
   "metadata": {}
  },
  {
   "cell_type": "markdown",
   "source": [
    "## My Solution"
   ],
   "metadata": {}
  },
  {
   "cell_type": "code",
   "execution_count": null,
   "source": [
    "# O(n) time | O(n) space\n",
    "def sortedSquaredArray(array):\n",
    "    # Write your code here.\n",
    "    divIdx = 0\n",
    "    for i in range(len(array)):\n",
    "        if array[i] >= 0:\n",
    "            break\n",
    "        divIdx += 1\n",
    "    \n",
    "    squares = [x * x for x in array]\n",
    "    left = divIdx - 1\n",
    "    right = divIdx\n",
    "    res = []\n",
    "    while left >= 0 and right < len(array):\n",
    "        if squares[left] > squares[right]:\n",
    "            res.append(squares[right])\n",
    "            right += 1\n",
    "        else:\n",
    "            res.append(squares[left])\n",
    "            left -= 1\n",
    "    if left >= 0:\n",
    "        res += squares[left::-1]\n",
    "    else:\n",
    "        res += squares[right:]\n",
    "    return res"
   ],
   "outputs": [],
   "metadata": {}
  },
  {
   "cell_type": "code",
   "execution_count": null,
   "source": [
    "# O(n) time | O(n) space\n",
    "def sortedSquaredArray(array):\n",
    "    # Write your code here.\n",
    "    res = [0 for _ in array]\n",
    "    left = 0\n",
    "    right = len(array) - 1\n",
    "    for idx in reversed(range(len(array))):\n",
    "        if abs(array[left]) > abs(array[right]):\n",
    "            res[idx] = array[left] * array[left]\n",
    "            left += 1\n",
    "        else:\n",
    "            res[idx] = array[right] * array[right]\n",
    "            right -= 1\n",
    "    return res"
   ],
   "outputs": [],
   "metadata": {}
  },
  {
   "cell_type": "markdown",
   "source": [
    "## Expert Solution"
   ],
   "metadata": {}
  },
  {
   "cell_type": "code",
   "execution_count": null,
   "source": [
    "# O(nlogn) time | O(n) space - where n is the length of the input array\n",
    "def sortedSquaredArray(array):\n",
    "    sortedSquares  = [0 for _ in array]\n",
    "\n",
    "    for idx in range(len(array)):\n",
    "        value = array[idx]\n",
    "        sortedSquares[idx] = value * value\n",
    "\n",
    "    sortedSquares.sort()\n",
    "    return sortedSquares"
   ],
   "outputs": [],
   "metadata": {}
  },
  {
   "cell_type": "code",
   "execution_count": null,
   "source": [
    "# O(n) time | O(n) space - where n is the length of the input array\n",
    "def sortedSquaredArray(array):\n",
    "    sortedSquares = [0 for _ in array]\n",
    "    smallerValueIdx = 0\n",
    "    largerValueIdx = len(array) - 1\n",
    "\n",
    "    for idx in reversed(range(len(array))):\n",
    "        smallerValue = array[smallerValueIdx]\n",
    "        largerValue = array[largerValueIdx]\n",
    "\n",
    "        if abs(smallerValue) > abs(largerValue):\n",
    "            sortedSquares[idx] = smallerValue * smallerValue\n",
    "            smallerValueIdx += 1\n",
    "        else:\n",
    "            sortedSquares[idx] = largerValue * largerValue\n",
    "            largerValueIdx -=  1\n",
    "\n",
    "    return sortedSquares"
   ],
   "outputs": [],
   "metadata": {}
  },
  {
   "cell_type": "markdown",
   "source": [
    "## Thoughts"
   ],
   "metadata": {}
  },
  {
   "cell_type": "code",
   "execution_count": null,
   "source": [],
   "outputs": [],
   "metadata": {}
  },
  {
   "cell_type": "code",
   "execution_count": null,
   "source": [],
   "outputs": [],
   "metadata": {}
  },
  {
   "cell_type": "code",
   "execution_count": null,
   "source": [],
   "outputs": [],
   "metadata": {}
  },
  {
   "cell_type": "code",
   "execution_count": null,
   "source": [],
   "outputs": [],
   "metadata": {}
  },
  {
   "cell_type": "code",
   "execution_count": null,
   "source": [],
   "outputs": [],
   "metadata": {}
  },
  {
   "cell_type": "code",
   "execution_count": null,
   "source": [],
   "outputs": [],
   "metadata": {}
  },
  {
   "cell_type": "code",
   "execution_count": null,
   "source": [],
   "outputs": [],
   "metadata": {}
  },
  {
   "cell_type": "code",
   "execution_count": null,
   "source": [],
   "outputs": [],
   "metadata": {}
  },
  {
   "cell_type": "code",
   "execution_count": null,
   "source": [],
   "outputs": [],
   "metadata": {}
  },
  {
   "cell_type": "code",
   "execution_count": null,
   "source": [],
   "outputs": [],
   "metadata": {}
  },
  {
   "cell_type": "code",
   "execution_count": null,
   "source": [],
   "outputs": [],
   "metadata": {}
  },
  {
   "cell_type": "code",
   "execution_count": null,
   "source": [],
   "outputs": [],
   "metadata": {}
  }
 ]
}