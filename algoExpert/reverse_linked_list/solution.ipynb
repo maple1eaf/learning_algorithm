{
 "metadata": {
  "language_info": {
   "codemirror_mode": {
    "name": "ipython",
    "version": 3
   },
   "file_extension": ".py",
   "mimetype": "text/x-python",
   "name": "python",
   "nbconvert_exporter": "python",
   "pygments_lexer": "ipython3",
   "version": 3
  },
  "orig_nbformat": 2
 },
 "nbformat": 4,
 "nbformat_minor": 2,
 "cells": [
  {
   "source": [
    "# Reversed Linked List\n",
    "[link](https://www.algoexpert.io/questions/Reverse%20Linked%20List)"
   ],
   "cell_type": "markdown",
   "metadata": {}
  },
  {
   "source": [
    "## My Solution"
   ],
   "cell_type": "markdown",
   "metadata": {}
  },
  {
   "cell_type": "code",
   "execution_count": null,
   "metadata": {},
   "outputs": [],
   "source": [
    "def reverseLinkedList(head):\n",
    "    # Write your code here.\n",
    "    prv, cur = None, head\n",
    "    while cur is not None:\n",
    "        nxt = cur.next\n",
    "        cur.next = prv\n",
    "        prv = cur\n",
    "        cur = nxt\n",
    "    return prv"
   ]
  },
  {
   "cell_type": "code",
   "execution_count": null,
   "metadata": {},
   "outputs": [],
   "source": [
    "def reverseLinkedList(head):\n",
    "    # Write your code here.\n",
    "\treturn reverseListHelper(None, head, head.next)\n",
    "\n",
    "# O(n) time | O(n) space\n",
    "def reverseListHelper(prevNode, currentNode, nextNode):\n",
    "\tcurrentNode.next = prevNode\n",
    "\tif nextNode is None:\n",
    "\t\treturn currentNode\n",
    "\treturn reverseListHelper(currentNode, nextNode, nextNode.next)"
   ]
  },
  {
   "source": [
    "## Expert Solution"
   ],
   "cell_type": "markdown",
   "metadata": {}
  },
  {
   "cell_type": "code",
   "execution_count": null,
   "metadata": {},
   "outputs": [],
   "source": [
    "# O(n) time | O(1) space - where n is the number of nodes in the Linked List\n",
    "def reverseLinkedList(head):\n",
    "    previousNode, currentNode = None, head\n",
    "    while currentNode is not None:\n",
    "        nextNode = currentNode.next\n",
    "        currentNode.next = previousNode\n",
    "        previousNode = currentNode\n",
    "        currentNode = nextNode\n",
    "    return previousNode"
   ]
  },
  {
   "source": [
    "## Thoughts\n",
    "### my solution 2\n",
    "this is not a space efficient solution as the optimal solution. the O(n) space comes from the call stack of the recursive function. but this solution is very clear to show the prev, current and next Nodes shifting process."
   ],
   "cell_type": "markdown",
   "metadata": {}
  },
  {
   "cell_type": "code",
   "execution_count": null,
   "metadata": {},
   "outputs": [],
   "source": []
  },
  {
   "cell_type": "code",
   "execution_count": null,
   "metadata": {},
   "outputs": [],
   "source": []
  },
  {
   "cell_type": "code",
   "execution_count": null,
   "metadata": {},
   "outputs": [],
   "source": []
  },
  {
   "cell_type": "code",
   "execution_count": null,
   "metadata": {},
   "outputs": [],
   "source": []
  },
  {
   "cell_type": "code",
   "execution_count": null,
   "metadata": {},
   "outputs": [],
   "source": []
  },
  {
   "cell_type": "code",
   "execution_count": null,
   "metadata": {},
   "outputs": [],
   "source": []
  },
  {
   "cell_type": "code",
   "execution_count": null,
   "metadata": {},
   "outputs": [],
   "source": []
  },
  {
   "cell_type": "code",
   "execution_count": null,
   "metadata": {},
   "outputs": [],
   "source": []
  },
  {
   "cell_type": "code",
   "execution_count": null,
   "metadata": {},
   "outputs": [],
   "source": []
  },
  {
   "cell_type": "code",
   "execution_count": null,
   "metadata": {},
   "outputs": [],
   "source": []
  },
  {
   "cell_type": "code",
   "execution_count": null,
   "metadata": {},
   "outputs": [],
   "source": []
  },
  {
   "cell_type": "code",
   "execution_count": null,
   "metadata": {},
   "outputs": [],
   "source": []
  }
 ]
}