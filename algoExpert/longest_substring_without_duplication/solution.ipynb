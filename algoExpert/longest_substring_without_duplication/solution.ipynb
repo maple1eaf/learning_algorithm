{
 "metadata": {
  "language_info": {
   "codemirror_mode": {
    "name": "ipython",
    "version": 3
   },
   "file_extension": ".py",
   "mimetype": "text/x-python",
   "name": "python",
   "nbconvert_exporter": "python",
   "pygments_lexer": "ipython3",
   "version": 3
  },
  "orig_nbformat": 2
 },
 "nbformat": 4,
 "nbformat_minor": 2,
 "cells": [
  {
   "source": [
    "# Longest Substring Without Duplication\n",
    "[link](https://www.algoexpert.io/questions/Longest%20Substring%20Without%20Duplication)"
   ],
   "cell_type": "markdown",
   "metadata": {}
  },
  {
   "source": [
    "## My Solution"
   ],
   "cell_type": "markdown",
   "metadata": {}
  },
  {
   "cell_type": "code",
   "execution_count": null,
   "metadata": {},
   "outputs": [],
   "source": [
    "def longestSubstringWithoutDuplication(string):\n",
    "    # Write your code here.\n",
    "    # O(n) time | O(min(n, a)) space\n",
    "    # where a is the number of distinct characters in the string\n",
    "    uq = UniqQueue()\n",
    "    longest = 0\n",
    "    postIdx = -1\n",
    "    for i in range(len(string)):\n",
    "        c = string[i]\n",
    "        if c not in uq.elements:\n",
    "            uq.add(c)\n",
    "        else:\n",
    "            ele = None\n",
    "            while ele != c:\n",
    "                ele = uq.pop()\n",
    "            uq.add(c)\n",
    "        if len(uq.queue) > longest:\n",
    "            longest = len(uq.queue)\n",
    "            postIdx = i\n",
    "    return string[postIdx - longest + 1:postIdx + 1]\n",
    "    \n",
    "class UniqQueue:\n",
    "    def __init__(self):\n",
    "        self.queue = []\n",
    "        self.elements = set()\n",
    "        \n",
    "    def add(self, ele):\n",
    "        self.queue.append(ele)\n",
    "        self.elements.add(ele)\n",
    "        \n",
    "    def pop(self):\n",
    "        ele = self.queue.pop(0)\n",
    "        self.elements.remove(ele)\n",
    "        return ele"
   ]
  },
  {
   "cell_type": "code",
   "execution_count": null,
   "metadata": {},
   "outputs": [],
   "source": [
    "def longestSubstringWithoutDuplication(string):\n",
    "    # Write your code here.\n",
    "    # O(n) time | O(min(n, a)) space\n",
    "    currentLastSeen = {}\n",
    "    longest = [0, 0]\n",
    "    i = 0\n",
    "    for j, c in enumerate(string):\n",
    "        if c in currentLastSeen:\n",
    "            i = max(i, currentLastSeen[c] + 1)\n",
    "        currentLastSeen[c] = j\n",
    "        if j - i > longest[1] - longest[0]:\n",
    "            longest = [i, j]\n",
    "    return string[longest[0]:longest[1] + 1]"
   ]
  },
  {
   "source": [
    "## Expert Solution"
   ],
   "cell_type": "markdown",
   "metadata": {}
  },
  {
   "cell_type": "code",
   "execution_count": null,
   "metadata": {},
   "outputs": [],
   "source": [
    "# O(n) time | O(min(n, a)) space\n",
    "def longestSubstringWithoutDuplication(string):\n",
    "    lastSeen = {}\n",
    "    longest = [0 , 1]\n",
    "    startIdx = 0\n",
    "    for i, char in enumerate(string):\n",
    "        if char in lastSeen:\n",
    "            startIdx = max(startIdx, lastSeen[char] + 1)\n",
    "        if longest[1] - longest[0] < i + 1- startIdx:\n",
    "            longest = [startIdx, i + 1]\n",
    "        lastSeen[char] = i\n",
    "    return string[longest[0]: longest[1]]"
   ]
  },
  {
   "source": [
    "## Thoughts"
   ],
   "cell_type": "markdown",
   "metadata": {}
  },
  {
   "cell_type": "code",
   "execution_count": null,
   "metadata": {},
   "outputs": [],
   "source": []
  },
  {
   "cell_type": "code",
   "execution_count": null,
   "metadata": {},
   "outputs": [],
   "source": []
  },
  {
   "cell_type": "code",
   "execution_count": null,
   "metadata": {},
   "outputs": [],
   "source": []
  },
  {
   "cell_type": "code",
   "execution_count": null,
   "metadata": {},
   "outputs": [],
   "source": []
  },
  {
   "cell_type": "code",
   "execution_count": null,
   "metadata": {},
   "outputs": [],
   "source": []
  },
  {
   "cell_type": "code",
   "execution_count": null,
   "metadata": {},
   "outputs": [],
   "source": []
  },
  {
   "cell_type": "code",
   "execution_count": null,
   "metadata": {},
   "outputs": [],
   "source": []
  },
  {
   "cell_type": "code",
   "execution_count": null,
   "metadata": {},
   "outputs": [],
   "source": []
  },
  {
   "cell_type": "code",
   "execution_count": null,
   "metadata": {},
   "outputs": [],
   "source": []
  },
  {
   "cell_type": "code",
   "execution_count": null,
   "metadata": {},
   "outputs": [],
   "source": []
  },
  {
   "cell_type": "code",
   "execution_count": null,
   "metadata": {},
   "outputs": [],
   "source": []
  },
  {
   "cell_type": "code",
   "execution_count": null,
   "metadata": {},
   "outputs": [],
   "source": []
  }
 ]
}