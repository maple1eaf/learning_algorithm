{
 "metadata": {
  "language_info": {
   "codemirror_mode": {
    "name": "ipython",
    "version": 3
   },
   "file_extension": ".py",
   "mimetype": "text/x-python",
   "name": "python",
   "nbconvert_exporter": "python",
   "pygments_lexer": "ipython3",
   "version": 3
  },
  "orig_nbformat": 2
 },
 "nbformat": 4,
 "nbformat_minor": 2,
 "cells": [
  {
   "source": [
    "# Merge Linked Lists\n",
    "[link](https://www.algoexpert.io/questions/Merge%20Linked%20Lists)"
   ],
   "cell_type": "markdown",
   "metadata": {}
  },
  {
   "source": [
    "## My Solution"
   ],
   "cell_type": "markdown",
   "metadata": {}
  },
  {
   "cell_type": "code",
   "execution_count": null,
   "metadata": {},
   "outputs": [],
   "source": [
    "# This is an input class. Do not edit.\n",
    "class LinkedList:\n",
    "    def __init__(self, value):\n",
    "        self.value = value\n",
    "        self.next = None\n",
    "\n",
    "\n",
    "def mergeLinkedLists(headOne, headTwo):\n",
    "    # Write your code here.\n",
    "    # O(n + m) time | O(1) space\n",
    "    p1 = headOne\n",
    "    p2 = headTwo\n",
    "    while p1 is not None and p2 is not None:\n",
    "        if p1.value >= p2.value:\n",
    "            p2 = mergeHelper(p2, p1)\n",
    "        else:\n",
    "            p1 = mergeHelper(p1, p2)\n",
    "    return headTwo if headOne.value >= headTwo.value else headOne\n",
    "    \n",
    "def mergeHelper(small, large):\n",
    "    smallNxt = small.next\n",
    "    while smallNxt is not None and smallNxt.value <= large.value:\n",
    "        small = smallNxt\n",
    "        smallNxt = small.next\n",
    "    small.next = large\n",
    "    return smallNxt"
   ]
  },
  {
   "cell_type": "code",
   "execution_count": null,
   "metadata": {},
   "outputs": [],
   "source": []
  },
  {
   "source": [
    "## Expert Solution"
   ],
   "cell_type": "markdown",
   "metadata": {}
  },
  {
   "cell_type": "code",
   "execution_count": null,
   "metadata": {},
   "outputs": [],
   "source": [
    "class LinkedList:\n",
    "    def __init__(self, value):\n",
    "        self.value = value\n",
    "        self.next = None\n",
    "\n",
    "# O(n + m) time | O(1) space, where n is number of nodes in the first \n",
    "# Linked List and m is the number of nodes in the second Linked List\n",
    "def mergeLinkedLists(headOne, headTwo):\n",
    "    p1 = headOne\n",
    "    p1Prev = None\n",
    "    p2 = headTwo\n",
    "    while p1 is not None and p2 is not None:\n",
    "        if p1.value < p2.value:\n",
    "            p1Prev = p1\n",
    "            p1 = p1.next\n",
    "        else:\n",
    "            if p1Prev is not None:\n",
    "                p1Prev.next = p2\n",
    "            p1Prev = p2\n",
    "            p2 = p2.next\n",
    "            p1Prev.next = p1\n",
    "    if p1 is None:\n",
    "        p1Prev.next = p2\n",
    "    return headOne if headOne.value < headTwo.value else headTwo"
   ]
  },
  {
   "cell_type": "code",
   "execution_count": null,
   "metadata": {},
   "outputs": [],
   "source": [
    "class LinkedList:\n",
    "    def __init__(self, value):\n",
    "        self.value = value\n",
    "        self.next = None\n",
    "\n",
    "# O(n + m) time | O(n + m) space, where n is number of nodes in the first \n",
    "# Linked List and m is the number of nodes in the second Linked List\n",
    "def mergeLinkedLists(headOne, headTwo):\n",
    "    recursiveMerge(headOne, headTwo, None)\n",
    "    return headOne if headOne.value < headTwo.value else headTwo\n",
    "\n",
    "\n",
    "def recursiveMerge(p1, p2, p1Prev):\n",
    "    if p1 is None:\n",
    "        p1Prev.next = p2\n",
    "        return\n",
    "    if p2 is None:\n",
    "        return\n",
    "\n",
    "    if p1.value < p2.value:\n",
    "        recursiveMerge(p1.next, p2, p1):\n",
    "    else:\n",
    "        if p1Prev is not None:\n",
    "            p1Prev.next = p2\n",
    "        newP2 = p2.next\n",
    "        p2.next = p1\n",
    "        recursiveMerge(p1, newP2, p2)"
   ]
  },
  {
   "source": [
    "## Thoughts\n",
    "- expert solution considers prev, p1, p2.\n",
    "- my solution considers p1, p2, next."
   ],
   "cell_type": "markdown",
   "metadata": {}
  },
  {
   "cell_type": "code",
   "execution_count": null,
   "metadata": {},
   "outputs": [],
   "source": []
  },
  {
   "cell_type": "code",
   "execution_count": null,
   "metadata": {},
   "outputs": [],
   "source": []
  },
  {
   "cell_type": "code",
   "execution_count": null,
   "metadata": {},
   "outputs": [],
   "source": []
  },
  {
   "cell_type": "code",
   "execution_count": null,
   "metadata": {},
   "outputs": [],
   "source": []
  },
  {
   "cell_type": "code",
   "execution_count": null,
   "metadata": {},
   "outputs": [],
   "source": []
  },
  {
   "cell_type": "code",
   "execution_count": null,
   "metadata": {},
   "outputs": [],
   "source": []
  },
  {
   "cell_type": "code",
   "execution_count": null,
   "metadata": {},
   "outputs": [],
   "source": []
  },
  {
   "cell_type": "code",
   "execution_count": null,
   "metadata": {},
   "outputs": [],
   "source": []
  },
  {
   "cell_type": "code",
   "execution_count": null,
   "metadata": {},
   "outputs": [],
   "source": []
  },
  {
   "cell_type": "code",
   "execution_count": null,
   "metadata": {},
   "outputs": [],
   "source": []
  },
  {
   "cell_type": "code",
   "execution_count": null,
   "metadata": {},
   "outputs": [],
   "source": []
  },
  {
   "cell_type": "code",
   "execution_count": null,
   "metadata": {},
   "outputs": [],
   "source": []
  }
 ]
}