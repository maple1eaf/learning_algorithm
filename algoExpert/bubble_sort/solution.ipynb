{
 "metadata": {
  "language_info": {
   "codemirror_mode": {
    "name": "ipython",
    "version": 3
   },
   "file_extension": ".py",
   "mimetype": "text/x-python",
   "name": "python",
   "nbconvert_exporter": "python",
   "pygments_lexer": "ipython3",
   "version": 3
  },
  "orig_nbformat": 2
 },
 "nbformat": 4,
 "nbformat_minor": 2,
 "cells": [
  {
   "source": [
    "# Bubble Sort\n",
    "[link](https://www.algoexpert.io/questions/Bubble%20Sort)"
   ],
   "cell_type": "markdown",
   "metadata": {}
  },
  {
   "source": [
    "## My Solution"
   ],
   "cell_type": "markdown",
   "metadata": {}
  },
  {
   "cell_type": "code",
   "execution_count": null,
   "metadata": {},
   "outputs": [],
   "source": [
    "def bubbleSort(array):\n",
    "    # Write your code here.\n",
    "    for i in range(len(array)):\n",
    "        for j in range(i+1, len(array)):\n",
    "            if array[i] > array[j]:\n",
    "                array[i], array[j] = array[j], array[i]\n",
    "    return array"
   ]
  },
  {
   "cell_type": "code",
   "execution_count": null,
   "metadata": {},
   "outputs": [],
   "source": [
    "def bubbleSort(array):\n",
    "    # Write your code here.\n",
    "    isSorted = False\n",
    "    length = len(array)\n",
    "    while not isSorted:\n",
    "        isSorted = True\n",
    "        for i in range(length - 1):\n",
    "            if array[i] > array[i+1]:\n",
    "                array[i], array[i+1] = array[i+1], array[i]\n",
    "                isSorted = False\n",
    "        length -= 1\n",
    "    return array"
   ]
  },
  {
   "source": [
    "## Expert Solution"
   ],
   "cell_type": "markdown",
   "metadata": {}
  },
  {
   "cell_type": "code",
   "execution_count": null,
   "metadata": {},
   "outputs": [],
   "source": [
    "# Best: O(n) time | O(1) space\n",
    "# Average: O(n^2) time | O(1) space\n",
    "# Worst: O(n^2) time | O(1) space\n",
    "def bubbleSort(array):\n",
    "    isSorted = False\n",
    "    counter = 0\n",
    "    while not isSorted:\n",
    "        isSorted = True\n",
    "        for i in range(len(array) - 1 - counter):\n",
    "            if array[i] > array[i + 1]:\n",
    "                swap(i, i + 1, array)\n",
    "                isSorted =  False\n",
    "        counter += 1\n",
    "    return array\n",
    "\n",
    "def swap(i, j, array):\n",
    "    array[i], array[j] = array[j], array[i]"
   ]
  },
  {
   "source": [
    "## Thoughts\n",
    "### in place swap\n",
    "notice that the swap action happens in place in the array, which means it will change the original array's order\n",
    "### time complexity\n",
    "the difference between my solution one and the expert solution is:\n",
    "    - my solution one: two for-loop. the call times will always be $\\frac{(n-1)n}{2}$ -> O(n^2)\n",
    "    - expert solution: while-loop outside, for-loop inside. the real call times will depends on an array's order. after excute the while-loop for several times, the array will have been already well sorted, and the process will jump out of the while-loop for an early ending.\n",
    "### quicker trick\n",
    "after every full execution of the inner for-loop, one max number will be already at its final position (well sorted), so there is no need to check its order again in the next inner for-loop."
   ],
   "cell_type": "markdown",
   "metadata": {}
  },
  {
   "cell_type": "code",
   "execution_count": null,
   "metadata": {},
   "outputs": [],
   "source": []
  },
  {
   "cell_type": "code",
   "execution_count": null,
   "metadata": {},
   "outputs": [],
   "source": []
  },
  {
   "cell_type": "code",
   "execution_count": null,
   "metadata": {},
   "outputs": [],
   "source": []
  },
  {
   "cell_type": "code",
   "execution_count": null,
   "metadata": {},
   "outputs": [],
   "source": []
  },
  {
   "cell_type": "code",
   "execution_count": null,
   "metadata": {},
   "outputs": [],
   "source": []
  },
  {
   "cell_type": "code",
   "execution_count": null,
   "metadata": {},
   "outputs": [],
   "source": []
  },
  {
   "cell_type": "code",
   "execution_count": null,
   "metadata": {},
   "outputs": [],
   "source": []
  },
  {
   "cell_type": "code",
   "execution_count": null,
   "metadata": {},
   "outputs": [],
   "source": []
  },
  {
   "cell_type": "code",
   "execution_count": null,
   "metadata": {},
   "outputs": [],
   "source": []
  },
  {
   "cell_type": "code",
   "execution_count": null,
   "metadata": {},
   "outputs": [],
   "source": []
  },
  {
   "cell_type": "code",
   "execution_count": null,
   "metadata": {},
   "outputs": [],
   "source": []
  },
  {
   "cell_type": "code",
   "execution_count": null,
   "metadata": {},
   "outputs": [],
   "source": []
  }
 ]
}