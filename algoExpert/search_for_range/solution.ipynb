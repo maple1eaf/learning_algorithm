{
 "metadata": {
  "language_info": {
   "codemirror_mode": {
    "name": "ipython",
    "version": 3
   },
   "file_extension": ".py",
   "mimetype": "text/x-python",
   "name": "python",
   "nbconvert_exporter": "python",
   "pygments_lexer": "ipython3",
   "version": 3
  },
  "orig_nbformat": 2
 },
 "nbformat": 4,
 "nbformat_minor": 2,
 "cells": [
  {
   "source": [
    "# Search For Range\n",
    "[link](https://www.algoexpert.io/questions/Search%20For%20Range)"
   ],
   "cell_type": "markdown",
   "metadata": {}
  },
  {
   "source": [
    "## My Solution"
   ],
   "cell_type": "markdown",
   "metadata": {}
  },
  {
   "cell_type": "code",
   "execution_count": null,
   "metadata": {},
   "outputs": [],
   "source": [
    "def searchForRange(array, target):\n",
    "    # Write your code here.\n",
    "    # O(log(n)) time | O(1) space\n",
    "    leftMost = findLeftMost(array, target)\n",
    "    rightMost = findRightMost(array, target)\n",
    "    return [leftMost, rightMost]\n",
    "    \n",
    "def findLeftMost(array, target):\n",
    "    left = 0\n",
    "    right = len(array) - 1\n",
    "    leftMost = len(array)\n",
    "    while left <= right:\n",
    "        mid = (left + right) // 2\n",
    "        if target < array[mid]:\n",
    "            right = mid - 1\n",
    "        elif target > array[mid]:\n",
    "            left = mid + 1\n",
    "        else:\n",
    "            leftMost = mid\n",
    "            right = mid - 1\n",
    "    return leftMost if leftMost < len(array) else -1\n",
    "\n",
    "def findRightMost(array, target):\n",
    "    left = 0\n",
    "    right = len(array) - 1\n",
    "    rightMost = -1\n",
    "    while left <= right:\n",
    "        mid = (left + right) // 2\n",
    "        if target < array[mid]:\n",
    "            right = mid - 1\n",
    "        elif target > array[mid]:\n",
    "            left = mid + 1\n",
    "        else:\n",
    "            rightMost = mid\n",
    "            left = mid + 1\n",
    "    return rightMost if rightMost >= 0 else -1"
   ]
  },
  {
   "cell_type": "code",
   "execution_count": null,
   "metadata": {},
   "outputs": [],
   "source": [
    "def searchForRange(array, target):\n",
    "    # Write your code here.\n",
    "    # O(log(n)) time | O(1) space\n",
    "    leftMost = findMost(array, target, True)\n",
    "    rightMost = findMost(array, target, False)\n",
    "    return [leftMost, rightMost]\n",
    "    \n",
    "def findMost(array, target, isSearchLeftMost):\n",
    "    left = 0\n",
    "    right = len(array) - 1\n",
    "    most = -1\n",
    "    while left <= right:\n",
    "        mid = (left + right) // 2\n",
    "        if target < array[mid]:\n",
    "            right = mid - 1\n",
    "        elif target > array[mid]:\n",
    "            left = mid + 1\n",
    "        else:\n",
    "            if isSearchLeftMost:\n",
    "                most = mid\n",
    "                right = mid - 1\n",
    "            else:\n",
    "                most = mid\n",
    "                left = mid + 1\n",
    "    return most"
   ]
  },
  {
   "source": [
    "## Expert Solution"
   ],
   "cell_type": "markdown",
   "metadata": {}
  },
  {
   "cell_type": "code",
   "execution_count": null,
   "metadata": {},
   "outputs": [],
   "source": [
    "# O(log(n)) time, O(1) space\n",
    "def searchForRange(array, target):\n",
    "\tfinalRange = [-1, -1]\n",
    "\talteredBinarySearch(array, target, 0, len(array) - 1, finalRange, True)\n",
    "\talteredBinarySearch(array, target, 0, len(array) - 1, finalRange, False)\n",
    "\treturn finalRange\n",
    "\n",
    "def alteredBinarySearch(array, target, left, right, finalRange, goLeft):\n",
    "    if left > right:\n",
    "        return\n",
    "    mid = (left + right) // 2\n",
    "    if array[mid] < target:\n",
    "        alteredBinarySearch(array, target, mid + 1, right, finalRange, goLeft)\n",
    "    elif array[mid] > target:\n",
    "        alteredBinarySearch(array, target, left, mid - 1, finalRange, goLeft)\n",
    "    else:\n",
    "        if goLeft:\n",
    "            if mid == 0 or array[mid - 1] != target:\n",
    "                finalRange[0] = mid\n",
    "            else:\n",
    "                alteredBinarySearch(array, target, left, mid - 1, finalRange, goLeft)\n",
    "        else:\n",
    "            if mid == len(array) - 1 or array[mid + 1] != target:\n",
    "                finalRange[1] = mid\n",
    "            else:\n",
    "                alteredBinarySearch(array, target, mid + 1, right, finalRange, goLeft)"
   ]
  },
  {
   "cell_type": "code",
   "execution_count": null,
   "metadata": {},
   "outputs": [],
   "source": [
    "# O(log(n)) time, O(1) space\n",
    "def searchForRange(array, target):\n",
    "\tfinalRange = [-1, -1]\n",
    "\talteredBinarySearch(array, target, 0, len(array) - 1, finalRange, True)\n",
    "\talteredBinarySearch(array, target, 0, len(array) - 1, finalRange, False)\n",
    "\treturn finalRange\n",
    "\n",
    "def alteredBinarySearch(array, target, left, right, finalRange, goLeft ):\n",
    "\twhile left <= right:\n",
    "\t\tmid = (left + right) // 2\n",
    "\t\tif array[mid] < target:\n",
    "\t\t\tleft = mid + 1\n",
    "\t\telif array[mid] > target:\n",
    "\t\t\tright = mid - 1\n",
    "\t\telse:\n",
    "\t\t\tif goLeft:\n",
    "\t\t\t\tif mid == 0 or array[mid - 1] != target:\n",
    "\t\t\t\t\tfinalRange[0] = mid\n",
    "\t\t\t\t\treturn\n",
    "\t\t\t\telse:\n",
    "\t\t\t\t\tright = mid - 1\n",
    "\t\t\telse:\n",
    "\t\t\t\tif mid == len(array) - 1 or array[mid + 1] != target:\n",
    "\t\t\t\t\tfinalRange[1] = mid\n",
    "\t\t\t\t\treturn\n",
    "\t\t\t\telse:\n",
    "\t\t\t\t\tleft = mid + 1"
   ]
  },
  {
   "source": [
    "## Thoughts"
   ],
   "cell_type": "markdown",
   "metadata": {}
  },
  {
   "cell_type": "code",
   "execution_count": null,
   "metadata": {},
   "outputs": [],
   "source": []
  },
  {
   "cell_type": "code",
   "execution_count": null,
   "metadata": {},
   "outputs": [],
   "source": []
  },
  {
   "cell_type": "code",
   "execution_count": null,
   "metadata": {},
   "outputs": [],
   "source": []
  },
  {
   "cell_type": "code",
   "execution_count": null,
   "metadata": {},
   "outputs": [],
   "source": []
  },
  {
   "cell_type": "code",
   "execution_count": null,
   "metadata": {},
   "outputs": [],
   "source": []
  },
  {
   "cell_type": "code",
   "execution_count": null,
   "metadata": {},
   "outputs": [],
   "source": []
  },
  {
   "cell_type": "code",
   "execution_count": null,
   "metadata": {},
   "outputs": [],
   "source": []
  },
  {
   "cell_type": "code",
   "execution_count": null,
   "metadata": {},
   "outputs": [],
   "source": []
  },
  {
   "cell_type": "code",
   "execution_count": null,
   "metadata": {},
   "outputs": [],
   "source": []
  },
  {
   "cell_type": "code",
   "execution_count": null,
   "metadata": {},
   "outputs": [],
   "source": []
  },
  {
   "cell_type": "code",
   "execution_count": null,
   "metadata": {},
   "outputs": [],
   "source": []
  },
  {
   "cell_type": "code",
   "execution_count": null,
   "metadata": {},
   "outputs": [],
   "source": []
  }
 ]
}