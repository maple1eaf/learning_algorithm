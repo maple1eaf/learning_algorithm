{
 "metadata": {
  "language_info": {
   "codemirror_mode": {
    "name": "ipython",
    "version": 3
   },
   "file_extension": ".py",
   "mimetype": "text/x-python",
   "name": "python",
   "nbconvert_exporter": "python",
   "pygments_lexer": "ipython3",
   "version": 3
  },
  "orig_nbformat": 2
 },
 "nbformat": 4,
 "nbformat_minor": 2,
 "cells": [
  {
   "cell_type": "markdown",
   "source": [
    "# First Duplicate Value\n",
    "[link](https://www.algoexpert.io/questions/First%20Duplicate%20Value)"
   ],
   "metadata": {}
  },
  {
   "cell_type": "markdown",
   "source": [
    "## My Solution"
   ],
   "metadata": {}
  },
  {
   "cell_type": "code",
   "execution_count": null,
   "source": [
    "# O(nlogn) time | O(n) space\n",
    "def firstDuplicateValue(array):\n",
    "\t# Write your code here.\n",
    "\tres = -1\n",
    "\tif len(array) <= 1:\n",
    "\t\treturn res\n",
    "\t\n",
    "\ttree = Node(array[0])\n",
    "\tfor idx in range(1, len(array)):\n",
    "\t\tvalue = array[idx]\n",
    "\t\ttemp = tree.checkInsert(Node(value))\n",
    "\t\tif temp is not None:\n",
    "\t\t\tres = temp\n",
    "\t\t\tbreak\n",
    "\treturn res\n",
    "\t\t\t\n",
    "class Node:\n",
    "\tdef __init__(self, value):\n",
    "\t\tself.value = value\n",
    "\t\tself.left = None\n",
    "\t\tself.right = None\n",
    "\t\t\n",
    "\tdef checkInsert(self, node):\n",
    "\t\tif self.value == node.value:\n",
    "\t\t\treturn node.value\n",
    "\t\telif node.value > self.value:\n",
    "\t\t\tif self.right is not None:\n",
    "\t\t\t\treturn self.right.checkInsert(node)\n",
    "\t\t\telse:\n",
    "\t\t\t\tself.right = node\n",
    "\t\t\t\treturn None\n",
    "\t\telse:\n",
    "\t\t\tif self.left is not None:\n",
    "\t\t\t\treturn self.left.checkInsert(node)\n",
    "\t\t\telse:\n",
    "\t\t\t\tself.left = node\n",
    "\t\t\t\treturn None"
   ],
   "outputs": [],
   "metadata": {}
  },
  {
   "cell_type": "code",
   "execution_count": null,
   "source": [
    "# O(n) time | O(n) space\n",
    "def firstDuplicateValue(array):\n",
    "    # Write your code here.\n",
    "    values = {}\n",
    "    for value in array:\n",
    "        if value not in values:\n",
    "            values[value] = True\n",
    "        else:\n",
    "            return value\n",
    "    return -1"
   ],
   "outputs": [],
   "metadata": {}
  },
  {
   "cell_type": "code",
   "execution_count": null,
   "source": [
    "# O(n) time | O(1) space\n",
    "def firstDuplicateValue(array):\n",
    "    # Write your code here.\n",
    "    for value in array:\n",
    "        positiveValue = abs(value)\n",
    "        idx = positiveValue - 1\n",
    "        if array[idx] < 0:\n",
    "            return positiveValue\n",
    "        else:\n",
    "            array[idx] = -array[idx]\n",
    "    return -1"
   ],
   "outputs": [],
   "metadata": {}
  },
  {
   "cell_type": "markdown",
   "source": [
    "## Expert Solution"
   ],
   "metadata": {}
  },
  {
   "cell_type": "code",
   "execution_count": null,
   "source": [
    "# O(n^2) time | O(1) space - where n is the length of the input array\n",
    "def firstDuplicateValue(array):\n",
    "    minimumSecondIndex= len(array)\n",
    "    for i in range(len(array)):\n",
    "        value = array[i]\n",
    "        for j in range(i + 1, len(array)):\n",
    "            valueToCompare = array[j]\n",
    "            if value == valueToCompare:\n",
    "                minimumSecondIndex = min(minimumSecondIndex, j)\n",
    "\n",
    "    if minimumSecondIndex == len(array):\n",
    "        return -1\n",
    "\n",
    "    return array[minimumSecondIndex]"
   ],
   "outputs": [],
   "metadata": {}
  },
  {
   "cell_type": "code",
   "execution_count": null,
   "source": [
    "# O(n) time | O(n) space - where n is the length of the input array\n",
    "def firstDuplicateValue(array):\n",
    "    seen = set()\n",
    "    for value in array:\n",
    "        if value in seen:\n",
    "            return value\n",
    "        seen.add(value)\n",
    "    return -1"
   ],
   "outputs": [],
   "metadata": {}
  },
  {
   "cell_type": "code",
   "execution_count": null,
   "source": [
    "# O(n) time | O(1) space - where n is the length of the input array\n",
    "def firstDuplicateValue(array):\n",
    "    for value in array:\n",
    "        absValue  = abs(value)\n",
    "        if array[absValue - 1] < 0:\n",
    "            return absValue\n",
    "        array[absValue - 1]  *= -1\n",
    "    return -1"
   ],
   "outputs": [],
   "metadata": {}
  },
  {
   "cell_type": "markdown",
   "source": [
    "## Thoughts"
   ],
   "metadata": {}
  },
  {
   "cell_type": "markdown",
   "source": [
    "- use the order of an array to store extra information (boolean information)"
   ],
   "metadata": {}
  },
  {
   "cell_type": "code",
   "execution_count": null,
   "source": [],
   "outputs": [],
   "metadata": {}
  },
  {
   "cell_type": "code",
   "execution_count": null,
   "source": [],
   "outputs": [],
   "metadata": {}
  },
  {
   "cell_type": "code",
   "execution_count": null,
   "source": [],
   "outputs": [],
   "metadata": {}
  },
  {
   "cell_type": "code",
   "execution_count": null,
   "source": [],
   "outputs": [],
   "metadata": {}
  },
  {
   "cell_type": "code",
   "execution_count": null,
   "source": [],
   "outputs": [],
   "metadata": {}
  },
  {
   "cell_type": "code",
   "execution_count": null,
   "source": [],
   "outputs": [],
   "metadata": {}
  },
  {
   "cell_type": "code",
   "execution_count": null,
   "source": [],
   "outputs": [],
   "metadata": {}
  },
  {
   "cell_type": "code",
   "execution_count": null,
   "source": [],
   "outputs": [],
   "metadata": {}
  },
  {
   "cell_type": "code",
   "execution_count": null,
   "source": [],
   "outputs": [],
   "metadata": {}
  },
  {
   "cell_type": "code",
   "execution_count": null,
   "source": [],
   "outputs": [],
   "metadata": {}
  }
 ]
}