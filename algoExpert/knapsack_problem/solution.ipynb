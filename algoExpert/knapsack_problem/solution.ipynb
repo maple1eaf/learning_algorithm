{
 "metadata": {
  "language_info": {
   "codemirror_mode": {
    "name": "ipython",
    "version": 3
   },
   "file_extension": ".py",
   "mimetype": "text/x-python",
   "name": "python",
   "nbconvert_exporter": "python",
   "pygments_lexer": "ipython3",
   "version": 3
  },
  "orig_nbformat": 2
 },
 "nbformat": 4,
 "nbformat_minor": 2,
 "cells": [
  {
   "source": [
    "# Knapsack Problem\n",
    "[link](https://www.algoexpert.io/questions/Knapsack%20Problem)"
   ],
   "cell_type": "markdown",
   "metadata": {}
  },
  {
   "source": [
    "## My Solution"
   ],
   "cell_type": "markdown",
   "metadata": {}
  },
  {
   "cell_type": "code",
   "execution_count": null,
   "metadata": {},
   "outputs": [],
   "source": [
    "def knapsackProblem(items, capacity):\n",
    "    # Write your code here.\n",
    "    # return [\n",
    "    #   10, // total value\n",
    "    #   [1, 2], // item indices\n",
    "    # ]\n",
    "    opt = [[0 for j in range(capacity + 1)] for i in range(len(items) + 1)]\n",
    "    for i in range(1, len(items) + 1):\n",
    "        for w in range(1, capacity + 1):\n",
    "            if w >= items[i - 1][1]:\n",
    "                opt[i][w] = max(opt[i - 1][w - items[i - 1][1]] + items[i - 1][0], opt[i - 1][w])\n",
    "            else:\n",
    "                opt[i][w] = opt[i - 1][w]\n",
    "\n",
    "    idxes = []\n",
    "    i = len(opt) - 1\n",
    "    w = len(opt[0]) - 1\n",
    "    while i > 0 and w > 0:\n",
    "        if w >= items[i - 1][1] and opt[i - 1][w - items[i - 1][1]] + items[i - 1][0] == opt[i][w]:\n",
    "            idxes.append(i - 1)\n",
    "            w -= items[i - 1][1]\n",
    "        i -= 1\n",
    "    return [opt[-1][-1], list(reversed(idxes))]\n",
    "            \n"
   ]
  },
  {
   "cell_type": "code",
   "execution_count": null,
   "metadata": {},
   "outputs": [],
   "source": []
  },
  {
   "source": [
    "## Expert Solution"
   ],
   "cell_type": "markdown",
   "metadata": {}
  },
  {
   "cell_type": "code",
   "execution_count": null,
   "metadata": {},
   "outputs": [],
   "source": [
    "# O(nc) time | O(nc) space\n",
    "def knapsackProblem(items, capacity):\n",
    "    knapsackValues = [[0 for x in range(0, capacity + 1)] for y in range(0, len(items) + 1)]\n",
    "    for i in range(1, len(items) + 1):\n",
    "        currentWeight = items[i - 1][1]\n",
    "        currentValue = items[i - 1][0]\n",
    "        for c in range(0, capacity + 1):\n",
    "            if currentWeight > c:\n",
    "                knapsackValues[i][c] = knapsackValues[i - 1][c]\n",
    "            else:\n",
    "                knapsackValues[i][c] = max(\n",
    "                    knapsackValues[i - 1][c], knapsackValues[i - 1][c - currentWeight] + currentValue\n",
    "                )\n",
    "    return [knapsackValues[-1][-1], getKnapsackItems(knapsackValues, items)]\n",
    "\n",
    "def getKnapsackItems(knapsackValues, items):\n",
    "    sequence = []\n",
    "    i = len(knapsackValues) - 1\n",
    "    c = len(knapsackValues[0]) - 1\n",
    "    while i > 0:\n",
    "        if knapsackValues[i][c] == knapsackValues[i - 1][c]:\n",
    "            i -= 1\n",
    "        else:\n",
    "            sequence.append(i - 1)\n",
    "            c -= items[i - 1][1]\n",
    "            i -= 1\n",
    "        if c == 0:\n",
    "            break\n",
    "    return list(reversed(sequence))"
   ]
  },
  {
   "cell_type": "code",
   "execution_count": null,
   "metadata": {},
   "outputs": [],
   "source": []
  },
  {
   "source": [
    "## Thoughts\n",
    "because we are required to find the optimal solution, we need to store the whole opt table. on the other hand, if we don't need to find the optimal solution, which means we only need to find the value of the optimal solution, we only need an array instead of a 2-d table to store the previous (i - 1) optimal solution's values, the space complexity will be reduced to  O(w), where w it the max capacity."
   ],
   "cell_type": "markdown",
   "metadata": {}
  },
  {
   "cell_type": "code",
   "execution_count": null,
   "metadata": {},
   "outputs": [],
   "source": []
  },
  {
   "cell_type": "code",
   "execution_count": null,
   "metadata": {},
   "outputs": [],
   "source": []
  },
  {
   "cell_type": "code",
   "execution_count": null,
   "metadata": {},
   "outputs": [],
   "source": []
  },
  {
   "cell_type": "code",
   "execution_count": null,
   "metadata": {},
   "outputs": [],
   "source": []
  },
  {
   "cell_type": "code",
   "execution_count": null,
   "metadata": {},
   "outputs": [],
   "source": []
  },
  {
   "cell_type": "code",
   "execution_count": null,
   "metadata": {},
   "outputs": [],
   "source": []
  },
  {
   "cell_type": "code",
   "execution_count": null,
   "metadata": {},
   "outputs": [],
   "source": []
  },
  {
   "cell_type": "code",
   "execution_count": null,
   "metadata": {},
   "outputs": [],
   "source": []
  },
  {
   "cell_type": "code",
   "execution_count": null,
   "metadata": {},
   "outputs": [],
   "source": []
  },
  {
   "cell_type": "code",
   "execution_count": null,
   "metadata": {},
   "outputs": [],
   "source": []
  },
  {
   "cell_type": "code",
   "execution_count": null,
   "metadata": {},
   "outputs": [],
   "source": []
  },
  {
   "cell_type": "code",
   "execution_count": null,
   "metadata": {},
   "outputs": [],
   "source": []
  }
 ]
}