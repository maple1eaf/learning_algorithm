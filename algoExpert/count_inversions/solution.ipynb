{
 "metadata": {
  "language_info": {
   "codemirror_mode": {
    "name": "ipython",
    "version": 3
   },
   "file_extension": ".py",
   "mimetype": "text/x-python",
   "name": "python",
   "nbconvert_exporter": "python",
   "pygments_lexer": "ipython3",
   "version": 3
  },
  "orig_nbformat": 2
 },
 "nbformat": 4,
 "nbformat_minor": 2,
 "cells": [
  {
   "source": [
    "# Count Inversions\n",
    "[link](https://www.algoexpert.io/questions/Count%20Inversions)"
   ],
   "cell_type": "markdown",
   "metadata": {}
  },
  {
   "source": [
    "## My Solution"
   ],
   "cell_type": "markdown",
   "metadata": {}
  },
  {
   "cell_type": "code",
   "execution_count": null,
   "metadata": {},
   "outputs": [],
   "source": [
    "# O(n^2) time | O(1) space\n",
    "def countInversions(array):\n",
    "    # Write your code here.\n",
    "    count = 0\n",
    "    for i in range(len(array)):\n",
    "        for j in range(i + 1, len(array)):\n",
    "            if array[i] > array[j]:\n",
    "                count += 1\n",
    "    return count"
   ]
  },
  {
   "cell_type": "code",
   "execution_count": null,
   "metadata": {},
   "outputs": [],
   "source": [
    "# Average case: when the created BST is balanced\n",
    "# O(nlog(n)) time | O(n) space\n",
    "# ---\n",
    "# Worst case: when the created BST is like a linked list\n",
    "# O(n^2) time | O(n) space\n",
    "def countInversions(array):\n",
    "    # Write your code here.\n",
    "    root = None\n",
    "    countInversions = 0\n",
    "    for i in range(len(array)):\n",
    "        if i == 0:\n",
    "            root = BST(array[i])\n",
    "        else:\n",
    "            countInversions += root.insert(array[i])\n",
    "    return countInversions\n",
    "\n",
    "class BST:\n",
    "    def __init__(self, value):\n",
    "        self.value = value\n",
    "        self.left = None\n",
    "        self.right = None\n",
    "        self.rightCount = 0\n",
    "        \n",
    "    def insert(self, value):\n",
    "        count = 0\n",
    "        n = BST(value)\n",
    "        cur = self\n",
    "        while True:\n",
    "            if value >= cur.value:\n",
    "                cur.rightCount += 1\n",
    "                if cur.right is not None:\n",
    "                    cur = cur.right\n",
    "                else:\n",
    "                    cur.right = n\n",
    "                    break\n",
    "            else:\n",
    "                count += 1 + cur.rightCount\n",
    "                if cur.left is not None:\n",
    "                    cur = cur.left\n",
    "                else:\n",
    "                    cur.left = n\n",
    "                    break\n",
    "        return count"
   ]
  },
  {
   "cell_type": "code",
   "execution_count": null,
   "metadata": {},
   "outputs": [],
   "source": [
    "# O(nlog(n)) time | O(n) space\n",
    "def countInversions(array):\n",
    "    # Write your code here.\n",
    "    return countInversionsHelper(array, 0, len(array) - 1)\n",
    "\n",
    "def countInversionsHelper(array, startIdx, endIdx):\n",
    "    if startIdx >= endIdx:\n",
    "        return 0\n",
    "    middleIdx = (startIdx + endIdx) // 2\n",
    "    inversionsCountLeft = countInversionsHelper(array, startIdx, middleIdx)\n",
    "    inversionsCountRight = countInversionsHelper(array, middleIdx + 1, endIdx)\n",
    "    inversionsCountLeftToRight = doSort(array, startIdx, middleIdx + 1, endIdx)\n",
    "    return inversionsCountLeft + inversionsCountRight + inversionsCountLeftToRight\n",
    "\n",
    "def doSort(array, startIdx, rightHalfStartIdx, endIdx):\n",
    "    i = startIdx\n",
    "    j = rightHalfStartIdx\n",
    "    combinedArray = []\n",
    "    inversionsCount = 0\n",
    "    while i <= rightHalfStartIdx - 1 and j <= endIdx:\n",
    "        if array[i] <= array[j]:\n",
    "            combinedArray.append(array[i])\n",
    "            i += 1\n",
    "        else:\n",
    "            inversionsCount += rightHalfStartIdx - i\n",
    "            combinedArray.append(array[j])\n",
    "            j += 1\n",
    "\n",
    "    combinedArray += array[i:rightHalfStartIdx] + array[j:endIdx + 1]\n",
    "    for i, x in enumerate(combinedArray):\n",
    "        array[startIdx + i] = x\n",
    "    return inversionsCount"
   ]
  },
  {
   "source": [
    "## Expert Solution"
   ],
   "cell_type": "markdown",
   "metadata": {}
  },
  {
   "cell_type": "code",
   "execution_count": null,
   "metadata": {},
   "outputs": [],
   "source": [
    "# O(nlog(n)) time | O(n) space -  where n is the length of the array\n",
    "def countInversions(array):\n",
    "    # Write your code here.\n",
    "    return countSubArrayInversions(array, 0, len(array))\n",
    "\n",
    "def countSubArrayInversions(array, start, end):\n",
    "    if end - start <= 1:\n",
    "        return 0\n",
    "\n",
    "    middle = start + (end - start) // 2\n",
    "    leftInversions = countSubArrayInversions(array, start, middle)\n",
    "    rightInversions = countSubArrayInversions(array, middle, end)\n",
    "    mergedArrayInversions = mergeSortAndCountInversions(array, start, middle, end)\n",
    "    return leftInversions + rightInversions + mergedArrayInversions\n",
    "\n",
    "def mergeSortAndCountInversions(array, start, middle, end):\n",
    "    sortedArray = []\n",
    "    left = start\n",
    "    right = middle\n",
    "    inversions = 0\n",
    "\n",
    "    while left < middle and right < end:\n",
    "        if array[left] <= array[right]:\n",
    "            sortedArray.append(array[left])\n",
    "            left += 1\n",
    "        else:\n",
    "            inversions += middle - left\n",
    "            sortedArray.append(array[right])\n",
    "            right += 1\n",
    "\n",
    "    sortedArray += array[left:middle] + array[right:end]\n",
    "    for idx, num in enumerate(sortedArray):\n",
    "        array[start + idx] = num\n",
    "    \n",
    "    return inversions"
   ]
  },
  {
   "source": [
    "## Thoughts\n",
    "### expert solution\n",
    "all inversions includes:\n",
    "- inversions in left part\n",
    "- inversions in right part\n",
    "- inversions from left part to right part\n",
    "\n",
    "### expert solution space complexity\n",
    "- call stack: at most log2(n)\n",
    "- the combined sorted array needs at most O(n)\n",
    "- totally O(n)"
   ],
   "cell_type": "markdown",
   "metadata": {}
  },
  {
   "cell_type": "code",
   "execution_count": null,
   "metadata": {},
   "outputs": [],
   "source": []
  },
  {
   "cell_type": "code",
   "execution_count": null,
   "metadata": {},
   "outputs": [],
   "source": []
  },
  {
   "cell_type": "code",
   "execution_count": null,
   "metadata": {},
   "outputs": [],
   "source": []
  },
  {
   "cell_type": "code",
   "execution_count": null,
   "metadata": {},
   "outputs": [],
   "source": []
  },
  {
   "cell_type": "code",
   "execution_count": null,
   "metadata": {},
   "outputs": [],
   "source": []
  },
  {
   "cell_type": "code",
   "execution_count": null,
   "metadata": {},
   "outputs": [],
   "source": []
  },
  {
   "cell_type": "code",
   "execution_count": null,
   "metadata": {},
   "outputs": [],
   "source": []
  },
  {
   "cell_type": "code",
   "execution_count": null,
   "metadata": {},
   "outputs": [],
   "source": []
  },
  {
   "cell_type": "code",
   "execution_count": null,
   "metadata": {},
   "outputs": [],
   "source": []
  },
  {
   "cell_type": "code",
   "execution_count": null,
   "metadata": {},
   "outputs": [],
   "source": []
  },
  {
   "cell_type": "code",
   "execution_count": null,
   "metadata": {},
   "outputs": [],
   "source": []
  },
  {
   "cell_type": "code",
   "execution_count": null,
   "metadata": {},
   "outputs": [],
   "source": []
  }
 ]
}