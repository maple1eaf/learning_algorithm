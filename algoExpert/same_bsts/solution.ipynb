{
 "metadata": {
  "language_info": {
   "codemirror_mode": {
    "name": "ipython",
    "version": 3
   },
   "file_extension": ".py",
   "mimetype": "text/x-python",
   "name": "python",
   "nbconvert_exporter": "python",
   "pygments_lexer": "ipython3",
   "version": "3.7.3-final"
  },
  "orig_nbformat": 2,
  "kernelspec": {
   "name": "python3",
   "display_name": "Python 3",
   "language": "python"
  }
 },
 "nbformat": 4,
 "nbformat_minor": 2,
 "cells": [
  {
   "source": [
    "# Same BSTs\n",
    "[link](https://www.algoexpert.io/questions/Same%20BSTs)"
   ],
   "cell_type": "markdown",
   "metadata": {}
  },
  {
   "source": [
    "## My Solution"
   ],
   "cell_type": "markdown",
   "metadata": {}
  },
  {
   "cell_type": "code",
   "execution_count": null,
   "metadata": {},
   "outputs": [],
   "source": [
    "def sameBsts(arrayOne, arrayTwo):\n",
    "    # Write your code here.\n",
    "    if arrayOne == [] and arrayTwo == []:\n",
    "        return True\n",
    "    if len(arrayOne) != len(arrayTwo):\n",
    "        return False\n",
    "    if arrayOne[0] != arrayTwo[0]:\n",
    "        return False\n",
    "    arrayOneLeft = [arrayOne[i] for i in range(1, len(arrayOne)) if arrayOne[i] >= arrayOne[0]]\n",
    "    arrayTwoLeft = [arrayTwo[i] for i in range(1, len(arrayTwo)) if arrayTwo[i] >= arrayTwo[0]]\n",
    "    arrayOneRight = [arrayOne[i] for i in range(1, len(arrayOne)) if arrayOne[i] < arrayOne[0]]\n",
    "    arrayTwoRight = [arrayTwo[i] for i in range(1, len(arrayTwo)) if arrayTwo[i] < arrayTwo[0]]\n",
    "    return sameBsts(arrayOneLeft, arrayTwoLeft) and sameBsts(arrayOneRight, arrayTwoRight)"
   ]
  },
  {
   "cell_type": "code",
   "execution_count": 45,
   "metadata": {},
   "outputs": [],
   "source": [
    "def sameBsts(arrayOne, arrayTwo):\n",
    "    # Write your code here.\n",
    "    return sameBstsHelper(arrayOne, arrayTwo, 0, 0, float('-inf'), float('inf'))\n",
    "    \n",
    "def sameBstsHelper(arrayOne, arrayTwo, oneIdx, twoIdx, minVal, maxVal):\n",
    "    if oneIdx == None and twoIdx == None:\n",
    "        return True\n",
    "    if oneIdx == None or twoIdx == None:\n",
    "        return False\n",
    "    if arrayOne[oneIdx] != arrayTwo[twoIdx]:\n",
    "        return False\n",
    "    value = arrayOne[oneIdx]\n",
    "    \n",
    "    oneLessIdx = findFirstLesser(arrayOne, oneIdx, minVal)\n",
    "    twoLessIdx = findFirstLesser(arrayTwo, twoIdx, minVal)\n",
    "    if not sameBstsHelper(arrayOne, arrayTwo, oneLessIdx, twoLessIdx, minVal, value):\n",
    "        return False\n",
    "    \n",
    "    oneLargerIdx = findFirstEqualLarger(arrayOne, oneIdx, maxVal)\n",
    "    twoLargerIdx = findFirstEqualLarger(arrayTwo, twoIdx, maxVal)\n",
    "    if not sameBstsHelper(arrayOne, arrayTwo, oneLargerIdx, twoLargerIdx, value, maxVal):\n",
    "        return False\n",
    "    \n",
    "    return True\n",
    "\n",
    "def findFirstLesser(array, startIdx, minValue):\n",
    "    idx = startIdx + 1\n",
    "    while idx < len(array):\n",
    "        if array[idx] < array[startIdx] and array[idx] >= minValue:\n",
    "            return idx\n",
    "        idx += 1\n",
    "    return None\n",
    "\n",
    "def findFirstEqualLarger(array, startIdx, maxValue):\n",
    "    idx = startIdx + 1\n",
    "    while idx < len(array):\n",
    "        if array[idx] >= array[startIdx] and array[idx] < maxValue:\n",
    "            return idx\n",
    "        idx += 1\n",
    "    return None"
   ]
  },
  {
   "cell_type": "code",
   "execution_count": 46,
   "metadata": {
    "tags": []
   },
   "outputs": [
    {
     "output_type": "execute_result",
     "data": {
      "text/plain": [
       "True"
      ]
     },
     "metadata": {},
     "execution_count": 46
    }
   ],
   "source": [
    "a = [10, 15, 8, 12, 94, 81, 5, 2, 11]\n",
    "b = [10, 8, 5, 15, 2, 12, 11, 94, 81]\n",
    "sameBsts(a, b)"
   ]
  },
  {
   "source": [
    "## Expert Solution"
   ],
   "cell_type": "markdown",
   "metadata": {}
  },
  {
   "cell_type": "code",
   "execution_count": null,
   "metadata": {},
   "outputs": [],
   "source": [
    "# O(n^2) time | O(n^2) space - where n is the number of\n",
    "# nodes in each array, respectively\n",
    "def sameBsts(arrayOne, arrayTwo):\n",
    "    if len(arrayOne) != len(arrayTwo):\n",
    "        return False\n",
    "    if len(arrayOne) == 0 and len(arrayTwo) == 0:\n",
    "        return True\n",
    "    \n",
    "    if arrayOne[0] != arrayTwo[0]:\n",
    "        return False\n",
    "    \n",
    "    leftOne = getSmaller(arrayOne)\n",
    "    leftTwo = getSmaller(arrayTwo)\n",
    "    rightOne = getBiggerOrEqual(arrayOne)\n",
    "    rightTwo = getBiggerOrEqual(arrayTwo)\n",
    "    \n",
    "    return sameBsts(leftOne, leftTwo) and sameBsts(rightOne, rightTwo)\n",
    "\n",
    "def getSmaller(array):\n",
    "    smaller = []\n",
    "    for i in range(1, len(array)):\n",
    "        if array[i] < array[0]:\n",
    "            smaller.append(array[i])\n",
    "    return smaller\n",
    "\n",
    "def getBiggerOrEqual(array):\n",
    "    biggerOrEqual = []\n",
    "    for i in range(1, len(array)):\n",
    "        if array[i] >= array[0]:\n",
    "            biggerOrEqual.append(array[i])\n",
    "    return biggerOrEqual"
   ]
  },
  {
   "cell_type": "code",
   "execution_count": null,
   "metadata": {},
   "outputs": [],
   "source": [
    "# O(n^2) time | O(d) space - where n is the number of\n",
    "# nodes in each array, respectively, and d is the depth\n",
    "# of the BST that they represent\n",
    "def sameBsts(arrayOne, arrayTwo):\n",
    "    return areSameBsts(arrayOne, arrayTwo, 0, 0, float(\"-inf\"), float(\"inf\"))\n",
    "\n",
    "def areSameBsts(arrayOne, arrayTwo, rootIdxOne, rootIdxTwo, minVal, maxVal):\n",
    "    if rootIdxOne == -1 or rootIdxTwo == -1:\n",
    "        return rootIdxOne == rootIdxTwo\n",
    "    \n",
    "    if arrayOne[rootIdxOne] != arrayTwo[rootIdxTwo]:\n",
    "        return False\n",
    "\n",
    "    leftRootIdxOne = getIdxOfFirstSmaller(arrayOne, rootIdxOne, minVal)\n",
    "    leftRootIdxTwo = getIdxOfFirstSmaller(arrayTwo, rootIdxTwo, minVal)\n",
    "    rightRootIdxOne = getIdxOfFirstBiggerOrEqual(arrayOne, rootIdxOne, maxVal)\n",
    "    rightRootIdxTwo = getIdxOfFirstBiggerOrEqual(arrayTwo, rootIdxTwo, maxVal)\n",
    "\n",
    "    currentValue = arrayOne[rootIdxOne]\n",
    "    leftAreSame = areSameBsts(arrayOne, arrayTwo, leftRootIdxOne, leftRootIdxTwo, minVal, currentValue)\n",
    "    rightAreSame = areSameBsts(arrayOne, arrayTwo, rightRootIdxOne, rightRootIdxTwo, currentValue, maxVal)\n",
    "\n",
    "    return leftAreSame and rightAreSame\n",
    "\n",
    "def getIdxOfFirstSmaller(array, startingIdx, minVal):\n",
    "    # Find the index of the first smaller value after the startingIdx.\n",
    "    # Make sure that this value is greater than or equal to the minVal,\n",
    "    # which is the value of the previous parent node in the BST. If it\n",
    "    # isn't, then that value is located in the left subtree of the\n",
    "    # previous parent node.\n",
    "    for i in range(startingIdx + 1, len(array)):\n",
    "        if array[i] < array[startingIdx] and array[i] >= minVal:\n",
    "            return i\n",
    "    return - 1\n",
    "\n",
    "def getIdxOfFirstBiggerOrEqual(array, startingIdx, maxVal):\n",
    "    # Find the index of the first bigger/equal value after the startingIdx.\n",
    "    # Make sure that this value is smaller to the maxVal, which is the value\n",
    "    # of the previous parent node in the BST. If it isn't, then that value\n",
    "    # is located in the right subtree of the previous parent node.\n",
    "    for i in range(startingIdx + 1, len(array)):\n",
    "        if array[i] >= array[startingIdx] and array[i] < maxVal:\n",
    "            return i\n",
    "    return - 1"
   ]
  },
  {
   "source": [
    "## Thoughts"
   ],
   "cell_type": "markdown",
   "metadata": {}
  },
  {
   "cell_type": "code",
   "execution_count": null,
   "metadata": {},
   "outputs": [],
   "source": []
  },
  {
   "cell_type": "code",
   "execution_count": null,
   "metadata": {},
   "outputs": [],
   "source": []
  },
  {
   "cell_type": "code",
   "execution_count": null,
   "metadata": {},
   "outputs": [],
   "source": []
  },
  {
   "cell_type": "code",
   "execution_count": null,
   "metadata": {},
   "outputs": [],
   "source": []
  },
  {
   "cell_type": "code",
   "execution_count": null,
   "metadata": {},
   "outputs": [],
   "source": []
  },
  {
   "cell_type": "code",
   "execution_count": null,
   "metadata": {},
   "outputs": [],
   "source": []
  },
  {
   "cell_type": "code",
   "execution_count": null,
   "metadata": {},
   "outputs": [],
   "source": []
  },
  {
   "cell_type": "code",
   "execution_count": null,
   "metadata": {},
   "outputs": [],
   "source": []
  },
  {
   "cell_type": "code",
   "execution_count": null,
   "metadata": {},
   "outputs": [],
   "source": []
  },
  {
   "cell_type": "code",
   "execution_count": null,
   "metadata": {},
   "outputs": [],
   "source": []
  },
  {
   "cell_type": "code",
   "execution_count": null,
   "metadata": {},
   "outputs": [],
   "source": []
  },
  {
   "cell_type": "code",
   "execution_count": null,
   "metadata": {},
   "outputs": [],
   "source": []
  }
 ]
}