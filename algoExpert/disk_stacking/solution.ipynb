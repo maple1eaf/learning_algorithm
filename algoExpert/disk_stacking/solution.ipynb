{
 "metadata": {
  "language_info": {
   "codemirror_mode": {
    "name": "ipython",
    "version": 3
   },
   "file_extension": ".py",
   "mimetype": "text/x-python",
   "name": "python",
   "nbconvert_exporter": "python",
   "pygments_lexer": "ipython3",
   "version": 3
  },
  "orig_nbformat": 2
 },
 "nbformat": 4,
 "nbformat_minor": 2,
 "cells": [
  {
   "source": [
    "# Disk Stacking\n",
    "[link](https://www.algoexpert.io/questions/Disk%20Stacking)"
   ],
   "cell_type": "markdown",
   "metadata": {}
  },
  {
   "source": [
    "## My Solution"
   ],
   "cell_type": "markdown",
   "metadata": {}
  },
  {
   "cell_type": "code",
   "execution_count": null,
   "metadata": {},
   "outputs": [],
   "source": [
    "def diskStacking(disks):\n",
    "    # Write your code here.\n",
    "    disks.sort(key=lambda x: x[1])\n",
    "    globalMaxHeight = 0\n",
    "    prevDiskIdx = [None for _ in range(len(disks) + 1)]\n",
    "    opt = [0 for _ in range(len(disks) + 1)]\n",
    "    for i in range(len(disks)):\n",
    "        opt[i + 1] = disks[i][2]\n",
    "    for i in range(len(opt)):\n",
    "        maxHeight = opt[i]\n",
    "        for j in range(i):\n",
    "            if disks[i - 1][0] > disks[j][0] \\\n",
    "                and disks[i - 1][1] > disks[j][1] \\\n",
    "                and disks[i - 1][2] > disks[j][2]:\n",
    "                height = opt[j + 1] + disks[i - 1][2]\n",
    "                if height > maxHeight:\n",
    "                    maxHeight = height\n",
    "                    prevDiskIdx[i] = j + 1\n",
    "        opt[i] = maxHeight\n",
    "        if maxHeight > globalMaxHeight:\n",
    "            globalMaxHeight = maxHeight\n",
    "            globalMaxHeightIdx = i\n",
    "\n",
    "    res = []\n",
    "    idx = globalMaxHeightIdx\n",
    "    while prevDiskIdx[idx] != None:\n",
    "        res.append(idx - 1)\n",
    "        idx = prevDiskIdx[idx]\n",
    "    if idx != 0:\n",
    "        res.append(idx - 1)\n",
    "    return [disks[res[i]] for i in reversed(range(len(res)))]"
   ]
  },
  {
   "cell_type": "code",
   "execution_count": null,
   "metadata": {},
   "outputs": [],
   "source": [
    "def diskStacking(disks):\n",
    "    # Write your code here.\n",
    "    disks.sort(key=lambda x: x[1])\n",
    "    globalMaxHeight = 0\n",
    "    prevDiskIdx = [None for _ in disks]\n",
    "    opt = [disk[2] for disk in disks]\n",
    "    for i in range(len(opt)):\n",
    "        for j in range(i):\n",
    "            if isStackable(disks, i, j):\n",
    "                height = opt[j] + disks[i][2]\n",
    "                if height > opt[i]:\n",
    "                    opt[i] = height\n",
    "                    prevDiskIdx[i] = j\n",
    "        if opt[i] > globalMaxHeight:\n",
    "            globalMaxHeight = opt[i]\n",
    "            globalMaxHeightIdx = i\n",
    "\n",
    "    res = []\n",
    "    idx = globalMaxHeightIdx\n",
    "    while idx is not None:\n",
    "        res.append(idx)\n",
    "        idx = prevDiskIdx[idx]\n",
    "    return [disks[res[i]] for i in reversed(range(len(res)))]\n",
    "    \n",
    "def isStackable(disks, lower, upper):\n",
    "    return disks[lower][0] > disks[upper][0] \\\n",
    "        and disks[lower][1] > disks[upper][1] \\\n",
    "        and disks[lower][2] > disks[upper][2]"
   ]
  },
  {
   "source": [
    "## Expert Solution"
   ],
   "cell_type": "markdown",
   "metadata": {}
  },
  {
   "cell_type": "code",
   "execution_count": null,
   "metadata": {},
   "outputs": [],
   "source": [
    "# O(n^2) time | O(n) space\n",
    "def diskStacking(disks):\n",
    "    disks.sort(key=lambda disk:disk[2])\n",
    "    heights = [disk[2] for disk in disks]\n",
    "    sequences = [None for disk in disks]\n",
    "    maxHeightIdx = 0\n",
    "    for i in range(1, len(disks)):\n",
    "        currentDisk = disks[i]\n",
    "        for j in range(0, i):\n",
    "            otherDisk = disks[j]\n",
    "            if areValidDimensions(otherDisk, currentDisk):\n",
    "                if heights[i] <= currentDisk[2] + heights[j]:\n",
    "                    heights[i] = currentDisk[2] + heights[j]\n",
    "                    sequences[i] = j\n",
    "        if heights[i] >= heights[maxHeightIdx]:\n",
    "            maxHeightIdx = i\n",
    "    return buildSequence(disks, sequences, maxHeightIdx)\n",
    "\n",
    "def areValidDimensions(o, c):\n",
    "    return o[0] < c[0] and o[1] < c[1] and o[2] < c[2]\n",
    "\n",
    "def buildSequence(array, sequences, currentIdx):\n",
    "    sequence = []\n",
    "    while currentIdx is not None:\n",
    "        sequence.append(array[currentIdx])\n",
    "        currentIdx = sequences[currentIdx]\n",
    "    return list(reversed(sequence))"
   ]
  },
  {
   "cell_type": "code",
   "execution_count": null,
   "metadata": {},
   "outputs": [],
   "source": []
  },
  {
   "source": [
    "## Thoughts\n",
    "- the difference between my solution 1 and 2 is the way considering the edge case that solution 1 set null input as an edge case and store the optimal value of it at `opt[0]` as 0.\n",
    "\n",
    "- why need a first sort:\n",
    "    - if we don't sort it, the inital order is abitrarily. in an extreme situation, the largest disk which is in the optimal solution may at index 0. our solution will not get an correct answer.\n",
    "    - if we sort it first, we at least make sure the correct result could come from the sorted array of input."
   ],
   "cell_type": "markdown",
   "metadata": {}
  },
  {
   "cell_type": "code",
   "execution_count": null,
   "metadata": {},
   "outputs": [],
   "source": []
  },
  {
   "cell_type": "code",
   "execution_count": null,
   "metadata": {},
   "outputs": [],
   "source": []
  },
  {
   "cell_type": "code",
   "execution_count": null,
   "metadata": {},
   "outputs": [],
   "source": []
  },
  {
   "cell_type": "code",
   "execution_count": null,
   "metadata": {},
   "outputs": [],
   "source": []
  },
  {
   "cell_type": "code",
   "execution_count": null,
   "metadata": {},
   "outputs": [],
   "source": []
  },
  {
   "cell_type": "code",
   "execution_count": null,
   "metadata": {},
   "outputs": [],
   "source": []
  },
  {
   "cell_type": "code",
   "execution_count": null,
   "metadata": {},
   "outputs": [],
   "source": []
  },
  {
   "cell_type": "code",
   "execution_count": null,
   "metadata": {},
   "outputs": [],
   "source": []
  },
  {
   "cell_type": "code",
   "execution_count": null,
   "metadata": {},
   "outputs": [],
   "source": []
  },
  {
   "cell_type": "code",
   "execution_count": null,
   "metadata": {},
   "outputs": [],
   "source": []
  },
  {
   "cell_type": "code",
   "execution_count": null,
   "metadata": {},
   "outputs": [],
   "source": []
  },
  {
   "cell_type": "code",
   "execution_count": null,
   "metadata": {},
   "outputs": [],
   "source": []
  }
 ]
}