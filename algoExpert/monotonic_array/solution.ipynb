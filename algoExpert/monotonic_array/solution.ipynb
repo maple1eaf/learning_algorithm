{
 "metadata": {
  "language_info": {
   "codemirror_mode": {
    "name": "ipython",
    "version": 3
   },
   "file_extension": ".py",
   "mimetype": "text/x-python",
   "name": "python",
   "nbconvert_exporter": "python",
   "pygments_lexer": "ipython3",
   "version": 3
  },
  "orig_nbformat": 2
 },
 "nbformat": 4,
 "nbformat_minor": 2,
 "cells": [
  {
   "source": [
    "# Monotonic Array\n",
    "[link](https://www.algoexpert.io/questions/Monotonic%20Array)"
   ],
   "cell_type": "markdown",
   "metadata": {}
  },
  {
   "source": [
    "## My Solution"
   ],
   "cell_type": "markdown",
   "metadata": {}
  },
  {
   "cell_type": "code",
   "execution_count": null,
   "metadata": {},
   "outputs": [],
   "source": [
    "def isMonotonic(array):\n",
    "    # Write your code here.\n",
    "    if len(array) <= 1:\n",
    "\t\treturn True\n",
    "\tnotDecrease = None\n",
    "\tfor i in range(len(array) - 1):\n",
    "\t\tif notDecrease == None:\n",
    "\t\t\tif array[i] == array[i+1]:\n",
    "\t\t\t\tcontinue\n",
    "\t\t\telse:\n",
    "\t\t\t\tnotDecrease = True if array[i+1] > array[i] else False\n",
    "\t\telse:\n",
    "\t\t\tif array[i] == array[i+1]:\n",
    "\t\t\t\tcontinue\n",
    "\t\t\tif not ((array[i] < array[i+1]) ^ notDecrease):\n",
    "\t\t\t\tcontinue\n",
    "\t\t\telse:\n",
    "\t\t\t\treturn False\n",
    "\treturn True"
   ]
  },
  {
   "cell_type": "code",
   "execution_count": null,
   "metadata": {},
   "outputs": [],
   "source": [
    "def isMonotonic(array):\n",
    "    # Write your code here.\n",
    "    up = True # not-decreasing\n",
    "    down = True # not-increasing\n",
    "    for i in range(len(array) - 1):\n",
    "        if array[i] < array[i+1]:\n",
    "            down = False\n",
    "        elif array[i] > array[i+1]:\n",
    "            up = False\n",
    "        else:\n",
    "            continue\n",
    "        \n",
    "        if up is False and down is False:\n",
    "            return False\n",
    "    return True"
   ]
  },
  {
   "source": [
    "## Expert Solution"
   ],
   "cell_type": "markdown",
   "metadata": {}
  },
  {
   "cell_type": "code",
   "execution_count": null,
   "metadata": {},
   "outputs": [],
   "source": [
    "def isMonotonic(array):\n",
    "    if len(array) <= 2:\n",
    "        return True\n",
    "    \n",
    "    direction = array[1] - array[0]\n",
    "    for i in range(2, len(array)):\n",
    "        if direction == 0:\n",
    "            direction = array[i] - array[i - 1]\n",
    "            continue\n",
    "        if breakDirection(direction, array[i - 1], array[i]):\n",
    "            return False\n",
    "        \n",
    "    return True\n",
    "\n",
    "def breakDirection(direction, previousInt, currentInt):\n",
    "    difference = currentInt - previousInt\n",
    "    if direction > 0:\n",
    "        return difference < 0\n",
    "    return direction > 0"
   ]
  },
  {
   "cell_type": "code",
   "execution_count": null,
   "metadata": {},
   "outputs": [],
   "source": [
    "def isMonotonic(array):\n",
    "    isNonDecreasing = True\n",
    "    isNonIncreasing = True\n",
    "    for i in range(1, len(array)):\n",
    "        if array[i] < array[i - 1]:\n",
    "            isNonDecreasing = False\n",
    "        if array[i] > array[i - 1]:\n",
    "            isNonIncreasing = False\n",
    "            \n",
    "    return isNonDecreasing or isNonIncreasing"
   ]
  },
  {
   "source": [
    "## Thoughts\n",
    "### expert solution 2\n",
    "at each itteration, check both non-decreasing and non-increasing at the same time.\n",
    "\n",
    "this approach is more elegent and easy to think through. more importantly, it reduces the chance of thinking and writing an error."
   ],
   "cell_type": "markdown",
   "metadata": {}
  },
  {
   "cell_type": "code",
   "execution_count": null,
   "metadata": {},
   "outputs": [],
   "source": []
  },
  {
   "cell_type": "code",
   "execution_count": null,
   "metadata": {},
   "outputs": [],
   "source": []
  },
  {
   "cell_type": "code",
   "execution_count": null,
   "metadata": {},
   "outputs": [],
   "source": []
  },
  {
   "cell_type": "code",
   "execution_count": null,
   "metadata": {},
   "outputs": [],
   "source": []
  },
  {
   "cell_type": "code",
   "execution_count": null,
   "metadata": {},
   "outputs": [],
   "source": []
  },
  {
   "cell_type": "code",
   "execution_count": null,
   "metadata": {},
   "outputs": [],
   "source": []
  },
  {
   "cell_type": "code",
   "execution_count": null,
   "metadata": {},
   "outputs": [],
   "source": []
  },
  {
   "cell_type": "code",
   "execution_count": null,
   "metadata": {},
   "outputs": [],
   "source": []
  },
  {
   "cell_type": "code",
   "execution_count": null,
   "metadata": {},
   "outputs": [],
   "source": []
  },
  {
   "cell_type": "code",
   "execution_count": null,
   "metadata": {},
   "outputs": [],
   "source": []
  },
  {
   "cell_type": "code",
   "execution_count": null,
   "metadata": {},
   "outputs": [],
   "source": []
  },
  {
   "cell_type": "code",
   "execution_count": null,
   "metadata": {},
   "outputs": [],
   "source": []
  }
 ]
}