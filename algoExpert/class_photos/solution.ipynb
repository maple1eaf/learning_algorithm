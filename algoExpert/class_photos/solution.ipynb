{
 "metadata": {
  "language_info": {
   "codemirror_mode": {
    "name": "ipython",
    "version": 3
   },
   "file_extension": ".py",
   "mimetype": "text/x-python",
   "name": "python",
   "nbconvert_exporter": "python",
   "pygments_lexer": "ipython3",
   "version": 3
  },
  "orig_nbformat": 2
 },
 "nbformat": 4,
 "nbformat_minor": 2,
 "cells": [
  {
   "source": [
    "# Class Photos\n",
    "[link](https://www.algoexpert.io/questions/Class%20Photos)"
   ],
   "cell_type": "markdown",
   "metadata": {}
  },
  {
   "source": [
    "## My Solution"
   ],
   "cell_type": "markdown",
   "metadata": {}
  },
  {
   "cell_type": "code",
   "execution_count": null,
   "metadata": {},
   "outputs": [],
   "source": [
    "# O(nlog(n)) time | O(1) space\n",
    "def classPhotos(redShirtHeights, blueShirtHeights):\n",
    "    # Write your code here.\n",
    "    redShirtHeights.sort()\n",
    "    blueShirtHeights.sort()\n",
    "    redHigherThanBlue = None\n",
    "    for i in range(len(redShirtHeights)):\n",
    "        diff = redShirtHeights[i] - blueShirtHeights[i]\n",
    "        if diff == 0:\n",
    "            return False\n",
    "        elif diff > 0:\n",
    "            if redHigherThanBlue is not None and redHigherThanBlue == False:\n",
    "                return False\n",
    "            redHigherThanBlue = True\n",
    "        elif diff < 0:\n",
    "            if redHigherThanBlue is not None and redHigherThanBlue == True:\n",
    "                return False\n",
    "            redHigherThanBlue = False\n",
    "    return True"
   ]
  },
  {
   "source": [
    "## Expert Solution"
   ],
   "cell_type": "markdown",
   "metadata": {}
  },
  {
   "cell_type": "code",
   "execution_count": null,
   "metadata": {},
   "outputs": [],
   "source": [
    "# O(nlog(n)) time | O(1) space - where n is the number of students\r\n",
    "def classPhotos(redShirtHeights, blueShirtHeights):\r\n",
    "    redShirtHeights.sort(reverse=True)\r\n",
    "    blueShirtHeights.sort(reverse=True)\r\n",
    "\r\n",
    "    shirtColorInFirstRow = \"RED\" if redShirtHeights[0] < blueShirtHeights[0] else \"BLUE\"\r\n",
    "    for idx in range(len(redShirtHeights)):\r\n",
    "        redShirtHeight = redShirtHeights[idx]\r\n",
    "        blueShirtHeight = blueShirtHeights[idx]\r\n",
    "\r\n",
    "        if shirtColorInFirstRow == \"RED\":\r\n",
    "            if redShirtHeight >= blueShirtHeight:\r\n",
    "                return False\r\n",
    "        else:\r\n",
    "            if blueShirtHeight >= redShirtHeight:\r\n",
    "                return False\r\n",
    "        \r\n",
    "    return True"
   ]
  },
  {
   "source": [
    "## Thoughts"
   ],
   "cell_type": "markdown",
   "metadata": {}
  },
  {
   "cell_type": "code",
   "execution_count": null,
   "metadata": {},
   "outputs": [],
   "source": []
  },
  {
   "cell_type": "code",
   "execution_count": null,
   "metadata": {},
   "outputs": [],
   "source": []
  },
  {
   "cell_type": "code",
   "execution_count": null,
   "metadata": {},
   "outputs": [],
   "source": []
  },
  {
   "cell_type": "code",
   "execution_count": null,
   "metadata": {},
   "outputs": [],
   "source": []
  },
  {
   "cell_type": "code",
   "execution_count": null,
   "metadata": {},
   "outputs": [],
   "source": []
  },
  {
   "cell_type": "code",
   "execution_count": null,
   "metadata": {},
   "outputs": [],
   "source": []
  },
  {
   "cell_type": "code",
   "execution_count": null,
   "metadata": {},
   "outputs": [],
   "source": []
  },
  {
   "cell_type": "code",
   "execution_count": null,
   "metadata": {},
   "outputs": [],
   "source": []
  },
  {
   "cell_type": "code",
   "execution_count": null,
   "metadata": {},
   "outputs": [],
   "source": []
  },
  {
   "cell_type": "code",
   "execution_count": null,
   "metadata": {},
   "outputs": [],
   "source": []
  },
  {
   "cell_type": "code",
   "execution_count": null,
   "metadata": {},
   "outputs": [],
   "source": []
  },
  {
   "cell_type": "code",
   "execution_count": null,
   "metadata": {},
   "outputs": [],
   "source": []
  }
 ]
}