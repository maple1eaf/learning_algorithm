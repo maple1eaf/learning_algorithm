{
 "metadata": {
  "language_info": {
   "codemirror_mode": {
    "name": "ipython",
    "version": 3
   },
   "file_extension": ".py",
   "mimetype": "text/x-python",
   "name": "python",
   "nbconvert_exporter": "python",
   "pygments_lexer": "ipython3",
   "version": "3.6.10-final"
  },
  "orig_nbformat": 2,
  "kernelspec": {
   "name": "python3",
   "display_name": "Python 3",
   "language": "python"
  }
 },
 "nbformat": 4,
 "nbformat_minor": 2,
 "cells": [
  {
   "source": [
    "# Four Number Sum\n",
    "[link](https://www.algoexpert.io/questions/Four%20Number%20Sum)"
   ],
   "cell_type": "markdown",
   "metadata": {}
  },
  {
   "source": [
    "## My Solution"
   ],
   "cell_type": "markdown",
   "metadata": {}
  },
  {
   "cell_type": "code",
   "execution_count": null,
   "metadata": {},
   "outputs": [],
   "source": [
    "def fourNumberSum(array, targetSum):\n",
    "    # Write your code here.\n",
    "    array.sort()\n",
    "    res = []\n",
    "    for i in range(len(array) - 3):\n",
    "        for j in range(i + 1, len(array) - 2):\n",
    "            oneNum = array[i]\n",
    "            twoNum = array[j]\n",
    "            target = targetSum - oneNum - twoNum\n",
    "            two = twoNumberSum(array, j + 1, target)\n",
    "            for twoNums in two:\n",
    "                res.append([oneNum, twoNum, twoNums[0], twoNums[1]])\n",
    "    return res\n",
    "        \n",
    "def twoNumberSum(array, left, target):\n",
    "    right = len(array) - 1\n",
    "    res = []\n",
    "    while left < right:\n",
    "        twoSum = array[left] + array[right]\n",
    "        if twoSum == target:\n",
    "            res.append([array[left], array[right]])\n",
    "            left += 1\n",
    "            right -= 1\n",
    "        elif twoSum > target:\n",
    "            right -= 1\n",
    "        else:\n",
    "            left += 1\n",
    "    return res"
   ]
  },
  {
   "cell_type": "code",
   "execution_count": null,
   "metadata": {},
   "outputs": [],
   "source": [
    "def fourNumberSum(array, targetSum):\n",
    "    # Write your code here.\n",
    "    twoSums = {}\n",
    "    res = []\n",
    "    for i in range(1, len(array) - 1):\n",
    "        for j in range(i + 1, len(array)):\n",
    "            third = array[i]\n",
    "            fourth = array[j]\n",
    "            target = targetSum - third - fourth\n",
    "            if target in twoSums:\n",
    "                for two in twoSums[target]:\n",
    "                    res.append([two[0], two[1], third, fourth])\n",
    "        for j in range(i):\n",
    "            first = array[j]\n",
    "            second = array[i]\n",
    "            twoSum = first + second\n",
    "            if not twoSum in twoSums:\n",
    "                twoSums[twoSum] = [[first, second]]\n",
    "            else:\n",
    "                twoSums[twoSum].append([first, second])\n",
    "    return res"
   ]
  },
  {
   "source": [
    "## Expert Solution"
   ],
   "cell_type": "markdown",
   "metadata": {}
  },
  {
   "cell_type": "code",
   "execution_count": 1,
   "metadata": {},
   "outputs": [],
   "source": [
    "# Average: O(n^2) time | O(n^2) space\n",
    "# Worst: O(n^3) time | O(n^2) space\n",
    "def fourNumberSum(array, targetSum):\n",
    "    allPairSums = {}\n",
    "    quadruplets = []\n",
    "    for i in range(1, len(array) - 1):\n",
    "        for j in range(i + 1, len(array)):\n",
    "            currentSum = array[i] + array[j]\n",
    "            difference = targetSum - currentSum\n",
    "            if difference in allPairSums:\n",
    "                for pair in allPairSums[difference]:\n",
    "                    quadruplets.append(pair + [array[i], array[j]])\n",
    "        for k in range(0, i):\n",
    "            currentSum = array[i] + array[k]\n",
    "            if currentSum not in allPairSums:\n",
    "                allPairSums[currentSum] = [[array[k], array[i]]]\n",
    "            else:\n",
    "                allPairSums[currentSum].append([array[k], array[i]])\n",
    "    return quadruplets"
   ]
  },
  {
   "cell_type": "code",
   "execution_count": null,
   "metadata": {},
   "outputs": [],
   "source": []
  },
  {
   "source": [
    "## Thoughts\n",
    "### my solution 1\n",
    "sort the array first. then use two for-loop to iterate through all possible combinations of the first and the second number. then to find the third and the fourth number using double pointer method.\n",
    "\n",
    "O(n^3) time | O(n^2) space:\n",
    "- sort needs O(nlogn) time. double pointer method needs O(n) time, outside is two for-loop. totally O(n^3) time.\n",
    "- except the result, need O(1) space. the result need O(n^2) space\n",
    "\n",
    "### expert solution\n",
    "#### some further thoughts about this kind of question\n",
    "a general method\n",
    "- each outer for-loop iteration could be seen as setting a \"|\" to divide the array. for example, for array `[7, 7, 4, -1, 1, 2]`, set a \"|\" could divide the array into two secion: `[7, 7, 4]` and `[-1, 1, 2]`.\n",
    "- the first section can be used to construct a hash table of \"pervious\" numbers' sums.\n",
    "- pick \"post\" numbers from the second section (in particular, the first number must be the first number in the second section, in this case is  \"-1\"), added up with the key from the first section to hit the target.\n",
    "- this could solve the case that \"is there any possible `[*, *, -1, *]` be in the final answer?\"\n",
    "\n",
    "method example\n",
    "- for example, if the question is like \"six number sum\", we could set a hash table of \"previous\" three numbers' sums, and pick three \"post\" numbers from the second section. in a nutshell, we can say this as \"3+3\". this could minimize the time complexity.\n",
    "- for example, if the question is like \"six number sum\", we could use \"3+2\" or \"2+3\"."
   ],
   "cell_type": "markdown",
   "metadata": {}
  },
  {
   "cell_type": "code",
   "execution_count": null,
   "metadata": {},
   "outputs": [],
   "source": []
  },
  {
   "cell_type": "code",
   "execution_count": null,
   "metadata": {},
   "outputs": [],
   "source": []
  },
  {
   "cell_type": "code",
   "execution_count": null,
   "metadata": {},
   "outputs": [],
   "source": []
  },
  {
   "cell_type": "code",
   "execution_count": null,
   "metadata": {},
   "outputs": [],
   "source": []
  },
  {
   "cell_type": "code",
   "execution_count": null,
   "metadata": {},
   "outputs": [],
   "source": []
  },
  {
   "cell_type": "code",
   "execution_count": null,
   "metadata": {},
   "outputs": [],
   "source": []
  },
  {
   "cell_type": "code",
   "execution_count": null,
   "metadata": {},
   "outputs": [],
   "source": []
  },
  {
   "cell_type": "code",
   "execution_count": null,
   "metadata": {},
   "outputs": [],
   "source": []
  },
  {
   "cell_type": "code",
   "execution_count": null,
   "metadata": {},
   "outputs": [],
   "source": []
  },
  {
   "cell_type": "code",
   "execution_count": null,
   "metadata": {},
   "outputs": [],
   "source": []
  },
  {
   "cell_type": "code",
   "execution_count": null,
   "metadata": {},
   "outputs": [],
   "source": []
  },
  {
   "cell_type": "code",
   "execution_count": null,
   "metadata": {},
   "outputs": [],
   "source": []
  }
 ]
}