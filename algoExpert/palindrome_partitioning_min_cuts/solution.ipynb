{
 "metadata": {
  "language_info": {
   "codemirror_mode": {
    "name": "ipython",
    "version": 3
   },
   "file_extension": ".py",
   "mimetype": "text/x-python",
   "name": "python",
   "nbconvert_exporter": "python",
   "pygments_lexer": "ipython3",
   "version": 3
  },
  "orig_nbformat": 2
 },
 "nbformat": 4,
 "nbformat_minor": 2,
 "cells": [
  {
   "source": [
    "# Palindrome Partitioning Min Cuts\n",
    "[link](https://www.algoexpert.io/questions/Palindrome%20Partitioning%20Min%20Cuts)"
   ],
   "cell_type": "markdown",
   "metadata": {}
  },
  {
   "source": [
    "## My Solution"
   ],
   "cell_type": "markdown",
   "metadata": {}
  },
  {
   "cell_type": "code",
   "execution_count": null,
   "metadata": {},
   "outputs": [],
   "source": [
    "# time O(n^2) | space O(n^2)\n",
    "def palindromePartitioningMinCuts(string):\n",
    "    # Write your code here.\n",
    "    m = getPalindromicityMatrix(string)\n",
    "\topt = [float(\"inf\") for x in string]\n",
    "\tfor i in range(len(string)):\n",
    "\t\tif m[0][i] == True:\n",
    "\t\t\topt[i] = 0\n",
    "\t\t\tcontinue\n",
    "\t\tfor j in reversed(range(i)):\n",
    "\t\t\tdelta = 1 if m[j + 1][i] == True else i - j\n",
    "\t\t\topt[i] = min(opt[i], opt[j] + delta)\n",
    "\t\t\tif opt[i] == 1:\n",
    "\t\t\t\tbreak\n",
    "\treturn opt[-1]\n",
    "\t\t\t\n",
    "\n",
    "def getPalindromicityMatrix(string):\n",
    "\tm = [[False for _ in string] for _ in string]\n",
    "\tfor cur in range(len(string)):\n",
    "\t\tm[cur][cur] = True\n",
    "\t\t\n",
    "\t\tleft, right = cur - 1, cur + 1\n",
    "\t\twhile left >= 0 and right < len(string) and string[left] == string[right]:\n",
    "\t\t\tm[left][right] = True\n",
    "\t\t\tleft -= 1\n",
    "\t\t\tright += 1\n",
    "\t\t\t\n",
    "\t\t# left, right = cur - 1, cur\n",
    "\t\t# while left >= 0 and right < len(string) and string[left] == string[right]:\n",
    "\t\t# \tm[left][right] = True\n",
    "\t\t# \tleft -= 1\n",
    "\t\t# \tright += 1\n",
    "\t\t\n",
    "\t\tleft, right = cur, cur + 1\n",
    "\t\twhile left >= 0 and right < len(string) and string[left] == string[right]:\n",
    "\t\t\tm[left][right] = True\n",
    "\t\t\tleft -= 1\n",
    "\t\t\tright += 1\n",
    "\treturn m\n"
   ]
  },
  {
   "source": [
    "## Expert Solution"
   ],
   "cell_type": "markdown",
   "metadata": {}
  },
  {
   "cell_type": "code",
   "execution_count": null,
   "metadata": {},
   "outputs": [],
   "source": [
    "# O(n^3) time, O(n^2) space\n",
    "def palindromePartitioningMinCuts(string):\n",
    "    palindromes = [[False for i in string] for j in string]\n",
    "    for i in range(len(string)):\n",
    "        for j in range(i, len(string)):\n",
    "            palindromes[i][j] = isPalindrome(string[i : j + 1])\n",
    "    cuts = [float(\"inf\") for i in string]\n",
    "    for i in range(len(string)):\n",
    "        if palindromes[0][i]:\n",
    "            cuts[i] = 0\n",
    "        else:\n",
    "            cuts[i] = cuts[i - 1] + 1\n",
    "            for j in range(1, i):\n",
    "                if palindromes[j][i] and cuts[j - 1] + 1 < cuts[i]:\n",
    "                    cuts[i] = cuts[j - 1] + 1\n",
    "    return cuts[-1]\n",
    "\n",
    "def isPalindrome(string):\n",
    "    leftIdx = 0\n",
    "    rightIdx = len(string) - 1\n",
    "    while leftIdx < rightIdx:\n",
    "        if string[leftIdx] != string[rightIdx]:\n",
    "            return False\n",
    "        leftIdx += 1\n",
    "        rightIdx -= 1\n",
    "    return True"
   ]
  },
  {
   "cell_type": "code",
   "execution_count": null,
   "metadata": {},
   "outputs": [],
   "source": [
    "# O(n^2) time, O(n^2) space\n",
    "def palindromePartitioningMinCuts(string):\n",
    "    palindromes = [[False for i in string] for j in string]\n",
    "\tfor i in range(len(string)):\n",
    "\t\tpalindromes[i][i] = True\n",
    "\tfor length in range(2, len(string) + 1):\n",
    "\t\tfor i in range(0, len(string) - length + 1):\n",
    "\t\t\tj = i + length - 1\n",
    "\t\t\tif length == 2:\n",
    "\t\t\t\tpalindromes[i][j] = string[i] == string[j]\n",
    "\t\t\telse:\n",
    "\t\t\t\tpalindromes[i][j] = string[i] == string[j] and palindromes[i + 1][j - 1]\n",
    "\tcuts = [float(\"inf\") for i in string]\n",
    "\tfor i in range(len(string)):\n",
    "\t\tif palindromes[0][i]:\n",
    "\t\t\tcuts[i] = 0\n",
    "\t\telse:\n",
    "\t\t\tcuts[i] = cuts[i - 1] + 1\n",
    "\t\t\tfor j in range(1, i):\n",
    "\t\t\t\tif palindromes[j][i] and cuts[j - 1] + 1 < cuts[i]:\n",
    "\t\t\t\t\tcuts[i] = cuts[j - 1] + 1\n",
    "\treturn cuts[-1]"
   ]
  },
  {
   "source": [
    "## Thoughts"
   ],
   "cell_type": "markdown",
   "metadata": {}
  },
  {
   "cell_type": "code",
   "execution_count": null,
   "metadata": {},
   "outputs": [],
   "source": []
  },
  {
   "cell_type": "code",
   "execution_count": null,
   "metadata": {},
   "outputs": [],
   "source": []
  },
  {
   "cell_type": "code",
   "execution_count": null,
   "metadata": {},
   "outputs": [],
   "source": []
  },
  {
   "cell_type": "code",
   "execution_count": null,
   "metadata": {},
   "outputs": [],
   "source": []
  },
  {
   "cell_type": "code",
   "execution_count": null,
   "metadata": {},
   "outputs": [],
   "source": []
  },
  {
   "cell_type": "code",
   "execution_count": null,
   "metadata": {},
   "outputs": [],
   "source": []
  },
  {
   "cell_type": "code",
   "execution_count": null,
   "metadata": {},
   "outputs": [],
   "source": []
  },
  {
   "cell_type": "code",
   "execution_count": null,
   "metadata": {},
   "outputs": [],
   "source": []
  },
  {
   "cell_type": "code",
   "execution_count": null,
   "metadata": {},
   "outputs": [],
   "source": []
  },
  {
   "cell_type": "code",
   "execution_count": null,
   "metadata": {},
   "outputs": [],
   "source": []
  },
  {
   "cell_type": "code",
   "execution_count": null,
   "metadata": {},
   "outputs": [],
   "source": []
  },
  {
   "cell_type": "code",
   "execution_count": null,
   "metadata": {},
   "outputs": [],
   "source": []
  }
 ]
}