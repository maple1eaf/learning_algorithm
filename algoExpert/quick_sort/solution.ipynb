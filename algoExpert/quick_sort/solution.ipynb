{
 "metadata": {
  "language_info": {
   "codemirror_mode": {
    "name": "ipython",
    "version": 3
   },
   "file_extension": ".py",
   "mimetype": "text/x-python",
   "name": "python",
   "nbconvert_exporter": "python",
   "pygments_lexer": "ipython3",
   "version": 3
  },
  "orig_nbformat": 2
 },
 "nbformat": 4,
 "nbformat_minor": 2,
 "cells": [
  {
   "source": [
    "# Quick Sort\n",
    "[link](https://www.algoexpert.io/questions/Quick%20Sort)"
   ],
   "cell_type": "markdown",
   "metadata": {}
  },
  {
   "source": [
    "## My Solution"
   ],
   "cell_type": "markdown",
   "metadata": {}
  },
  {
   "cell_type": "code",
   "execution_count": null,
   "metadata": {},
   "outputs": [],
   "source": [
    "def quickSort(array):\n",
    "    # Write your code here.\n",
    "    # Worst: O(n^2) time | O(n) space\n",
    "    quickSortHelper(array, 0, len(array) - 1)\n",
    "\treturn array\n",
    "\n",
    "def quickSortHelper(array, start, end):\n",
    "\tif start >= end:\n",
    "\t\treturn\n",
    "\tpivot = end\n",
    "\ti = start\n",
    "\tfor j in range(start, end):\n",
    "\t\tif array[j] < array[pivot]:\n",
    "\t\t\tarray[i], array[j] = array[j], array[i]\n",
    "\t\t\ti += 1\n",
    "\tarray[i], array[pivot] = array[pivot], array[i]\n",
    "\t\n",
    "\tquickSortHelper(array, start, i - 1)\n",
    "\tquickSortHelper(array, i + 1, end)"
   ]
  },
  {
   "cell_type": "code",
   "execution_count": null,
   "metadata": {},
   "outputs": [],
   "source": [
    "def quickSort(array):\n",
    "    # Write your code here.\n",
    "    quickSortHelper(array, 0, len(array) - 1)\n",
    "    return array\n",
    "\n",
    "def quickSortHelper(array, start, end):\n",
    "    if start >= end:\n",
    "        return\n",
    "    pivot = end\n",
    "    i = start\n",
    "    for j in range(start, end):\n",
    "        if array[j] < array[pivot]:\n",
    "            array[i], array[j] = array[j], array[i]\n",
    "            i += 1\n",
    "    array[i], array[pivot] = array[pivot], array[i]\n",
    "    \n",
    "    if i - 1 - start <= end - (i + 1):\n",
    "        quickSortHelper(array, start, i - 1)\n",
    "        quickSortHelper(array, i + 1, end)\n",
    "    else:\n",
    "        quickSortHelper(array, i + 1, end)\n",
    "        quickSortHelper(array, start, i - 1)"
   ]
  },
  {
   "source": [
    "## Expert Solution"
   ],
   "cell_type": "markdown",
   "metadata": {}
  },
  {
   "cell_type": "code",
   "execution_count": null,
   "metadata": {},
   "outputs": [],
   "source": [
    "# Best: O(nlog(n)) time | O(log(n)) space\n",
    "# Average: O(nlog(n)) time | O(log(n)) space\n",
    "# Worst: O(n^2) time | O(log(n)) space\n",
    "def quickSort(array):\n",
    "    quickSortHelper(array, 0 , len(array) - 1)\n",
    "\treturn array\n",
    "\n",
    "\n",
    "def quickSortHelper(array, startIdx, endIdx):\n",
    "\tif startIdx >= endIdx:\n",
    "\t\treturn\n",
    "\tpivotIdx = startIdx\n",
    "\tleftIdx = startIdx + 1\n",
    "\trightIdx = endIdx\n",
    "\twhile rightIdx >= leftIdx:\n",
    "\t\tif array[leftIdx] > array[pivotIdx] and array[rightIdx] < array[pivotIdx]:\n",
    "\t\t\tswap(leftIdx, rightIdx, array)\n",
    "\t\tif array[leftIdx] <= array[pivotIdx]:\n",
    "\t\t\tleftIdx += 1\n",
    "\t\tif array[rightIdx] >= array[pivotIdx]:\n",
    "\t\t\trightIdx -= 1\n",
    "\tswap(pivotIdx, rightIdx, array)\n",
    "\tleftSubarrayIsSmaller = rightIdx - 1 - startIdx < endIdx - (rightIdx + 1)\n",
    "\tif leftSubarrayIsSmaller:\n",
    "\t\tquickSortHelper(array, startIdx, rightIdx - 1)\n",
    "\t\tquickSortHelper(array, rightIdx + 1, endIdx)\n",
    "\telse:\n",
    "\t\tquickSortHelper(array, rightIdx + 1, endIdx)\n",
    "\t\tquickSortHelper(array, startIdx, rightIdx - 1)\n",
    "\n",
    "\n",
    "def swap(i, j, array):\n",
    "\tarray[i], array[j] = array[j], array[i]"
   ]
  },
  {
   "cell_type": "code",
   "execution_count": null,
   "metadata": {},
   "outputs": [],
   "source": []
  },
  {
   "source": [
    "## Thoughts\n",
    "- [algorithm explaination 1 on youtube](https://www.youtube.com/watch?v=MZaf_9IZCrc)\n",
    "- [algorithm explaination 2 on youtube](https://www.youtube.com/watch?v=uXBnyYuwPe8&t=1s)\n",
    "- mind the partition process difference between expert solution and my solution:\n",
    "    - expert solution: pivot is the first index. two pointers on the left and right\n",
    "    - my solution: pivot is the last index. two pointers from left to right\n",
    "\n",
    "### space complexity\n",
    "\"After partitioning, the partition with the fewest elements is (recursively) sorted first, requiring at most O(log n) space. Then the other partition is sorted using [tail recursion](https://en.wikipedia.org/wiki/Tail_call) or iteration, which doesn't add to the call stack.\" ([widipedia](https://en.wikipedia.org/wiki/Quicksort#Space_complexity))\n",
    "- so the worst case of expert solution use O(log(n)) space\n",
    "- otherwise the worst cas of my solution 1 use O(n) space\n"
   ],
   "cell_type": "markdown",
   "metadata": {}
  },
  {
   "cell_type": "code",
   "execution_count": null,
   "metadata": {},
   "outputs": [],
   "source": []
  },
  {
   "cell_type": "code",
   "execution_count": null,
   "metadata": {},
   "outputs": [],
   "source": []
  },
  {
   "cell_type": "code",
   "execution_count": null,
   "metadata": {},
   "outputs": [],
   "source": []
  },
  {
   "cell_type": "code",
   "execution_count": null,
   "metadata": {},
   "outputs": [],
   "source": []
  },
  {
   "cell_type": "code",
   "execution_count": null,
   "metadata": {},
   "outputs": [],
   "source": []
  },
  {
   "cell_type": "code",
   "execution_count": null,
   "metadata": {},
   "outputs": [],
   "source": []
  },
  {
   "cell_type": "code",
   "execution_count": null,
   "metadata": {},
   "outputs": [],
   "source": []
  },
  {
   "cell_type": "code",
   "execution_count": null,
   "metadata": {},
   "outputs": [],
   "source": []
  },
  {
   "cell_type": "code",
   "execution_count": null,
   "metadata": {},
   "outputs": [],
   "source": []
  },
  {
   "cell_type": "code",
   "execution_count": null,
   "metadata": {},
   "outputs": [],
   "source": []
  },
  {
   "cell_type": "code",
   "execution_count": null,
   "metadata": {},
   "outputs": [],
   "source": []
  },
  {
   "cell_type": "code",
   "execution_count": null,
   "metadata": {},
   "outputs": [],
   "source": []
  }
 ]
}