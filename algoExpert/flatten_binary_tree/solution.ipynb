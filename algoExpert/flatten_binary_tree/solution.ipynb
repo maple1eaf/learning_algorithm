{
 "metadata": {
  "language_info": {
   "codemirror_mode": {
    "name": "ipython",
    "version": 3
   },
   "file_extension": ".py",
   "mimetype": "text/x-python",
   "name": "python",
   "nbconvert_exporter": "python",
   "pygments_lexer": "ipython3",
   "version": 3
  },
  "orig_nbformat": 2
 },
 "nbformat": 4,
 "nbformat_minor": 2,
 "cells": [
  {
   "source": [
    "# Flatten Binary Tree\n",
    "[link](https://www.algoexpert.io/questions/Flatten%20Binary%20Tree)"
   ],
   "cell_type": "markdown",
   "metadata": {}
  },
  {
   "cell_type": "code",
   "execution_count": null,
   "metadata": {},
   "outputs": [],
   "source": [
    "# This is the class of the input root. Do not edit it.\n",
    "class BinaryTree:\n",
    "    def __init__(self, value, left=None, right=None):\n",
    "        self.value = value\n",
    "        self.left = left\n",
    "        self.right = right\n",
    "\n",
    "\n",
    "def flattenBinaryTree(root):\n",
    "    # Write your code here.\n",
    "    pass"
   ]
  },
  {
   "source": [
    "## My Solution"
   ],
   "cell_type": "markdown",
   "metadata": {}
  },
  {
   "cell_type": "code",
   "execution_count": null,
   "metadata": {},
   "outputs": [],
   "source": [
    "# This is the class of the input root. Do not edit it.\n",
    "class BinaryTree:\n",
    "    def __init__(self, value, left=None, right=None):\n",
    "        self.value = value\n",
    "        self.left = left\n",
    "        self.right = right\n",
    "\n",
    "\n",
    "def flattenBinaryTree(root):\n",
    "    # Write your code here.\n",
    "    # O(n) time | O(n) space\n",
    "    arrayOfNodes = []\n",
    "    flattenHelper(root, arrayOfNodes)\n",
    "    for i in range(len(arrayOfNodes) - 1):\n",
    "        arrayOfNodes[i].right = arrayOfNodes[i + 1]\n",
    "        arrayOfNodes[i + 1].left = arrayOfNodes[i]\n",
    "    return arrayOfNodes[0]\n",
    "    \n",
    "    \n",
    "def flattenHelper(node, array):\n",
    "    if node is not None:\n",
    "        flattenHelper(node.left, array)\n",
    "        array.append(node)\n",
    "        flattenHelper(node.right, array)"
   ]
  },
  {
   "cell_type": "code",
   "execution_count": null,
   "metadata": {},
   "outputs": [],
   "source": [
    "# This is the class of the input root. Do not edit it.\n",
    "class BinaryTree:\n",
    "    def __init__(self, value, left=None, right=None):\n",
    "        self.value = value\n",
    "        self.left = left\n",
    "        self.right = right\n",
    "\n",
    "# O(n) time | O(d) space\n",
    "def flattenBinaryTree(root):\n",
    "    # Write your code here.\n",
    "    leftMost, _ = getLeftRightMost(root)\n",
    "    return leftMost\n",
    "\n",
    "def getLeftRightMost(node):\n",
    "    if node.left is None:\n",
    "        leftMost = node\n",
    "    else:\n",
    "        leftMostOfLeftSubtree, rightMostOfLeftSubtree = getLeftRightMost(node.left)\n",
    "        connectNodes(rightMostOfLeftSubtree, node)\n",
    "        leftMost = leftMostOfLeftSubtree\n",
    "        \n",
    "    if node.right is None:\n",
    "        rightMost = node\n",
    "    else:\n",
    "        leftMostOfRightSubtree, rightMostOfRightSubtree = getLeftRightMost(node.right)\n",
    "        connectNodes(node, leftMostOfRightSubtree)\n",
    "        rightMost = rightMostOfRightSubtree\n",
    "    \n",
    "    return leftMost, rightMost\n",
    "\n",
    "def connectNodes(leftNode, rightNode):\n",
    "    leftNode.right = rightNode\n",
    "    rightNode.left = leftNode"
   ]
  },
  {
   "source": [
    "## Expert Solution"
   ],
   "cell_type": "markdown",
   "metadata": {}
  },
  {
   "cell_type": "code",
   "execution_count": null,
   "metadata": {},
   "outputs": [],
   "source": [
    "class BinaryTree:\n",
    "    def __init__(self, value, left=None, right=None):\n",
    "        self.value = value\n",
    "        self.left = left\n",
    "        self.right = right\n",
    "\n",
    "# O(n) time, O(n) space - where n is the number of nodes in the Binary Tree\n",
    "def flattenBinaryTree(root):\n",
    "    inOrderNodes = getNodesInOrder(root, [])\n",
    "    for i in range(0, len(inOrderNodes) - 1):\n",
    "        leftNode = inOrderNodes[i]\n",
    "        rightNode = inOrderNodes[i + 1]\n",
    "        leftNode.right = rightNode\n",
    "        rightNode.left = leftNode\n",
    "    return inOrderNodes[0]\n",
    "\n",
    "def getNodesInOrder(tree, array):\n",
    "    if tree is not None:\n",
    "        getNodesInOrder(tree.left, array)\n",
    "        array.append(tree)\n",
    "        getNodesInOrder(tree.right, array)\n",
    "    return array"
   ]
  },
  {
   "cell_type": "code",
   "execution_count": null,
   "metadata": {},
   "outputs": [],
   "source": [
    "class BinaryTree:\n",
    "    def __init__(self, value, left=None, right=None):\n",
    "        self.value = value\n",
    "        self.left = left\n",
    "        self.right = right\n",
    "\n",
    "# O(n) time, O(d) space - where n is the number of nodes in the Binary Tree \n",
    "# and d is the depth (height) of the Binary Tree\n",
    "def flattenBinaryTree(root):\n",
    "    leftMost, _ = flattenTree(root)\n",
    "\treturn leftMost\n",
    "\n",
    "def flattenTree(node):\n",
    "\tif node.left is None:\n",
    "\t\tleftMost = node\n",
    "\telse:\n",
    "\t\tleftSubtreeLeftMost, leftSubtreeRightMost = flattenTree(node.left)\n",
    "\t\tconnectNodes(leftSubtreeRightMost, node)\n",
    "\t\tleftMost = leftSubtreeLeftMost\n",
    "\t\t\n",
    "\tif node.right is None:\n",
    "\t\trightMost = node\n",
    "\telse:\n",
    "\t\trightSubtreeLeftMost, rightSubtreeRightMost = flattenTree(node.right)\n",
    "\t\tconnectNodes(node, rightSubtreeLeftMost)\n",
    "\t\trightMost = rightSubtreeRightMost\n",
    "\t\t\n",
    "\treturn [leftMost, rightMost]\n",
    "\n",
    "def connectNodes(left, right):\n",
    "\tleft.right = right\n",
    "\tright.left = left"
   ]
  },
  {
   "source": [
    "## Thoughts\n",
    "what the helper function (`getLeftRightMost` in my solution 2 or `flattenTree` in expert solution 2) actually do is find the left most node and right most node of a tree. the \"flatten\"  is done in the process."
   ],
   "cell_type": "markdown",
   "metadata": {}
  },
  {
   "cell_type": "code",
   "execution_count": null,
   "metadata": {},
   "outputs": [],
   "source": []
  },
  {
   "cell_type": "code",
   "execution_count": null,
   "metadata": {},
   "outputs": [],
   "source": []
  },
  {
   "cell_type": "code",
   "execution_count": null,
   "metadata": {},
   "outputs": [],
   "source": []
  },
  {
   "cell_type": "code",
   "execution_count": null,
   "metadata": {},
   "outputs": [],
   "source": []
  },
  {
   "cell_type": "code",
   "execution_count": null,
   "metadata": {},
   "outputs": [],
   "source": []
  },
  {
   "cell_type": "code",
   "execution_count": null,
   "metadata": {},
   "outputs": [],
   "source": []
  },
  {
   "cell_type": "code",
   "execution_count": null,
   "metadata": {},
   "outputs": [],
   "source": []
  },
  {
   "cell_type": "code",
   "execution_count": null,
   "metadata": {},
   "outputs": [],
   "source": []
  },
  {
   "cell_type": "code",
   "execution_count": null,
   "metadata": {},
   "outputs": [],
   "source": []
  },
  {
   "cell_type": "code",
   "execution_count": null,
   "metadata": {},
   "outputs": [],
   "source": []
  },
  {
   "cell_type": "code",
   "execution_count": null,
   "metadata": {},
   "outputs": [],
   "source": []
  },
  {
   "cell_type": "code",
   "execution_count": null,
   "metadata": {},
   "outputs": [],
   "source": []
  }
 ]
}