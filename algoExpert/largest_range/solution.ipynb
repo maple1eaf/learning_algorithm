{
 "metadata": {
  "language_info": {
   "codemirror_mode": {
    "name": "ipython",
    "version": 3
   },
   "file_extension": ".py",
   "mimetype": "text/x-python",
   "name": "python",
   "nbconvert_exporter": "python",
   "pygments_lexer": "ipython3",
   "version": 3
  },
  "orig_nbformat": 2
 },
 "nbformat": 4,
 "nbformat_minor": 2,
 "cells": [
  {
   "source": [
    "# Largest Range\n",
    "[link](https://www.algoexpert.io/questions/Largest%20Range)"
   ],
   "cell_type": "markdown",
   "metadata": {}
  },
  {
   "source": [
    "## My Solution"
   ],
   "cell_type": "markdown",
   "metadata": {}
  },
  {
   "cell_type": "code",
   "execution_count": null,
   "metadata": {},
   "outputs": [],
   "source": [
    "# this solution is not good, the time complexity is O(n^2) in the worst case.\n",
    "# the waste is from find the current minimum value in the rest of the numbers in the hash table\n",
    "def largestRange(array):\n",
    "    # Write your code here.\n",
    "    nums = {x: True for x in array}\n",
    "    res = [array[0], array[0]]\n",
    "    while nums != {}:\n",
    "        minNum = min(nums.keys())\n",
    "        candidate = [minNum, minNum]\n",
    "        num = minNum\n",
    "        while nums.pop(num, False):\n",
    "            num += 1\n",
    "        candidate[1] = num - 1\n",
    "        res = max(res, candidate, key=lambda x: x[1] - x[0])\n",
    "    return res"
   ]
  },
  {
   "cell_type": "code",
   "execution_count": null,
   "metadata": {},
   "outputs": [],
   "source": [
    "def largestRange(array):\n",
    "    # Write your code here.\n",
    "    nums = {x: True for x in array}\n",
    "    res = [array[0], array[0]]\n",
    "    for startNum in nums:\n",
    "        if not nums[startNum]:\n",
    "            continue\n",
    "        nums[startNum] = False\n",
    "        \n",
    "        left = startNum - 1\n",
    "        while left in nums and nums[left]:\n",
    "            nums[left] = False\n",
    "            left -= 1\n",
    "        left += 1\n",
    "        \n",
    "        right = startNum + 1\n",
    "        while right in nums and nums[right]:\n",
    "            nums[right] = False\n",
    "            right += 1\n",
    "        right -= 1\n",
    "        \n",
    "        candidate = [left, right]\n",
    "        res = max(res, candidate, key=lambda x: x[1] - x[0])\n",
    "    return res\n"
   ]
  },
  {
   "source": [
    "## Expert Solution"
   ],
   "cell_type": "markdown",
   "metadata": {}
  },
  {
   "cell_type": "code",
   "execution_count": null,
   "metadata": {},
   "outputs": [],
   "source": [
    "# O(n) time | O(n) space\n",
    "def largestRange(array):\n",
    "    bestRange = []\n",
    "    longestLength = 0\n",
    "    nums = {}\n",
    "    for num in array:\n",
    "        nums[num] = True\n",
    "    for num in array:\n",
    "        if not nums[num]:\n",
    "            continue\n",
    "        nums[num] = False\n",
    "        currentLength = 1\n",
    "        left = num - 1\n",
    "        right = num + 1\n",
    "        while left in nums:\n",
    "            nums[left] = False\n",
    "            currentLength += 1\n",
    "            left -= 1\n",
    "        while right in nums:\n",
    "            nums[right] = False\n",
    "            currentLength += 1\n",
    "            right += 1\n",
    "        if currentLength > longestLength:\n",
    "            longestLength = currentLength\n",
    "            bestRange = [left + 1, right - 1]\n",
    "    return bestRange"
   ]
  },
  {
   "cell_type": "code",
   "execution_count": null,
   "metadata": {},
   "outputs": [],
   "source": []
  },
  {
   "source": [
    "## Thoughts\n",
    "- a simple solution could be sort the array first. this method will take O(nlogn) time | O(1) space.\n",
    "- tips: use `True` and `False` to tag if one key has already be checked."
   ],
   "cell_type": "markdown",
   "metadata": {}
  },
  {
   "cell_type": "code",
   "execution_count": null,
   "metadata": {},
   "outputs": [],
   "source": []
  },
  {
   "cell_type": "code",
   "execution_count": null,
   "metadata": {},
   "outputs": [],
   "source": []
  },
  {
   "cell_type": "code",
   "execution_count": null,
   "metadata": {},
   "outputs": [],
   "source": []
  },
  {
   "cell_type": "code",
   "execution_count": null,
   "metadata": {},
   "outputs": [],
   "source": []
  },
  {
   "cell_type": "code",
   "execution_count": null,
   "metadata": {},
   "outputs": [],
   "source": []
  },
  {
   "cell_type": "code",
   "execution_count": null,
   "metadata": {},
   "outputs": [],
   "source": []
  },
  {
   "cell_type": "code",
   "execution_count": null,
   "metadata": {},
   "outputs": [],
   "source": []
  },
  {
   "cell_type": "code",
   "execution_count": null,
   "metadata": {},
   "outputs": [],
   "source": []
  },
  {
   "cell_type": "code",
   "execution_count": null,
   "metadata": {},
   "outputs": [],
   "source": []
  },
  {
   "cell_type": "code",
   "execution_count": null,
   "metadata": {},
   "outputs": [],
   "source": []
  },
  {
   "cell_type": "code",
   "execution_count": null,
   "metadata": {},
   "outputs": [],
   "source": []
  },
  {
   "cell_type": "code",
   "execution_count": null,
   "metadata": {},
   "outputs": [],
   "source": []
  }
 ]
}