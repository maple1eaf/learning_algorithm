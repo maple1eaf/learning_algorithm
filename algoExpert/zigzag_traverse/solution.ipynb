{
 "metadata": {
  "language_info": {
   "codemirror_mode": {
    "name": "ipython",
    "version": 3
   },
   "file_extension": ".py",
   "mimetype": "text/x-python",
   "name": "python",
   "nbconvert_exporter": "python",
   "pygments_lexer": "ipython3",
   "version": 3
  },
  "orig_nbformat": 2
 },
 "nbformat": 4,
 "nbformat_minor": 2,
 "cells": [
  {
   "source": [
    "# Zigzag Traverse\n",
    "[link](https://www.algoexpert.io/questions/Zigzag%20Traverse)"
   ],
   "cell_type": "markdown",
   "metadata": {}
  },
  {
   "source": [
    "## My Solution"
   ],
   "cell_type": "markdown",
   "metadata": {}
  },
  {
   "cell_type": "code",
   "execution_count": null,
   "metadata": {},
   "outputs": [],
   "source": [
    "def zigzagTraverse(array):\n",
    "    # Write your code here.\n",
    "    res = []\n",
    "    n = len(array) - 1\n",
    "    m = len(array[0]) - 1\n",
    "    i, j = 0, 0\n",
    "    direction = 1\n",
    "    for ijSum in range(n + m + 1):\n",
    "        if ijSum % 2:\n",
    "            while i > 0 and j < m:\n",
    "                res.append(array[i][j])\n",
    "                i -= 1\n",
    "                j += 1\n",
    "            if j == m:\n",
    "                # j == m has a priority than i == 0\n",
    "                res.append(array[i][j])\n",
    "                i += 1\n",
    "                continue\n",
    "            if i == 0:\n",
    "                res.append(array[i][j])\n",
    "                j += 1\n",
    "                continue\n",
    "        else:\n",
    "            while i < n and j > 0:\n",
    "                res.append(array[i][j])\n",
    "                i += 1\n",
    "                j -= 1\n",
    "            if i == n:\n",
    "                res.append(array[i][j])\n",
    "                j += 1\n",
    "                continue\n",
    "            if j == 0:\n",
    "                res.append(array[i][j])\n",
    "                i += 1\n",
    "                continue\n",
    "    return res"
   ]
  },
  {
   "cell_type": "code",
   "execution_count": null,
   "metadata": {},
   "outputs": [],
   "source": [
    "def zigzagTraverse(array):\n",
    "    # Write your code here.\n",
    "    res = []\n",
    "    n = len(array) - 1\n",
    "    m = len(array[0]) - 1\n",
    "    i, j = 0, 0\n",
    "    direction = 1\n",
    "    for ijSum in range(n + m + 1):\n",
    "        if ijSum % 2:\n",
    "            while i > 0 and j < m:\n",
    "                res.append(array[i][j])\n",
    "                i -= 1\n",
    "                j += 1\n",
    "            res.append(array[i][j])\n",
    "            if j == m:\n",
    "                i += 1\n",
    "            elif i == 0:\n",
    "                j += 1\n",
    "        else:\n",
    "            while i < n and j > 0:\n",
    "                res.append(array[i][j])\n",
    "                i += 1\n",
    "                j -= 1\n",
    "            res.append(array[i][j])\n",
    "            if i == n:\n",
    "                j += 1\n",
    "            elif j == 0:\n",
    "                i += 1\n",
    "    return res"
   ]
  },
  {
   "source": [
    "## Expert Solution"
   ],
   "cell_type": "markdown",
   "metadata": {}
  },
  {
   "cell_type": "code",
   "execution_count": null,
   "metadata": {},
   "outputs": [],
   "source": [
    "def zigzagTraverse(array):\n",
    "    height = len(array) - 1\n",
    "    width =len(array[0]) - 1\n",
    "    result = []\n",
    "    row, col = 0, 0\n",
    "    goingDown = True\n",
    "    while not isOutOfBounds(row, col, height, width):\n",
    "        result.append(array[row][col])\n",
    "        if goingDown:\n",
    "            if col == 0 or row == height:\n",
    "                goingDown = False\n",
    "                if row == height:\n",
    "                    col += 1\n",
    "                else:\n",
    "                    row += 1\n",
    "            else:\n",
    "                row += 1\n",
    "                col -= 1\n",
    "        else:\n",
    "            if row == 0 or col == width:\n",
    "                goingDown = True\n",
    "                if col == width:\n",
    "                    row += 1\n",
    "                else:\n",
    "                    col += 1\n",
    "            else: \n",
    "                row -= 1\n",
    "                col += 1\n",
    "    return result\n",
    "\n",
    "def isOutOfBounds(row, col, height, width):\n",
    "    return row < 0 or row > height or col < 0 or col > width"
   ]
  },
  {
   "cell_type": "code",
   "execution_count": null,
   "metadata": {},
   "outputs": [],
   "source": []
  },
  {
   "source": [
    "## Thoughts"
   ],
   "cell_type": "markdown",
   "metadata": {}
  },
  {
   "cell_type": "code",
   "execution_count": null,
   "metadata": {},
   "outputs": [],
   "source": []
  },
  {
   "cell_type": "code",
   "execution_count": null,
   "metadata": {},
   "outputs": [],
   "source": []
  },
  {
   "cell_type": "code",
   "execution_count": null,
   "metadata": {},
   "outputs": [],
   "source": []
  },
  {
   "cell_type": "code",
   "execution_count": null,
   "metadata": {},
   "outputs": [],
   "source": []
  },
  {
   "cell_type": "code",
   "execution_count": null,
   "metadata": {},
   "outputs": [],
   "source": []
  },
  {
   "cell_type": "code",
   "execution_count": null,
   "metadata": {},
   "outputs": [],
   "source": []
  },
  {
   "cell_type": "code",
   "execution_count": null,
   "metadata": {},
   "outputs": [],
   "source": []
  },
  {
   "cell_type": "code",
   "execution_count": null,
   "metadata": {},
   "outputs": [],
   "source": []
  },
  {
   "cell_type": "code",
   "execution_count": null,
   "metadata": {},
   "outputs": [],
   "source": []
  },
  {
   "cell_type": "code",
   "execution_count": null,
   "metadata": {},
   "outputs": [],
   "source": []
  },
  {
   "cell_type": "code",
   "execution_count": null,
   "metadata": {},
   "outputs": [],
   "source": []
  },
  {
   "cell_type": "code",
   "execution_count": null,
   "metadata": {},
   "outputs": [],
   "source": []
  }
 ]
}