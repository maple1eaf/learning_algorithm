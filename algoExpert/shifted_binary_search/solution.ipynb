{
 "metadata": {
  "language_info": {
   "codemirror_mode": {
    "name": "ipython",
    "version": 3
   },
   "file_extension": ".py",
   "mimetype": "text/x-python",
   "name": "python",
   "nbconvert_exporter": "python",
   "pygments_lexer": "ipython3",
   "version": 3
  },
  "orig_nbformat": 2
 },
 "nbformat": 4,
 "nbformat_minor": 2,
 "cells": [
  {
   "source": [
    "# Shifted Binary Search\n",
    "[link](https://www.algoexpert.io/questions/Shifted%20Binary%20Search)"
   ],
   "cell_type": "markdown",
   "metadata": {}
  },
  {
   "source": [
    "## My Solution"
   ],
   "cell_type": "markdown",
   "metadata": {}
  },
  {
   "cell_type": "code",
   "execution_count": null,
   "metadata": {},
   "outputs": [],
   "source": [
    "def shiftedBinarySearch(array, target):\n",
    "    # Write your code here.\n",
    "    # O(logn) time | O(1) space \n",
    "    left = 0\n",
    "    right = len(array) - 1\n",
    "    while left <= right:\n",
    "        print(left, right)\n",
    "        mid = (left + right) // 2\n",
    "        if target < array[mid]:\n",
    "            if array[left] <= array[mid]:\n",
    "                if target < array[left]:\n",
    "                    left = mid + 1\n",
    "                else:\n",
    "                    right = mid - 1\n",
    "            else:\n",
    "                right = mid - 1\n",
    "        elif target > array[mid]:\n",
    "            if array[mid] <= array[right]:\n",
    "                if target > array[right]:\n",
    "                    right = mid - 1\n",
    "                else:\n",
    "                    left = mid + 1\n",
    "            else:\n",
    "                left = mid + 1\n",
    "        else:\n",
    "            return mid\n",
    "    return -1"
   ]
  },
  {
   "cell_type": "code",
   "execution_count": null,
   "metadata": {},
   "outputs": [],
   "source": [
    "def shiftedBinarySearch(array, target):\n",
    "    # Write your code here.\n",
    "    # O(logn) time | O(1) space\n",
    "\tlength = len(array)\n",
    "\tdelta = findShift(array)\n",
    "\tleft = 0\n",
    "\tright = length - 1\n",
    "\twhile left <= right:\n",
    "\t\tmid = (left + right) // 2\n",
    "\t\tm = (mid + delta) % length\n",
    "\t\tif target < array[m]:\n",
    "\t\t\tright = mid - 1\n",
    "\t\telif target > array[m]:\n",
    "\t\t\tleft = mid + 1\n",
    "\t\telse:\n",
    "\t\t\treturn m\n",
    "\treturn -1\n",
    "\t\n",
    "def findShift(array):\n",
    "    left = 0\n",
    "\tright = len(array) - 1\n",
    "\twhile left < right - 1:\n",
    "\t\tmid = (left + right) // 2\n",
    "\t\tif array[left] > array[mid]:\n",
    "\t\t\tright = mid\n",
    "\t\telif array[mid] > array[right]:\n",
    "\t\t\tleft = mid\n",
    "\t\telse:\n",
    "\t\t\treturn 0\n",
    "\treturn right"
   ]
  },
  {
   "cell_type": "code",
   "execution_count": null,
   "metadata": {},
   "outputs": [],
   "source": [
    "def shiftedBinarySearch(array, target):\n",
    "    # Write your code here.\n",
    "    # O(logn) time | O(1) space\n",
    "    left = 0\n",
    "    right = len(array) - 1\n",
    "    while left <= right:\n",
    "        mid = (left + right) // 2\n",
    "        if array[mid] == target:\n",
    "            return mid\n",
    "        elif array[left] <= array[mid]:\n",
    "            if array[left] <= target and target < array[mid]:\n",
    "                right = mid - 1\n",
    "            else:\n",
    "                left = mid + 1\n",
    "        elif array[mid] <= array[right]:\n",
    "            if array[mid] < target and target <= array[right]:\n",
    "                left = mid + 1\n",
    "            else:\n",
    "                right = mid - 1\n",
    "    return -1"
   ]
  },
  {
   "source": [
    "## Expert Solution"
   ],
   "cell_type": "markdown",
   "metadata": {}
  },
  {
   "cell_type": "code",
   "execution_count": null,
   "metadata": {},
   "outputs": [],
   "source": [
    "# O(log(n)) time | O(log(n)) space\n",
    "def shiftedBinarySearch(array, target):\n",
    "    return shiftedBinarySearchHelper(array, target, 0, len(array) - 1)\n",
    "\n",
    "def shiftedBinarySearchHelper(array, target, left, right):\n",
    "    if left > right:\n",
    "        return -1\n",
    "    middle = (left + right) // 2\n",
    "    potentialMatch = array[middle]\n",
    "    leftNum = array[left]\n",
    "    rightNum = array[right]\n",
    "    if target == potentialMatch:\n",
    "        return middle\n",
    "    elif leftNum <= potentialMatch:\n",
    "        if target < potentialMatch and target >= leftNum:\n",
    "            return shiftedBinarySearchHelper(array, target, left, middle - 1)\n",
    "        else:\n",
    "            return shiftedBinarySearchHelper(array, target, middle + 1, right)\n",
    "    else:\n",
    "        if target > potentialMatch and target <= rightNum:\n",
    "            return shiftedBinarySearchHelper(array, target, middle + 1, right)\n",
    "        else:\n",
    "            return shiftedBinarySearchHelper(array, target, left, middle - 1)"
   ]
  },
  {
   "cell_type": "code",
   "execution_count": null,
   "metadata": {},
   "outputs": [],
   "source": [
    "# O(log(n)) time | O(1) space\n",
    "def shiftedBinarySearch(array, target):\n",
    "    return shiftedBinarySearchHelper(array, target, 0, len(array) - 1)\n",
    "\n",
    "def shiftedBinarySearchHelper(array, target, left, right):\n",
    "    while left <= right:\n",
    "        middle = (left + right) // 2\n",
    "        potentialMatch = array[middle]\n",
    "        leftNum = array[left]\n",
    "        rightNum = array[right]\n",
    "        if target == potentialMatch:\n",
    "            return middle\n",
    "        elif leftNum <= potentialMatch:\n",
    "            if target < potentialMatch and target >= leftNum:\n",
    "                right = middle - 1\n",
    "            else:\n",
    "                left = middle + 1\n",
    "        else:\n",
    "            if target > potentialMatch and target <= rightNum:\n",
    "                left = middle + 1\n",
    "            else:\n",
    "                right = middle - 1\n",
    "    return -1"
   ]
  },
  {
   "source": [
    "## Thoughts\n",
    "### difference between my solution 1 and expert solution\n",
    "- my solution 1: consider every situation that the target number might belong to which range.\n",
    "- expert solution: only consider if the half range is sorted and the target number is in that range, otherwise in the other range. more clear thinking and easy to implement.\n",
    "\n",
    "### my solution 2\n",
    "find the shifted point first, and then do the binary search. still O(logn) time | O(1) space"
   ],
   "cell_type": "markdown",
   "metadata": {}
  },
  {
   "cell_type": "code",
   "execution_count": null,
   "metadata": {},
   "outputs": [],
   "source": []
  },
  {
   "cell_type": "code",
   "execution_count": null,
   "metadata": {},
   "outputs": [],
   "source": []
  },
  {
   "cell_type": "code",
   "execution_count": null,
   "metadata": {},
   "outputs": [],
   "source": []
  },
  {
   "cell_type": "code",
   "execution_count": null,
   "metadata": {},
   "outputs": [],
   "source": []
  },
  {
   "cell_type": "code",
   "execution_count": null,
   "metadata": {},
   "outputs": [],
   "source": []
  },
  {
   "cell_type": "code",
   "execution_count": null,
   "metadata": {},
   "outputs": [],
   "source": []
  },
  {
   "cell_type": "code",
   "execution_count": null,
   "metadata": {},
   "outputs": [],
   "source": []
  },
  {
   "cell_type": "code",
   "execution_count": null,
   "metadata": {},
   "outputs": [],
   "source": []
  },
  {
   "cell_type": "code",
   "execution_count": null,
   "metadata": {},
   "outputs": [],
   "source": []
  },
  {
   "cell_type": "code",
   "execution_count": null,
   "metadata": {},
   "outputs": [],
   "source": []
  },
  {
   "cell_type": "code",
   "execution_count": null,
   "metadata": {},
   "outputs": [],
   "source": []
  },
  {
   "cell_type": "code",
   "execution_count": null,
   "metadata": {},
   "outputs": [],
   "source": []
  }
 ]
}