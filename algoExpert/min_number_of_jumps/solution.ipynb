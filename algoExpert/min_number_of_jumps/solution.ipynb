{
 "metadata": {
  "language_info": {
   "codemirror_mode": {
    "name": "ipython",
    "version": 3
   },
   "file_extension": ".py",
   "mimetype": "text/x-python",
   "name": "python",
   "nbconvert_exporter": "python",
   "pygments_lexer": "ipython3",
   "version": 3
  },
  "orig_nbformat": 2
 },
 "nbformat": 4,
 "nbformat_minor": 2,
 "cells": [
  {
   "source": [
    "# Min Number Of Jumps\n",
    "[link](https://www.algoexpert.io/questions/Min%20Number%20Of%20Jumps)"
   ],
   "cell_type": "markdown",
   "metadata": {}
  },
  {
   "source": [
    "## My Solution"
   ],
   "cell_type": "markdown",
   "metadata": {}
  },
  {
   "cell_type": "code",
   "execution_count": null,
   "metadata": {},
   "outputs": [],
   "source": [
    "def minNumberOfJumps(array):\n",
    "    # Write your code here.\n",
    "    # O(n) time | O(n) space\n",
    "    memo = [None for _ in array]\n",
    "    memo[0] = 0\n",
    "    for i in range(0, len(array)):\n",
    "        for j in range(i + 1, i + array[i] + 1):\n",
    "            if j < len(array) and memo[j] is None:\n",
    "                memo[j] = memo[i] + 1\n",
    "    return memo[-1]"
   ]
  },
  {
   "cell_type": "code",
   "execution_count": null,
   "metadata": {},
   "outputs": [],
   "source": [
    "def minNumberOfJumps(array):\n",
    "    # Write your code here.\n",
    "    # O(n) time | O(1) space\n",
    "    rangeMax = 0\n",
    "    steps = 0\n",
    "    nextRangeMax = rangeMax\n",
    "    for i in range(len(array)):\n",
    "        if i > rangeMax:\n",
    "            rangeMax = nextRangeMax\n",
    "            steps += 1\n",
    "        nextRangeMax = max(nextRangeMax, i + array[i])\n",
    "    return steps"
   ]
  },
  {
   "cell_type": "code",
   "execution_count": null,
   "metadata": {},
   "outputs": [],
   "source": []
  },
  {
   "source": [
    "## Expert Solution"
   ],
   "cell_type": "markdown",
   "metadata": {}
  },
  {
   "cell_type": "code",
   "execution_count": null,
   "metadata": {},
   "outputs": [],
   "source": [
    "# O(n^2) time | O(n) space\n",
    "def minNumberOfJumps(array):\n",
    "    jumps = [float(\"inf\") for x in array]\n",
    "    jumps[0] = 0\n",
    "    for i in range(1, len(array)):\n",
    "        for j in range(0, i):\n",
    "            if array[j] >= i - j:\n",
    "                jumps[i] = min(jumps[j] + 1, jumps[i])\n",
    "    return jumps[-1]"
   ]
  },
  {
   "cell_type": "code",
   "execution_count": null,
   "metadata": {},
   "outputs": [],
   "source": [
    "# O(n) time | O(1) space\n",
    "def minNumberOfJumps(array):\n",
    "    if len(array) == 1:\n",
    "        return 0\n",
    "    jumps = 0\n",
    "    maxReach = array[0]\n",
    "    steps = array[0]\n",
    "    for i in range(1, len(array) - 1):\n",
    "        maxReach = max(maxReach, i + array[i])\n",
    "        steps -= 1\n",
    "        if steps == 0:\n",
    "            jumps += 1\n",
    "            steps = maxReach - i\n",
    "    return jumps + 1"
   ]
  },
  {
   "cell_type": "code",
   "execution_count": null,
   "metadata": {},
   "outputs": [],
   "source": []
  },
  {
   "source": [
    "## Thoughts\n",
    "- expert solution 1 is a DP way."
   ],
   "cell_type": "markdown",
   "metadata": {}
  },
  {
   "cell_type": "code",
   "execution_count": null,
   "metadata": {},
   "outputs": [],
   "source": []
  },
  {
   "cell_type": "code",
   "execution_count": null,
   "metadata": {},
   "outputs": [],
   "source": []
  },
  {
   "cell_type": "code",
   "execution_count": null,
   "metadata": {},
   "outputs": [],
   "source": []
  },
  {
   "cell_type": "code",
   "execution_count": null,
   "metadata": {},
   "outputs": [],
   "source": []
  },
  {
   "cell_type": "code",
   "execution_count": null,
   "metadata": {},
   "outputs": [],
   "source": []
  },
  {
   "cell_type": "code",
   "execution_count": null,
   "metadata": {},
   "outputs": [],
   "source": []
  },
  {
   "cell_type": "code",
   "execution_count": null,
   "metadata": {},
   "outputs": [],
   "source": []
  },
  {
   "cell_type": "code",
   "execution_count": null,
   "metadata": {},
   "outputs": [],
   "source": []
  },
  {
   "cell_type": "code",
   "execution_count": null,
   "metadata": {},
   "outputs": [],
   "source": []
  },
  {
   "cell_type": "code",
   "execution_count": null,
   "metadata": {},
   "outputs": [],
   "source": []
  },
  {
   "cell_type": "code",
   "execution_count": null,
   "metadata": {},
   "outputs": [],
   "source": []
  },
  {
   "cell_type": "code",
   "execution_count": null,
   "metadata": {},
   "outputs": [],
   "source": []
  }
 ]
}