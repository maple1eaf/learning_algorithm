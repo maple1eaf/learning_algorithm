{
 "metadata": {
  "language_info": {
   "codemirror_mode": {
    "name": "ipython",
    "version": 3
   },
   "file_extension": ".py",
   "mimetype": "text/x-python",
   "name": "python",
   "nbconvert_exporter": "python",
   "pygments_lexer": "ipython3",
   "version": 3
  },
  "orig_nbformat": 2
 },
 "nbformat": 4,
 "nbformat_minor": 2,
 "cells": [
  {
   "source": [
    "# Array Of Products\n",
    "[link](https://www.algoexpert.io/questions/Array%20Of%20Products)"
   ],
   "cell_type": "markdown",
   "metadata": {}
  },
  {
   "source": [
    "## My Solution"
   ],
   "cell_type": "markdown",
   "metadata": {}
  },
  {
   "cell_type": "code",
   "execution_count": null,
   "metadata": {},
   "outputs": [],
   "source": [
    "# brute force\n",
    "def arrayOfProducts(array):\n",
    "    # Write your code here.\n",
    "    res = [1 for x in array]\n",
    "    for i in range(len(array)):\n",
    "        for j in range(len(array)):\n",
    "            if i != j:\n",
    "                res[j] *= array[i]\n",
    "    return res"
   ]
  },
  {
   "cell_type": "code",
   "execution_count": null,
   "metadata": {},
   "outputs": [],
   "source": [
    "# O(n) time | O(n) space\n",
    "def arrayOfProducts(array):\n",
    "    # Write your code here.\n",
    "    leftProducts = [1 for x in array]\n",
    "    for i in range(len(leftProducts)):\n",
    "        if i == 0:\n",
    "            leftProducts[i] = 1\n",
    "        else:\n",
    "            leftProducts[i] = array[i-1] * leftProducts[i-1]\n",
    "            \n",
    "    rightProducts = [1 for x in array]\n",
    "    for i in reversed(range(len(rightProducts))):\n",
    "        if i == len(rightProducts) - 1:\n",
    "            rightProducts[i] = 1\n",
    "        else:\n",
    "            rightProducts[i] = array[i+1] * rightProducts[i+1]\n",
    "            \n",
    "    return [leftProducts[i] * rightProducts[i] for i in range(len(array))]"
   ]
  },
  {
   "cell_type": "code",
   "execution_count": null,
   "metadata": {},
   "outputs": [],
   "source": [
    "# O(n) time | O(n) space\n",
    "# dirrectly write the products into the final result output\n",
    "def arrayOfProducts(array):\n",
    "    # Write your code here.\n",
    "    res = [1 for x in array]\n",
    "    runningProduct = 1\n",
    "    for i in range(len(array)):\n",
    "        if i == 0:\n",
    "            runningProduct = 1\n",
    "        else:\n",
    "            runningProduct *= array[i-1]\n",
    "            res[i] = runningProduct\n",
    "    for i in reversed(range(len(array))):\n",
    "        if i == len(array) - 1:\n",
    "            runningProduct = 1\n",
    "        else:\n",
    "            runningProduct *= array[i+1]\n",
    "            res[i] *= runningProduct\n",
    "    return res\n"
   ]
  },
  {
   "source": [
    "## Expert Solution"
   ],
   "cell_type": "markdown",
   "metadata": {}
  },
  {
   "cell_type": "code",
   "execution_count": null,
   "metadata": {},
   "outputs": [],
   "source": [
    "# O(n^2) time | O(n) space - where n is the length of the input array\n",
    "def arrayOfProducts(array):\n",
    "    products = [1 for _ in range(len(array))]\n",
    "\n",
    "    for i in range(len(array)):\n",
    "        runningProduct = 1\n",
    "        for j in range(len(array)):\n",
    "            if i != j:\n",
    "                runningProduct *= array[j]\n",
    "        products[i] = runningProduct\n",
    "    \n",
    "    return products"
   ]
  },
  {
   "cell_type": "code",
   "execution_count": null,
   "metadata": {},
   "outputs": [],
   "source": [
    "# O(n) time | O(n) space - where n is the length of the input array\n",
    "def arrayOfProducts(array):\n",
    "    products = [1 for _ in range(len(array))]\n",
    "    leftProducts = [1 for _ in range(len(array))]\n",
    "    rightProducts = [1 for _ in range(len(array))]\n",
    "\n",
    "    leftRunningProduct = 1\n",
    "    for i in range(len(array)):\n",
    "        leftProducts[i] = leftRunningProduct\n",
    "        leftRunningProduct *= array[i]\n",
    "\n",
    "    rightRunningProduct = 1\n",
    "    for i in reversed(range(len(array))):\n",
    "        rightProducts[i] = rightRunningProduct\n",
    "        rightRunningProduct *= array[i]\n",
    "\n",
    "    for i in range(len(array)):\n",
    "        products[i] = leftProducts[i] * rightProducts[i]\n",
    "    \n",
    "    return products"
   ]
  },
  {
   "cell_type": "code",
   "execution_count": null,
   "metadata": {},
   "outputs": [],
   "source": [
    "# O(n) time | O(n) space - where n is the length of the input array\n",
    "def arrayOfProducts(array):\n",
    "    products = [1 for _ in range(len(array))]\n",
    "\n",
    "    leftRunningProduct = 1\n",
    "    for i in range(len(array)):\n",
    "        products[i] = leftRunningProduct\n",
    "        leftRunningProduct *= array[i]\n",
    "\n",
    "    rightRunningProduct = 1\n",
    "    for i in reversed(range(len(array))):\n",
    "        products[i] *= rightRunningProduct\n",
    "        rightRunningProduct *= array[i]\n",
    "\n",
    "    for i in range(len(array)):\n",
    "        products[i] = leftProducts[i] * rightProducts[i]\n",
    "    \n",
    "    return products"
   ]
  },
  {
   "source": [
    "## Thoughts\n",
    "### expert solution 2\n",
    "the reason why brute force solution needs O(n^2) time is because it do a lot of duplicate products.\n",
    "\n",
    "the basic idea of getting rid of the duplicate product operation here is, for example, for array `[2, 3, 4, 5]`:\n",
    "- total products on the left of 4 is 6. let l(4) = 6.\n",
    "- total products on the left of 5 is 24, but we don't do 2 * 3 * 4 = 24, but do l(5) = l(4) * 4 = 24. That eliminate a lot of duplicate products.\n",
    "\n",
    "### expert solution 3\n",
    "A better thing here is we don't use leftProducts and rightProducts. instead, we directly store the status in the final output array.\n",
    "\n",
    "### more thought\n",
    "in this question, a brute force solution need O(n^2) time complexity. Besides, apperantly, one traverse through the array can't finish the job.\n",
    "\n",
    "so, we can think: can we do this in two traverses, three traverses, ...? these will also cost no more than O(n) time complexity."
   ],
   "cell_type": "markdown",
   "metadata": {}
  },
  {
   "cell_type": "code",
   "execution_count": null,
   "metadata": {},
   "outputs": [],
   "source": []
  },
  {
   "cell_type": "code",
   "execution_count": null,
   "metadata": {},
   "outputs": [],
   "source": []
  },
  {
   "cell_type": "code",
   "execution_count": null,
   "metadata": {},
   "outputs": [],
   "source": []
  },
  {
   "cell_type": "code",
   "execution_count": null,
   "metadata": {},
   "outputs": [],
   "source": []
  },
  {
   "cell_type": "code",
   "execution_count": null,
   "metadata": {},
   "outputs": [],
   "source": []
  },
  {
   "cell_type": "code",
   "execution_count": null,
   "metadata": {},
   "outputs": [],
   "source": []
  },
  {
   "cell_type": "code",
   "execution_count": null,
   "metadata": {},
   "outputs": [],
   "source": []
  },
  {
   "cell_type": "code",
   "execution_count": null,
   "metadata": {},
   "outputs": [],
   "source": []
  },
  {
   "cell_type": "code",
   "execution_count": null,
   "metadata": {},
   "outputs": [],
   "source": []
  },
  {
   "cell_type": "code",
   "execution_count": null,
   "metadata": {},
   "outputs": [],
   "source": []
  },
  {
   "cell_type": "code",
   "execution_count": null,
   "metadata": {},
   "outputs": [],
   "source": []
  },
  {
   "cell_type": "code",
   "execution_count": null,
   "metadata": {},
   "outputs": [],
   "source": []
  }
 ]
}