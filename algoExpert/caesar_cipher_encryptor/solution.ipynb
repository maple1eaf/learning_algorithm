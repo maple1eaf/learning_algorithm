{
 "metadata": {
  "language_info": {
   "codemirror_mode": {
    "name": "ipython",
    "version": 3
   },
   "file_extension": ".py",
   "mimetype": "text/x-python",
   "name": "python",
   "nbconvert_exporter": "python",
   "pygments_lexer": "ipython3",
   "version": 3
  },
  "orig_nbformat": 2
 },
 "nbformat": 4,
 "nbformat_minor": 2,
 "cells": [
  {
   "source": [
    "# Caesar Cipher Encryptor\n",
    "[link](https://www.algoexpert.io/questions/Caesar%20Cipher%20Encryptor)"
   ],
   "cell_type": "markdown",
   "metadata": {}
  },
  {
   "source": [
    "## My Solution"
   ],
   "cell_type": "markdown",
   "metadata": {}
  },
  {
   "cell_type": "code",
   "execution_count": null,
   "metadata": {},
   "outputs": [],
   "source": [
    "def caesarCipherEncryptor(string, key):\n",
    "    # Write your code here.\n",
    "    res = [s for s in string]\n",
    "    for i in range(len(string)):\n",
    "        originChar = string[i]\n",
    "        cipherChar = chr(((ord(originChar) - ord('a') + key) % 26 + ord('a')))\n",
    "        res[i] = cipherChar\n",
    "    return \"\".join(res)"
   ]
  },
  {
   "source": [
    "## Expert Solution"
   ],
   "cell_type": "markdown",
   "metadata": {}
  },
  {
   "cell_type": "code",
   "execution_count": null,
   "metadata": {},
   "outputs": [],
   "source": [
    "def caesarCipherEncryptor(string, key):\n",
    "    newLetters = []\n",
    "    newKey = key % 26\n",
    "    for letter in string:\n",
    "        newLetters.append(getNewLetter(letter, newKey))\n",
    "    return \"\".join(newLetters)\n",
    "\n",
    "def getNewLetter(letter, key):\n",
    "    newLetterCode = ord(letter) + key\n",
    "    return chr(newLetterCode) if newLetterCode <= 122 else chr(96 + newLetterCode % 122)"
   ]
  },
  {
   "cell_type": "code",
   "execution_count": null,
   "metadata": {},
   "outputs": [],
   "source": [
    "def caesarCipherEncryptor(string, key):\n",
    "    newLetters = []\n",
    "    newKey = key % 26\n",
    "    alphabet = list(\"abcdefghijklmnopqrstuvwxyz\")\n",
    "    for letter in string:\n",
    "        newLetters.append(getNewLetter(letter, newKey, alphabet))\n",
    "    return \"\".join(newLetters)\n",
    "\n",
    "def getNewLetter(letter, key, alphabet):\n",
    "    newLetterCode = alphabet.index(letter) + key\n",
    "    return alphabet[newLetterCode % 26]"
   ]
  },
  {
   "source": [
    "## Thoughts"
   ],
   "cell_type": "markdown",
   "metadata": {}
  },
  {
   "cell_type": "code",
   "execution_count": null,
   "metadata": {},
   "outputs": [],
   "source": []
  },
  {
   "cell_type": "code",
   "execution_count": null,
   "metadata": {},
   "outputs": [],
   "source": []
  },
  {
   "cell_type": "code",
   "execution_count": null,
   "metadata": {},
   "outputs": [],
   "source": []
  },
  {
   "cell_type": "code",
   "execution_count": null,
   "metadata": {},
   "outputs": [],
   "source": []
  },
  {
   "cell_type": "code",
   "execution_count": null,
   "metadata": {},
   "outputs": [],
   "source": []
  },
  {
   "cell_type": "code",
   "execution_count": null,
   "metadata": {},
   "outputs": [],
   "source": []
  },
  {
   "cell_type": "code",
   "execution_count": null,
   "metadata": {},
   "outputs": [],
   "source": []
  },
  {
   "cell_type": "code",
   "execution_count": null,
   "metadata": {},
   "outputs": [],
   "source": []
  },
  {
   "cell_type": "code",
   "execution_count": null,
   "metadata": {},
   "outputs": [],
   "source": []
  },
  {
   "cell_type": "code",
   "execution_count": null,
   "metadata": {},
   "outputs": [],
   "source": []
  },
  {
   "cell_type": "code",
   "execution_count": null,
   "metadata": {},
   "outputs": [],
   "source": []
  },
  {
   "cell_type": "code",
   "execution_count": null,
   "metadata": {},
   "outputs": [],
   "source": []
  }
 ]
}