{
 "metadata": {
  "language_info": {
   "codemirror_mode": {
    "name": "ipython",
    "version": 3
   },
   "file_extension": ".py",
   "mimetype": "text/x-python",
   "name": "python",
   "nbconvert_exporter": "python",
   "pygments_lexer": "ipython3",
   "version": 3
  },
  "orig_nbformat": 2
 },
 "nbformat": 4,
 "nbformat_minor": 2,
 "cells": [
  {
   "source": [
    "# Zip Linked List\n",
    "[link](https://www.algoexpert.io/questions/Zip%20Linked%20List)"
   ],
   "cell_type": "markdown",
   "metadata": {}
  },
  {
   "source": [
    "## My Solution"
   ],
   "cell_type": "markdown",
   "metadata": {}
  },
  {
   "cell_type": "code",
   "execution_count": null,
   "metadata": {},
   "outputs": [],
   "source": [
    "# This is an input class. Do not edit.\n",
    "class LinkedList:\n",
    "    def __init__(self, value):\n",
    "        self.value = value\n",
    "        self.next = None\n",
    "\n",
    "# O(n) time | O(1) space\n",
    "def zipLinkedList(linkedList):\n",
    "    # Write your code here.\n",
    "    slowPointer = linkedList\n",
    "    fastPointer = linkedList\n",
    "    while fastPointer.next is not None and fastPointer.next.next is not None:\n",
    "        slowPointer = slowPointer.next\n",
    "        fastPointer = fastPointer.next.next\n",
    "    nodeBeforeSecondStart = slowPointer\n",
    "    \n",
    "    secondHead = nodeBeforeSecondStart.next\n",
    "    nodeBeforeSecondStart.next = None\n",
    "    \n",
    "    \n",
    "    first = linkedList\n",
    "    second = reverseLinks(secondHead)\n",
    "    \n",
    "    while second is not None:\n",
    "        firstNxt = first.next\n",
    "        secondNxt = second.next\n",
    "        second.next = firstNxt\n",
    "        first.next = second\n",
    "        first = firstNxt\n",
    "        second = secondNxt\n",
    "        \n",
    "    return linkedList\n",
    "\n",
    "\n",
    "\n",
    "def reverseLinks(linkedList):\n",
    "    prev = None\n",
    "    cur = linkedList\n",
    "    while cur is not None:\n",
    "        nxt = cur.next\n",
    "        cur.next = prev\n",
    "        prev = cur\n",
    "        cur = nxt\n",
    "    return prev"
   ]
  },
  {
   "source": [
    "## Expert Solution"
   ],
   "cell_type": "markdown",
   "metadata": {}
  },
  {
   "cell_type": "code",
   "execution_count": null,
   "metadata": {},
   "outputs": [],
   "source": [
    "# This is an input class. Do not edit.\n",
    "class LinkedList:\n",
    "    def __init__(self, value):\n",
    "        self.value = value\n",
    "        self.next = None\n",
    "\n",
    "# O(n) time | O(1) space\n",
    "def zipLinkedList(linkedList):\n",
    "    # Write your code here.\n",
    "    if linkedList.next is None or linkedList.next.next is None:\n",
    "        return linkedList\n",
    "    \n",
    "    firstHalfHead = linkedList\n",
    "    secondHalfHead = splitLinkedList(linkedList)\n",
    "\n",
    "    reversedSecondHalfHead = reverseLinkedList(secondHalfHead)\n",
    "\n",
    "    return interweaveLinkedLists(firstHalfHead, reversedSecondHalfHead)\n",
    "\n",
    "def splitLinkedList(linkedList):\n",
    "    slowIterator = linkedList\n",
    "    fastIterator = linkedList\n",
    "    while fastIterator is not None and fastIterator.next is not None:\n",
    "        slowIterator = slowIterator.next\n",
    "        fastIterator = fastIterator.next.next\n",
    "\n",
    "    secondHalfHead = slowIterator.next\n",
    "    slowIterator.next = None\n",
    "    return secondHalfHead\n",
    "\n",
    "def interweaveLinkedLists(linkedList1, linkedList2):\n",
    "    linkedList1Iterator = linkedList1\n",
    "    linkedList2Iterator = linkedList2\n",
    "    while linkedList1Iterator is not None and linkedList2Iterator is not None:\n",
    "        linkedList1IteratorNext = linkedList1Iterator.next\n",
    "        linkedList2IteratorNext = linkedList2Iterator.next\n",
    "\n",
    "        linkedList1Iterator.next = linkedList2Iterator\n",
    "        linkedList2Iterator.next = linkedList1IteratorNext\n",
    "\n",
    "        linkedList1Iterator = linkedList1IteratorNext\n",
    "        linkedList2Iterator = linkedList2IteratorNext\n",
    "\n",
    "    return linkedList1\n",
    "\n",
    "def reverseLinkedList(linkedList):\n",
    "    previousNode, currentNode = None, linkedList\n",
    "    while currentNode is not None:\n",
    "        nextNode = currentNode.next\n",
    "        currentNode.next = previousNode\n",
    "        previousNode = currentNode\n",
    "        currentNode = nextNode\n",
    "    return previousNode"
   ]
  },
  {
   "source": [
    "## Thoughts"
   ],
   "cell_type": "markdown",
   "metadata": {}
  },
  {
   "cell_type": "code",
   "execution_count": null,
   "metadata": {},
   "outputs": [],
   "source": []
  },
  {
   "cell_type": "code",
   "execution_count": null,
   "metadata": {},
   "outputs": [],
   "source": []
  },
  {
   "cell_type": "code",
   "execution_count": null,
   "metadata": {},
   "outputs": [],
   "source": []
  },
  {
   "cell_type": "code",
   "execution_count": null,
   "metadata": {},
   "outputs": [],
   "source": []
  },
  {
   "cell_type": "code",
   "execution_count": null,
   "metadata": {},
   "outputs": [],
   "source": []
  },
  {
   "cell_type": "code",
   "execution_count": null,
   "metadata": {},
   "outputs": [],
   "source": []
  },
  {
   "cell_type": "code",
   "execution_count": null,
   "metadata": {},
   "outputs": [],
   "source": []
  },
  {
   "cell_type": "code",
   "execution_count": null,
   "metadata": {},
   "outputs": [],
   "source": []
  },
  {
   "cell_type": "code",
   "execution_count": null,
   "metadata": {},
   "outputs": [],
   "source": []
  },
  {
   "cell_type": "code",
   "execution_count": null,
   "metadata": {},
   "outputs": [],
   "source": []
  },
  {
   "cell_type": "code",
   "execution_count": null,
   "metadata": {},
   "outputs": [],
   "source": []
  },
  {
   "cell_type": "code",
   "execution_count": null,
   "metadata": {},
   "outputs": [],
   "source": []
  }
 ]
}