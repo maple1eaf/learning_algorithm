{
 "metadata": {
  "language_info": {
   "codemirror_mode": {
    "name": "ipython",
    "version": 3
   },
   "file_extension": ".py",
   "mimetype": "text/x-python",
   "name": "python",
   "nbconvert_exporter": "python",
   "pygments_lexer": "ipython3",
   "version": 3
  },
  "orig_nbformat": 2
 },
 "nbformat": 4,
 "nbformat_minor": 2,
 "cells": [
  {
   "source": [
    "# Radix Sort\n",
    "[link](https://www.algoexpert.io/questions/Radix%20Sort)"
   ],
   "cell_type": "markdown",
   "metadata": {}
  },
  {
   "source": [
    "## My Solution"
   ],
   "cell_type": "markdown",
   "metadata": {}
  },
  {
   "cell_type": "code",
   "execution_count": null,
   "metadata": {},
   "outputs": [],
   "source": [
    "# O(d * (n + b)) time | O(n + b) space\n",
    "def radixSort(array):\n",
    "    # Write your code here.\n",
    "    if len(array) == 0:\n",
    "        return []\n",
    "    \n",
    "    maxInt = max(array)\n",
    "    base = 10\n",
    "    digit = 0\n",
    "    while (maxInt // (base ** digit)) > 0:\n",
    "        array = countingSort(array, digit, base)\n",
    "        digit += 1\n",
    "    return array\n",
    "        \n",
    "# O(n + b) time | O(n + b) space\n",
    "def countingSort(array, digit, base):\n",
    "    div = base ** digit\n",
    "    counts = [0] * base\n",
    "    for x in array:\n",
    "        remainder = (x // div) % base\n",
    "        counts[remainder] += 1\n",
    "        \n",
    "    for i in range(1, len(counts)):\n",
    "        counts[i] += counts[i - 1]\n",
    "    \n",
    "    sortedArray = [0] * len(array)\n",
    "    for x in reversed(array):\n",
    "        remainder = (x // div) % base\n",
    "        counts[remainder] -= 1\n",
    "        sortedIdx = counts[remainder]\n",
    "        sortedArray[sortedIdx] = x\n",
    "    \n",
    "    return sortedArray"
   ]
  },
  {
   "source": [
    "## Expert Solution"
   ],
   "cell_type": "markdown",
   "metadata": {}
  },
  {
   "cell_type": "code",
   "execution_count": null,
   "metadata": {},
   "outputs": [],
   "source": [
    "# O(d * (n + b)) time | O(n + b) space - where n is the length of the input array,\n",
    "# d is the max number of digits, and b is the base of the numbering system used\n",
    "def radixSort(array):\n",
    "    if len(array) == 0:\n",
    "        return array\n",
    "\n",
    "    maxNumber = max(array)\n",
    "\n",
    "    digit = 0\n",
    "    while maxNumber / 10 ** digit > 0:\n",
    "        countingSort(array, digit)\n",
    "        digit += 1\n",
    "\n",
    "    return array\n",
    "\n",
    "def countingSort(array, digit):\n",
    "    sortedArray = [0] * len(array)\n",
    "    countArray = [0] * 10\n",
    "\n",
    "    digitColumn = 10 ** digit\n",
    "    for num in array:\n",
    "        countIndex = (num // digitColumn) % 10\n",
    "        countArray[countIndex] += 1\n",
    "\n",
    "    for idx in range(1, 10):\n",
    "        countArray[idx] += countArray[idx - 1]\n",
    "\n",
    "    for idx in range(len(array) - 1, -1, -1):\n",
    "        countIndex = (array[idx] // digitColumn) % 10\n",
    "        countArray[countIndex] -= 1\n",
    "        sortedIndex = countArray[countIndex]\n",
    "        sortedArray[sortedIndex] = array[idx]\n",
    "\n",
    "    for idx in range(len(array)):\n",
    "        array[idx] = sortedArray[idx]"
   ]
  },
  {
   "source": [
    "## Thoughts"
   ],
   "cell_type": "markdown",
   "metadata": {}
  },
  {
   "cell_type": "code",
   "execution_count": null,
   "metadata": {},
   "outputs": [],
   "source": []
  },
  {
   "cell_type": "code",
   "execution_count": null,
   "metadata": {},
   "outputs": [],
   "source": []
  },
  {
   "cell_type": "code",
   "execution_count": null,
   "metadata": {},
   "outputs": [],
   "source": []
  },
  {
   "cell_type": "code",
   "execution_count": null,
   "metadata": {},
   "outputs": [],
   "source": []
  },
  {
   "cell_type": "code",
   "execution_count": null,
   "metadata": {},
   "outputs": [],
   "source": []
  },
  {
   "cell_type": "code",
   "execution_count": null,
   "metadata": {},
   "outputs": [],
   "source": []
  },
  {
   "cell_type": "code",
   "execution_count": null,
   "metadata": {},
   "outputs": [],
   "source": []
  },
  {
   "cell_type": "code",
   "execution_count": null,
   "metadata": {},
   "outputs": [],
   "source": []
  },
  {
   "cell_type": "code",
   "execution_count": null,
   "metadata": {},
   "outputs": [],
   "source": []
  },
  {
   "cell_type": "code",
   "execution_count": null,
   "metadata": {},
   "outputs": [],
   "source": []
  },
  {
   "cell_type": "code",
   "execution_count": null,
   "metadata": {},
   "outputs": [],
   "source": []
  },
  {
   "cell_type": "code",
   "execution_count": null,
   "metadata": {},
   "outputs": [],
   "source": []
  }
 ]
}