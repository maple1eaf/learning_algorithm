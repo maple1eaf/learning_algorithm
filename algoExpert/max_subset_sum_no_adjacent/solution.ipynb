{
 "metadata": {
  "language_info": {
   "codemirror_mode": {
    "name": "ipython",
    "version": 3
   },
   "file_extension": ".py",
   "mimetype": "text/x-python",
   "name": "python",
   "nbconvert_exporter": "python",
   "pygments_lexer": "ipython3",
   "version": "3.6.10-final"
  },
  "orig_nbformat": 2,
  "kernelspec": {
   "name": "python3",
   "display_name": "Python 3",
   "language": "python"
  }
 },
 "nbformat": 4,
 "nbformat_minor": 2,
 "cells": [
  {
   "source": [
    "# Max Subset Sum No Adjacent\n",
    "[link](https://www.algoexpert.io/questions/Max%20Subset%20Sum%20No%20Adjacent)"
   ],
   "cell_type": "markdown",
   "metadata": {}
  },
  {
   "source": [
    "## My Solution"
   ],
   "cell_type": "markdown",
   "metadata": {}
  },
  {
   "cell_type": "code",
   "execution_count": 1,
   "metadata": {},
   "outputs": [],
   "source": [
    "def maxSubsetSumNoAdjacent(array):\n",
    "    # O(n^2) time | O(n^2) space\n",
    "    length = len(array)\n",
    "    if length == 0:\n",
    "        return 0\n",
    "    elif length == 1:\n",
    "        return array[0]\n",
    "    else:\n",
    "        return max(maxSubsetSumNoAdjacent(array[:length-2]) + array[length-1], \\\n",
    "                maxSubsetSumNoAdjacent(array[:length-1]))"
   ]
  },
  {
   "cell_type": "code",
   "execution_count": 2,
   "metadata": {},
   "outputs": [],
   "source": [
    "def maxSubsetSumNoAdjacent(array):\n",
    "    # O(n) time | O(n) space\n",
    "    if len(array) == 0:\n",
    "        return 0\n",
    "    elif len(array) == 1:\n",
    "        return array[0]\n",
    "    else:\n",
    "        opt = [0 for _ in array]\n",
    "        opt[0] = array[0]\n",
    "        opt[1] = max(array[0:2])\n",
    "        for i in range(2, len(array)):\n",
    "            opt[i] = max(opt[i-2] + array[i], opt[i-1])\n",
    "    return opt[-1]"
   ]
  },
  {
   "cell_type": "code",
   "execution_count": 3,
   "metadata": {},
   "outputs": [],
   "source": [
    "def maxSubsetSumNoAdjacent(array):\n",
    "    # O(n) time | O(1) space\n",
    "    if len(array) == 0:\n",
    "        return 0\n",
    "    elif len(array) == 1:\n",
    "        return array[0]\n",
    "    else:\n",
    "        optPrev = [array[0], max(array[0:2])]\n",
    "        for i in range(2, len(array)):\n",
    "            optNew = max(optPrev[0] + array[i], optPrev[1])\n",
    "            optPrev = [optPrev[1], optNew]\n",
    "    return optPrev[1]"
   ]
  },
  {
   "source": [
    "## Expert Solution"
   ],
   "cell_type": "markdown",
   "metadata": {}
  },
  {
   "cell_type": "code",
   "execution_count": 4,
   "metadata": {},
   "outputs": [],
   "source": [
    "# O(n) time | O(n) space\n",
    "def maxSubsetSumNoAdjacent(array):\n",
    "    if not len(array):\n",
    "        return\n",
    "    elif len(array) == 1:\n",
    "        return array[0]\n",
    "    maxSums = array[:]\n",
    "    maxSums[1] = max(array[0], array[1])\n",
    "    for i in range(2, len(array)):\n",
    "        maxSums[i] = max(maxSums[i - 1], maxSums[i - 2] + array[i])\n",
    "    return maxSums[-1]"
   ]
  },
  {
   "cell_type": "code",
   "execution_count": null,
   "metadata": {},
   "outputs": [],
   "source": [
    "# O(n) time | O(1) space\n",
    "def maxSubsetSumNoAdjacent(array):\n",
    "    if not len(array):\n",
    "        return\n",
    "    elif len(array) == 1:\n",
    "        return array[0]\n",
    "    second = array[0]\n",
    "    first = max(array[0], array[1])\n",
    "    for i in range(2, len(array)):\n",
    "        current = max(first, second + array[i])\n",
    "        second = first\n",
    "        first = current\n",
    "    return first"
   ]
  },
  {
   "source": [
    "## Thoughts\n",
    "### edge cases\n",
    "- negtive number\n",
    "    - change the formula a little bit\n",
    "- if should track the indices:\n",
    "    - modify second to store the tracking indices"
   ],
   "cell_type": "markdown",
   "metadata": {}
  },
  {
   "cell_type": "code",
   "execution_count": null,
   "metadata": {},
   "outputs": [],
   "source": []
  },
  {
   "cell_type": "code",
   "execution_count": null,
   "metadata": {},
   "outputs": [],
   "source": []
  },
  {
   "cell_type": "code",
   "execution_count": null,
   "metadata": {},
   "outputs": [],
   "source": []
  },
  {
   "cell_type": "code",
   "execution_count": null,
   "metadata": {},
   "outputs": [],
   "source": []
  },
  {
   "cell_type": "code",
   "execution_count": null,
   "metadata": {},
   "outputs": [],
   "source": []
  },
  {
   "cell_type": "code",
   "execution_count": null,
   "metadata": {},
   "outputs": [],
   "source": []
  },
  {
   "cell_type": "code",
   "execution_count": null,
   "metadata": {},
   "outputs": [],
   "source": []
  },
  {
   "cell_type": "code",
   "execution_count": null,
   "metadata": {},
   "outputs": [],
   "source": []
  },
  {
   "cell_type": "code",
   "execution_count": null,
   "metadata": {},
   "outputs": [],
   "source": []
  },
  {
   "cell_type": "code",
   "execution_count": null,
   "metadata": {},
   "outputs": [],
   "source": []
  },
  {
   "cell_type": "code",
   "execution_count": null,
   "metadata": {},
   "outputs": [],
   "source": []
  },
  {
   "cell_type": "code",
   "execution_count": null,
   "metadata": {},
   "outputs": [],
   "source": []
  }
 ]
}