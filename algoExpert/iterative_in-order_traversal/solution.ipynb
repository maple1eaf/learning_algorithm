{
 "metadata": {
  "language_info": {
   "codemirror_mode": {
    "name": "ipython",
    "version": 3
   },
   "file_extension": ".py",
   "mimetype": "text/x-python",
   "name": "python",
   "nbconvert_exporter": "python",
   "pygments_lexer": "ipython3",
   "version": 3
  },
  "orig_nbformat": 2
 },
 "nbformat": 4,
 "nbformat_minor": 2,
 "cells": [
  {
   "source": [
    "# Iterative In-order traversal\n",
    "[link](https://www.algoexpert.io/questions/Iterative%20In-order%20Traversal)"
   ],
   "cell_type": "markdown",
   "metadata": {}
  },
  {
   "source": [
    "## My Solution"
   ],
   "cell_type": "markdown",
   "metadata": {}
  },
  {
   "cell_type": "code",
   "execution_count": null,
   "metadata": {},
   "outputs": [],
   "source": [
    "def iterativeInOrderTraversal(tree, callback):\n",
    "    # Write your code here.\n",
    "    prv = None\n",
    "    cur = tree\n",
    "    while cur is not None:\n",
    "        if cur.parent == prv:\n",
    "            if cur.left is not None:\n",
    "                nxt = cur.left\n",
    "            elif cur.right is not None:\n",
    "                callback(cur)\n",
    "                nxt = cur.right\n",
    "            else:\n",
    "                callback(cur)\n",
    "                nxt = cur.parent\n",
    "        elif cur.left == prv:\n",
    "            callback(cur)\n",
    "            if cur.right is not None:\n",
    "                nxt = cur.right\n",
    "            else:\n",
    "                nxt = cur.parent\n",
    "        else:\n",
    "            # cur.right == prv:\n",
    "            nxt = cur.parent\n",
    "    \n",
    "        prv = cur\n",
    "        cur = nxt"
   ]
  },
  {
   "source": [
    "## Expert Solution"
   ],
   "cell_type": "markdown",
   "metadata": {}
  },
  {
   "cell_type": "code",
   "execution_count": null,
   "metadata": {},
   "outputs": [],
   "source": [
    "# O(n) time | O(1) space\n",
    "def iterativeInOrderTraversal(tree, callback):\n",
    "    previousNode = None\n",
    "\tcurrentNode = tree\n",
    "\twhile currentNode is not None:\n",
    "\t\tif previousNode is None or previousNode == currentNode.parent:\n",
    "\t\t\tif currentNode.left is not None:\n",
    "\t\t\t\tnextNode = currentNode.left\n",
    "\t\t\telse:\n",
    "\t\t\t\tcallback(currentNode)\n",
    "\t\t\t\tnextNode = currentNode.right if currentNode.right is not None else currentNode.parent\n",
    "\t\telif previousNode == currentNode.left:\n",
    "\t\t\tcallback(currentNode)\n",
    "\t\t\tnextNode = currentNode.right if currentNode.right is not None else currentNode.parent\n",
    "\t\telse:\n",
    "\t\t\tnextNode = currentNode.parent\n",
    "\t\tpreviousNode = currentNode\n",
    "\t\tcurrentNode = nextNode"
   ]
  },
  {
   "source": [
    "## Thoughts\n",
    "- a node will be visited at most three times: if a node has parent node, left child node, and right child node."
   ],
   "cell_type": "markdown",
   "metadata": {}
  },
  {
   "cell_type": "code",
   "execution_count": null,
   "metadata": {},
   "outputs": [],
   "source": []
  },
  {
   "cell_type": "code",
   "execution_count": null,
   "metadata": {},
   "outputs": [],
   "source": []
  },
  {
   "cell_type": "code",
   "execution_count": null,
   "metadata": {},
   "outputs": [],
   "source": []
  },
  {
   "cell_type": "code",
   "execution_count": null,
   "metadata": {},
   "outputs": [],
   "source": []
  },
  {
   "cell_type": "code",
   "execution_count": null,
   "metadata": {},
   "outputs": [],
   "source": []
  },
  {
   "cell_type": "code",
   "execution_count": null,
   "metadata": {},
   "outputs": [],
   "source": []
  },
  {
   "cell_type": "code",
   "execution_count": null,
   "metadata": {},
   "outputs": [],
   "source": []
  },
  {
   "cell_type": "code",
   "execution_count": null,
   "metadata": {},
   "outputs": [],
   "source": []
  },
  {
   "cell_type": "code",
   "execution_count": null,
   "metadata": {},
   "outputs": [],
   "source": []
  },
  {
   "cell_type": "code",
   "execution_count": null,
   "metadata": {},
   "outputs": [],
   "source": []
  },
  {
   "cell_type": "code",
   "execution_count": null,
   "metadata": {},
   "outputs": [],
   "source": []
  },
  {
   "cell_type": "code",
   "execution_count": null,
   "metadata": {},
   "outputs": [],
   "source": []
  }
 ]
}