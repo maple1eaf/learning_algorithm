{
 "metadata": {
  "language_info": {
   "codemirror_mode": {
    "name": "ipython",
    "version": 3
   },
   "file_extension": ".py",
   "mimetype": "text/x-python",
   "name": "python",
   "nbconvert_exporter": "python",
   "pygments_lexer": "ipython3",
   "version": 3
  },
  "orig_nbformat": 2
 },
 "nbformat": 4,
 "nbformat_minor": 2,
 "cells": [
  {
   "source": [
    "# Kadane's Algorithm\n",
    "[link](https://www.algoexpert.io/questions/Kadane's%20Algorithm)"
   ],
   "cell_type": "markdown",
   "metadata": {}
  },
  {
   "source": [
    "## My Solution"
   ],
   "cell_type": "markdown",
   "metadata": {}
  },
  {
   "cell_type": "code",
   "execution_count": null,
   "metadata": {},
   "outputs": [],
   "source": [
    "def kadanesAlgorithm(array):\n",
    "    # O(n^2) time | O(n^2) space\n",
    "    opt = [[float(\"-inf\") for j in range(len(array))] for i in range(len(array))]\n",
    "    for i in range(len(array)):\n",
    "        opt[i][i] = array[i]\n",
    "    for j in range(1, len(array)):\n",
    "        for i in reversed(range(len(array))):\n",
    "            if j > i:\n",
    "                opt[i][j] = max(sum(array[i:j+1]), \\\n",
    "                                opt[i + 1][j], \\\n",
    "                                opt[i][j - 1], \\\n",
    "                                opt[i + 1][j - 1])\n",
    "                \n",
    "    return opt[0][len(array) - 1]"
   ]
  },
  {
   "cell_type": "code",
   "execution_count": null,
   "metadata": {},
   "outputs": [],
   "source": [
    "def kadanesAlgorithm(array):\n",
    "    # Write your code here.\n",
    "    optPrev = array[0]\n",
    "    maxSum = optPrev\n",
    "    for i in range(1, len(array)):\n",
    "        optCurrent = max(array[i], optPrev + array[i])\n",
    "        maxSum = max(maxSum, optCurrent)\n",
    "        optPrev = optCurrent\n",
    "    return maxSum"
   ]
  },
  {
   "source": [
    "## Expert Solution"
   ],
   "cell_type": "markdown",
   "metadata": {}
  },
  {
   "cell_type": "code",
   "execution_count": null,
   "metadata": {},
   "outputs": [],
   "source": [
    "# O(n) time | O(1) space - where n is the length of the input array\n",
    "def kadanesAlgorithm(array):\n",
    "    maxEndingHere = array[0]\n",
    "    maxSoFar = array[0]\n",
    "    for i in range(1, len(array)):\n",
    "        num = array[i]\n",
    "        maxEndingHere = max(num, maxEndingHere + num)\n",
    "        maxSoFar = max(maxSoFar, maxEndingHere)\n",
    "    return maxSoFar"
   ]
  },
  {
   "cell_type": "code",
   "execution_count": null,
   "metadata": {},
   "outputs": [],
   "source": []
  },
  {
   "source": [
    "## Thoughts\n",
    "- O(i): optimal solution to the subarrays that **ends up** at index i. this defination is very important. for example, for O(5), the target subarrays including `array[0:6]`, `array[1:6]`, `array[2:6]`, `array[3:6]`, `array[4:6]`, `array[5:6]`. notice that `array[5:6]` is the subarray only contains `array[5]`.\n",
    "- opt(i): the value of this optimal solution.\n",
    "\n",
    "opt(i) = the optimal value of a subarray ends up at index i.\n",
    "\n",
    "there are two possible situations.\n",
    "- this subarray starts at index i: because the subarray also ends up at index i, the sum of the subarray is `array[i]`.\n",
    "- this subarray starts before index i: in this situation, `opt(i) = opt(i-1) + array[i]`.\n",
    "\n",
    "so, `opt(i) = max(array[i], opt(i-1) + array[i])`\n",
    "\n",
    "obviously, the time complexity will be O(n). further more, with keeping track of the maxium optimal value, the space complexity could be reduced to O(1)."
   ],
   "cell_type": "markdown",
   "metadata": {}
  },
  {
   "cell_type": "code",
   "execution_count": null,
   "metadata": {},
   "outputs": [],
   "source": []
  },
  {
   "cell_type": "code",
   "execution_count": null,
   "metadata": {},
   "outputs": [],
   "source": []
  },
  {
   "cell_type": "code",
   "execution_count": null,
   "metadata": {},
   "outputs": [],
   "source": []
  },
  {
   "cell_type": "code",
   "execution_count": null,
   "metadata": {},
   "outputs": [],
   "source": []
  },
  {
   "cell_type": "code",
   "execution_count": null,
   "metadata": {},
   "outputs": [],
   "source": []
  },
  {
   "cell_type": "code",
   "execution_count": null,
   "metadata": {},
   "outputs": [],
   "source": []
  },
  {
   "cell_type": "code",
   "execution_count": null,
   "metadata": {},
   "outputs": [],
   "source": []
  },
  {
   "cell_type": "code",
   "execution_count": null,
   "metadata": {},
   "outputs": [],
   "source": []
  },
  {
   "cell_type": "code",
   "execution_count": null,
   "metadata": {},
   "outputs": [],
   "source": []
  },
  {
   "cell_type": "code",
   "execution_count": null,
   "metadata": {},
   "outputs": [],
   "source": []
  },
  {
   "cell_type": "code",
   "execution_count": null,
   "metadata": {},
   "outputs": [],
   "source": []
  },
  {
   "cell_type": "code",
   "execution_count": null,
   "metadata": {},
   "outputs": [],
   "source": []
  }
 ]
}