{
 "metadata": {
  "language_info": {
   "codemirror_mode": {
    "name": "ipython",
    "version": 3
   },
   "file_extension": ".py",
   "mimetype": "text/x-python",
   "name": "python",
   "nbconvert_exporter": "python",
   "pygments_lexer": "ipython3",
   "version": 3
  },
  "orig_nbformat": 2
 },
 "nbformat": 4,
 "nbformat_minor": 2,
 "cells": [
  {
   "cell_type": "markdown",
   "source": [
    "# Tandem Bicycle\n",
    "[link](https://www.algoexpert.io/questions/Tandem%20Bicycle)"
   ],
   "metadata": {}
  },
  {
   "cell_type": "markdown",
   "source": [
    "## My Solution"
   ],
   "metadata": {}
  },
  {
   "cell_type": "code",
   "execution_count": null,
   "source": [
    "# O(nlog(n)) time | O(1) space\n",
    "def tandemBicycle(redShirtSpeeds, blueShirtSpeeds, fastest):\n",
    "    # Write your code here.\n",
    "    redShirtSpeeds.sort()\n",
    "    if fastest is True:\n",
    "        blueShirtSpeeds.sort(reverse=True)\n",
    "    else:\n",
    "        blueShirtSpeeds.sort()\n",
    "    sumOfSpeeds = 0\n",
    "    for i in range(len(redShirtSpeeds)):\n",
    "        if redShirtSpeeds[i] > blueShirtSpeeds[i]:\n",
    "            sumOfSpeeds += redShirtSpeeds[i]\n",
    "        else:\n",
    "            sumOfSpeeds += blueShirtSpeeds[i]\n",
    "    return sumOfSpeeds"
   ],
   "outputs": [],
   "metadata": {}
  },
  {
   "cell_type": "markdown",
   "source": [
    "## Expert Solution"
   ],
   "metadata": {}
  },
  {
   "cell_type": "code",
   "execution_count": null,
   "source": [
    "# O(nlog(n)) time | O(1) space - where n is the number of tandem bicycles\n",
    "def tandemBicycle(redShirtSpeeds, blueShirtSpeeds, fastest):\n",
    "    redShirtSpeeds.sort()\n",
    "    blueShirtSpeeds.sort()\n",
    "\n",
    "    if not fastest:\n",
    "        reverseArrayInPlace(redShirtSpeeds)\n",
    "\n",
    "    totalSpeed = 0\n",
    "    for idx in range(len(redShirtSpeeds)):\n",
    "        rider1 = redShirtSpeeds[idx]\n",
    "        rider2 = blueShirtSpeeds[len(blueShirtSpeeds) - idx - 1]\n",
    "        totalSpeed += max(rider1, rider2)\n",
    "\n",
    "    return totalSpeed\n",
    "\n",
    "def reverseArrayInPlace(array):\n",
    "    start = 0\n",
    "    end = len(array) - 1\n",
    "    while start < end:\n",
    "        array[start], array[end] = array[end], array[start]\n",
    "        start += 1\n",
    "        end -= 1"
   ],
   "outputs": [],
   "metadata": {}
  },
  {
   "cell_type": "markdown",
   "source": [
    "## Thoughts"
   ],
   "metadata": {}
  },
  {
   "cell_type": "code",
   "execution_count": null,
   "source": [],
   "outputs": [],
   "metadata": {}
  },
  {
   "cell_type": "code",
   "execution_count": null,
   "source": [],
   "outputs": [],
   "metadata": {}
  },
  {
   "cell_type": "code",
   "execution_count": null,
   "source": [],
   "outputs": [],
   "metadata": {}
  },
  {
   "cell_type": "code",
   "execution_count": null,
   "source": [],
   "outputs": [],
   "metadata": {}
  },
  {
   "cell_type": "code",
   "execution_count": null,
   "source": [],
   "outputs": [],
   "metadata": {}
  },
  {
   "cell_type": "code",
   "execution_count": null,
   "source": [],
   "outputs": [],
   "metadata": {}
  },
  {
   "cell_type": "code",
   "execution_count": null,
   "source": [],
   "outputs": [],
   "metadata": {}
  },
  {
   "cell_type": "code",
   "execution_count": null,
   "source": [],
   "outputs": [],
   "metadata": {}
  },
  {
   "cell_type": "code",
   "execution_count": null,
   "source": [],
   "outputs": [],
   "metadata": {}
  },
  {
   "cell_type": "code",
   "execution_count": null,
   "source": [],
   "outputs": [],
   "metadata": {}
  },
  {
   "cell_type": "code",
   "execution_count": null,
   "source": [],
   "outputs": [],
   "metadata": {}
  },
  {
   "cell_type": "code",
   "execution_count": null,
   "source": [],
   "outputs": [],
   "metadata": {}
  }
 ]
}