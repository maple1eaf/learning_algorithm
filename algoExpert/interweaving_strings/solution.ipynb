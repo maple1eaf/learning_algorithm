{
 "metadata": {
  "language_info": {
   "codemirror_mode": {
    "name": "ipython",
    "version": 3
   },
   "file_extension": ".py",
   "mimetype": "text/x-python",
   "name": "python",
   "nbconvert_exporter": "python",
   "pygments_lexer": "ipython3",
   "version": 3
  },
  "orig_nbformat": 2
 },
 "nbformat": 4,
 "nbformat_minor": 2,
 "cells": [
  {
   "source": [
    "# Interweaving String\n",
    "[link](https://www.algoexpert.io/questions/Interweaving%20Strings)"
   ],
   "cell_type": "markdown",
   "metadata": {}
  },
  {
   "source": [
    "## My Solution"
   ],
   "cell_type": "markdown",
   "metadata": {}
  },
  {
   "cell_type": "code",
   "execution_count": null,
   "metadata": {},
   "outputs": [],
   "source": [
    "def interweavingStrings(one, two, three):\n",
    "    # Write your code here.\n",
    "\t# O(2 ^ (n + m)) time | O(n + m) space\n",
    "\treturn helper(one, two, three, 0, 0, 0)\n",
    "\t\n",
    "def helper(one, two, three, p1, p2, p3):\n",
    "\twhile p1 < len(one) and p2 < len(two) and p3 < len(three):\n",
    "\t\tif one[p1] != two[p2]:\n",
    "\t\t\tif one[p1] == three[p3]:\n",
    "\t\t\t\tp1 += 1\n",
    "\t\t\t\tp3 += 1\n",
    "\t\t\telif two[p2] == three[p3]:\n",
    "\t\t\t\tp2 += 1\n",
    "\t\t\t\tp3 += 1\n",
    "\t\t\telse:\n",
    "\t\t\t\treturn False\n",
    "\t\telse:\n",
    "\t\t\tif one[p1] != three[p3]:\n",
    "\t\t\t\treturn False\n",
    "\t\t\treturn helper(one, two, three, p1 + 1, p2, p3 + 1) or helper(one, two, three, p1, p2 + 1, p3 + 1)\n",
    "\tif p1 == len(one): \n",
    "\t\twhile p2 < len(two) and p3 < len(three):\n",
    "\t\t\tif two[p2] ==  three[p3]:\n",
    "\t\t\t\tp2 += 1\n",
    "\t\t\t\tp3 += 1\n",
    "\t\t\telse:\n",
    "\t\t\t\treturn False\n",
    "\telif p2 == len(two):\n",
    "\t\twhile p1 < len(two) and p3 < len(three):\n",
    "\t\t\tif one[p1] ==  three[p3]:\n",
    "\t\t\t\t\tp1 += 1\n",
    "\t\t\t\t\tp3 += 1\n",
    "\t\t\telse:\n",
    "\t\t\t\treturn False\n",
    "\treturn p1 == len(one) and p2 == len(two) and p3 == len(three)"
   ]
  },
  {
   "cell_type": "code",
   "execution_count": null,
   "metadata": {},
   "outputs": [],
   "source": [
    "def interweavingStrings(one, two, three):\n",
    "    # Write your code here.\n",
    "\t# O(2 ^ (n + m)) time | O(n + m) space\n",
    "    if len(one) + len(two) != len(three):\n",
    "        return False\n",
    "\treturn helper(one, two, three, 0, 0, 0)\n",
    "\t\n",
    "def helper(one, two, three, p1, p2, p3):\n",
    "\tif p3 == len(three):\n",
    "\t\treturn True\n",
    "\tr1, r2 = False, False\n",
    "    if p1 < len(one) and one[p1] == three[p3]:\n",
    "        r1 = helper(one, two, three, p1 + 1, p2, p3 + 1)\n",
    "    if p2 < len(two) and two[p2] == three[p3]:\n",
    "        r2 = helper(one, two, three, p1, p2 + 1, p3 + 1)\n",
    "    return r1 or r2"
   ]
  },
  {
   "cell_type": "code",
   "execution_count": null,
   "metadata": {},
   "outputs": [],
   "source": [
    "def interweavingStrings(one, two, three):\n",
    "    # Write your code here.\n",
    "    # O(nm) time | O(nm) space\n",
    "    if len(one) + len(two) != len(three):\n",
    "        return False\n",
    "    opt = [[False for j in range(len(two) + 1)] for i in range(len(one) + 1)]\n",
    "    opt[0][0] = True\n",
    "    for i in range(1, len(one) + 1):\n",
    "        if one[i - 1] == three[i - 1]:\n",
    "            opt[i][0] = True\n",
    "        else:\n",
    "            break\n",
    "    for j in range(1, len(two) + 1):\n",
    "        if two[j - 1] == three[j - 1]:\n",
    "            opt[0][j] = True\n",
    "        else:\n",
    "            break\n",
    "    for i in range(1, len(one) + 1):\n",
    "        for j in range(1, len(two) + 1):\n",
    "            if one[i - 1] == three[i + j - 1] and opt[i - 1][j] == True:\n",
    "                opt[i][j] = True\n",
    "            elif two[j - 1] == three[i + j - 1] and opt[i][j - 1] == True:\n",
    "                opt[i][j] = True\n",
    "            else:\n",
    "                opt[i][j] = False\n",
    "    for x in opt:\n",
    "        print(x)\n",
    "    return opt[-1][-1]"
   ]
  },
  {
   "cell_type": "code",
   "execution_count": null,
   "metadata": {},
   "outputs": [],
   "source": [
    "def interweavingStrings(one, two, three):\n",
    "    # Write your code here.\n",
    "    # O(nm) time | O(min(n, m)) space\n",
    "    if len(one) + len(two) != len(three):\n",
    "        return False\n",
    "    if len(one) > len(two):\n",
    "        short = two\n",
    "        long = one\n",
    "    else:\n",
    "        short = one\n",
    "        long = two\n",
    "    opt = [False for s in range(len(short) + 1)]\n",
    "    opt[0] = True\n",
    "    for s in range(1, len(short) + 1):\n",
    "        if short[s - 1] == three[s - 1]:\n",
    "            opt[s] = True\n",
    "        else:\n",
    "            break\n",
    "    for l in range(1, len(long) + 1):\n",
    "        for s in range(1, len(short) + 1):\n",
    "            if long[l - 1] == three[l - 1] and opt[0] == True:\n",
    "                opt[0] = True\n",
    "            else:\n",
    "                opt[0] = False\n",
    "            if long[l - 1] == three[l + s - 1] and opt[s] == True:\n",
    "                opt[s] = True\n",
    "            elif short[s - 1] == three[l + s - 1] and opt[s - 1] == True:\n",
    "                opt[s] = True\n",
    "            else:\n",
    "                opt[s] = False\n",
    "    return opt[-1]"
   ]
  },
  {
   "source": [
    "## Expert Solution"
   ],
   "cell_type": "markdown",
   "metadata": {}
  },
  {
   "cell_type": "code",
   "execution_count": null,
   "metadata": {},
   "outputs": [],
   "source": [
    "# O(2^(n + m)) time, O(n+m) space, where n is the length of the first stirng,\n",
    "# m is the length of the second string\n",
    "def interweavingStrings(one, two, three):\n",
    "    if len(three) != len(one) + len(two):\n",
    "\t\treturn False\n",
    "\t\n",
    "\treturn areInterwoven(one, two, three, 0, 0)\n",
    "\n",
    "def areInterwoven(one, two, three, i, j):\n",
    "\tk = i + j\n",
    "\tif k == len(three):\n",
    "\t\treturn True\n",
    "\t\n",
    "\tif i < len(one) and one[i] == three[k]:\n",
    "\t\tif areInterwoven(one, two, three, i + 1, j):\n",
    "\t\t\treturn True\n",
    "\t\t\n",
    "\tif j < len(two) and two[j] == three[k]:\n",
    "\t\treturn areInterwoven(one, two, three, i, j + 1)\n",
    "\treturn False"
   ]
  },
  {
   "cell_type": "code",
   "execution_count": null,
   "metadata": {},
   "outputs": [],
   "source": [
    "# O(nm) time, O(nm) space, where n is the length of the first stirng,\n",
    "# m is the length of the second string\n",
    "def interweavingStrings(one, two, three):\n",
    "    if len(three) != len(one) + len(two):\n",
    "\t\treturn False\n",
    "\tcache = [[None for j in range(len(two) + 1)] for i in range(len(one) + 1)]\n",
    "\treturn areInterwoven(one, two, three, 0, 0, cache)\n",
    "\n",
    "def areInterwoven(one, two, three, i, j, cache):\n",
    "    if cache[i][j] is not None:\n",
    "        return cache[i][j]\n",
    "\n",
    "\tk = i + j\n",
    "\tif k == len(three):\n",
    "\t\treturn True\n",
    "\t\n",
    "\tif i < len(one) and one[i] == three[k]:\n",
    "\t\tcache[i][j] = areInterwoven(one, two, three, i + 1, j, cache)\n",
    "        if cache[i][j]:\n",
    "\t\t\treturn True\n",
    "\t\t\n",
    "\tif j < len(two) and two[j] == three[k]:\n",
    "\t\tcache[i][j] = areInterwoven(one, two, three, i, j + 1, cache)\n",
    "        return cache[i][j]\n",
    "        \n",
    "    cache[i][j] = False\n",
    "\treturn False"
   ]
  },
  {
   "source": [
    "## Thoughts\n",
    "## expert solutions\n",
    "- use cache can help get rid of the duplicate calculations and highly reduce the time complexity.\n",
    "\n",
    "### mind the code snippet bellow in the solution 1:\n",
    "```python\n",
    "if i < len(one) and one[i] == three[k]:\n",
    "    if areInterwoven(one, two, three, i + 1, j):\n",
    "        return True\n",
    "    \n",
    "if j < len(two) and two[j] == three[k]:\n",
    "    return areInterwoven(one, two, three, i, j + 1)\n",
    "```\n",
    "\n",
    "- if the first recursive call is a success, we can early return a True.\n",
    "- while if the first recursive call is a failure, we need to wait until the second recursive call finishes.\n",
    "- it's unnecessary to return after both recursive calls finish\n",
    "\n",
    "## my dp solution\n",
    "- opt(i, j) - can prev-i of string one and prev-j of string two interweave to the prev-(i + j) of string three? (True or False)\n",
    "- notice that the space complexity can reduce to O(min(n, m)) because the opt(i, j) depends on opt(i - 1, j) and opt(i, j - 1)"
   ],
   "cell_type": "markdown",
   "metadata": {}
  },
  {
   "cell_type": "code",
   "execution_count": null,
   "metadata": {},
   "outputs": [],
   "source": []
  },
  {
   "cell_type": "code",
   "execution_count": null,
   "metadata": {},
   "outputs": [],
   "source": []
  },
  {
   "cell_type": "code",
   "execution_count": null,
   "metadata": {},
   "outputs": [],
   "source": []
  },
  {
   "cell_type": "code",
   "execution_count": null,
   "metadata": {},
   "outputs": [],
   "source": []
  },
  {
   "cell_type": "code",
   "execution_count": null,
   "metadata": {},
   "outputs": [],
   "source": []
  },
  {
   "cell_type": "code",
   "execution_count": null,
   "metadata": {},
   "outputs": [],
   "source": []
  },
  {
   "cell_type": "code",
   "execution_count": null,
   "metadata": {},
   "outputs": [],
   "source": []
  },
  {
   "cell_type": "code",
   "execution_count": null,
   "metadata": {},
   "outputs": [],
   "source": []
  },
  {
   "cell_type": "code",
   "execution_count": null,
   "metadata": {},
   "outputs": [],
   "source": []
  },
  {
   "cell_type": "code",
   "execution_count": null,
   "metadata": {},
   "outputs": [],
   "source": []
  },
  {
   "cell_type": "code",
   "execution_count": null,
   "metadata": {},
   "outputs": [],
   "source": []
  },
  {
   "cell_type": "code",
   "execution_count": null,
   "metadata": {},
   "outputs": [],
   "source": []
  }
 ]
}