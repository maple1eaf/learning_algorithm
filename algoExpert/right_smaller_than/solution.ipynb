{
 "metadata": {
  "language_info": {
   "codemirror_mode": {
    "name": "ipython",
    "version": 3
   },
   "file_extension": ".py",
   "mimetype": "text/x-python",
   "name": "python",
   "nbconvert_exporter": "python",
   "pygments_lexer": "ipython3",
   "version": 3
  },
  "orig_nbformat": 2
 },
 "nbformat": 4,
 "nbformat_minor": 2,
 "cells": [
  {
   "source": [
    "# Right Smaller Than\n",
    "[link](https://www.algoexpert.io/questions/Right%20Smaller%20Than)"
   ],
   "cell_type": "markdown",
   "metadata": {}
  },
  {
   "source": [
    "## My Solution"
   ],
   "cell_type": "markdown",
   "metadata": {}
  },
  {
   "cell_type": "code",
   "execution_count": null,
   "metadata": {},
   "outputs": [],
   "source": [
    "def rightSmallerThan(array):\n",
    "    # Write your code here.\n",
    "    # O(n^2) time | O(n) space\n",
    "    res = array[:]\n",
    "    for idx in reversed(range(len(array))):\n",
    "        count = 0\n",
    "        for i in range(idx + 1, len(array)):\n",
    "            if array[i] < array[idx]:\n",
    "                count += 1\n",
    "        res[idx] = count\n",
    "    return res"
   ]
  },
  {
   "cell_type": "code",
   "execution_count": null,
   "metadata": {},
   "outputs": [],
   "source": [
    "def rightSmallerThan(array):\n",
    "    # Write your code here.\n",
    "    # O(nlogn) time | O(n) space\n",
    "    res = array[:]\n",
    "    root = None\n",
    "    for i in reversed(range(len(array))):\n",
    "        x = array[i]\n",
    "        if i == len(array) - 1:\n",
    "            root = BST(x)\n",
    "            res[i] = 0\n",
    "        else:\n",
    "            count = root.insert(x)\n",
    "            res[i] = count\n",
    "    return res\n",
    "        \n",
    "class BST:\n",
    "    def __init__(self, value):\n",
    "        self.value = value\n",
    "        self.left = None\n",
    "        self.right = None\n",
    "        self.leftCount = 0\n",
    "        \n",
    "    def insert(self, value):\n",
    "        n = BST(value)\n",
    "        cur = self\n",
    "        countRightSmallerThan = 0\n",
    "        while True:\n",
    "            if value >= cur.value:\n",
    "                countRightSmallerThan += cur.leftCount + (1 if value > cur.value else 0)\n",
    "                if cur.right is not None:\n",
    "                    cur = cur.right\n",
    "                else:\n",
    "                    cur.right = n\n",
    "                    break\n",
    "            else:\n",
    "                cur.leftCount += 1\n",
    "                if cur.left is not None:\n",
    "                    cur = cur.left\n",
    "                else:\n",
    "                    cur.left = n\n",
    "                    break\n",
    "        return countRightSmallerThan"
   ]
  },
  {
   "cell_type": "code",
   "execution_count": null,
   "metadata": {},
   "outputs": [],
   "source": [
    "def rightSmallerThan(array):\n",
    "    # Write your code here.\n",
    "    # O(nlogn) time | O(n) space\n",
    "    res = array[:]\n",
    "    root = None\n",
    "    for i in reversed(range(len(array))):\n",
    "        x = array[i]\n",
    "        if i == len(array) - 1:\n",
    "            root = BST(x)\n",
    "            res[i] = 0\n",
    "        else:\n",
    "            countLst = root.insert(x, [0])\n",
    "            res[i] = countLst[0]\n",
    "    return res\n",
    "        \n",
    "class BST:\n",
    "    def __init__(self, value):\n",
    "        self.value = value\n",
    "        self.left = None\n",
    "        self.right = None\n",
    "        self.leftCount = 0\n",
    "        \n",
    "    def insert(self, value, countRightSmallerThan):\n",
    "        if value >= self.value:\n",
    "            countRightSmallerThan[0] += self.leftCount + (1 if value > self.value else 0)\n",
    "            if self.right is not None:\n",
    "                self.right.insert(value, countRightSmallerThan)\n",
    "            else:\n",
    "                self.right = BST(value)\n",
    "        else:\n",
    "            self.leftCount += 1\n",
    "            if self.left is not None:\n",
    "                self.left.insert(value, countRightSmallerThan)\n",
    "            else:\n",
    "                self.left = BST(value)\n",
    "        return countRightSmallerThan"
   ]
  },
  {
   "source": [
    "## Expert Solution"
   ],
   "cell_type": "markdown",
   "metadata": {}
  },
  {
   "cell_type": "code",
   "execution_count": null,
   "metadata": {},
   "outputs": [],
   "source": [
    "# O(n^2) time | O(n) space - where n is the length of the array\n",
    "def rightSmallerThan(array):\n",
    "    rightSamllerCounts = []\n",
    "    for i in range(len(array)):\n",
    "        rightSamllerCount = 0\n",
    "        for j in range(i + 1, len(array)):\n",
    "            if array[j] < array[i]:\n",
    "                rightSamllerCount += 1\n",
    "        rightSamllerCounts.append(rightSamllerCount)\n",
    "    return rightSamllerCounts"
   ]
  },
  {
   "cell_type": "code",
   "execution_count": null,
   "metadata": {},
   "outputs": [],
   "source": [
    "# Average case: when the created BST is balanced\n",
    "# O(nlog(n)) time | O(n) space - where n is the length of the array\n",
    "# ---\n",
    "# Worst case: when the created BST is like a linked list\n",
    "# O(n^2) time | O(n) space\n",
    "def rightSmallerThan(array):\n",
    "    if len(array) == 0:\n",
    "        return []\n",
    "\n",
    "    lastIdx = len(array) - 1\n",
    "    bst = SpecialBST(array[lastIdx], lastIdx, 0)\n",
    "    for i in reversed(range(len(array) - 1)):\n",
    "        bst.insert(array[i], i)\n",
    "\n",
    "    rightSmallerCounts = array[:]\n",
    "    getRightSmallerCounts(bst, rightSmallerCounts)\n",
    "    return rightSmallerCounts\n",
    "\n",
    "def getRightSmallerCounts(bst, rightSmallerCounts):\n",
    "    if bst is None:\n",
    "        return\n",
    "    rightSmallerCounts[bst.idx] = bst.numSmallerAtInsertTime\n",
    "    getRightSmallerCounts(bst.left, rightSmallerCounts)\n",
    "    getRightSmallerCounts(bst.right, rightSmallerCounts)\n",
    "\n",
    "class SpecialBST:\n",
    "    def __init__(self, value, idx, numSmallerAtInsertTime):\n",
    "        self.value = value\n",
    "        self.idx = idx\n",
    "        self.numSmallerAtInsertTime = numSmallerAtInsertTime\n",
    "        self.leftSubtreeSize = 0\n",
    "        self.left = None\n",
    "        self.right = None\n",
    "\n",
    "    def insert(self, value, idx, numSmallerAtInsertTime=0):\n",
    "        if value < self.value:\n",
    "            self.leftSubtreeSize += 1\n",
    "            if self.left is None:\n",
    "                self.left = SpecialBST(value, idx, numSmallerAtInsertTime)\n",
    "            else:\n",
    "                self.left.insert(value, idx, numSmallerAtInsertTime)\n",
    "        else:\n",
    "            numSmallerAtInsertTime += self.leftSubtreeSize\n",
    "            if value > self.value:\n",
    "                numSmallerAtInsertTime += 1\n",
    "            if self.right is None:\n",
    "                self.right = SpecialBST(value, idx, numSmallerAtInsertTime)\n",
    "            else:\n",
    "                self.right.insert(value, idx, numSmallerAtInsertTime)"
   ]
  },
  {
   "cell_type": "code",
   "execution_count": null,
   "metadata": {},
   "outputs": [],
   "source": [
    "# Average case: when the created BST is balanced\n",
    "# O(nlog(n)) time | O(n) space - where n is the length of the array\n",
    "# ---\n",
    "# Worst case: when the created BST is like a linked list\n",
    "# O(n^2) time | O(n) space\n",
    "def rightSmallerThan(array):\n",
    "    if len(array) == 0:\n",
    "        return []\n",
    "\n",
    "    rightSmallerCounts = array[:]\n",
    "    lastIdx = len(array) - 1\n",
    "    bst = SpecialBST(array[lastIdx])\n",
    "    rightSmallerCounts[lastIdx] = 0\n",
    "    for i in reversed(range(len(array) - 1)):\n",
    "        bst.insert(array[i], i, rightSmallerCounts)\n",
    "\n",
    "    return rightSmallerCounts\n",
    "\n",
    "class SpecialBST:\n",
    "    def __init__(self, value):\n",
    "        self.value = value\n",
    "        self.leftSubtreeSize = 0\n",
    "        self.left = None\n",
    "        self.right = None\n",
    "\n",
    "    def insert(self, value, idx, rightSmallerCounts, numSmallerAtInsertTime=0):\n",
    "        if value < self.value:\n",
    "            self.leftSubtreeSize += 1\n",
    "            if self.left is None:\n",
    "                self.left = SpecialBST(value)\n",
    "                rightSmallerCounts[idx] = numSmallerAtInsertTime\n",
    "            else:\n",
    "                self.left.insert(value, idx, rightSmallerCounts, numSmallerAtInsertTime)\n",
    "        else:\n",
    "            numSmallerAtInsertTime += self.leftSubtreeSize\n",
    "            if value > self.value:\n",
    "                numSmallerAtInsertTime += 1\n",
    "            if self.right is None:\n",
    "                self.right = SpecialBST(value)\n",
    "                rightSmallerCounts[idx] = numSmallerAtInsertTime\n",
    "            else:\n",
    "                self.right.insert(value, idx, rightSmallerCounts, numSmallerAtInsertTime)"
   ]
  },
  {
   "source": [
    "## Thoughts\n",
    "keep track of every BST node's left subtree's size will reduce the recount.\n",
    "\n",
    "### crucial points of using BST to solve this sort of problem\n",
    "- iterate direction\n",
    "    - in this problem, when we add a new node to BST, we need the information of all its right numbers, which should be taken into account first, so we iterate the array from right to left.\n",
    "    - if we face a problem like \"left bigger than\", we need the information of all its left numbers first, then we need to iterate from left to right.\n",
    "- think when a node is added, which part of the current BST is the target"
   ],
   "cell_type": "markdown",
   "metadata": {}
  },
  {
   "cell_type": "code",
   "execution_count": null,
   "metadata": {},
   "outputs": [],
   "source": []
  },
  {
   "cell_type": "code",
   "execution_count": null,
   "metadata": {},
   "outputs": [],
   "source": []
  },
  {
   "cell_type": "code",
   "execution_count": null,
   "metadata": {},
   "outputs": [],
   "source": []
  },
  {
   "cell_type": "code",
   "execution_count": null,
   "metadata": {},
   "outputs": [],
   "source": []
  },
  {
   "cell_type": "code",
   "execution_count": null,
   "metadata": {},
   "outputs": [],
   "source": []
  },
  {
   "cell_type": "code",
   "execution_count": null,
   "metadata": {},
   "outputs": [],
   "source": []
  },
  {
   "cell_type": "code",
   "execution_count": null,
   "metadata": {},
   "outputs": [],
   "source": []
  },
  {
   "cell_type": "code",
   "execution_count": null,
   "metadata": {},
   "outputs": [],
   "source": []
  },
  {
   "cell_type": "code",
   "execution_count": null,
   "metadata": {},
   "outputs": [],
   "source": []
  },
  {
   "cell_type": "code",
   "execution_count": null,
   "metadata": {},
   "outputs": [],
   "source": []
  },
  {
   "cell_type": "code",
   "execution_count": null,
   "metadata": {},
   "outputs": [],
   "source": []
  },
  {
   "cell_type": "code",
   "execution_count": null,
   "metadata": {},
   "outputs": [],
   "source": []
  }
 ]
}