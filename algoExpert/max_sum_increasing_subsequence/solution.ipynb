{
 "metadata": {
  "language_info": {
   "codemirror_mode": {
    "name": "ipython",
    "version": 3
   },
   "file_extension": ".py",
   "mimetype": "text/x-python",
   "name": "python",
   "nbconvert_exporter": "python",
   "pygments_lexer": "ipython3",
   "version": 3
  },
  "orig_nbformat": 2
 },
 "nbformat": 4,
 "nbformat_minor": 2,
 "cells": [
  {
   "source": [
    "# Max Sum Increasing Subsequence\n",
    "[link](https://www.algoexpert.io/questions/Max%20Sum%20Increasing%20Subsequence)"
   ],
   "cell_type": "markdown",
   "metadata": {}
  },
  {
   "source": [
    "## My Solution"
   ],
   "cell_type": "markdown",
   "metadata": {}
  },
  {
   "cell_type": "code",
   "execution_count": null,
   "metadata": {},
   "outputs": [],
   "source": [
    "def maxSumIncreasingSubsequence(array):\n",
    "    # Write your code here.\n",
    "    memo = [float('-inf') for _ in array]\n",
    "    memo[0] = array[0]\n",
    "    maxValue = array[0]\n",
    "    maxIdx = 0\n",
    "    for i in range(1, len(array)):\n",
    "        temp = float('-inf')\n",
    "        for k in range(i):\n",
    "            if array[k] < array[i]:\n",
    "                temp = max(temp, memo[k] + array[i])\n",
    "        memo[i] = max(temp, array[i])\n",
    "        if memo[i] > maxValue:\n",
    "            maxValue = memo[i]\n",
    "            maxIdx = i\n",
    "    \n",
    "    i = maxIdx\n",
    "    subSequence = []\n",
    "    targetSum = maxValue\n",
    "    while i >= 0:\n",
    "        nowIdx = i\n",
    "        subSequence.append(array[i])\n",
    "        targetSum = targetSum - array[i]\n",
    "        for k in range(i):\n",
    "            if memo[k] == targetSum and array[k] < array[i]:\n",
    "                i = k\n",
    "                break\n",
    "        if nowIdx == i:\n",
    "            break\n",
    "    subSequence.reverse()\n",
    "    return [maxValue, subSequence]"
   ]
  },
  {
   "cell_type": "code",
   "execution_count": null,
   "metadata": {},
   "outputs": [],
   "source": [
    "def maxSumIncreasingSubsequence(array):\n",
    "    # Write your code here.\n",
    "    # optimize the code in my solution 1\n",
    "    memo = [_ for _ in array]\n",
    "    prevIdx = [None for _ in array]\n",
    "    maxSumIdx = 0\n",
    "    for i in range(1, len(array)):\n",
    "        for k in range(i):\n",
    "            if array[k] < array[i] and memo[k] + array[i] > memo[i]:\n",
    "                memo[i] = memo[k] + array[i]\n",
    "                prevIdx[i] = k\n",
    "        if memo[i] > memo[maxSumIdx]:\n",
    "            maxSumIdx = i\n",
    "            \n",
    "    i = maxSumIdx\n",
    "    subSequence = []\n",
    "    while i is not None:\n",
    "        subSequence.append(array[i])\n",
    "        i = prevIdx[i]\n",
    "    subSequence.reverse()\n",
    "    return [memo[maxSumIdx], subSequence]"
   ]
  },
  {
   "source": [
    "## Expert Solution"
   ],
   "cell_type": "markdown",
   "metadata": {}
  },
  {
   "cell_type": "code",
   "execution_count": null,
   "metadata": {},
   "outputs": [],
   "source": [
    "# O(n^2) time | O(n) space\n",
    "def maxSumIncreasingSubsequence(array):\n",
    "    sequences = [None for x in array]\n",
    "    sums = [num for num in array]\n",
    "    maxSumIdx = 0\n",
    "    for i in range(len(array)):\n",
    "        currentNum = array[i]\n",
    "        for j in range(0, i):\n",
    "            otherNum = array[j]\n",
    "            if otherNum < currentNum and sums[j] + currentNum >= sums[i]:\n",
    "                sums[i] = sums[j] + currentNum\n",
    "                sequences[i] = j\n",
    "        if sums[i] >= sums[maxSumIdx]:\n",
    "            maxSumIdx = i\n",
    "    return [sums[maxSumIdx], buildSequence(array, sequences, maxSumIdx)]\n",
    "    \n",
    "\n",
    "def buildSequence(array, sequences, currentIdx):\n",
    "    sequence = []\n",
    "    while currentIdx is not None:\n",
    "        sequence.append(array[currentIdx])\n",
    "        currentIdx = sequences[currentIdx]\n",
    "    return list(reversed(sequence))"
   ]
  },
  {
   "cell_type": "code",
   "execution_count": null,
   "metadata": {},
   "outputs": [],
   "source": []
  },
  {
   "source": [
    "## Thoughts\n",
    "### 2 ways of get the optimal solution in DP\n",
    "- from the value of the result optimal solution, use the recurrence formula to find who give you that value, traverse back. (as my solution 1)\n",
    "- build a table to store the previous index that give you the optimal value, traverse back. (as expert solution)"
   ],
   "cell_type": "markdown",
   "metadata": {}
  },
  {
   "cell_type": "code",
   "execution_count": null,
   "metadata": {},
   "outputs": [],
   "source": []
  },
  {
   "cell_type": "code",
   "execution_count": null,
   "metadata": {},
   "outputs": [],
   "source": []
  },
  {
   "cell_type": "code",
   "execution_count": null,
   "metadata": {},
   "outputs": [],
   "source": []
  },
  {
   "cell_type": "code",
   "execution_count": null,
   "metadata": {},
   "outputs": [],
   "source": []
  },
  {
   "cell_type": "code",
   "execution_count": null,
   "metadata": {},
   "outputs": [],
   "source": []
  },
  {
   "cell_type": "code",
   "execution_count": null,
   "metadata": {},
   "outputs": [],
   "source": []
  },
  {
   "cell_type": "code",
   "execution_count": null,
   "metadata": {},
   "outputs": [],
   "source": []
  },
  {
   "cell_type": "code",
   "execution_count": null,
   "metadata": {},
   "outputs": [],
   "source": []
  },
  {
   "cell_type": "code",
   "execution_count": null,
   "metadata": {},
   "outputs": [],
   "source": []
  },
  {
   "cell_type": "code",
   "execution_count": null,
   "metadata": {},
   "outputs": [],
   "source": []
  },
  {
   "cell_type": "code",
   "execution_count": null,
   "metadata": {},
   "outputs": [],
   "source": []
  },
  {
   "cell_type": "code",
   "execution_count": null,
   "metadata": {},
   "outputs": [],
   "source": []
  }
 ]
}