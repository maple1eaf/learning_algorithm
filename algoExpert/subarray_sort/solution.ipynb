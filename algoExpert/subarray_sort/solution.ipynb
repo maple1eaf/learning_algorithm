{
 "metadata": {
  "language_info": {
   "codemirror_mode": {
    "name": "ipython",
    "version": 3
   },
   "file_extension": ".py",
   "mimetype": "text/x-python",
   "name": "python",
   "nbconvert_exporter": "python",
   "pygments_lexer": "ipython3",
   "version": 3
  },
  "orig_nbformat": 2
 },
 "nbformat": 4,
 "nbformat_minor": 2,
 "cells": [
  {
   "source": [
    "# Subarray Sort\n",
    "[link](https://www.algoexpert.io/questions/Subarray%20Sort)"
   ],
   "cell_type": "markdown",
   "metadata": {}
  },
  {
   "source": [
    "## My Solution"
   ],
   "cell_type": "markdown",
   "metadata": {}
  },
  {
   "cell_type": "code",
   "execution_count": null,
   "metadata": {},
   "outputs": [],
   "source": [
    "def subarraySort(array):\n",
    "    # Write your code here.\n",
    "    minLimitIdx = len(array) - 1\n",
    "    minValue = array[-1]\n",
    "    for i in reversed(range(len(array) - 1)):\n",
    "        if array[i] <= minValue:\n",
    "            minValue = array[i]\n",
    "        else:\n",
    "            minLimitIdx = i\n",
    "            \n",
    "    maxLimitIdx = 0\n",
    "    maxValue = array[0]\n",
    "    for i in range(1, len(array)):\n",
    "        if array[i] >= maxValue:\n",
    "            maxValue = array[i]\n",
    "        else:\n",
    "            maxLimitIdx = i\n",
    "            \n",
    "    if minLimitIdx > maxLimitIdx:\n",
    "        return [-1, -1]\n",
    "    return [minLimitIdx, maxLimitIdx]"
   ]
  },
  {
   "cell_type": "code",
   "execution_count": null,
   "metadata": {},
   "outputs": [],
   "source": []
  },
  {
   "source": [
    "## Expert Solution"
   ],
   "cell_type": "markdown",
   "metadata": {}
  },
  {
   "cell_type": "code",
   "execution_count": null,
   "metadata": {},
   "outputs": [],
   "source": [
    "# O(n) time | O(1) space\n",
    "def subarraySort(array):\n",
    "    minOutOfOrder = float(\"inf\")\n",
    "    maxOutOfOrder = float(\"-inf\")\n",
    "    for i in range(len(array)):\n",
    "        num = array[i]\n",
    "        if isOutOfOrder(i, num, array):\n",
    "            minOutOfOrder = min(minOutOfOrder, num)\n",
    "            maxOutOfOrder = max(maxOutOfOrder, num)\n",
    "    if minOutOfOrder == float(\"inf\"):\n",
    "        return [-1, -1]\n",
    "    subarrayLeftIdx = 0\n",
    "    while minOutOfOrder >= array[subarrayLeftIdx]:\n",
    "        subarrayLeftIdx += 1\n",
    "    subarrayRightIdx = len(array) - 1\n",
    "    while maxOutOfOrder <= array[subarrayRightIdx]:\n",
    "        subarrayRightIdx -= 1\n",
    "    return [subarrayLeftIdx, subarrayRightIdx]\n",
    "\n",
    "def isOutOfOrder(i, num, array):\n",
    "    if i == 0:\n",
    "        return num > array[i + 1]\n",
    "    if i == len(array) - 1:\n",
    "        return num < array[i - 1]\n",
    "    return num > array[i + 1] or num < array[i - 1]"
   ]
  },
  {
   "cell_type": "code",
   "execution_count": null,
   "metadata": {},
   "outputs": [],
   "source": []
  },
  {
   "source": [
    "## Thoughts\n",
    "think of the sorted version of the given array. compare their difference.\n",
    "\n",
    "but we don't need to sort the entire array to solve the problem (this needs O(nlogn) time).\n",
    "\n",
    "we just need to switch the min invalid number to the right position and switch the max invalid number to the right position. a number is invalid if it will cause some part of the array needs to be sorted."
   ],
   "cell_type": "markdown",
   "metadata": {}
  },
  {
   "cell_type": "code",
   "execution_count": null,
   "metadata": {},
   "outputs": [],
   "source": []
  },
  {
   "cell_type": "code",
   "execution_count": null,
   "metadata": {},
   "outputs": [],
   "source": []
  },
  {
   "cell_type": "code",
   "execution_count": null,
   "metadata": {},
   "outputs": [],
   "source": []
  },
  {
   "cell_type": "code",
   "execution_count": null,
   "metadata": {},
   "outputs": [],
   "source": []
  },
  {
   "cell_type": "code",
   "execution_count": null,
   "metadata": {},
   "outputs": [],
   "source": []
  },
  {
   "cell_type": "code",
   "execution_count": null,
   "metadata": {},
   "outputs": [],
   "source": []
  },
  {
   "cell_type": "code",
   "execution_count": null,
   "metadata": {},
   "outputs": [],
   "source": []
  },
  {
   "cell_type": "code",
   "execution_count": null,
   "metadata": {},
   "outputs": [],
   "source": []
  },
  {
   "cell_type": "code",
   "execution_count": null,
   "metadata": {},
   "outputs": [],
   "source": []
  },
  {
   "cell_type": "code",
   "execution_count": null,
   "metadata": {},
   "outputs": [],
   "source": []
  },
  {
   "cell_type": "code",
   "execution_count": null,
   "metadata": {},
   "outputs": [],
   "source": []
  },
  {
   "cell_type": "code",
   "execution_count": null,
   "metadata": {},
   "outputs": [],
   "source": []
  }
 ]
}