{
 "metadata": {
  "language_info": {
   "codemirror_mode": {
    "name": "ipython",
    "version": 3
   },
   "file_extension": ".py",
   "mimetype": "text/x-python",
   "name": "python",
   "nbconvert_exporter": "python",
   "pygments_lexer": "ipython3",
   "version": 3
  },
  "orig_nbformat": 2
 },
 "nbformat": 4,
 "nbformat_minor": 2,
 "cells": [
  {
   "cell_type": "markdown",
   "source": [
    "# Reconstruct BST\n",
    "[link](https://www.algoexpert.io/questions/Reconstruct%20BST)"
   ],
   "metadata": {}
  },
  {
   "cell_type": "markdown",
   "source": [
    "## My Solution"
   ],
   "metadata": {}
  },
  {
   "cell_type": "code",
   "execution_count": null,
   "source": [
    "# This is an input class. Do not edit.\n",
    "class BST:\n",
    "    def __init__(self, value, left=None, right=None):\n",
    "        self.value = value\n",
    "        self.left = left\n",
    "        self.right = right\n",
    "    \n",
    "# O(h * n) time | O(n) space\n",
    "def reconstructBst(preOrderTraversalValues):\n",
    "    # Write your code here.\n",
    "    return helper(preOrderTraversalValues, 0, len(preOrderTraversalValues))\n",
    "\n",
    "def helper(preOrderTraversalValues, startIdx, endIdx):\n",
    "    if startIdx >= endIdx:\n",
    "        return None\n",
    "    newNodeValue = preOrderTraversalValues[startIdx]\n",
    "    newNode = BST(newNodeValue)\n",
    "    \n",
    "    breakIdx = startIdx + 1\n",
    "    while breakIdx < endIdx:\n",
    "        value = preOrderTraversalValues[breakIdx]\n",
    "        if value >= newNodeValue:\n",
    "            break\n",
    "        breakIdx += 1\n",
    "    \n",
    "    newNode.left = helper(preOrderTraversalValues, startIdx + 1, breakIdx)\n",
    "    newNode.right = helper(preOrderTraversalValues, breakIdx, endIdx)\n",
    "    \n",
    "    return newNode"
   ],
   "outputs": [],
   "metadata": {}
  },
  {
   "cell_type": "code",
   "execution_count": null,
   "source": [
    "# This is an input class. Do not edit.\n",
    "class BST:\n",
    "    def __init__(self, value, left=None, right=None):\n",
    "        self.value = value\n",
    "        self.left = left\n",
    "        self.right = right\n",
    "\n",
    "class InsertPoint:\n",
    "    def __init__(self, node, leftLimit, rightLimit, prev=None, nxt=None):\n",
    "        self.node = node\n",
    "        self.leftLimit = leftLimit\n",
    "        self.rightLimit = rightLimit\n",
    "        self.prev = prev\n",
    "        self.nxt = nxt\n",
    "\n",
    "# O(n) time | O(n) space\n",
    "def reconstructBst(preOrderTraversalValues):\n",
    "    # Write your code here.\n",
    "    tree = BST(preOrderTraversalValues[0])\n",
    "    insertPoint = InsertPoint(tree, float(\"-inf\"), float(\"inf\"))\n",
    "    for i in range(1, len(preOrderTraversalValues)):\n",
    "        newNode = BST(preOrderTraversalValues[i])\n",
    "        insertPoint = insertNode(newNode, insertPoint)\n",
    "    return tree\n",
    "\n",
    "def insertNode(newNode, initInsertPoint):\n",
    "    insertPoint = initInsertPoint\n",
    "    \n",
    "    while newNode.value < insertPoint.leftLimit or \\\n",
    "        newNode.value >= insertPoint.rightLimit:\n",
    "        insertPoint = insertPoint.prev\n",
    "        insertPoint.nxt = None\n",
    "\n",
    "    if newNode.value < insertPoint.node.value:\n",
    "        insertPoint.node.left = newNode\n",
    "        \n",
    "        newInsertPoint = InsertPoint(newNode, insertPoint.leftLimit, \\\n",
    "            insertPoint.node.value, insertPoint)\n",
    "        insertPoint.nxt = newInsertPoint\n",
    "        return newInsertPoint\n",
    "    else:\n",
    "        insertPoint.node.right = newNode\n",
    "        \n",
    "        newInsertPoint = InsertPoint(newNode, insertPoint.node.value, \\\n",
    "            insertPoint.rightLimit, insertPoint)\n",
    "        insertPoint.nxt = newInsertPoint\n",
    "        return newInsertPoint"
   ],
   "outputs": [],
   "metadata": {}
  },
  {
   "cell_type": "code",
   "execution_count": null,
   "source": [
    "# This is an input class. Do not edit.\n",
    "class BST:\n",
    "    def __init__(self, value, left=None, right=None):\n",
    "        self.value = value\n",
    "        self.left = left\n",
    "        self.right = right\n",
    "\n",
    "# O(n) time | O(n) space\n",
    "def reconstructBst(preOrderTraversalValues):\n",
    "    # Write your code here.\n",
    "    rootIdx = [0]\n",
    "    return helper(float(\"-inf\"), float(\"inf\"), preOrderTraversalValues, rootIdx)\n",
    "\n",
    "def helper(minLimit, maxLimit, preOrderTraversalValues, rootIdx):\n",
    "    if rootIdx[0] == len(preOrderTraversalValues):\n",
    "        return None\n",
    "    \n",
    "    curValue = preOrderTraversalValues[rootIdx[0]]\n",
    "    if curValue >= maxLimit or curValue < minLimit:\n",
    "        return None\n",
    "    \n",
    "    rootIdx[0] += 1\n",
    "    leftSubtree = helper(minLimit, curValue, preOrderTraversalValues, rootIdx)\n",
    "    rightSubtree = helper(curValue, maxLimit, preOrderTraversalValues, rootIdx)\n",
    "    \n",
    "    return BST(curValue, leftSubtree, rightSubtree)\n"
   ],
   "outputs": [],
   "metadata": {}
  },
  {
   "cell_type": "markdown",
   "source": [
    "## Expert Solution"
   ],
   "metadata": {}
  },
  {
   "cell_type": "code",
   "execution_count": null,
   "source": [
    "# This is an input class. Do not edit.\n",
    "class BST:\n",
    "    def __init__(self, value, left=None, right=None):\n",
    "        self.value = value\n",
    "        self.left = left\n",
    "        self.right = right\n",
    "    \n",
    "# O(n^2) time | O(n) space - where n is the length of the input array\n",
    "def reconstructBst(preOrderTraversalValues):\n",
    "    if len(preOrderTraversalValues) == 0:\n",
    "        return None\n",
    "\n",
    "    currentValue = preOrderTraversalValues[0]\n",
    "    rightSubtreeRootIdx = len(preOrderTraversalValues)\n",
    "\n",
    "    for idx in range(1, len(preOrderTraversalValues)):\n",
    "        value = preOrderTraversalValues[idx]\n",
    "        if value >= currentValue:\n",
    "            rightSubtreeRootIdx = idx\n",
    "            break\n",
    "\n",
    "    leftSubtree = reconstructBst(preOrderTraversalValues[1: rightSubtreeRootIdx])\n",
    "    rightSubtree = reconstructBst(preOrderTraversalValues[rightSubtreeRootIdx:])\n",
    "    return BST(currentValue, leftSubtree, rightSubtree)"
   ],
   "outputs": [],
   "metadata": {}
  },
  {
   "cell_type": "code",
   "execution_count": null,
   "source": [
    "# This is an input class. Do not edit.\n",
    "class BST:\n",
    "    def __init__(self, value, left=None, right=None):\n",
    "        self.value = value\n",
    "        self.left = left\n",
    "        self.right = right\n",
    "\n",
    "class TreeInfo:\n",
    "    def __init__(self, rootIdx):\n",
    "        self.rootIdx = rootIdx\n",
    "\n",
    "# O(n) time | O(n) space - where n is the length of the input array\n",
    "def reconstructBst(preOrderTraversalValues):\n",
    "    treeInfo = TreeInfo(0)\n",
    "    return reconstructBstFromRange(float(\"-inf\"), float(\"inf\"), preOrderTraversalValues, treeInfo)\n",
    "\n",
    "def reconstructBstFromRange(lowerBound, upperBound, preOrderTraversalValues, currentSubtreeInfo):\n",
    "    if currentSubtreeInfo.rootIdx == len(preOrderTraversalValues):\n",
    "        return None\n",
    "\n",
    "    rootValue = preOrderTraversalValues[currentSubtreeInfo.rootIdx]\n",
    "    if rootValue < lowerBound or rootValue >= upperBound:\n",
    "        return None\n",
    "\n",
    "    currentSubtreeInfo.rootIdx += 1\n",
    "    leftSubtree = reconstructBstFromRange(lowerBound, rootValue, preOrderTraversalValues, currentSubtreeInfo)\n",
    "    rightSubtree = reconstructBstFromRange(rootValue, upperBound, preOrderTraversalValues, currentSubtreeInfo)\n",
    "    return BST(rootValue, leftSubtree, rightSubtree)"
   ],
   "outputs": [],
   "metadata": {}
  },
  {
   "cell_type": "markdown",
   "source": [
    "## Thoughts"
   ],
   "metadata": {}
  },
  {
   "cell_type": "markdown",
   "source": [
    "- expert solution 2 is awesome!"
   ],
   "metadata": {}
  },
  {
   "cell_type": "code",
   "execution_count": null,
   "source": [],
   "outputs": [],
   "metadata": {}
  },
  {
   "cell_type": "code",
   "execution_count": null,
   "source": [],
   "outputs": [],
   "metadata": {}
  },
  {
   "cell_type": "code",
   "execution_count": null,
   "source": [],
   "outputs": [],
   "metadata": {}
  },
  {
   "cell_type": "code",
   "execution_count": null,
   "source": [],
   "outputs": [],
   "metadata": {}
  },
  {
   "cell_type": "code",
   "execution_count": null,
   "source": [],
   "outputs": [],
   "metadata": {}
  },
  {
   "cell_type": "code",
   "execution_count": null,
   "source": [],
   "outputs": [],
   "metadata": {}
  },
  {
   "cell_type": "code",
   "execution_count": null,
   "source": [],
   "outputs": [],
   "metadata": {}
  },
  {
   "cell_type": "code",
   "execution_count": null,
   "source": [],
   "outputs": [],
   "metadata": {}
  },
  {
   "cell_type": "code",
   "execution_count": null,
   "source": [],
   "outputs": [],
   "metadata": {}
  },
  {
   "cell_type": "code",
   "execution_count": null,
   "source": [],
   "outputs": [],
   "metadata": {}
  },
  {
   "cell_type": "code",
   "execution_count": null,
   "source": [],
   "outputs": [],
   "metadata": {}
  }
 ]
}