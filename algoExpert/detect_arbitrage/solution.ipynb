{
 "metadata": {
  "language_info": {
   "codemirror_mode": {
    "name": "ipython",
    "version": 3
   },
   "file_extension": ".py",
   "mimetype": "text/x-python",
   "name": "python",
   "nbconvert_exporter": "python",
   "pygments_lexer": "ipython3",
   "version": 3
  },
  "orig_nbformat": 2
 },
 "nbformat": 4,
 "nbformat_minor": 2,
 "cells": [
  {
   "source": [
    "# Detect Arbitrage\n",
    "[link](https://www.algoexpert.io/questions/Detect%20Arbitrage)"
   ],
   "cell_type": "markdown",
   "metadata": {}
  },
  {
   "source": [
    "## My Solution"
   ],
   "cell_type": "markdown",
   "metadata": {}
  },
  {
   "cell_type": "code",
   "execution_count": null,
   "metadata": {},
   "outputs": [],
   "source": [
    "import math\n",
    "\n",
    "# O(n^3) time | O(n^2) space\n",
    "def detectArbitrage(exchangeRates):\n",
    "    # Write your code here.\n",
    "    exchange = [[-math.log(exchangeRates[i][j]) for j in range(len(exchangeRates))] for i in range(len(exchangeRates))]\n",
    "    n = len(exchange)\n",
    "    \n",
    "    opt = [float('inf') for _ in exchange]\n",
    "    opt[-1] = 0\n",
    "    cache = [_ for _ in opt]\n",
    "    \n",
    "    for _ in range(n):\n",
    "        for i in range(n):\n",
    "            cache[i] = min([opt[j] + exchange[i][j] for j in range(n)])\n",
    "            \n",
    "        isSame = True\n",
    "        for i in range(n):\n",
    "            if cache[i] != opt[i]:\n",
    "                isSame = False\n",
    "                opt[i] = cache[i]\n",
    "        if isSame:\n",
    "            return False\n",
    "    return True"
   ]
  },
  {
   "cell_type": "code",
   "execution_count": null,
   "metadata": {},
   "outputs": [],
   "source": [
    "import math\n",
    "\n",
    "def detectArbitrage(exchangeRates):\n",
    "    # Write your code here.\n",
    "\texchange = [[-math.log(exchangeRates[i][j]) for j in range(len(exchangeRates))] for i in range(len(exchangeRates))]\n",
    "\tn = len(exchange)\n",
    "\t\n",
    "\topt = [float('inf') for _ in exchange]\n",
    "\topt[-1] = 0\n",
    "\tcache = [_ for _ in opt]\n",
    "\t\n",
    "\tfor _ in range(n):\n",
    "\t\tisSame = True\n",
    "\t\tfor i in range(n):\n",
    "\t\t\tnewMinDistance = min([opt[j] + exchange[i][j] for j in range(n)])\n",
    "\t\t\tif newMinDistance < opt[i]:\n",
    "\t\t\t\topt[i] = newMinDistance\n",
    "\t\t\t\tisSame = False\n",
    "\n",
    "\t\tif isSame:\n",
    "\t\t\treturn False\n",
    "\t\t\n",
    "    return True"
   ]
  },
  {
   "source": [
    "## Expert Solution"
   ],
   "cell_type": "markdown",
   "metadata": {}
  },
  {
   "cell_type": "code",
   "execution_count": null,
   "metadata": {},
   "outputs": [],
   "source": [
    "import math\n",
    "\n",
    "# O(n^3) time | O(n^2) space\n",
    "def detectArbitrage(exchangeRates):\n",
    "    # To use exchange rates as edge weights, we must be able to add them.\n",
    "    # Since log(a*b) = log(a) + log(b), we can covert all rates to\n",
    "    # -log10(rate) to use them as edge weights.\n",
    "    logExchangeRates = convertToLogMatrix(exchangeRates)\n",
    "\n",
    "    # A negative weight cycle indicates an arbitrage.\n",
    "    return foundNegativeWeightCycle(logExchangeRates, 0)\n",
    "\n",
    "# Runs the Bellman-Ford Algorithm to detect any negative-weight cycles.\n",
    "def foundNegativeWeightCycle(graph, start):\n",
    "    distancesFromStart = [float(\"inf\") for _ in range(len(graph))]\n",
    "    distancesFromStart[start] = 0\n",
    "\n",
    "    for _ in range(len(graph) - 1):\n",
    "        # If no update occurs, that means there's no negative cycle.\n",
    "        if not relaxEdgesAndUpdateDistances(graph, distancesFromStart):\n",
    "            return False\n",
    "\n",
    "    return relaxEdgesAndUpdateDistances(graph, distancesFromStart)\n",
    "\n",
    "# Returns `True` if any distance was updated\n",
    "def relaxEdgesAndUpdateDistances(graph, distances):\n",
    "    updated = False\n",
    "    for sourceIdx, edges in enumerate(graph):\n",
    "        for destinationIdx, edgeWeight in enumerate(edges):\n",
    "            newDistanceToDestination = distances[sourceIdx] + edgeWeight\n",
    "            if newDistanceToDestination < distances[destinationIdx]:\n",
    "                updated = True\n",
    "                distances[destinationIdx] = newDistanceToDestination\n",
    "    \n",
    "    return updated\n",
    "\n",
    "def convertToLogMatrix(matrix):\n",
    "    newMatrix = []\n",
    "    for row, rates in enumerate(matrix):\n",
    "        newMatrix.append([])\n",
    "        for rate in rates:\n",
    "            newMatrix[row].append(-math.log10(rate))\n",
    "\n",
    "    return newMatrix"
   ]
  },
  {
   "source": [
    "## Thoughts\n",
    "### recurrence formula of bellman-ford algorithm\n",
    "opt(i, v) - the shortest distance from node v to the destination node t using at most i steps\n",
    "```\n",
    "for (n - 1) iterations:\n",
    "    for each node in the graph:\n",
    "        opt(i, v) = min(\n",
    "            opt(i - 1, v),\n",
    "            min(opt(i - 1, w) + e(w -> v), for all node w's which are the \"from\" neighbors of node v )\n",
    "        )\n",
    "```\n",
    "\n",
    "### why (n-1) iterations\n",
    "- in a graph with n nodes, one node at most needs (n-1) steps to reach another node.\n",
    "- i iterations can guarantee the nodes that needs at least i steps to the destination node get the correct answer in the opt table.\n",
    "\n",
    "\n",
    "### the number of iterations\n",
    "- by bellman-ford, finding the shortest path to a node in the graph needs (n - 1) iterations, where n is the number of nodes.\n",
    "- how many more iterations that bellman-ford algorithm needs to detect the negative cycle in the graph?\n",
    "- if the destination node can be reached by every other node through the edges, we just need to run one more iteration.\n",
    "- because, if the destination node can be reached by every other node (the normal situation), (n - 1) iterations guarantee that the opt table converges, which means any value in opt table shouldn't change if we run one or more iterations. if some values in opt table change, this means there are negative cycles in the graph.\n",
    "- but, if the destination node can't be reached from some nodes in the graph, the distance from those nodes to the destination node will always be infinite. in that situation, we can't detect if there's any negtive cycle in among those nodes. in this case, we can create a dummy node that every other node (including the destination node) points to, seeing it as the destination node, and the question will be reduced to the noremal situation.\n",
    "- in the \"detect arbitrage\" question, any currency can exchange to any other currency, so the graph we create is fully connected, so we just need to run one more iteration to detect the negative cycle.\n",
    "\n",
    "### early stop\n",
    "- the bellman-ford algorithm can be early stopped if the opt table doesn't change between two consecutive iterations, because the opt table converges, more iterations won't change the values in the table.\n",
    "- in normal situation, early stop means there's no negative cycles in the graph, because if there's any negative cycle, the distance between some nodes to the destination node will continuelly reduce.\n",
    "- in our situation, the graph is fully connected, so if the opt table doesn't change between two consecutive iterations, we can conclude that there's no negtive cycle in the graph, which means there's no arbitrage in the given exchange table. otherwise, if the opt table still change at the #n iteration, there's must be a negative cycle in the graph, which leads to an arbitrage.\n",
    "\n",
    "### change to the recurrence formula\n",
    "in recurrence formula\n",
    "```\n",
    "opt(i, v) = min(\n",
    "    opt(i - 1, v),\n",
    "    min(opt(i - 1, w) + e(w -> v), for all node w's which are the \"from\" neighbors of node v )\n",
    ")\n",
    "```\n",
    "we can seem `opt(i - 1, v)` as `opt(i - 1, w) + e(w -> v) where w is v`, `e(v -> v) == 0`, so the recurrence formula can be changed to:\n",
    "```\n",
    "opt(i, v) = min(opt(i - 1, w) + e(w -> v), for all node w's which are the \"from\" neighbors of node v and v itself)\n",
    "```\n",
    "because our graph is fully connected, any node's \"from\" neighbors and itself are all the nodes in the graph, so the formula can be modified more as:\n",
    "```\n",
    "opt(i, v) = min(opt(i - 1, w) + e(w -> v), for all nodes w in the graph)\n",
    "```\n",
    "\n",
    "### time complexity\n",
    "- bellman-ford algorithm needs O(n*m) time - where n is the number of nodes and m is the number of edges. because our graph is fully connected, m = n^2, so the time complexity is O(n^3).\n",
    "- bellman-ford algorithm needs O(n) space, but get the negtive logarithm adjacent table needs O(n^2) space, so totally O(n^2) space.\n",
    "\n",
    "### other tips\n",
    "- we can directly modify opt table instead of using a cache table, because every time modifying the opt table is at the moment we truely find a lower distance path from a node to the destination node. the later utilization of the modified opt table will be valid."
   ],
   "cell_type": "markdown",
   "metadata": {}
  },
  {
   "cell_type": "code",
   "execution_count": null,
   "metadata": {},
   "outputs": [],
   "source": []
  },
  {
   "cell_type": "code",
   "execution_count": null,
   "metadata": {},
   "outputs": [],
   "source": []
  },
  {
   "cell_type": "code",
   "execution_count": null,
   "metadata": {},
   "outputs": [],
   "source": []
  },
  {
   "cell_type": "code",
   "execution_count": null,
   "metadata": {},
   "outputs": [],
   "source": []
  },
  {
   "cell_type": "code",
   "execution_count": null,
   "metadata": {},
   "outputs": [],
   "source": []
  },
  {
   "cell_type": "code",
   "execution_count": null,
   "metadata": {},
   "outputs": [],
   "source": []
  },
  {
   "cell_type": "code",
   "execution_count": null,
   "metadata": {},
   "outputs": [],
   "source": []
  },
  {
   "cell_type": "code",
   "execution_count": null,
   "metadata": {},
   "outputs": [],
   "source": []
  },
  {
   "cell_type": "code",
   "execution_count": null,
   "metadata": {},
   "outputs": [],
   "source": []
  },
  {
   "cell_type": "code",
   "execution_count": null,
   "metadata": {},
   "outputs": [],
   "source": []
  },
  {
   "cell_type": "code",
   "execution_count": null,
   "metadata": {},
   "outputs": [],
   "source": []
  },
  {
   "cell_type": "code",
   "execution_count": null,
   "metadata": {},
   "outputs": [],
   "source": []
  }
 ]
}