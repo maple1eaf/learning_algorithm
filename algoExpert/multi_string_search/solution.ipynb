{
 "metadata": {
  "language_info": {
   "codemirror_mode": {
    "name": "ipython",
    "version": 3
   },
   "file_extension": ".py",
   "mimetype": "text/x-python",
   "name": "python",
   "nbconvert_exporter": "python",
   "pygments_lexer": "ipython3",
   "version": 3
  },
  "orig_nbformat": 2
 },
 "nbformat": 4,
 "nbformat_minor": 2,
 "cells": [
  {
   "source": [
    "# Multi String Search\n",
    "[link](https://www.algoexpert.io/questions/Multi%20String%20Search)"
   ],
   "cell_type": "markdown",
   "metadata": {}
  },
  {
   "source": [
    "## My Solution"
   ],
   "cell_type": "markdown",
   "metadata": {}
  },
  {
   "cell_type": "code",
   "execution_count": null,
   "metadata": {},
   "outputs": [],
   "source": [
    "def multiStringSearch(bigString, smallStrings):\n",
    "    # Write your code here.\n",
    "    t = Trie()\n",
    "    for idx, word in enumerate(smallStrings):\n",
    "        t.add(word, idx)\n",
    "    res = [False for x in smallStrings]\n",
    "    foundWords = {}\n",
    "    for idx in range(len(bigString)):\n",
    "        check(bigString, t, idx, foundWords)\n",
    "    for word in foundWords:\n",
    "        res[word] = True\n",
    "    return res\n",
    "            \n",
    "def check(bigString, root, startIdx, foundWords):\n",
    "    idx = startIdx\n",
    "    cur = root\n",
    "    while idx < len(bigString):\n",
    "        c = bigString[idx]\n",
    "        if c not in cur.chars:\n",
    "            break\n",
    "        cur = cur.chars[c]\n",
    "        idx += 1\n",
    "        if cur.endMessage != []:\n",
    "            for i in cur.endMessage:\n",
    "                foundWords[i] = True\n",
    "\n",
    "class Trie:\n",
    "    def __init__(self):\n",
    "        self.chars = {}\n",
    "        self.endMessage = []\n",
    "    \n",
    "    def add(self, word, wordEndToken):\n",
    "        cur = self\n",
    "        for c in word:\n",
    "            if c not in cur.chars:\n",
    "                cur.chars[c] = Trie()\n",
    "            cur = cur.chars[c]\n",
    "        cur.endMessage.append(wordEndToken)"
   ]
  },
  {
   "source": [
    "## Expert Solution"
   ],
   "cell_type": "markdown",
   "metadata": {}
  },
  {
   "cell_type": "code",
   "execution_count": null,
   "metadata": {},
   "outputs": [],
   "source": [
    "# O(bns) time, O(n) space\n",
    "def multiStringSearch(bigString, smallStrings):\n",
    "    return [isInBigString(bigString, smallString) for smallString in smallStrings]\n",
    "\n",
    "def isInBigString(bigString, smallString):\n",
    "    for i in range(len(bigString)):\n",
    "        if i + len(smallString) > len(bigString):\n",
    "            break\n",
    "        if isInBigStringHelper(bigString, smallString, i):\n",
    "            return True\n",
    "    return False\n",
    "\n",
    "def isInBigStringHelper(bigString, smallString, startIdx):\n",
    "    leftBigIdx = startIdx\n",
    "    rightBigIdx = startIdx + len(smallString) - 1\n",
    "    leftSmallIdx = 0\n",
    "    rightSmallIdx = len(smallString) - 1\n",
    "    while leftBigIdx <= rightBigIdx:\n",
    "        if bigString[leftBigIdx] != smallString[leftSmallIdx] or bigString[rightBigIdx] != smallString[rightSmallIdx]:\n",
    "            return False\n",
    "        leftBigIdx += 1\n",
    "        rightBigIdx -= 1\n",
    "        leftSmallIdx += 1\n",
    "        rightSmallIdx -= 1\n",
    "    return True"
   ]
  },
  {
   "cell_type": "code",
   "execution_count": null,
   "metadata": {},
   "outputs": [],
   "source": [
    "# O(b^2 + ns) time, O(b^2 + n) space\n",
    "def multiStringSearch(bigString, smallStrings):\n",
    "    modifiedSuffixTrie = ModifiedSuffixTrie(bigString)\n",
    "    return [modifiedSuffixTrie.contains(string) for string in smallStrings]\n",
    "\n",
    "\n",
    "class ModifiedSuffixTrie:\n",
    "    def __init__(self, string):\n",
    "        self.root = {}\n",
    "        self.populateModifiedSuffixTrieFrom(string)\n",
    "\n",
    "    def populateModifiedSuffixTrieFrom(self, string):\n",
    "        for i in range(len(string)):\n",
    "            self.insertSubstringStartingAt(i, string)\n",
    "\n",
    "    def insertSubstringStartingAt(self, i, string):\n",
    "        node = self.root\n",
    "        for j in range(i, len(string)):\n",
    "            letter = string[j]\n",
    "            if letter not in node:\n",
    "                node[letter] = {}\n",
    "            node = node[letter]\n",
    "\n",
    "    def contains(self, string):\n",
    "        node = self.root\n",
    "        for letter in string:\n",
    "            if letter not in node:\n",
    "                return False\n",
    "            node = node[letter]\n",
    "        return True"
   ]
  },
  {
   "cell_type": "code",
   "execution_count": null,
   "metadata": {},
   "outputs": [],
   "source": [
    "# O(ns + bs) time, O(ns) space\n",
    "def multiStringSearch(bigString, smallStrings):\n",
    "    trie = Trie()\n",
    "    for string in smallStrings:\n",
    "        trie.insert(string)\n",
    "    containedStrings = {}\n",
    "    for i in range(len(bigString)):\n",
    "        findSmallStringsIn(bigString, i, trie, containedStrings)\n",
    "    return [string in containedStrings for string in smallStrings]\n",
    "\n",
    "def findSmallStringsIn(string, startIdx, trie, containedStrings):\n",
    "    currentNode = trie.root\n",
    "    for i in range(startIdx, len(string)):\n",
    "        currentChar = string[i]\n",
    "        if currentChar not in currentNode:\n",
    "            break\n",
    "        currentNode = currentNode[currentChar]\n",
    "        if trie.endSymbol in currentNode:\n",
    "            containedStrings[currentNode[trie.endSymbol]] = True\n",
    "\n",
    "class Trie:\n",
    "    def __init__(self):\n",
    "        self.root = {}\n",
    "        self.endSymbol = \"*\"\n",
    "\n",
    "    def insert(self, string):\n",
    "        current = self.root\n",
    "        for i in range(len(string)):\n",
    "            if string[i] not in current:\n",
    "                current[string[i]] = {}\n",
    "            current = current[string[i]]\n",
    "        current[self.endSymbol] = string\n"
   ]
  },
  {
   "source": [
    "## Thoughts"
   ],
   "cell_type": "markdown",
   "metadata": {}
  },
  {
   "cell_type": "code",
   "execution_count": null,
   "metadata": {},
   "outputs": [],
   "source": []
  },
  {
   "cell_type": "code",
   "execution_count": null,
   "metadata": {},
   "outputs": [],
   "source": []
  },
  {
   "cell_type": "code",
   "execution_count": null,
   "metadata": {},
   "outputs": [],
   "source": []
  },
  {
   "cell_type": "code",
   "execution_count": null,
   "metadata": {},
   "outputs": [],
   "source": []
  },
  {
   "cell_type": "code",
   "execution_count": null,
   "metadata": {},
   "outputs": [],
   "source": []
  },
  {
   "cell_type": "code",
   "execution_count": null,
   "metadata": {},
   "outputs": [],
   "source": []
  },
  {
   "cell_type": "code",
   "execution_count": null,
   "metadata": {},
   "outputs": [],
   "source": []
  },
  {
   "cell_type": "code",
   "execution_count": null,
   "metadata": {},
   "outputs": [],
   "source": []
  },
  {
   "cell_type": "code",
   "execution_count": null,
   "metadata": {},
   "outputs": [],
   "source": []
  },
  {
   "cell_type": "code",
   "execution_count": null,
   "metadata": {},
   "outputs": [],
   "source": []
  },
  {
   "cell_type": "code",
   "execution_count": null,
   "metadata": {},
   "outputs": [],
   "source": []
  },
  {
   "cell_type": "code",
   "execution_count": null,
   "metadata": {},
   "outputs": [],
   "source": []
  }
 ]
}