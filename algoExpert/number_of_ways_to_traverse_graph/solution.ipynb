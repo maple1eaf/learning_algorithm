{
 "metadata": {
  "language_info": {
   "codemirror_mode": {
    "name": "ipython",
    "version": 3
   },
   "file_extension": ".py",
   "mimetype": "text/x-python",
   "name": "python",
   "nbconvert_exporter": "python",
   "pygments_lexer": "ipython3",
   "version": 3
  },
  "orig_nbformat": 2
 },
 "nbformat": 4,
 "nbformat_minor": 2,
 "cells": [
  {
   "cell_type": "markdown",
   "source": [
    "# Number Of Ways To Traverse Graph\n",
    "[link](https://www.algoexpert.io/questions/Number%20Of%20Ways%20To%20Traverse%20Graph)"
   ],
   "metadata": {}
  },
  {
   "cell_type": "markdown",
   "source": [
    "## My Solution"
   ],
   "metadata": {}
  },
  {
   "cell_type": "code",
   "execution_count": null,
   "source": [
    "# O(n * m) time | O(n * m) space\n",
    "def numberOfWaysToTraverseGraph(width, height):\n",
    "    # Write your code here.\n",
    "    opt = [[1 for j in range(height)] for i in range(width)]\n",
    "    for i in range(1, width):\n",
    "        for j in range(1, height):\n",
    "            opt[i][j] = opt[i - 1][j] + opt[i][j - 1]\n",
    "    return opt[-1][-1]"
   ],
   "outputs": [],
   "metadata": {}
  },
  {
   "cell_type": "code",
   "execution_count": null,
   "source": [
    "# O(n + m) time | O(1)\n",
    "def numberOfWaysToTraverseGraph(width, height):\n",
    "    big = width - 1 if width > height else height - 1\n",
    "    small = height - 1 if width > height else width - 1\n",
    "    return factorial(big + small, big + 1) / factorial(small, 1)\n",
    "\n",
    "def factorial(start, end):\n",
    "    res = 1\n",
    "    for n in range(start, end - 1, -1):\n",
    "        res *= n\n",
    "    return res"
   ],
   "outputs": [],
   "metadata": {}
  },
  {
   "cell_type": "markdown",
   "source": [
    "## Expert Solution"
   ],
   "metadata": {}
  },
  {
   "cell_type": "code",
   "execution_count": null,
   "source": [
    "# O(2^(n + m)) time | O(n + m) space - where n\n",
    "# is the width of the graph and m is the height\n",
    "def numberOfWaysToTraverseGraph(width, height):\n",
    "    if width == 1 or height == 1:\n",
    "        return 1\n",
    "\n",
    "    return numberOfWaysToTraverseGraph(width - 1, height) + numberOfWaysToTraverseGraph(width, height - 1)"
   ],
   "outputs": [],
   "metadata": {}
  },
  {
   "cell_type": "code",
   "execution_count": null,
   "source": [
    "# O(n * m) time | O(n * m) space - where n\n",
    "# is the width of the graph and m is the height\n",
    "def numberOfWaysToTraverseGraph(width, height):\n",
    "    numberOfWays = [[0 for _ in range(width + 1)] for _ in range(height + 1)]\n",
    "\n",
    "    for widthIdx in range(1, width + 1):\n",
    "        for heightIdx in range(1, height + 1):\n",
    "            if widthIdx == 1 or heightIdx == 1:\n",
    "                numberOfWays[heightIdx][widthIdx] = 1\n",
    "            else:\n",
    "                waysLeft = numberOfWays[heightIdx][widthIdx - 1]\n",
    "                waysUp = numberOfWays[heightIdx - 1][widthIdx]\n",
    "                numberOfWays[heightIdx][widthIdx] = waysLeft + waysUp\n",
    "    \n",
    "    return numberOfWays[height][width]"
   ],
   "outputs": [],
   "metadata": {}
  },
  {
   "cell_type": "code",
   "execution_count": null,
   "source": [
    "# O(n + m) time | O(1) space - where n is\n",
    "# the width of the graph and m is the height\n",
    "def numberOfWaysToTraverseGraph(width, height):\n",
    "    xDistanceToCorner = width - 1\n",
    "    yDistanceToCorner = height - 1\n",
    "\n",
    "    # The number of pernutations of right and down movements\n",
    "    # is the number of ways to reach the bottom right corner.\n",
    "    numerator = factorial(xDistanceToCorner + yDistanceToCorner)\n",
    "    denominator = factorial(xDistanceToCorner) * factorial(yDistanceToCorner)\n",
    "    return numerator // denominator\n",
    "\n",
    "def factorial(num):\n",
    "    result = 1\n",
    "\n",
    "    for n in range(2, num + 1):\n",
    "        result *= n\n",
    "\n",
    "    return result"
   ],
   "outputs": [],
   "metadata": {}
  },
  {
   "cell_type": "markdown",
   "source": [
    "## Thoughts"
   ],
   "metadata": {}
  },
  {
   "cell_type": "markdown",
   "source": [
    "## expert solution 2\n",
    "- dynamic programming\n",
    "\n",
    "## expert solution 3\n",
    "- think as a permutation and combination question, here is a combination question.\n",
    "- if the grid is 4 * 3, so totally, we need to go right 2 times and go down 3 times.\n",
    "- this could be thought as: in 5 positions (3 + 2), pick 2 positions for going right.\n",
    "- the answer would be $C^2_5$"
   ],
   "metadata": {}
  },
  {
   "cell_type": "code",
   "execution_count": null,
   "source": [],
   "outputs": [],
   "metadata": {}
  },
  {
   "cell_type": "code",
   "execution_count": null,
   "source": [],
   "outputs": [],
   "metadata": {}
  },
  {
   "cell_type": "code",
   "execution_count": null,
   "source": [],
   "outputs": [],
   "metadata": {}
  },
  {
   "cell_type": "code",
   "execution_count": null,
   "source": [],
   "outputs": [],
   "metadata": {}
  },
  {
   "cell_type": "code",
   "execution_count": null,
   "source": [],
   "outputs": [],
   "metadata": {}
  },
  {
   "cell_type": "code",
   "execution_count": null,
   "source": [],
   "outputs": [],
   "metadata": {}
  },
  {
   "cell_type": "code",
   "execution_count": null,
   "source": [],
   "outputs": [],
   "metadata": {}
  },
  {
   "cell_type": "code",
   "execution_count": null,
   "source": [],
   "outputs": [],
   "metadata": {}
  },
  {
   "cell_type": "code",
   "execution_count": null,
   "source": [],
   "outputs": [],
   "metadata": {}
  },
  {
   "cell_type": "code",
   "execution_count": null,
   "source": [],
   "outputs": [],
   "metadata": {}
  },
  {
   "cell_type": "code",
   "execution_count": null,
   "source": [],
   "outputs": [],
   "metadata": {}
  }
 ]
}